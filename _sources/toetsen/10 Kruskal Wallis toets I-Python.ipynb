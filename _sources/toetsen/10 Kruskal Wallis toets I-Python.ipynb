{
 "cells": [
  {
   "cell_type": "raw",
   "id": "fa90004a",
   "metadata": {
    "lines_to_next_cell": 0
   },
   "source": [
    "---\n",
    "title: \"Kruskal Wallis toets\"\n",
    "output: \n",
    "  html_document:\n",
    "    theme: lumen\n",
    "    toc: yes\n",
    "    toc_depth: 2\n",
    "    toc_float: \n",
    "      collapsed: FALSE \n",
    "    number_sections: true\n",
    "    includes:\n",
    "      in_header: [\"../01. Includes/html/nocache.html\", \"../01. Includes/html/favicon.html\", \"../01. Includes/html/analytics.html\"]\n",
    "  keywords: [statistisch handboek, studiedata]\n",
    "---"
   ]
  },
  {
   "cell_type": "markdown",
   "id": "5c26d9d7",
   "metadata": {
    "lines_to_next_cell": 0
   },
   "source": [
    "<!-- ## CLOSEDBLOK: Functies.R -->"
   ]
  },
  {
   "cell_type": "markdown",
   "id": "8fbd60e8",
   "metadata": {},
   "source": [
    "<!-- ## /OPENBLOK: Data-aanmaken.py -->\n",
    "\n",
    "# Toepassing\n",
    "<!-- ## TEKSTBLOK: link1.py -->\n",
    "Gebruik de *Kruskal Wallis toets* om te toetsen of de gemiddelde rangnummers van de verdelingen van twee of meer groepen van elkaar verschillen.[^1]<sup>, </sup>[&17] De *Kruskal Wallis toets* kan een alternatief zijn voor de [one-way ANOVA](05-One-way-ANOVA-Python.html).[^2] De *Kruskal Wallis toets* hoeft niet te voldoen aan de assumptie van normaliteit van de verdelingen van elke groep. Daarnaast hebben uitbijters bij de *Kruskal Wallis toets*  minder invloed op het eindresultaat dan bij de [one-way ANOVA](05-One-way-ANOVA-Python.html). Daarentegen, als de data wel normaal verdeeld is, heeft de *Kruskal Wallis toets* minder onderscheidend vermogen[^4] dan de [one-way ANOVA](05-One-way-ANOVA-Python.html).[^3] Vandaar dat ondanks de voordelen van de grotere robuustheid er toch minder vaak voor de *Kruskal Wallis toets* gekozen wordt. \n",
    "<!-- ## /TEKSTBLOK: link1.py -->\n",
    "\n",
    "# Onderwijscasus\n",
    "<div id=\"casus\">\n",
    "De opleidingsdirecteur van de tweejarige Masteropleiding Arbeidsrecht is geïnteresseerd in de afstudeersnelheid van haar studenten. Zij vraagt zich af of er een verschil zit in het type vooropleiding dat de studenten hebben gehaald en de hoeveel studiepunten die de studenten behalen in het eerste jaar. Zij kijkt naar de vier meest gangbare vooropleidingen die de studenten doorlopen voordat ze met de Master Arbeidsrecht beginnen: de Bachelors Fiscaal Recht, Notarieel Recht en Rechtsgeleerdheid en de Premaster. \n",
    "\n",
    "Dit onderzoek vertaalt zich in de volgende combinatie van hypothesen, waarbij de nulhypothese zo geformuleerd is dat er geen effect of verschil is en de alternatieve hypothese zo geformuleerd is dat er wel een effect of verschil is.\n",
    "\n",
    "*H~0~*: Het gemiddelde rangnummer van de verdeling van het aantal behaalde studiepunten in het eerste jaar van de master Arbeidsrecht is gelijk voor de studenten met als vooropleidingen Bachelor Fiscaal Recht, Notarieel Recht of Rechtsgeleerdheid of de Premaster.\n",
    "\n",
    "*H~A~*: Het gemiddelde rangnummer van de verdeling van het aantal behaalde studiepunten in het eerste jaar van de master Arbeidsrecht is niet gelijk voor de studenten met als vooropleiding Bachelor Fiscaal Recht, Notarieel Recht of Rechtsgeleerdheid of de Premaster.\n",
    "\n",
    "</div>\n",
    "\n",
    "# Assumpties\n",
    "<!-- ## TEKSTBLOK: link2.py -->\n",
    "Het meetniveau van de afhankelijke variabele is ordinaal[^16] of continu.[^6] In deze toetspagina staat een casus met continue data centraal; een casus met ordinale data met bijbehorende uitwerking is te vinden in de [Kruskal Wallis toets II](25-Kruskall-Wallis-toets-II-Python.html). \n",
    "<!-- ## /TEKSTBLOK: link2.py -->\n",
    "\n",
    "# Post-hoc toets \n",
    "<!-- ## TEKSTBLOK: link3.py -->\n",
    "De *Kruskal Wallis toets* toetst of twee of meerdere groepen van elkaar verschillen. Een post-hoc toets specificeert of groep significant van een andere groep verschilt. Gebruik de [Mann-Whitney U toets](08-Mann-Whitney-U-toets-I-Python.html) als post-hoc toets. Hoewel het minder gebruikelijk is, is *Moods'mediaan toets* ook een optie als post-hoc toets. Deze toets toetst het verschil tussen de medianen van twee ongepaarde groepen. De [Mann-Whitney U toets](08-Mann-Whitney-U-toets-I-Python.html) toetst het verschil tussen de verdelingen van twee ongepaarde groepen.\n",
    "<!-- ## /TEKSTBLOK: link3.py -->\n",
    "\n",
    "Gebruik een correctie voor de p-waarden, omdat er meerdere toetsen tegelijkertijd worden gebruikt. Meerdere toetsen tegelijkertijd uitvoeren verhoogt de kans dat een van de nulhypotheses onterecht wordt verworpen en er bij toeval een verband wordt ontdekt dat er niet is (type I fout). In deze toetspagina wordt de *Bonferroni correctie* gebruikt. Deze correctie past de p-waarde aan door de p-waarde te vermenigvuldigen met het aantal uitgevoerde toetsen en verlaagt hiermee de kans op een type I fout.[^9] Een andere uitleg hiervan is dat het significantieniveau gedeeld wordt door het aantal toetsen wat leidt tot een lager significantieniveau en dus een strengere toets. Er zijn ook andere opties voor een correctie op de p-waarden.[^5]\n",
    "\n",
    "# Effectmaat\n",
    "De p-waarde geeft aan of het verschil tussen groepen significant is. De grootte van het verschil of effect is echter ook relevant. Een effectmaat is een gestandaardiseerde maat die de grootte van een effect weergeeft, zodat effecten van verschillende onderzoeken met elkaar vergeleken kunnen worden.[^2] \n",
    "\n",
    "Bij de *Kruskal Wallis toets* wordt eta-squared (*η^2^*) als effectmaat gebruikt.[^10] De effectmaat eta squared (*η^2^*) berekent de proportie van de variantie in de afhankelijke variabele die verklaard wordt door de onafhankelijke variabele. In deze casus berekent het de proportie van de variantie in het aantal studiepunten wat verklaard kan worden door de vooropleiding. Een indicatie om *η^2^* te interpreteren is: rond 0,01 is een klein effect, rond 0,06 is een gemiddeld effect en rond 0,14 is een groot effect.[^11]\n"
   ]
  },
  {
   "cell_type": "markdown",
   "id": "5ac0ee53",
   "metadata": {
    "lines_to_next_cell": 0
   },
   "source": [
    "# Uitvoering\n",
    "<!-- ## TEKSTBLOK: Dataset-inladen.py-->\n",
    "Er is een dataset `dfResultaten_Arbeidsrecht` ingeladen met studieresultaten van het eerste jaar van de master Arbeidsrecht per vooropleiding: Fiscaal Recht, Notarieel Recht, Rechtsgeleerdheid en de Premaster.\n",
    "<!-- ## /TEKSTBLOK: Dataset-inladen.py-->\n",
    "\n",
    "## De data bekijken\n",
    "<!-- ## TEKSTBLOK: Data-bekijken.py -->\n",
    "Gebruik `<dataframe>.head()` en `<dataframe>.tail()` om de structuur van de data te bekijken.\n",
    "<!-- ## /TEKSTBLOK: Data-bekijken.py -->\n",
    "<!-- ## OPENBLOK: Data-bekijken.py -->"
   ]
  },
  {
   "cell_type": "code",
   "execution_count": null,
   "id": "ee669f42",
   "metadata": {
    "tags": [
     "remove_cell"
    ]
   },
   "outputs": [],
   "source": [
    "import pandas as pd\n",
    "df = pd.read_csv(\"../data/10_Resultaten_Arbeidsrecht.csv\")\n",
    "dfResultaten_Arbeidsrecht = df.loc[:, ~df.columns.str.contains('^Unnamed')]"
   ]
  },
  {
   "cell_type": "code",
   "execution_count": null,
   "id": "60081679",
   "metadata": {
    "collapse": true,
    "name": "data bekijken-1"
   },
   "outputs": [],
   "source": [
    "import pandas as pd\n",
    "## Eerste 6 observaties\n",
    "print(dfResultaten_Arbeidsrecht.head(6))"
   ]
  },
  {
   "cell_type": "code",
   "execution_count": null,
   "id": "212ef1fb",
   "metadata": {
    "collapse": true,
    "lines_to_next_cell": 0,
    "name": "data bekijken-2"
   },
   "outputs": [],
   "source": [
    "## Laatste 6 observaties\n",
    "print(dfResultaten_Arbeidsrecht.tail(6))"
   ]
  },
  {
   "cell_type": "markdown",
   "id": "4f53daee",
   "metadata": {
    "lines_to_next_cell": 0
   },
   "source": [
    "<!-- ## /OPENBLOK: Data-bekijken.py -->\n",
    "\n",
    "<!-- ## TEKSTBLOK: Data-bekijken2.py -->\n",
    "De dataset bevat data van studenten van verschillende vooropleidingen. Gebruik `<data.frame>.<kolomnaam>.unique()` om te onderzoeken welke opleidingen er in de data aanwezig zijn. \n",
    "<!-- ## /TEKSTBLOK: Data-bekijken2.py -->\n",
    "\n",
    "<!-- ## OPENBLOK: Data-bekijken-2.py -->"
   ]
  },
  {
   "cell_type": "code",
   "execution_count": null,
   "id": "e4c7fb4b",
   "metadata": {
    "lines_to_next_cell": 0,
    "name": "data bekijken 2"
   },
   "outputs": [],
   "source": [
    "## Opleidingen in de data aanwezig\n",
    "print(dfResultaten_Arbeidsrecht['Vooropleiding'].unique())"
   ]
  },
  {
   "cell_type": "markdown",
   "id": "32cd9dc1",
   "metadata": {
    "lines_to_next_cell": 0
   },
   "source": [
    "<!-- ## /OPENBLOK: Data-bekijken-2.py -->\n",
    "\n",
    "<!-- ## TEKSTBLOK: Data-bekijken3.py -->\n",
    "Inspecteer om meer inzicht te krijgen in de data de groepen met `.size()` en `.quantile()`. Groepeer hiervoor eerst met `<dataframe>.groupby([<column>])`. De mediaan is gelijk aan kwantiel `0.5`.\n",
    "<!-- ## /TEKSTBLOK: Data-bekijken3.py -->\n",
    "\n",
    "<!-- ## OPENBLOK: Data-beschrijven.py -->"
   ]
  },
  {
   "cell_type": "code",
   "execution_count": null,
   "id": "e8656a0e",
   "metadata": {},
   "outputs": [],
   "source": [
    "print(dfResultaten_Arbeidsrecht.groupby(['Vooropleiding']).size())"
   ]
  },
  {
   "cell_type": "code",
   "execution_count": null,
   "id": "91d511d3",
   "metadata": {
    "lines_to_next_cell": 0
   },
   "outputs": [],
   "source": [
    "print(dfResultaten_Arbeidsrecht.groupby(['Vooropleiding']).quantile([0.25, 0.5, 0.75]))"
   ]
  },
  {
   "cell_type": "markdown",
   "id": "02fa4320",
   "metadata": {
    "lines_to_next_cell": 0
   },
   "source": [
    "<!-- ## /OPENBLOK: Data-beschrijven.py -->\n",
    "<!-- ## CLOSEDBLOK: Data-beschrijven.py -->\n",
    "``` {python data beschrijven als object, include=FALSE, echo=TRUE}\n",
    "import numpy as np\n",
    "EC_FSC = np.array(dfResultaten_Arbeidsrecht[dfResultaten_Arbeidsrecht['Vooropleiding'] == \"Fiscaal Recht\"][\"EC_Jaar1\"])\n",
    "EC_NTR = np.array(dfResultaten_Arbeidsrecht[dfResultaten_Arbeidsrecht['Vooropleiding'] == \"Notarieel Recht\"][\"EC_Jaar1\"])\n",
    "EC_PRE = np.array(dfResultaten_Arbeidsrecht[dfResultaten_Arbeidsrecht['Vooropleiding'] == \"Premaster\"][\"EC_Jaar1\"])\n",
    "EC_REC = np.array(dfResultaten_Arbeidsrecht[dfResultaten_Arbeidsrecht['Vooropleiding'] == \"Rechtsgeleerdheid\"][\"EC_Jaar1\"])\n",
    "\n",
    "vN_FIS = len(EC_FSC)\n",
    "vN_NOT = len(EC_NTR)\n",
    "vN_RCH = len(EC_PRE)\n",
    "vN_PM = len(EC_REC)\n",
    "\n",
    "vQ1_FIS = np.quantile(EC_FSC, 0.25)\n",
    "vQ1_NOT = np.quantile(EC_NTR, 0.25)\n",
    "vQ1_PM = np.quantile(EC_PRE, 0.25)\n",
    "vQ1_RCH = np.quantile(EC_REC, 0.25)\n",
    "\n",
    "vMed_FIS = np.quantile(EC_FSC, 0.5)\n",
    "vMed_NOT = np.quantile(EC_NTR, 0.5)\n",
    "vMed_RCH = np.quantile(EC_REC, 0.5)\n",
    "vMed_PM = np.quantile(EC_PRE, 0.5)\n",
    "\n",
    "vQ3_FIS = np.quantile(EC_FSC, 0.75)\n",
    "vQ3_NOT = np.quantile(EC_NTR, 0.75)\n",
    "vQ3_RCH = np.quantile(EC_REC, 0.75)\n",
    "vQ3_PM = np.quantile(EC_PRE, 0.75)\n",
    "```\n",
    "<!-- ## /CLOSEDBLOK: Data-beschrijven.py -->\n",
    "<!-- ## TEKSTBLOK: Data-beschrijven.py -->\n",
    "* Mediaan Fiscaal Recht is `r Round_and_format(py$vMed_FIS)`, *n* = `r py$vN_FIS`.\n",
    "* Mediaan Notarieel Recht is `r Round_and_format(py$vMed_NOT)`, *n* = `r py$vN_NOT`.\n",
    "* Mediaan Premaster is `r Round_and_format(py$vMed_PM)`, *n* = `r py$vN_PM`.\n",
    "* Mediaan Rechtsgeleerdheid is `r Round_and_format(py$vMed_RCH)`, *n* = `r py$vN_RCH`.\n",
    "\n",
    "<!-- ## /TEKSTBLOK: Data-beschrijven.py -->\n",
    "\n",
    "## De data visualiseren\n",
    "\n",
    "Geef de verdeling van de verschillende vooropleidingen visueel weer met een histogram.[^18]\n",
    "\n",
    "<!-- ## OPENBLOK: Histogram.py -->"
   ]
  },
  {
   "cell_type": "code",
   "execution_count": null,
   "id": "a88ff033",
   "metadata": {
    "lines_to_next_cell": 0,
    "name": "histogram"
   },
   "outputs": [],
   "source": [
    "# Laad seaborn of facets te maken\n",
    "import seaborn as sb\n",
    "# Laad matplotlib.pyplot om plots te maken\n",
    "import matplotlib.pyplot as plt\n",
    "\n",
    "# Maak een facet plot met een histogram voor elke vooropleiding\n",
    "g = sb.FacetGrid(dfResultaten_Arbeidsrecht, col=\"Vooropleiding\")\n",
    "g = (g.map(plt.hist, \"EC_Jaar1\", edgecolor = \"black\").set_axis_labels(\"Aantal studiepunten jaar 1\"))\n",
    "plt.show()\n",
    "\n"
   ]
  },
  {
   "cell_type": "markdown",
   "id": "b56379f9",
   "metadata": {
    "lines_to_next_cell": 0
   },
   "source": [
    "<!-- ## /OPENBLOK: Histogram.py -->\n",
    "\n",
    "Allereerst valt op dat de verdeling enigszins discreet is. Aangezien er in deze casus zes studiepunten per vak te verdienen zijn met een totaal van 60 in het eerste jaar, bestaan de histogrammen uit staven waartussen de verschillen zes studiepunten zijn. De verdeling van alle vier de vooropleidingen zijn niet normaal maar scheef verdeeld. Met uitzondering van de vooropleiding Rechtsgeleerdheid ligt de top op 60 studiepunten en is er een staart links daarvan.\n",
    "\n",
    "## Kruskal Wallis toets\n",
    "<!-- ## TEKSTBLOK: Kruskal-Wallis-test-1.py -->\n",
    "Voer de *Kruskal Wallis toets* uit om te onderzoeken of er verschillen zijn in het aantal studiepunten in het eerste jaar tussen de studenten van de master Arbeidsrecht met vier verschillende vooropleidingen   Gebruik de functie `kruskal()` van het package `scipy` met als argumenten vier variabelen met het aantal studiepunten `EC_Jaar1` voor elk van de vier vooropleidingen. Bij deze functie toetst Python standaard tweezijdig.\n",
    "<!-- ## /TEKSTBLOK: Kruskal-Wallis-test-1.py -->\n",
    "\n",
    "<!-- ## OPENBLOK: Kruskal-Wallis-test-2.py -->"
   ]
  },
  {
   "cell_type": "code",
   "execution_count": null,
   "id": "9feeaf60",
   "metadata": {},
   "outputs": [],
   "source": [
    "# Maak een variabele met het aantal studiepunten voor elke vooropleiding\n",
    "EC_FSC = dfResultaten_Arbeidsrecht[dfResultaten_Arbeidsrecht['Vooropleiding'] == \"Fiscaal Recht\"][\"EC_Jaar1\"]\n",
    "EC_NTR = dfResultaten_Arbeidsrecht[dfResultaten_Arbeidsrecht['Vooropleiding'] == \"Notarieel Recht\"][\"EC_Jaar1\"]\n",
    "EC_PRE = dfResultaten_Arbeidsrecht[dfResultaten_Arbeidsrecht['Vooropleiding'] == \"Premaster\"][\"EC_Jaar1\"]\n",
    "EC_REC = dfResultaten_Arbeidsrecht[dfResultaten_Arbeidsrecht['Vooropleiding'] == \"Rechtsgeleerdheid\"][\"EC_Jaar1\"]"
   ]
  },
  {
   "cell_type": "code",
   "execution_count": null,
   "id": "31b6d260",
   "metadata": {
    "lines_to_next_cell": 0
   },
   "outputs": [],
   "source": [
    "# Voer de Kruskal Wallis toets uit\n",
    "import scipy.stats as sp\n",
    "print(sp.kruskal(EC_FSC, EC_NTR, EC_PRE, EC_REC))"
   ]
  },
  {
   "cell_type": "markdown",
   "id": "6f5fa015",
   "metadata": {
    "lines_to_next_cell": 0
   },
   "source": [
    "<!-- ## /OPENBLOK: Kruskal-Wallis-test-2.py -->\n",
    "\n",
    "Bereken de effectmaat *&eta;^2^* vervolgens op basis van de *&chi;^2^*-waarde van de *Kruskal-Wallis toets*.\n",
    "<!-- ## OPENBLOK: Kruskal-Wallis-test-3.py -->"
   ]
  },
  {
   "cell_type": "code",
   "execution_count": null,
   "id": "abab21a4",
   "metadata": {
    "lines_to_next_cell": 0,
    "name": "effectsize"
   },
   "outputs": [],
   "source": [
    "# Sla de teststatistiek op\n",
    "stat, pval = sp.kruskal(EC_FSC, EC_NTR, EC_PRE, EC_REC)\n",
    "\n",
    "# Bereken eta squared\n",
    "Eta_squared = stat / (len(dfResultaten_Arbeidsrecht['EC_Jaar1']) - 1)\n",
    "\n",
    "# Print de effectgrootte\n",
    "print(Eta_squared)\n",
    "\n"
   ]
  },
  {
   "cell_type": "markdown",
   "id": "0f31577a",
   "metadata": {},
   "source": [
    "<!-- ## /OPENBLOK: Kruskal-Wallis-test-3.py -->"
   ]
  },
  {
   "cell_type": "markdown",
   "id": "c664a58d",
   "metadata": {
    "lines_to_next_cell": 0
   },
   "source": [
    "<!-- ## CLOSEDBLOK: Kruskal-Wallis-test-4.py -->"
   ]
  },
  {
   "cell_type": "code",
   "execution_count": null,
   "id": "6234e56f",
   "metadata": {
    "echo": true,
    "lines_to_next_cell": 0,
    "name": "Kruskal Wallis test als object",
    "tags": [
     "remove_cell"
    ]
   },
   "outputs": [],
   "source": [
    "stat, pval = sp.kruskal(EC_FSC, EC_NTR, EC_PRE, EC_REC)\n",
    "df = 3"
   ]
  },
  {
   "cell_type": "markdown",
   "id": "9fb710b4",
   "metadata": {},
   "source": [
    "<!-- ## /CLOSEDBLOK: Kruskal-Wallis-test-4.py -->\n",
    "<!-- ## TEKSTBLOK: Kruskal-Wallis-test-5.py -->\n",
    "* *df*: het aantal groepen - 1 = `r py$df`  \n",
    "* *H* = `r Round_and_format(py$stat)`, *df* = `r py$df`, *p* < 0,0001, *&eta;^2^* = `r Round_and_format(py$Eta_squared)`  [^13]  \n",
    "* p-waarde < 0,05, dus de H~0~ wordt verworpen[^14]\n",
    "* Eta squared is `r Round_and_format(py$Eta_squared)` wat duidt op een gemiddeld tot groot effect \n",
    "\n",
    "<!-- ## /TEKSTBLOK: Kruskal-Wallis-test-5.py -->"
   ]
  },
  {
   "cell_type": "markdown",
   "id": "06ebcdca",
   "metadata": {
    "lines_to_next_cell": 0
   },
   "source": [
    "## Post-hoc toets: Mann-Whitney U toets\n",
    "<!-- ## TEKSTBLOK: Mann-Whitney-U-test.py -->\n",
    "Gebruik de *Mann-Whitney U toets* als post-hoc toets om te bepalen wélke groepen significant verschillen. De *Mann-Whitney U toets* wordt ook wel de *Wilcoxon rank-sum toets* genoemd.[^10] Gebruik de functie `pg.mwu()`. \n",
    "<!-- ## /TEKSTBLOK: Mann-Whitney-U-test.py -->\n",
    "<!-- ## OPENBLOK: Mann-Whitney-U-test.py -->"
   ]
  },
  {
   "cell_type": "code",
   "execution_count": null,
   "id": "10858377",
   "metadata": {
    "lines_to_next_cell": 2
   },
   "outputs": [],
   "source": [
    "import scikit_posthocs as skph\n",
    "\n",
    "skph.posthoc_mannwhitney(dfResultaten_Arbeidsrecht, val_col = 'EC_Jaar1', group_col = 'Vooropleiding', p_adjust = 'bonferroni')\n",
    "\n"
   ]
  },
  {
   "cell_type": "markdown",
   "id": "6b0f9896",
   "metadata": {
    "lines_to_next_cell": 0
   },
   "source": [
    "<!-- ## /OPENBLOK: Mann-Whitney-U-test.py-->\n",
    "\n",
    "<!-- ## CLOSEDBLOK: Mann-Whitney-U-test1.py -->"
   ]
  },
  {
   "cell_type": "code",
   "execution_count": null,
   "id": "fc0dad80",
   "metadata": {
    "echo": true,
    "lines_to_next_cell": 0,
    "tags": [
     "remove_cell"
    ]
   },
   "outputs": [],
   "source": [
    "import scikit_posthocs as skph\n",
    "\n",
    "pTabel = skph.posthoc_mannwhitney(dfResultaten_Arbeidsrecht, val_col = 'EC_Jaar1', group_col = 'Vooropleiding', p_adjust = 'bonferroni')\n",
    "\n",
    "p_FR_NR = pTabel['Fiscaal Recht']['Notarieel Recht']\n",
    "p_FR_PM = pTabel['Fiscaal Recht']['Premaster']\n",
    "p_FR_RG = pTabel['Fiscaal Recht']['Rechtsgeleerdheid']\n",
    "p_NR_PM = pTabel['Notarieel Recht']['Premaster']\n",
    "p_NR_RG = pTabel['Notarieel Recht']['Rechtsgeleerdheid']\n",
    "p_PM_RG = pTabel['Premaster']['Rechtsgeleerdheid']\n"
   ]
  },
  {
   "cell_type": "markdown",
   "id": "7395ee03",
   "metadata": {
    "lines_to_next_cell": 0
   },
   "source": [
    "<!-- ## /CLOSEDBLOK: Mann-Whitney-U-test1.py -->\n",
    "\n",
    "<!-- ## TEKSTBLOK: link4.py -->\n",
    "De [Mann-Whitney U toets](08-Mann-Whitney-U-toets-I-Python.html) gebruikt het gemiddelde rangnummer van twee ongepaarde groepen om de significantie van de toets te bepalen. Met behulp van het gemiddelde rangnummer kan bepaald worden welke groep hogere rangnummers heeft wat een benadering is voor het verschil tussen twee verdelingen.[^15] In deze casus heeft de vooropleiding met een hoger rangnummer dus over het algemeen studenten met een hoger aantal studiepunten. Bereken en rapporteer daarom het gemiddelde rangnummer.\n",
    "<!-- ## /TEKSTBLOK: link4.py -->\n",
    "\n",
    "<!-- ## OPENBLOK: Mann-Whitney-U-test2.py -->"
   ]
  },
  {
   "cell_type": "code",
   "execution_count": null,
   "id": "cbf81c52",
   "metadata": {
    "lines_to_next_cell": 0,
    "name": "mean rank"
   },
   "outputs": [],
   "source": [
    "import numpy as np\n",
    "def Gemiddelde_rangschikking(Vooropleiding_1, Vooropleiding_2):\n",
    "  # Bind alle observaties in een variabele\n",
    "  Aantal_studiepunten = np.concatenate((np.array(Vooropleiding_1), np.array(Vooropleiding_2)))\n",
    "  \n",
    "  # Maak een variabele die aangeeft in welke groep de observatie zit\n",
    "  Groepsindicator = np.concatenate([[1]*len(Vooropleiding_1),[2]*len(Vooropleiding_2)])\n",
    "\n",
    "  # Bereken de rangschikkingen van alle observaties\n",
    "  Rangschikkingen = sp.rankdata(Aantal_studiepunten)\n",
    "\n",
    "  # Bereken de gemiddelde rangschikking voor beide vooropleidingen\n",
    "  Gemiddelde_rangschikking_Vooropleiding_1 = np.mean(Rangschikkingen[Groepsindicator == 1])\n",
    "  Gemiddelde_rangschikking_Vooropleiding_2 = np.mean(Rangschikkingen[Groepsindicator == 2])\n",
    "  # Print resultaten\n",
    "  return [Gemiddelde_rangschikking_Vooropleiding_1, Gemiddelde_rangschikking_Vooropleiding_2];\n",
    "\n",
    "# Definieer variabelen die observaties bevatten voor de verschillende vooropleidingen\n",
    "Studiepunten_Fiscaal_Recht = dfResultaten_Arbeidsrecht[dfResultaten_Arbeidsrecht['Vooropleiding'] == \"Fiscaal Recht\"][\"EC_Jaar1\"]\n",
    "Studiepunten_Notarieel_Recht = dfResultaten_Arbeidsrecht[dfResultaten_Arbeidsrecht['Vooropleiding'] == \"Notarieel Recht\"][\"EC_Jaar1\"]\n",
    "Studiepunten_Premaster = dfResultaten_Arbeidsrecht[dfResultaten_Arbeidsrecht['Vooropleiding'] == \"Premaster\"][\"EC_Jaar1\"]\n",
    "Studiepunten_Rechtsgeleerdheid = dfResultaten_Arbeidsrecht[dfResultaten_Arbeidsrecht['Vooropleiding'] == \"Rechtsgeleerdheid\"][\"EC_Jaar1\"]\n",
    "\n",
    "\n",
    "# Bereken de gemiddelde rangschikkingen voor elke vergelijking\n",
    "Gem_FR_NR_1, Gem_FR_NR_2 = Gemiddelde_rangschikking(Studiepunten_Fiscaal_Recht, Studiepunten_Notarieel_Recht)\n",
    "\n",
    "Gem_FR_PM_1, Gem_FR_PM_2 = Gemiddelde_rangschikking(Studiepunten_Fiscaal_Recht, Studiepunten_Premaster)\n",
    "\n",
    "Gem_FR_RG_1, Gem_FR_RG_2 = Gemiddelde_rangschikking(Studiepunten_Fiscaal_Recht, Studiepunten_Rechtsgeleerdheid)\n",
    "\n",
    "Gem_NR_PM_1, Gem_NR_PM_2 = Gemiddelde_rangschikking(Studiepunten_Notarieel_Recht, Studiepunten_Premaster)\n",
    "\n",
    "Gem_NR_RG_1, Gem_NR_RG_2 = Gemiddelde_rangschikking(Studiepunten_Notarieel_Recht, Studiepunten_Rechtsgeleerdheid)\n",
    "\n",
    "Gem_PM_RG_1, Gem_PM_RG_2 = Gemiddelde_rangschikking(Studiepunten_Premaster, Studiepunten_Rechtsgeleerdheid)\n"
   ]
  },
  {
   "cell_type": "markdown",
   "id": "d84ffae3",
   "metadata": {},
   "source": [
    "<!-- ## /OPENBLOK: Mann-Whitney-U-test2.py -->\n",
    "\n",
    "<!-- ## TEKSTBLOK: Mann-Whitney-U-test3.py -->\n",
    "| Vergelijking | p-waarde     | Gemiddelde rangschikking (links)  | Gemiddelde rangschikking (rechts)     |\n",
    "| -------------  | ----------  | ---------- | -------- |\n",
    "| FR vs. NR    | 1,00 `r #Round_and_format(abs(py$p_FR_NR))` |  `r Round_and_format(py$Gem_FR_NR_1)` | `r Round_and_format(py$Gem_FR_NR_2)` |\n",
    "| FR vs. PM    | 0,10 `r #Round_and_format(abs(py$p_FR_PM))` |  `r Round_and_format(py$Gem_FR_PM_1)` | `r Round_and_format(py$Gem_FR_PM_2)` |\n",
    "| FR vs. RG    | < 0,0001 `r #Round_and_format(abs(py$p_FR_RG))` |  `r Round_and_format(py$Gem_FR_RG_1)` | `r Round_and_format(py$Gem_FR_RG_2)` |\n",
    "| NR vs. PM    | 0,02 `r #Round_and_format(abs(py$p_NR_PM))` |  `r Round_and_format(py$Gem_NR_PM_1)` | `r Round_and_format(py$Gem_NR_PM_2)` |\n",
    "| NR vs. RG    | < 0,0001 `r #Round_and_format(abs(py$p_NR_RG))` |  `r Round_and_format(py$Gem_NR_RG_1)` | `r Round_and_format(py$Gem_NR_RG_2)` |\n",
    "| PM vs. RG    | 0,03 `r #Round_and_format(abs(py$p_PM_RG))` |  `r Round_and_format(py$Gem_PM_RG_1)` | `r Round_and_format(py$Gem_PM_RG_2)` |\n",
    "*Tabel 1. Resultaten post-hoc toetsen voor vergelijking Fiscaal Recht (FR), Notarieel Recht (NR), Premaster (PM) en Rechtsgeleerdheid (RG).*\n",
    "\n",
    "Als voorbeeld wordt de bovenste rij van Tabel 1 in woorden uitgelegd. Er is geen  significant verschil gevonden tussen Fiscaal (Gemiddelde rangschikking = `r Round_and_format(py$Gem_FR_NR_1)`,  *n*=`r py$vN_FIS`) Recht en Notarieel Recht (Gemiddelde rangschikking = `r Round_and_format(py$Gem_FR_NR_2)`,  *n*=`r py$vN_NOT`), *p*=1,00.\n",
    "<!-- ## /TEKSTBLOK: Mann-Whitney-U-test3.py -->"
   ]
  },
  {
   "cell_type": "markdown",
   "id": "a9e03d4a",
   "metadata": {
    "lines_to_next_cell": 0
   },
   "source": [
    "# Rapportage\n",
    "<!-- ## TEKSTBLOK: Rapportage.py -->\n",
    "De *Kruskal Wallis toets* is uitgevoerd om te toetsen of er verschillen zijn tussen de studenten van de Master Arbeidsrecht met als vooropleiding Bachelor Fiscaal Recht, Notarieel Recht of Rechtsgeleerdheid of de Premaster wat betreft de verdeling van het aantal studiepunten dat de studenten in het eerste jaar behalen. Uit de resultaten kan afgelezen worden dat er een significant verschil is tussen de verdelingen van het aantal studiepunten voor de verschillende vooropleidingen, *H* = `r Round_and_format(py$stat)`, *df* = `r py$df`, *p* < 0,0001, *&eta;^2^* = `r Round_and_format(py$Eta_squared)`. De resultaten ondersteunen de conclusie dat er een verschil is tussen studenten van de vier verschillende vooropleidingen wat betreft de verdeling van de hoeveelheid studiepunten die studenten behalen tijdens het eerste jaar van de master Arbeidsrecht.  \n",
    "\n",
    "De [Mann-Whitney U toets](08-Mann-Whitney-U-toets-Python.html) is uitgevoerd als post-hoc toets om te onderzoeken welke vooropleidingen van elkaar verschillen qua aantal studiepunten dat studenten behalen.  De studenten met Rechtsgeleerdheid als vooropleiding behalen significant minder punten bij de Master Arbeidsrecht, dan de studenten met een andere vooropleiding. Er is ook een significant verschil gevonden tussen de behaalde studiepunten van studenten met de vooropleiding Notarieel Recht en de Premaster, waarbij de studenten van de Premaster minder punten behaalden dan de studenten van Notarieel Recht. Er zijn geen significante verschillen gevonden tussen de vooropleidingen Fiscaal Recht en Notarieel Recht, en Fiscaal Recht en Premaster. De *Bonferroni correctie* is gebruikt om de Type I fout te voorkomen die gepaard gaat met het veelvuldig toetsen. De gemiddelde rangschikkingen en p-waarden van de post-hoc toetsen zijn te vinden in Tabel 1. \n",
    "<!-- ## /TEKSTBLOK: Rapportage.py -->\n",
    "\n",
    "<!-- ## CLOSEDBLOK: Footer.R -->"
   ]
  },
  {
   "cell_type": "markdown",
   "id": "c2f09462",
   "metadata": {},
   "source": [
    "<!-- ## /CLOSEDBLOK: Footer.R -->\n",
    "\n",
    "[^1]: De toets rangschikt de datapunten van laag naar hoog en geeft elke datapunt een rangnummer. Vervolgens wordt per groep het gemiddelde berekend van de rangnummers. Deze gemiddelden wordt met elkaar vergeleken. Voor meer informatie lees: Field, A., Miles, J., & Field, Z. (2012). *Discovering statistics using R*. London: Sage publications.\n",
    "[^2]: Van Geloven, N. (21 maart 2018). *Kruskal Wallis*. [Wiki Statistiek Academisch Medisch Centrum](https://wikistatistiek.amc.nl/index.php/Kruskal_Wallis). \n",
    "[^3]: Universiteit van Amsterdam (7 juli 2014). *Kruskal-Wallis Test*. [UvA Wiki Methodologiewinkel](https://wiki.uva.nl/methodologiewinkel/index.php/Kruskal-Wallis_Test). \n",
    "[^4]: Onderscheidend vermogen, in het Engels power genoemd, is de kans dat de nulhypothese verworpen wordt wanneer de alternatieve hypothese 'waar' is.\n",
    "[^5]: Field, A., Miles, J., & Field, Z. (2012). *Discovering statistics using R*. London: Sage publications.\n",
    "[^6]: Van Geloven, N. (21 November 2017). *KEUZE TOETS*. [Wiki Statistiek Academisch Medisch Centrum](https://wikistatistiek.amc.nl/index.php/KEUZE_TOETS).\n",
    "[^9]: Universiteit van Amsterdam (7 juli 2014). *Kruskal-Wallis Test*. [UvA Wiki Methodologiewinkel](https://wiki.uva.nl/methodologiewinkel/index.php/Kruskal-Wallis_Test).\n",
    "[^10]: De effectmaat *&eta;^2^* wordt voor de *Kruskal-Wallis toets* berekend door de *&chi;^2^*-waarde te delen door het totaal aantal observaties minus één, i.e. $\\frac{\\chi^2}{N-1} $.\n",
    "[^11]: Allen, P. & Bennett, K. (2012). *SPSS A practical Guide version 20.0*. Cengage Learning Australia Pty Limited.\n",
    "[^13]: De test-statistiek *H* volgt bij benadering de chi-kwadraat verdeling. Onder deze hypothese is *H* chi-kwadraat, vandaar dat dit in de output uitgedrukt wordt in chi-kwadraat.\n",
    "[^14]: In dit voorbeeld wordt uitgegaan van een waarschijnlijkheid van 95% c.q. een p-waardegrens van 0,05. De grens is naar eigen inzicht aan te passen; houd hierbij rekening met Type I en Type II fouten. \n",
    "[^15]: Field, A. (2013). *Discovering statistics using IBM SPSS statistics*. Sage.\n",
    "[^16]: Een ordinale variabele is een categorische variabele waarbij de categorieën geordend kunnen worden. Een voorbeeld is de variabele beoordeling met de categorieën Onvoldoende, Voldoende, Goed en Uitstekend.\n",
    "[^17]:  Laerd statistics (2018). *Kruskal-Wallis H Test using SPSS Statistics*. https://statistics.laerd.com/spss-tutorials/kruskal-wallis-h-test-using-spss-statistics.php.\n",
    "[^18]: De breedte van de staven van het histogram wordt vaak automatisch bepaald, maar kan handmatig aangepast worden. Aangezien de breedte van de staven bepalend zijn voor de indruk die de visualisatie geeft, is het verstandig om hier goed op te letten.\n",
    "[^19]: Bij de *Kruskal Wallis toets* en andere nonparametrische toetsen wordt de data eerst gerangschikt zodat elke observatie een rangnummer toegewezen krijgt. Deze rangnummers worden vervolgens gebruikt om de toets uit te voeren.\n"
   ]
  }
 ],
 "metadata": {
  "jupytext": {
   "cell_metadata_filter": "tags,message,name,code,include,warning,echo,results,collapse,-all",
   "main_language": "python",
   "notebook_metadata_filter": "-all"
  },
  "kernelspec": {
   "display_name": "Python 3 (ipykernel)",
   "language": "python",
   "name": "python3"
  },
  "language_info": {
   "codemirror_mode": {
    "name": "ipython",
    "version": 3
   },
   "file_extension": ".py",
   "mimetype": "text/x-python",
   "name": "python",
   "nbconvert_exporter": "python",
   "pygments_lexer": "ipython3",
   "version": "3.10.4"
  }
 },
 "nbformat": 4,
 "nbformat_minor": 5
}
