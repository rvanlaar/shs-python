{
 "cells": [
  {
   "cell_type": "raw",
   "id": "054feed0",
   "metadata": {},
   "source": [
    "---\n",
    "title: \"Friedman's ANOVA\"\n",
    "output:\n",
    "  html_document:\n",
    "    theme: lumen\n",
    "    toc: yes\n",
    "    toc_depth: 2\n",
    "    toc_float: \n",
    "      collapsed: FALSE \n",
    "    number_sections: true\n",
    "    includes:\n",
    "      in_header: [\"../01. Includes/html/nocache.html\", \"../01. Includes/html/favicon.html\", \"../01. Includes/html/analytics.html\"]\n",
    "  keywords: [statistisch handboek, studiedata]\n",
    "---"
   ]
  },
  {
   "cell_type": "markdown",
   "id": "da44e9ea",
   "metadata": {},
   "source": [
    "# Friedman's ANOVA"
   ]
  },
  {
   "cell_type": "markdown",
   "id": "f5f98cbf",
   "metadata": {
    "lines_to_next_cell": 0
   },
   "source": [
    "<!-- ## CLOSEDBLOK: Functies.R -->"
   ]
  },
  {
   "cell_type": "markdown",
   "id": "b353f31c",
   "metadata": {},
   "source": [
    "<!-- ## /OPENBLOK: Data-aanmaken.py -->\n",
    "\n",
    "## Toepassing\n",
    "\n",
    "<!-- ## /TEKSTBLOK: Link1.py -->\n",
    "Gebruik *Friedman's ANOVA* om de gemiddelde rangnummers[^13] te vergelijken voor de verdelingen van drie of meer herhaalde metingen van één groep of voor de verdelingen van drie of meer gepaarde groepen.[^1]<sup>, </sup>[^2] *Friedman's ANOVA* is een alternatief voor de [repeated measures ANOVA](04-Repeated-measures-ANOVA-Python.html) wanneer de data niet aan de assumptie van normaliteit voldoet. Daarnaast hebben uitbijters minder invloed op het resultaat van *Friedman's ANOVA* in vergelijking tot de [repeated measures ANOVA](04-Repeated-measures-ANOVA-Python.html). Echter, als de data aan de assumpties van de [repeated measures ANOVA](04-Repeated-measures-ANOVA-Python.html) voldoet, heeft die toets een hoger onderscheidend vermogen dan *Friedman's ANOVA*.[^3]\n",
    "<!-- ## /TEKSTBLOK: Link1.py -->"
   ]
  },
  {
   "cell_type": "markdown",
   "id": "daa1b81c",
   "metadata": {},
   "source": [
    "## Onderwijscasus\n",
    "<div id = \"casus\">\n",
    "\n",
    "Uit de Nationale Studenten Enquête (NSE) blijkt dat studenten ontevreden zijn over het horeca-aanbod op de campus van hun hogeschool. De vastgoedmanager van de  Facultaire Dienst (FD) van deze hogeschool is nieuwsgierig hoe de verschillende eetgelegenheden op de campus gewaardeerd worden door studenten om zo te inventarisen op welke manier het horeca-aanbod verbeterd kan worden. Als vervolgonderzoek op de NSE wordt een groep studenten gevraagd om de eetgelegenheden op de campus te beoordelen (met een cijfer tussen 1 en 10). Aan de hand daarvan vergelijkt de vastgoedmanager eetgelegenheden in vier gebouwen: het hoofdgebouw, het bestuursgebouw, het sportcentrum en het cultuurcentrum Rembrandt. Met deze gegevens wil de vastgoedmanager onderzoeken of er verschillen zijn in de waarderingscijfers van de eetgelegenheden in de vier gebouwen. Als deze verschillen aanwezig zijn, is zij benieuwd welke eetgelegenheden van elkaar verschillen.\n",
    "\n",
    "Dit onderzoek vertaalt zich in de volgende combinatie van hypothesen, waarbij de nulhypothese zo geformuleerd is dat er geen effect of verschil is en de alternatieve hypothese zo geformuleerd is dat er wel een effect of verschil is.\n",
    "\n",
    "*H<sub>0</sub>*: Het gemiddelde rangnummer van de verdelingen van de beoordelingen van studenten is hetzelfde voor de eetgelegenheid in het hoofdgebouw, het bestuursgebouw, het sportcentrum en het cultuurcentrum Rembrandt.\n",
    "\n",
    "*H<sub>A</sub>*: Het gemiddelde rangnummer van de verdelingen van de beoordelingen van studenten is niet hetzelfde voor de eetgelegenheid in het hoofdgebouw, het bestuursgebouw, het sportcentrum en het cultuurcentrum Rembrandt.\n",
    "\n",
    "</div>\n",
    "\n",
    "## Assumpties\n",
    "\n",
    "Om een valide toetsresultaat te bereiken, moeten de data aan een aantal assumpties voldoen. Het meetniveau van de afhankelijke variabele is ordinaal[^14] of continu.[^4] In deze toetspagina staat een casus met continue data centraal; een casus met ordinale data met bijbehorende uitwerking is te vinden in [deze toetspagina](24-Friedmans-ANOVA-II-R.html). Bij herhaalde metingen van dezelfde observatie-eenheden, moet de groep observatie-eenheden drie of meer keren gemeten zijn en een willekeurige steekproef van de populatie zijn. Bij gepaarde groepen, moet elk paar bestaan uit drie of meer gepaarde observatie-eenheden en moet de steekproef met alle paren een willekeurige steekproef van de populatie zijn.[^4]"
   ]
  },
  {
   "cell_type": "markdown",
   "id": "41d45f30",
   "metadata": {},
   "source": [
    "## Effectmaat\n",
    "De p-waarde geeft aan of het verschil tussen groepen significant is. De grootte van het verschil of effect is echter ook relevant. Een effectmaat is een gestandaardiseerde maat die de grootte van een effect weergeeft, zodat effecten van verschillende onderzoeken met elkaar vergeleken kunnen worden.[^5] Voor *Friedman's ANOVA* wordt de effectmaat *Kendall's W* vaak gebruikt.[^6]<sup>, </sup>[^7]<sup>, </sup>[^8] Een indicatie om *Kendall's W* te interpreteren is: rond 0,1 is het een klein effect, rond 0,3 is het een gemiddeld effect en rond 0,5 is het een groot effect.[^6]"
   ]
  },
  {
   "cell_type": "markdown",
   "id": "3a00dc25",
   "metadata": {
    "lines_to_next_cell": 0
   },
   "source": [
    "## Post-hoc toetsen\n",
    "\n",
    "<!-- ## TEKSTBLOK: Link2.py -->\n",
    "*Friedman's ANOVA* toetst of er verschillen zijn tussen de verdelingen van groepen. Voer een post-hoc toets uit om te bepalen welke groepen van elkaar verschillen. Gebruik de [Wilcoxon signed rank toets](07-Wilcoxon-signed-rank-toets-R.html) als post-hoc toets. De [Wilcoxon signed rank toets](07-Wilcoxon-signed-rank-toets-R.html) toetst of er een verschil tussen de verdelingen is van twee gepaarde groepen (i.e. of een van beide verdelingen hogere waardes heeft dan de andere verdeling). Hoewel het minder gebruikelijk is, is de [tekentoets](27-Tekentoets-II-R.html) ook een optie als post-hoc toets. Deze toets toetst het verschil tussen de medianen van twee gepaarde groepen.\n",
    "<!-- ## /TEKSTBLOK: Link2.py -->\n",
    "\n",
    "Gebruik een correctie voor de p-waarden, omdat er meerdere toetsen tegelijkertijd worden gebruikt. Meerdere toetsen tegelijkertijd uitvoeren verhoogt de kans dat een van de nulhypotheses onterecht wordt verworpen en er bij toeval een verband wordt ontdekt dat er niet is (type I fout). In deze toetspagina wordt de *Bonferroni correctie* gebruikt. Deze correctie past de p-waarde aan door de p-waarde te vermenigvuldigen met het aantal uitgevoerde toetsen en verlaagt hiermee de kans op een type I fout. Een andere uitleg hiervan is dat het significantieniveau gedeeld wordt door het aantal toetsen wat leidt tot een lager significantieniveau en dus een strengere toets. Er zijn ook andere opties voor een correctie op de p-waarden.[^5]\n",
    "\n",
    "## Uitvoering\n",
    "<!-- ## TEKSTBLOK: Dataset-inladen.py-->\n",
    "Er is een dataset `dfBeoordelingen_eetgelegenheden` ingeladen met de beoordelingen van de eetgelegenheden in het hoofdgebouw, bestuursgebouw, sportcentrum en cultuurcentrum.\n",
    "<!-- ## /TEKSTBLOK: Dataset-inladen.py-->\n",
    "\n",
    "### De data bekijken\n",
    "<!-- ## TEKSTBLOK: Data-bekijken.py -->\n",
    "Gebruik `<dataframe>.head()` en `<dataframe>.tail()` om de structuur van de data te bekijken.\n",
    "<!-- ## /TEKSTBLOK: Data-bekijken.py -->\n",
    "\n",
    "<!-- ## OPENBLOK: Data-bekijken.py -->"
   ]
  },
  {
   "cell_type": "code",
   "execution_count": null,
   "id": "d3984235",
   "metadata": {
    "tags": [
     "remove_cell"
    ]
   },
   "outputs": [],
   "source": [
    "import pandas as pd\n",
    "df = pd.read_csv(\"../data/09_Beoordelingen_eetgelegenheden.csv\")\n",
    "dfBeoordelingen_eetgelegenheden = df.loc[:, ~df.columns.str.contains('^Unnamed')]"
   ]
  },
  {
   "cell_type": "code",
   "execution_count": null,
   "id": "80aae782",
   "metadata": {
    "collapse": true,
    "name": "data bekijken-1"
   },
   "outputs": [],
   "source": [
    "## Eerste 6 observaties\n",
    "print(dfBeoordelingen_eetgelegenheden.head(6))"
   ]
  },
  {
   "cell_type": "code",
   "execution_count": null,
   "id": "6c11f5c4",
   "metadata": {
    "collapse": true,
    "lines_to_next_cell": 0,
    "name": "data bekijken-2"
   },
   "outputs": [],
   "source": [
    "## Laatste 6 observaties\n",
    "print(dfBeoordelingen_eetgelegenheden.tail(6))"
   ]
  },
  {
   "cell_type": "markdown",
   "id": "8ebc0a83",
   "metadata": {
    "lines_to_next_cell": 0
   },
   "source": [
    "<!-- ## /OPENBLOK: Data-bekijken.py -->\n",
    "\n",
    "<!-- ## TEKSTBLOK: Data-bekijken2.py-->\n",
    "De dataset bevat beoordelingen van studenten van eetgelegenheden in verschillende gebouwen. Gebruik `<data.frame>.<kolomnaam>.unique()` om te onderzoeken welke gebouwen er in de data aanwezig zijn. \n",
    "<!-- ## /TEKSTBLOK: Data-bekijken2.py-->\n",
    "\n",
    "<!-- ## OPENBLOK: Data-bekijken-2.py -->"
   ]
  },
  {
   "cell_type": "code",
   "execution_count": null,
   "id": "d42cff96",
   "metadata": {
    "lines_to_next_cell": 0,
    "name": "data bekijken 2"
   },
   "outputs": [],
   "source": [
    "## Unieke opleidingen\n",
    "print(dfBeoordelingen_eetgelegenheden['Eetgelegenheid'].unique())"
   ]
  },
  {
   "cell_type": "markdown",
   "id": "0deb7e69",
   "metadata": {
    "lines_to_next_cell": 0
   },
   "source": [
    "<!-- ## /OPENBLOK: Data-bekijken-2.py -->\n",
    "\n",
    "<!-- ## TEKSTBLOK: Data-bekijken3.py-->\n",
    "Inspecteer om meer inzicht te krijgen in de data de groepen met `.size()` en `.quantile()`. Selecteer eerst de juiste variabelen met `dfBeoordelingen_eetgelegenheden[['Beoordeling','Eetgelegenheid']]`en groepeer daarna voor de eetgelegenheden met .groupby(['Eetgelegenheid']). De mediaan is gelijk aan kwantiel `0.5`.\n",
    "<!-- ## /TEKSTBLOK: Data-bekijken3.py-->\n",
    "\n",
    "<!-- ## OPENBLOK: Data-beschrijven.py -->"
   ]
  },
  {
   "cell_type": "code",
   "execution_count": null,
   "id": "f8713e62",
   "metadata": {},
   "outputs": [],
   "source": [
    "print(dfBeoordelingen_eetgelegenheden[['Beoordeling','Eetgelegenheid']].groupby(['Eetgelegenheid']).size())"
   ]
  },
  {
   "cell_type": "code",
   "execution_count": null,
   "id": "99ddeca9",
   "metadata": {
    "lines_to_next_cell": 0
   },
   "outputs": [],
   "source": [
    "print(dfBeoordelingen_eetgelegenheden[['Beoordeling','Eetgelegenheid']].groupby(['Eetgelegenheid']).quantile([0.25, 0.5, 0.75]))"
   ]
  },
  {
   "cell_type": "markdown",
   "id": "d416ae2e",
   "metadata": {},
   "source": [
    "<!-- ## /OPENBLOK: Data-beschrijven.py -->\n",
    "<!-- ## CLOSEDBLOK: Data-beschrijven.py -->\n",
    "``` {python data beschrijven als object, include=FALSE, echo=TRUE}\n",
    "\n",
    "import numpy as np\n",
    "dfHG = np.array(dfBeoordelingen_eetgelegenheden[dfBeoordelingen_eetgelegenheden['Eetgelegenheid'] == \"Hoofdgebouw\"]['Beoordeling'])\n",
    "dfBG = np.array(dfBeoordelingen_eetgelegenheden[dfBeoordelingen_eetgelegenheden['Eetgelegenheid'] == \"Bestuursgebouw\"]['Beoordeling'])\n",
    "dfSC = np.array(dfBeoordelingen_eetgelegenheden[dfBeoordelingen_eetgelegenheden['Eetgelegenheid'] == \"Sportcentrum\"]['Beoordeling'])\n",
    "dfCC = np.array(dfBeoordelingen_eetgelegenheden[dfBeoordelingen_eetgelegenheden['Eetgelegenheid'] == \"Cultuurcentrum\"]['Beoordeling'])\n",
    "\n",
    "vN_HG = len(dfHG)\n",
    "vN_BG = len(dfBG)\n",
    "vN_SC = len(dfSC)\n",
    "vN_CC = len(dfCC)\n",
    "\n",
    "vQ1_HG = np.quantile(dfHG, 0.25)\n",
    "vQ1_BG = np.quantile(dfBG, 0.25)\n",
    "vQ1_SC = np.quantile(dfSC, 0.25)\n",
    "vQ1_CC = np.quantile(dfCC, 0.25)\n",
    "\n",
    "vMed_HG = np.quantile(dfHG, 0.5)\n",
    "vMed_BG = np.quantile(dfBG, 0.5)\n",
    "vMed_SC = np.quantile(dfSC, 0.5)\n",
    "vMed_CC = np.quantile(dfCC, 0.5)\n",
    "\n",
    "vQ3_HG = np.quantile(dfHG, 0.75)\n",
    "vQ3_BG = np.quantile(dfBG, 0.75)\n",
    "vQ3_SC = np.quantile(dfSC, 0.75)\n",
    "vQ3_CC = np.quantile(dfCC, 0.75)\n",
    "\n",
    "\n",
    "```\n",
    "<!-- ## /CLOSEDBLOK: Data-beschrijven.py -->\n",
    "\n",
    "<!-- ## TEKSTBLOK: Data-beschrijven.py -->\n",
    "* Hoofdgebouw: *Mdn* =  `r Round_and_format(py$vMed_HG)`, *Q1* = `r Round_and_format(py$vQ1_HG)`, *Q3* = `r Round_and_format(py$vQ3_HG)`, *n* = `r Round_and_format(py$vN_HG)`.\n",
    "* Bestuursgebouw: *Mdn* =  `r Round_and_format(py$vMed_BG)`, *Q1* = `r Round_and_format(py$vQ1_BG)`, *Q3* = `r Round_and_format(py$vQ3_BG)`, *n* = `r Round_and_format(py$vN_BG)`.\n",
    "* Sportcentrum: *Mdn* =  `r Round_and_format(py$vMed_SC)`, *Q1* = `r Round_and_format(py$vQ1_SC)`, *Q3* = `r Round_and_format(py$vQ3_SC)`, *n* = `r Round_and_format(py$vN_SC)`.\n",
    "* Cultuurcentrum: *Mdn* =  `r Round_and_format(py$vMed_CC)`, *Q1* = `r Round_and_format(py$vQ1_CC)`, *Q3* = `r Round_and_format(py$vQ3_CC)`, *n* = `r Round_and_format(py$vN_CC)`.\n",
    "\n",
    "<!-- ## /TEKSTBLOK: Data-beschrijven.py -->\n"
   ]
  },
  {
   "cell_type": "markdown",
   "id": "073d6232",
   "metadata": {
    "lines_to_next_cell": 0
   },
   "source": [
    "### Histogram\n",
    "\n",
    "Geef de verdeling van de beoordelingen per gebouw visueel weer met een histogram[^18].[^12]\n",
    "\n",
    "<!-- ## OPENBLOK: Histogram.py -->"
   ]
  },
  {
   "cell_type": "code",
   "execution_count": null,
   "id": "e6179a4a",
   "metadata": {
    "lines_to_next_cell": 0,
    "name": "histogram"
   },
   "outputs": [],
   "source": [
    "# Laad seaborn of facets te maken\n",
    "import seaborn as sb\n",
    "# Laad matplotlib.pyplot om plots te maken\n",
    "import matplotlib.pyplot as plt\n",
    "\n",
    "# Maak een facet plot met een histogram voor elke vooropleiding\n",
    "g = sb.FacetGrid(dfBeoordelingen_eetgelegenheden, col=\"Eetgelegenheid\")\n",
    "g = (g.map(plt.hist, \"Beoordeling\", edgecolor = \"black\").set_axis_labels(\"Beoordeling\"))\n",
    "plt.show()"
   ]
  },
  {
   "cell_type": "markdown",
   "id": "554c68b1",
   "metadata": {},
   "source": [
    "<!-- ## /OPENBLOK: Histogram.py -->\n",
    "\n",
    "Bij alle vier de gebouwen lijken er afwijkingen te zijn van de (symmetrische) normale verdeling. De verdeling van het bestuursgebouw heeft een langere staart aan de rechterkant, terwijl de verdelingen van het hoofdgebouw en het sportcentrum juist een langere staart aan de linkerkant hebben. Bij het cultuurcentrum zijn er meer observaties links van het midden dan rechts van het midden, waardoor er ook een vorm van asymmetrie is. Daarom is het een goede optie om *Friedman's ANOVA* uit te voeren, omdat deze toets niet aan de assumptie van normaliteit hoeft te voldoen.\n"
   ]
  },
  {
   "cell_type": "markdown",
   "id": "888d0f7b",
   "metadata": {
    "lines_to_next_cell": 0
   },
   "source": [
    "### Friedman's ANOVA\n",
    "\n",
    "<!-- ## TEKSTBLOK: ANOVA-toets.py -->\n",
    "Voer *Friedman's ANOVA* uit om de vraag te beantwoorden of er verschillen zijn tussen de (gemiddelde rangnummers van de) beoordelingen van de eetgelegenheden in de vier gebouwen op de campus van de hogeschool. Gebruik de functie `friedmanchisquare()` van het package `scipy` met als argumenten de vier variabelen met de beoordelingen voor elk van de vier gebouwen. Bij deze functie toetst Python standaard tweezijdig.\n",
    "<!-- ## /TEKSTBLOK: ANOVA-toets.py -->\n",
    "\n",
    "<!-- ## OPENBLOK: ANOVA-toets.py -->"
   ]
  },
  {
   "cell_type": "code",
   "execution_count": null,
   "id": "bcd0f992",
   "metadata": {
    "lines_to_next_cell": 0
   },
   "outputs": [],
   "source": [
    "import numpy as np\n",
    "\n",
    "# Maak een variabele met het aantal studiepunten voor elke vooropleiding\n",
    "dfHG = np.array(dfBeoordelingen_eetgelegenheden[\n",
    "    dfBeoordelingen_eetgelegenheden['Eetgelegenheid'] == \"Hoofdgebouw\"]['Beoordeling'])\n",
    "dfBG = np.array(dfBeoordelingen_eetgelegenheden[\n",
    "    dfBeoordelingen_eetgelegenheden['Eetgelegenheid'] == \"Bestuursgebouw\"]['Beoordeling'])\n",
    "dfSC = np.array(dfBeoordelingen_eetgelegenheden[\n",
    "    dfBeoordelingen_eetgelegenheden['Eetgelegenheid'] == \"Sportcentrum\"]['Beoordeling'])\n",
    "dfCC = np.array(dfBeoordelingen_eetgelegenheden[\n",
    "    dfBeoordelingen_eetgelegenheden['Eetgelegenheid'] == \"Cultuurcentrum\"]['Beoordeling'])\n",
    "\n",
    "# Voer de Kruskal Wallis toets uit\n",
    "import scipy.stats as sp\n",
    "print(sp.friedmanchisquare(dfHG, dfBG, dfSC, dfCC))\n"
   ]
  },
  {
   "cell_type": "markdown",
   "id": "8061b922",
   "metadata": {
    "lines_to_next_cell": 0
   },
   "source": [
    "<!-- ## /OPENBLOK: ANOVA-toets.py -->\n",
    "\n",
    "<!-- ## CLOSEDBLOK: ANOVA-toets.py -->\n",
    "\n",
    "<!-- ## /CLOSEDBLOK: ANOVA-toets.py -->\n",
    "\n",
    "Bereken vervolgens de effectmaat *Kendall's W* op basis van de *&chi;^2^* waarde van *Friedman's ANOVA*.\n",
    "<!-- ## OPENBLOK: ANOVA-toets2.py -->"
   ]
  },
  {
   "cell_type": "code",
   "execution_count": null,
   "id": "a6f5a017",
   "metadata": {
    "lines_to_next_cell": 0,
    "name": "effectgrootte"
   },
   "outputs": [],
   "source": [
    "# Sla de Chi-kwadraat waarde op\n",
    "Chi2, pval = sp.friedmanchisquare(dfHG, dfBG, dfSC, dfCC)\n",
    "\n",
    "# Sla het aantal observatie-eenheden op\n",
    "N = len(dfBeoordelingen_eetgelegenheden['Studentnummer'].unique())  \n",
    "\n",
    "# Sla het aantal groepen op\n",
    "k = len(dfBeoordelingen_eetgelegenheden['Eetgelegenheid'].unique())\n",
    "\n",
    "\n",
    "# Bereken de effectmaat\n",
    "W = Chi2 / (N * (k - 1))\n",
    "\n",
    "# Print de effectmaat\n",
    "print(W)"
   ]
  },
  {
   "cell_type": "markdown",
   "id": "89f52d76",
   "metadata": {},
   "source": [
    "<!-- ## /OPENBLOK: ANOVA-toets2.py -->"
   ]
  },
  {
   "cell_type": "markdown",
   "id": "5ad903ab",
   "metadata": {
    "lines_to_next_cell": 0
   },
   "source": [
    "<!-- ## TEKSTBLOK: ANOVA-toets1.py -->\n",
    "* *&chi;^2^<sub>3</sub>* = `r Round_and_format(py$Chi2)`, *p* = 0,006, *W* = `r Round_and_format(py$W)`\n",
    "* De p-waarde is kleiner dan 0,05, dus de H<sub>0</sub> wordt verworpen.[^10]\n",
    "* Er is een significant verschil tussen de beoordelingen van de eetgelegenheden in de vier gebouwen; het effect van de verschillende gebouwen op de beoordelingen van studenten is klein tot gemiddeld\n",
    "\n",
    "<!-- ## /TEKSTBLOK: ANOVA-toets1.py -->\n",
    "\n",
    "### Post-hoc toets\n",
    "<!-- ## TEKSTBLOK: posthoc1.py -->\n",
    "Voer post-hoc toetsen uit om te onderzoeken tussen welke gebouwen er verschillen zijn in de beoordelingen van studenten. De vier gebouwen zijn het hoofdgebouw, bestuursgebouw, sportcentrum en cultuurcentrum Rembrandt. Gebruik de [Wilcoxon signed-rank toets](07-Wilcoxon-signed-rank-toets-Python.html) als post-hoc toets met bijbehorende functie `posthoc_wilcoxon()` van het package `scikit_posthocs`. De ingevoerde argumenten van de functie zijn \n",
    "de dataset `dfBeoordelingen_eetgelegenheden`, de afhankelijke variabele `val_col = 'Beoordeling'`, de onafhankelijke variabele `group_col = 'Eetgelegenheid'` en de correctie voor meerdere toetsen `p_adjust = 'bonferroni'`. Het significantieniveau is 0,05.[^10]\n",
    "<!-- ## /TEKSTBLOK: posthoc1.py -->\n",
    "\n",
    "<!-- ## OPENBLOK: post-hoc2.py-->"
   ]
  },
  {
   "cell_type": "code",
   "execution_count": null,
   "id": "6bc589da",
   "metadata": {
    "lines_to_next_cell": 0
   },
   "outputs": [],
   "source": [
    "import scikit_posthocs as skph\n",
    "\n",
    "skph.posthoc_wilcoxon(dfBeoordelingen_eetgelegenheden, val_col = 'Beoordeling', group_col = 'Eetgelegenheid', p_adjust = 'bonferroni')\n"
   ]
  },
  {
   "cell_type": "markdown",
   "id": "11bab8b2",
   "metadata": {
    "lines_to_next_cell": 0
   },
   "source": [
    "<!-- ## /OPENBLOK: post-hoc2.py -->\n",
    "\n",
    "Bereken de effectmaat *r* voor elke individuele post-hoc toets.[^11]\n",
    "\n",
    "<!-- ## OPENBLOK: post-hoc4.py -->\n",
    "``` {python pairwise wilcox test effectmaat}\n",
    "## Sla de p-waarden van de post-hoc toetsen op\n",
    "pTabel = skph.posthoc_wilcoxon(dfBeoordelingen_eetgelegenheden, val_col = 'Beoordeling', group_col = 'Eetgelegenheid', p_adjust = 'bonferroni')\n",
    "print(pTabel)\n",
    "p_HG_BG = pTabel['Hoofdgebouw']['Bestuursgebouw']\n",
    "p_HG_SC = pTabel['Hoofdgebouw']['Sportcentrum']\n",
    "p_HG_CC = pTabel['Hoofdgebouw']['Cultuurcentrum']\n",
    "p_BG_SC = pTabel['Bestuursgebouw']['Sportcentrum']\n",
    "p_BG_CC = pTabel['Bestuursgebouw']['Cultuurcentrum']\n",
    "p_SC_CC = pTabel['Sportcentrum']['Cultuurcentrum']\n",
    "\n",
    "## Sla het aantal observatie-eenheden op\n",
    "N = len(dfBeoordelingen_eetgelegenheden['Studentnummer'].unique())  \n",
    "\n",
    "## Bereken de effectgrootte voor een tweezijdige toets\n",
    "Effectmaat_HG_BG = sp.norm.ppf(p_HG_BG/2) / np.sqrt(N)\n",
    "Effectmaat_HG_SC = sp.norm.ppf(p_HG_SC/2) / np.sqrt(N)\n",
    "Effectmaat_HG_CC = sp.norm.ppf(p_HG_CC/2) / np.sqrt(N)\n",
    "Effectmaat_BG_SC = sp.norm.ppf(p_BG_SC/2) / np.sqrt(N)\n",
    "Effectmaat_BG_CC = sp.norm.ppf(p_BG_CC/2) / np.sqrt(N)\n",
    "Effectmaat_SC_CC = sp.norm.ppf(p_SC_CC/2) / np.sqrt(N)\n",
    "```\n",
    "<!-- ## /OPENBLOK: post-hoc4.py -->\n",
    "\n",
    "<!-- ## TEKSTBLOK: Link4.py -->\n",
    "De [Wilcoxon signed rank toets](07-Wilcoxon-signed-rank-toets-Python.html) gebruikt de som van positieve en negatieve rangnummers van de verschilscores om de significantie van de toets te bepalen. Deze sommen beschrijven het verschil tussen twee gepaarde groepen waarbij de groep met een hogere som van rangnummers ook hogere waarden op de afhankelijke variabele heeft. In deze casus heeft het gebouw met hogere rangnummers een hogere beoordeling door studenten. Bereken de som van de positieve en negatieve rangnummers voor alle vergelijkingen.\n",
    "<!-- ## /TEKSTBLOK: Link4.py -->\n",
    "\n",
    "<!-- ## OPENBLOK: post-hoc5.py -->"
   ]
  },
  {
   "cell_type": "code",
   "execution_count": null,
   "id": "821933de",
   "metadata": {
    "lines_to_next_cell": 0,
    "name": "som rang"
   },
   "outputs": [],
   "source": [
    "def Sommen_rangnummers(Gebouw_1, Gebouw_2):\n",
    "  # Bereken verschilscores\n",
    "  Verschilscores = np.array(Gebouw_1) - np.array(Gebouw_2)\n",
    "\n",
    "  # Rangschik de absolute waarden van verschilscores met scipy.rankdata()\n",
    "  Rangnummers = sp.rankdata(np.abs(Verschilscores))\n",
    "\n",
    "  # Maak een vector met daarin de tekens (plus of min) van verschilscores) met numpy.sign()\n",
    "  Tekens = np.sign(Verschilscores)\n",
    "\n",
    "  # Bereken het aantal en de som van de positieve rangnummers\n",
    "  N_positief = len(Tekens[Tekens == 1])\n",
    "  Som_positief = np.sum(Rangnummers[Tekens == 1])\n",
    "\n",
    "  # Bereken het aantal en de som van de negatieve rangnummers\n",
    "  N_negatief = len(Tekens[Tekens == -1])\n",
    "  Som_negatief = np.sum(Rangnummers[Tekens == -1])\n",
    "\n",
    "  # Print resultaten\n",
    "  return [N_positief, Som_positief, N_negatief, Som_negatief];\n",
    "\n",
    "# Definieer variabelen die observaties bevatten voor de verschillende gebouwen\n",
    "Beoordeling_HG = dfBeoordelingen_eetgelegenheden[dfBeoordelingen_eetgelegenheden['Eetgelegenheid'] == \"Hoofdgebouw\"][\"Beoordeling\"]\n",
    "Beoordeling_BG = dfBeoordelingen_eetgelegenheden[dfBeoordelingen_eetgelegenheden['Eetgelegenheid'] == \"Bestuursgebouw\"][\"Beoordeling\"]\n",
    "Beoordeling_SC = dfBeoordelingen_eetgelegenheden[dfBeoordelingen_eetgelegenheden['Eetgelegenheid'] == \"Sportcentrum\"][\"Beoordeling\"]\n",
    "Beoordeling_CC = dfBeoordelingen_eetgelegenheden[dfBeoordelingen_eetgelegenheden['Eetgelegenheid'] == \"Cultuurcentrum\"][\"Beoordeling\"]\n",
    "\n",
    "# Bereken de gemiddelde rangschikkingen voor elke vergelijking\n",
    "N_HG_BG_positief, Som_HG_BG_positief, N_HG_BG_negatief, Som_HG_BG_negatief = Sommen_rangnummers(Beoordeling_HG, Beoordeling_BG)\n",
    "\n",
    "print(N_HG_BG_positief, Som_HG_BG_positief, N_HG_BG_negatief, Som_HG_BG_negatief)\n",
    "\n",
    "N_HG_SC_positief, Som_HG_SC_positief, N_HG_SC_negatief, Som_HG_SC_negatief = Sommen_rangnummers(Beoordeling_HG, Beoordeling_SC)\n",
    "\n",
    "N_HG_CC_positief, Som_HG_CC_positief, N_HG_CC_negatief, Som_HG_CC_negatief = Sommen_rangnummers(Beoordeling_HG, Beoordeling_CC)\n",
    "\n",
    "N_BG_SC_positief, Som_BG_SC_positief, N_BG_SC_negatief, Som_BG_SC_negatief = Sommen_rangnummers(Beoordeling_BG, Beoordeling_SC)\n",
    "\n",
    "N_BG_CC_positief, Som_BG_CC_positief, N_BG_CC_negatief, Som_BG_CC_negatief = Sommen_rangnummers(Beoordeling_BG, Beoordeling_CC)\n",
    "\n",
    "N_SC_CC_positief, Som_SC_CC_positief, N_SC_CC_negatief, Som_SC_CC_negatief = Sommen_rangnummers(Beoordeling_SC, Beoordeling_CC)\n"
   ]
  },
  {
   "cell_type": "markdown",
   "id": "60b88dd0",
   "metadata": {},
   "source": [
    "<!-- ## /OPENBLOK: post-hoc5.py -->\n",
    "\n",
    "<!-- ## TEKSTBLOK: posthoc6.py -->\n",
    "\n",
    "| Vergelijking | p-waarde     | Effectmaat        |  Som positieve rangnummers        | Som negatieve rangnummers     |\n",
    "| -------------  | ----------  | --------- | ---------- | -------- |\n",
    "| HG vs. BG    | 0,878`r #Round_and_format(py$p_HG_BG)` | `r Round_and_format(py$Effectmaat_HG_BG)`| `r Round_and_format(py$Som_HG_BG_positief)` | `r Round_and_format(py$Som_HG_BG_negatief)` |\n",
    "| HG vs. SC    | 1,000`r #Round_and_format(py$p_HG_SC)` | `r Round_and_format(py$Effectmaat_HG_SC)`| `r Round_and_format(py$Som_HG_SC_positief)` | `r Round_and_format(py$Som_HG_SC_negatief)` |\n",
    "| HG vs. CC    | 0,046`r #Round_and_format(py$p_HG_CC)` | `r Round_and_format(py$Effectmaat_HG_CC)`| `r Round_and_format(py$Som_HG_CC_positief)` | `r Round_and_format(py$Som_HG_CC_negatief)` |\n",
    "| BG vs. SC    | 0,108`r #Round_and_format(py$p_BG_SC)` | `r Round_and_format(py$Effectmaat_BG_SC)`| `r Round_and_format(py$Som_BG_SC_positief)` | `r Round_and_format(py$Som_BG_SC_negatief)` |\n",
    "| BG vs. CC    | 1,000`r #Round_and_format(py$p_BG_CC)` | `r Round_and_format(py$Effectmaat_BG_CC)`| `r Round_and_format(py$Som_BG_CC_positief)` | `r Round_and_format(py$Som_BG_CC_negatief)` |\n",
    "| SC vs. CC    | 0,013`r #Round_and_format(py$p_SC_CC)` | `r Round_and_format(py$Effectmaat_SC_CC)`| `r Round_and_format(py$Som_SC_CC_positief)` | `r Round_and_format(py$Som_SC_CC_negatief)` |\n",
    "\n",
    "*Tabel 1. Resultaten post-hoc toetsen voor vergelijking hoofdgebouw (HG), bestuursgebouw (BG), sportcentrum (SC) en cultuurcentrum (CC).*\n",
    "<!-- ## /TEKSTBLOK: posthoc6.py -->"
   ]
  },
  {
   "cell_type": "markdown",
   "id": "0471f94f",
   "metadata": {},
   "source": [
    "<!-- ## TEKSTBLOK: posthoc7.py -->\n",
    "De significante verschillen op de post-hoc toetsen zijn:\n",
    "\n",
    "* De beoordelingen van het hoofdgebouw (Som = `r Round_and_format(py$Som_HG_CC_positief)`) verschillen significant van het cultuurcentrum (Som = `r Round_and_format(py$Som_HG_CC_negatief)`), *p* = 0,043`r #Round_and_format(posthoc[2,2])`, *r* = `r Round_and_format(py$Effectmaat_HG_CC)`. De hogere som van rangnummers voor het hoofdgebouw duidt erop dat de beoordelingen van het hoofdgebouw beter zijn dan die van het cultuurcentrum.\n",
    "\n",
    "* De beoordelingen van het sportcentrum (Som = `r Round_and_format(py$Som_SC_CC_positief)`) verschillen significant van het cultuurcentrum (Som = `r Round_and_format(py$Som_SC_CC_negatief)`), *p* = 0,012 `r #Round_and_format(posthoc[3,2])`, *r* = `r Round_and_format(py$Effectmaat_SC_CC)`. De hogere som van rangnummers voor het sportcentrum duidt erop dat de beoordelingen van het sportcentrum beter zijn dan die van het cultuurcentrum.\n",
    "\n",
    "<!-- ## /TEKSTBLOK: posthoc7.py -->\n"
   ]
  },
  {
   "cell_type": "markdown",
   "id": "5dce2620",
   "metadata": {},
   "source": [
    "## Rapportage\n",
    "\n",
    "<!-- ## TEKSTBLOK: rapportage.py -->\n",
    "*Friedman's ANOVA* is uitgevoerd om te onderzoeken of de beoordeling van eetgelegenheden door studenten verschilt voor vier gebouwen op de campus van een hogeschool. De vier gebouwen zijn het hoofdgebouw, het bestuursgebouw, het sportcentrum en cultuurcentrum Rembrandt; beschrijvende statistieken zijn te vinden in Tabel 1. De beoordelingen van de vier gebouwen verschillen significant van elkaar (*&chi;^2^<sub>3</sub>* = `r Round_and_format(py$Chi2)`, *p* = 0,006, *W* = `r Round_and_format(py$W)`). De sterkte van het effect van de verschillen in gebouwen op de beoordelingen van studenten is klein tot gemiddeld.\n",
    "\n",
    "Post-hoc toetsen met een Bonferroni correctie voor meerdere toetsen zijn uitgevoerd voor alle vergelijkingen tussen twee gebouwen. Hieruit blijkt dat er alleen significante verschillen zijn tussen het hoofdgebouw en cultuurcentrum Rembrandt, en tussen het sportcentrum  en cultuurcentrum Rembrandt. De eetgelegenheid van cultuurcentrum Rembrandt wordt slechter beoordeeld dan de eetgelegenheden in het hoofdgebouw en het sportcentrum; verder zijn er geen significante verschillen tussen de beoordelingen van de eetgelegenheden op de campus.\n",
    "<!-- ## /TEKSTBLOK: rapportage.py -->\n"
   ]
  },
  {
   "cell_type": "markdown",
   "id": "3d52057b",
   "metadata": {
    "lines_to_next_cell": 0
   },
   "source": [
    "<!-- ## CLOSEDBLOK: Footer.R -->"
   ]
  },
  {
   "cell_type": "markdown",
   "id": "db527899",
   "metadata": {},
   "source": [
    "<!-- ## /CLOSEDBLOK: Footer.R -->\n",
    "\n",
    "[^1]: Van Geloven, N. (4 oktober 2019). *Friedman toets*. [Wiki Statistiek Academisch Medisch Centrum](https://wikistatistiek.amc.nl/index.php/Friedman_toets). \n",
    "[^2]: Universiteit van Amsterdam (7 juli 2014). *Friedmans ANOVA*. [UvA Wiki Methodologiewinkel](https://wiki.uva.nl/methodologiewinkel/index.php/Friedmans_ANOVA). \n",
    "[^3]: Field, A. (2013). *Discovering statistics using IBM SPSS statistics*. Sage.\n",
    "[^4]: Laerd statistics (2018). *Friedman Test in SPSS Statistics*. https://statistics.laerd.com/spss-tutorials/friedman-test-using-spss-statistics.php. \n",
    "[^5]: Field, A., Miles, J., & Field, Z. (2012). *Discovering statistics using R*. London: Sage publications.\n",
    "[^6]: University of Sheffield. *Friedman test in SPSS*. [Mathematics and Statistics Help (MASH)](https://www.sheffield.ac.uk/polopoly_fs/1.714575!/file/stcp-marshall-FriedmanS.pdf). Bezocht op 13 maart 2020.\n",
    "[^7]: *Kendall's W* wordt berekend door de teststatistiek van *Friedman's ANOVA* (dit is de *&chi;^2^*) te delen door het aantal observatie-eenheden *N* en het aantal groepen *k* minus één, i.e. $W = \\frac{\\chi^2}{N(k-1)}$.\n",
    "[^8]: Kassambara, A. (2020). *rstatix: Pipe-Friendly Framework for Basic Statistical Tests*. [R package version 0.4.0.](https://CRAN.R-project.org/package=rstatix).\n",
    "[^10]: In dit voorbeeld wordt uitgegaan van een waarschijnlijkheid van 95% c.q. een p-waardegrens van 0,05. De grens is naar eigen inzicht aan te passen; houd hierbij rekening met type I en type II fouten.\n",
    "[^11]: De effectmaat *r* wordt voor de [Wilcoxon signed rank toets](07-Wilcoxon-signed-rank-toets-R.html) berekend door de\n",
    "*z*-waarde behorend bij de *p*-waarde van de toets te delen door de wortel van\n",
    "het aantal observatie-eenheden, i.e. $\\frac{z}{\\sqrt{N}}$.\n",
    "[^12]: De breedte van de staven van het histogram worden hier automatisch bepaald, maar kunnen handmatig aangepast worden. Aangezien de breedte van de staven bepalend zijn voor de indruk die de visualisatie geeft, is het verstandig om hier goed op te letten.\n",
    "[^13]: Bij *Friedman's ANOVA* en andere nonparametrische toetsen wordt de data eerst gerangschikt zodat elke observatie een rangnummer toegewezen krijgt. Deze rangnummers worden vervolgens gebruikt om de toets uit te voeren.\n",
    "[^14]: Een ordinale variabele is een categorische variabele waarbij de categorieën geordend kunnen worden. Een voorbeeld is de variabele beoordeling met de categorieën Onvoldoende, Voldoende, Goed en Uitstekend.\n",
    "[^18]: De breedte van de staven van het histogram wordt vaak automatisch bepaald, maar kan handmatig aangepast worden. Aangezien de breedte van de staven bepalend zijn voor de indruk die de visualisatie geeft, is het verstandig om hier goed op te letten.\n"
   ]
  }
 ],
 "metadata": {
  "jupytext": {
   "cell_metadata_filter": "name,echo,tags,include,warning,code,collapse,message,results,-all",
   "main_language": "python",
   "notebook_metadata_filter": "-all"
  },
  "kernelspec": {
   "display_name": "Python 3 (ipykernel)",
   "language": "python",
   "name": "python3"
  },
  "language_info": {
   "codemirror_mode": {
    "name": "ipython",
    "version": 3
   },
   "file_extension": ".py",
   "mimetype": "text/x-python",
   "name": "python",
   "nbconvert_exporter": "python",
   "pygments_lexer": "ipython3",
   "version": "3.10.4"
  }
 },
 "nbformat": 4,
 "nbformat_minor": 5
}
