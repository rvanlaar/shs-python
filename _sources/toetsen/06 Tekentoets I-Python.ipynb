{
 "cells": [
  {
   "cell_type": "raw",
   "id": "eaeb7a12",
   "metadata": {},
   "source": [
    "---\n",
    "title: \"Tekentoets\"\n",
    "output:\n",
    "  html_document:\n",
    "    theme: lumen\n",
    "    toc: yes\n",
    "    toc_depth: 2\n",
    "    toc_float: \n",
    "      collapsed: FALSE \n",
    "    number_sections: true\n",
    "    includes:\n",
    "      in_header: [\"../01. Includes/html/nocache.html\", \"../01. Includes/html/favicon.html\", \"../01. Includes/html/analytics.html\"]\n",
    "  keywords: [statistisch handboek, studiedata]\n",
    "---"
   ]
  },
  {
   "cell_type": "markdown",
   "id": "c9594e89",
   "metadata": {},
   "source": [
    "# Tekentoets"
   ]
  },
  {
   "cell_type": "markdown",
   "id": "00b0a8e0",
   "metadata": {
    "lines_to_next_cell": 0
   },
   "source": [
    "<!-- ## CLOSEDBLOK: Functies.R -->"
   ]
  },
  {
   "cell_type": "markdown",
   "id": "d6340900",
   "metadata": {
    "lines_to_next_cell": 0
   },
   "source": [
    "<!-- ## /OPENBLOK: Data-aanmaken.py -->\n",
    "\n",
    "## Toepassing\n",
    "\n",
    "<!-- ## TEKSTBLOK: Link1.py -->\n",
    "Gebruik de *tekentoets* om de mediaan van een steekproef te vergelijken met een bekende mediaan of norm in een populatie.[^1] Deze toets is een alternatief voor de [one sample t-toets](01-One-sample-t-toets-Python.html) wanneer de data niet normaal verdeeld is. De [Wilcoxon signed rank toets](07-Wilcoxon-signed-rank-toets-I-Python.html) kan ook gebruikt worden om de mediaan van een steekproef te vergelijken met een bekende mediaan. Deze toets heeft een hoger onderscheidend vermogen[^9], maar vereist dat de verdeling van de data symmetrisch is.[^8] De *tekentoets* kan ook gebruikt worden als de verdeling van de data niet symmetrisch is.\n",
    "<!-- ## /TEKSTBLOK: Link1.py -->\n",
    "\n",
    "## Onderwijscasus\n",
    "<div id =\"casus\">\n",
    "De opleidingsdirecteur van de school voor Journalistiek is benieuwd wat alumni verdienen ten opzichte van de gemiddelde Nederlander. Daarom wil zij de jaarinkomens van oud-studenten vergelijken met het mediane jaarinkomen van werknemers in Nederland van €35.200.[^2] Op deze manier vergaart zij meer informatie over het succes op de arbeidsmarkt na de opleiding Journalistiek.\n",
    "\n",
    "Dit onderzoek vertaalt zich in de volgende combinatie van hypothesen, waarbij de nulhypothese zo geformuleerd is dat er geen effect of verschil is en de alternatieve hypothese zo geformuleerd is dat er wel een effect of verschil is.\n",
    "\n",
    "*H<sub>0</sub>*: De mediaan van het jaarinkomen van alumni Journalistiek is gelijk aan €35.200, het mediane jaarinkomen in Nederland.\n",
    "\n",
    "*H<sub>A</sub>*: De mediaan van het jaarinkomen van alumni Journalistiek is niet gelijk aan €35.200, het mediane jaarinkomen in Nederland.\n",
    "</div>\n",
    "\n",
    "## Assumpties\n",
    "\n",
    "Het meetniveau van de variabele is continu.[^10]\n",
    "\n",
    "## Uitvoering\n",
    "<!-- ## TEKSTBLOK: Data-inladen.py -->\n",
    "Er is data ingeladen met jaarlijkse bruto inkomens van alumni van de school voor Journalistiek genaamd `dfJaarlijks_inkomen`. De directeur wil kijken hoe haar oud-studenten scoren ten opzichte van het modale inkomen in Nederland.\n",
    "<!-- ## /TEKSTBLOK: Data-inladen.py -->\n",
    "\n",
    "### De data bekijken\n",
    "<!-- ## TEKSTBLOK: Data-bekijken.py -->\n",
    "Gebruik `<dataframe>.head()` en `<dataframe>.tail()` om de structuur van de data te bekijken.\n",
    "<!-- ## /TEKSTBLOK: Data-bekijken.py -->\n",
    "\n",
    "<!-- ## OPENBLOK: Data-bekijken.py -->"
   ]
  },
  {
   "cell_type": "code",
   "execution_count": null,
   "id": "109adab1",
   "metadata": {},
   "outputs": [],
   "source": [
    "# Pandas library importeren\n",
    "import pandas as pd"
   ]
  },
  {
   "cell_type": "code",
   "execution_count": null,
   "id": "26985fb7",
   "metadata": {
    "tags": [
     "remove_cell"
    ]
   },
   "outputs": [],
   "source": [
    "dfJaarlijks_inkomen = pd.read_csv(\"../data/06_Jaarlijks_inkomen.csv\")"
   ]
  },
  {
   "cell_type": "code",
   "execution_count": null,
   "id": "59082c26",
   "metadata": {
    "include": true
   },
   "outputs": [],
   "source": [
    "# Eerste 6 observaties\n",
    "print(dfJaarlijks_inkomen.head(6))"
   ]
  },
  {
   "cell_type": "code",
   "execution_count": null,
   "id": "2a1d80b6",
   "metadata": {
    "include": true,
    "lines_to_next_cell": 0
   },
   "outputs": [],
   "source": [
    "# Laatste 6 observaties\n",
    "print(dfJaarlijks_inkomen.tail(6))"
   ]
  },
  {
   "cell_type": "markdown",
   "id": "376ba68b",
   "metadata": {
    "lines_to_next_cell": 0
   },
   "source": [
    "<!-- ## /OPENBLOK: Data-bekijken.py -->\n",
    "\n",
    "<!-- ## TEKSTBLOK: Data-beschrijven.py -->\n",
    "Inspecteer de data met `np.mean()`, `np.std()`, `np.median()` en `len()` van het package `numpy` om meer inzicht te krijgen in de data.\n",
    "<!-- ## /TEKSTBLOK: Data-beschrijven.py -->\n",
    "\n",
    "<!-- ## OPENBLOK: Data-beschrijven.py -->"
   ]
  },
  {
   "cell_type": "code",
   "execution_count": null,
   "id": "d4453039",
   "metadata": {
    "collapse": false,
    "lines_to_next_cell": 0,
    "name": "data beschrijven"
   },
   "outputs": [],
   "source": [
    "import numpy as np\n",
    "\n",
    "np.mean(dfJaarlijks_inkomen['Inkomen'])\n",
    "np.std(dfJaarlijks_inkomen['Inkomen'])\n",
    "np.median(dfJaarlijks_inkomen['Inkomen'])\n",
    "len(dfJaarlijks_inkomen['Inkomen'])"
   ]
  },
  {
   "cell_type": "markdown",
   "id": "0a0a4b66",
   "metadata": {
    "lines_to_next_cell": 0
   },
   "source": [
    "<!-- ## /OPENBLOK: Data-beschrijven.py -->\n",
    "<!-- ## CLOSEDBLOK: Data-beschrijven2.py -->"
   ]
  },
  {
   "cell_type": "code",
   "execution_count": null,
   "id": "e41c5ed7",
   "metadata": {
    "echo": true,
    "lines_to_next_cell": 0,
    "name": "Var beschrijven",
    "tags": [
     "remove_cell"
    ]
   },
   "outputs": [],
   "source": [
    "vMean = np.mean(dfJaarlijks_inkomen['Inkomen'])\n",
    "vSD = np.std(dfJaarlijks_inkomen['Inkomen'])\n",
    "vMed = np.median(dfJaarlijks_inkomen['Inkomen'])\n",
    "vN = len(dfJaarlijks_inkomen['Inkomen'])\n"
   ]
  },
  {
   "cell_type": "markdown",
   "id": "8ba3a805",
   "metadata": {
    "lines_to_next_cell": 0
   },
   "source": [
    "<!-- ## /CLOSEDBLOK: Data-beschrijven2.py -->\n",
    "\n",
    "<!-- ## TEKSTBLOK: Datatekst-beschrijven2.py -->\n",
    "Het gemiddelde jaarinkomen van de alumni is `r paste(\"€\", Round_and_format_0decimals(py$vMean), sep=\"\")` met een standaardafwijking van `r paste(\"€\", Round_and_format(py$vSD), sep=\"\")` (*n* = `r py$vN`). De mediaan van het inkomen is `r paste(\"€\", Round_and_format_0decimals(py$vMed), sep=\"\")`.\n",
    "<!-- ## /TEKSTBLOK: Datatekst-beschrijven2.py -->\n",
    "\n",
    "### De data visualiseren\n",
    "\n",
    "Visualiseer de data om een goed beeld van de jaarinkomens van de alumni te krijgen. Geef de verdeling van de data weer in een histogram[^18]. Focus bij het analyseren van een histogram op de symmetrie van de verdeling, de hoeveelheid toppen (modaliteit) en mogelijke uitbijters.[^6]<sup>, </sup>[^7]\n",
    "\n",
    "<!-- ## OPENBLOK: Histogram.py -->"
   ]
  },
  {
   "cell_type": "code",
   "execution_count": null,
   "id": "e056b27c",
   "metadata": {
    "lines_to_next_cell": 0,
    "name": "histogram"
   },
   "outputs": [],
   "source": [
    " ## Histogram met matplotlib\n",
    "import matplotlib.pyplot as plt\n",
    "hist = plt.hist(dfJaarlijks_inkomen['Inkomen'], density = True, edgecolor = \"black\", bins = 9)\n",
    "title = plt.title(\"Jaarinkomen alumni Journalistiek\")\n",
    "xlab = plt.xlabel(\"Jaarlijks inkomen\")\n",
    "ylab = plt.ylabel(\"Frequentiedichtheid\")\n",
    "plt.show()\n"
   ]
  },
  {
   "cell_type": "markdown",
   "id": "b9bef9d7",
   "metadata": {
    "lines_to_next_cell": 0
   },
   "source": [
    "<!-- ## /OPENBLOK: Histogram.py -->\n",
    "\n",
    "<!-- ## TEKSTBLOK: Link3.py -->\n",
    "De verdeling heeft één top en geen uitbijters. De histogram laat echter ook zien dat de verdeling een langere staart aan de rechterkant heeft en dus enigszins afwijkt van de (symmetrische) normaalverdeling. Aangezien de verdeling niet symmetrisch is, kan de [Wilcoxon signed rank toets](07-Wilcoxon-signed-rank-toets-I-Python.html) niet gebruikt worden om een hypothese over de mediaan te toetsen.\n",
    "<!-- ## /TEKSTBLOK: Link3.py -->\n",
    "\n",
    "## Tekentoets \n",
    "\n",
    "<!-- ## TEKSTBLOK: Tekentoets0.py -->\n",
    "Voer een tweezijdige *tekentoets* uit om te bepalen of het mediane jaarinkomen van de alumni Journalistiek hoger ligt dan het modale inkomen van €36.000. Gebruik van het `scipy.stats` package de functie `binom_test()` met de argumenten `x = Boven_mediaan` dat het aantal alumni aangeeft dat meer dan normaal verdient, `n = Aantal_observaties` dat het totaal aantal alumni aangeeft, `p = 0.5` om de nulhypothese aan te geven en `alternative = 'two-sided'` om een tweezijdige alternatieve hypothese te toetsen. De nulhypothese stelt dat er geen verschil is met de opgestelde mediaan van €36.000 wat betekent dat (ongeveer) de helft van de alumni meer dan dit bedrag en de helft van de alumni minder dan dit bedrag verdienen. Vandaar dat de nulhypothese aangegeven kan worden door de verwachte proportie `p` gelijk te stellen aan `0.5`.\n",
    "<!-- ## /TEKSTBLOK: Tekentoets0.py -->\n",
    "\n",
    "<!-- ## OPENBLOK: Tekentoets.py -->"
   ]
  },
  {
   "cell_type": "code",
   "execution_count": null,
   "id": "472efc0f",
   "metadata": {
    "lines_to_next_cell": 0,
    "name": "Tekentoets"
   },
   "outputs": [],
   "source": [
    "import scipy.stats as sps\n",
    "\n",
    "# Bereken het aantal observaties met hbo vooropleiding\n",
    "Boven_mediaan = sum(dfJaarlijks_inkomen['Inkomen'] > 36000)\n",
    "\n",
    "# Bereken het totaal aantal observaties\n",
    "Aantal_observaties = len(dfJaarlijks_inkomen['Inkomen'])\n",
    "\n",
    "# Voer de binomiaaltoets uit\n",
    "sps.binom_test(x = Boven_mediaan, n = Aantal_observaties, p = 0.5, alternative = 'two-sided')\n",
    "\n",
    "# Bereken de proportie studenten met een hbo vooropleiding\n",
    "Proportie_boven_mediaan = Boven_mediaan / Aantal_observaties\n",
    "\n",
    "print(Proportie_boven_mediaan)\n"
   ]
  },
  {
   "cell_type": "markdown",
   "id": "62523ed8",
   "metadata": {},
   "source": [
    "<!-- ## /OPENBLOK: Tekentoets.py -->\n",
    "\n",
    "<!-- ## CLOSEDBLOK: Tekentoets.py -->\n",
    "<!-- ## /CLOSEDBLOK: Tekentoets.py -->\n",
    "\n",
    "<!-- ## TEKSTBLOK: Tekentoets.py -->\n",
    "* De mediaan van de steekproef is significant verschillend van €36.000, *p* < 0,0001. De nulhypothese kan worden verworpen. [^5]\n",
    "* Van de `r py$Aantal_observaties` alumni verdienen `r py$Boven_mediaan` alumni boven modaal\n",
    "* De geschatte mediaan van de steekproef is `r paste(\"€\", Round_and_format_0decimals(py$vMed), sep=\"\")` \n",
    "\n",
    "<!-- ## /TEKSTBLOK: Tekentoets.py -->"
   ]
  },
  {
   "cell_type": "markdown",
   "id": "88b0bd81",
   "metadata": {
    "lines_to_next_cell": 0
   },
   "source": [
    "## Rapportage\n",
    "\n",
    "<!-- ## TEKSTBLOK: Rapportage.py -->\n",
    "De *tekentoets* is uitgevoerd om te toetsen of het mediane inkomen van alumni van de opleiding Journalistiek veschilt van het modale inkomen in Nederland van €36.000. Het mediane inkomen van alumni verschilt significant van €36.000 (*p* < 0,0001). De geschatte mediaan van de alumni-inkomens is `r paste(\"€\", Round_and_format_0decimals(py$vMed), sep=\"\")`. Van de `r py$Aantal_observaties` alumni verdienen `r py$Boven_mediaan` alumni boven modaal. Deze resultaten duiden op een verschil tussen het mediane jaarinkomen van alumni van de opleiding Journalistiek en het mediane jaarinkomen van de gemiddelde Nederlander waarbij de inkomens van de alumni hoger lijken te liggen.\n",
    "<!-- ## /TEKSTBLOK: Rapportage.py -->\n",
    "\n",
    "<!-- ## CLOSEDBLOK: Footer.R -->"
   ]
  },
  {
   "cell_type": "markdown",
   "id": "14c4dfb5",
   "metadata": {},
   "source": [
    "<!-- ## /CLOSEDBLOK: Footer.R -->\n",
    "\n",
    "[^1]: Van Geloven, N. (25 mei 2016). *Tekentoets* [Wiki Statistiek Academisch Medisch Centrum](https://wikistatistiek.amc.nl/index.php/Tekentoets). \n",
    "[^2]: Doorsnee inkomen werkenden al 10 jaar vrijwel constant (22 maart 2019). [Centraal Bureau voor de Statistiek](https://www.cbs.nl/nl-nl/nieuws/2019/12/doorsnee-inkomen-werkenden-al-10-jaar-vrijwel-constant)\n",
    "[^5]: In dit voorbeeld wordt uitgegaan van een waarschijnlijkheid van 95% c.q. een p-waardegrens van 0,05. De grens is naar eigen inzicht aan te passen; houd hierbij rekening met type I en type II fouten.\n",
    "[^6]: Outliers (13 augustus 2016). [UvA Wiki Methodologiewinkel](https://wiki.uva.nl/methodologiewinkel/index.php/Outliers).\n",
    "[^7]: Uitbijters kunnen bepalend zijn voor de uitkomst van toetsen. Bekijk of de uitbijters valide uitbijters zijn en niet een meetfout of op een andere manier incorrect verkregen data. Het weghalen van uitbijters kan de uitkomst ook vertekenen, daarom is het belangrijk om verwijderde uitbijters te melden in een rapport.\n",
    "[^8]: Statistics How To (27 mei 2018). *One Sample Median Test*. [Statistics How to](https://www.statisticshowto.datasciencecentral.com/one-sample-median-test/).\n",
    "[^9]: Onderscheidend vermogen, in het Engels power genoemd, is de kans dat de nulhypothese verworpen wordt wanneer de alternatieve hypothese waar is.\n",
    "[^10]: Miller, I. & Miller, C. (2012). *John E. Freund's Mathematical Statistics with Applications*. Pearson: eighth edition.\n",
    "[^18]: De breedte van de staven van het histogram wordt vaak automatisch bepaald, maar kan handmatig aangepast worden. Aangezien de breedte van de staven bepalend zijn voor de indruk die de visualisatie geeft, is het verstandig om hier goed op te letten."
   ]
  }
 ],
 "metadata": {
  "jupytext": {
   "cell_metadata_filter": "include,results,warning,tags,collapse,name,echo,code,message,-all",
   "main_language": "python",
   "notebook_metadata_filter": "-all"
  },
  "kernelspec": {
   "display_name": "Python 3 (ipykernel)",
   "language": "python",
   "name": "python3"
  },
  "language_info": {
   "codemirror_mode": {
    "name": "ipython",
    "version": 3
   },
   "file_extension": ".py",
   "mimetype": "text/x-python",
   "name": "python",
   "nbconvert_exporter": "python",
   "pygments_lexer": "ipython3",
   "version": "3.10.4"
  }
 },
 "nbformat": 4,
 "nbformat_minor": 5
}
