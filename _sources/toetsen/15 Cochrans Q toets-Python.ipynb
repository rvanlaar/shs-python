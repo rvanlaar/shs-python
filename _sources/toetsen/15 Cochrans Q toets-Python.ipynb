{
 "cells": [
  {
   "cell_type": "raw",
   "id": "44d02343",
   "metadata": {},
   "source": [
    "---\n",
    "title: \"Cochran's Q toets\"\n",
    "output:\n",
    "  html_document:\n",
    "    theme: lumen\n",
    "    toc: yes\n",
    "    toc_depth: 2\n",
    "    toc_float: \n",
    "      collapsed: FALSE \n",
    "    number_sections: true\n",
    "  keywords: [statistisch handboek, studiedata]\n",
    "---"
   ]
  },
  {
   "cell_type": "markdown",
   "id": "9f4f5159",
   "metadata": {},
   "source": [
    "# Cochran's Q toets"
   ]
  },
  {
   "cell_type": "markdown",
   "id": "7cf0cc48",
   "metadata": {
    "lines_to_next_cell": 0
   },
   "source": [
    "<!-- ## CLOSEDBLOK: Functies.R -->"
   ]
  },
  {
   "cell_type": "markdown",
   "id": "6ec7cd46",
   "metadata": {},
   "source": [
    "<!-- ## /OPENBLOK: Data-aanmaken.py -->\n",
    "\n",
    "## Toepassing\n",
    "\n",
    "Gebruik *Cochran's Q toets* om te toetsen of er verschillen zijn op een binaire variabele[^1] tussen drie of meer herhaalde metingen van één groep of tussen drie of meer gepaarde groepen.[^2] "
   ]
  },
  {
   "cell_type": "markdown",
   "id": "b3bc0c13",
   "metadata": {},
   "source": [
    "## Onderwijscasus\n",
    "<div id = \"casus\">\n",
    "De opleidingsdirecteur van de bacheloropleiding Kunstmatige Intelligentie van een universiteit merkt dat er tijdens het eerste studiejaar veel studenten zijn die niet alle vakken voldoende afsluiten. Hij wil uitvinden in welke onderwijsperiode dit vooral plaatsvindt om te onderzoeken waardoor de studievertraging veroorzaakt wordt. Op deze universiteit bestaat het eerste jaar uit vier onderwijsperiodes. Daarom vraagt hij studieresultaten op van eerstejaars studenten uit het vorige collegejaar die niet zijn uitgevallen gedurende dat jaar. Met deze resultaten wil hij onderzoeken of er een effect is van de onderwijsperiodes op het wel of niet hebben van herkansingen voor de eerstejaars studenten.\n",
    "\n",
    "Dit onderzoek vertaalt zich in de volgende combinatie van hypothesen, waarbij de nulhypothese zo geformuleerd is dat er geen effect of verschil is en de alternatieve hypothese zo geformuleerd is dat er wel een effect of verschil is.\n",
    "\n",
    "*H<sub>0</sub>*: Er is geen effect van de onderwijsperiode op het wel of niet hebben van herkansingen voor eerstejaars studenten.\n",
    "\n",
    "*H<sub>A</sub>*: Er is een effect van de onderwijsperiode op het wel of niet hebben van herkansingen voor eerstejaars studenten.\n",
    "</div>\n",
    "\n",
    "## Assumpties\n",
    "\n",
    "Om *Cochran's Q toets* uit te voeren, moeten de data aan een aantal voorwaarden voldoen. Er dient een categorische afhankelijke variabele te zijn met twee categorieën zonder overlap: elke observatie past slechts in een van beide categorieën. Daarnaast zijn er drie of meer herhaalde metingen van één groep of zijn er drie of meer gepaarde groepen. In beide gevallen zijn de deelnemers[^11] een willekeurige steekproef van de populatie.[^3]\n",
    "\n",
    "*Cochran's Q toets* is te gebruiken wanneer het product van het aantal deelnemers en het aantal herhaalde metingen groter dan of gelijk aan 24 is.[^4] Gebruik de exacte versie van *Cochran's Q toets* wanneer dit niet het geval is.[^5]\n",
    "\n",
    "## Post-hoc toetsen\n",
    "\n",
    "<!-- ## TEKSTBLOK: PH1.py -->\n",
    "*Cochran's Q toets* toetst of er verschillen zijn tussen een percentage op drie of meer herhaalde metingen. Voer een post-hoc toets uit om te bepalen welke metingen van elkaar verschillen. Gebruik de [McNemar toets](12-McNemar-toets-Python.html) of de exacte [McNemar toets](12-McNemar-toets-Python.html) als post-hoc toets.[^6]\n",
    "<!-- ## /TEKSTBLOK: PH1.py -->\n",
    "\n",
    "Gebruik een correctie voor de p-waarden, omdat er meerdere toetsen tegelijkertijd worden gebruikt. Meerdere toetsen tegelijkertijd uitvoeren verhoogt de kans dat een van de nulhypotheses onterecht wordt verworpen en er bij toeval een verband wordt ontdekt dat er niet is (type I fout). In deze toetspagina wordt de *Bonferroni correctie* gebruikt. Deze correctie past de p-waarde aan door de p-waarde te vermenigvuldigen met het aantal uitgevoerde toetsen en verlaagt hiermee de kans op een type I fout.[^9] Een andere uitleg hiervan is dat het significantieniveau gedeeld wordt door het aantal toetsen wat leidt tot een lager significantieniveau en dus een strengere toets. Er zijn ook andere opties voor een correctie op de p-waarden.[^9]"
   ]
  },
  {
   "cell_type": "markdown",
   "id": "c714511e",
   "metadata": {
    "lines_to_next_cell": 0
   },
   "source": [
    "## De data bekijken\n",
    "<!-- ## TEKSTBLOK: Data-bekijken1.py -->\n",
    "Er is een dataset ingeladen genaamd `dfHerkansingen_kunstmatige_intelligentie`. In deze dataset is per onderwijsperiode aangegeven of een student wel of geen herkansingen heeft gemaakt.\n",
    "<!-- ## /TEKSTBLOK: Data-bekijken1.py -->\n",
    "\n",
    "<!-- ## OPENBLOK: Data-bekijken2.py -->"
   ]
  },
  {
   "cell_type": "code",
   "execution_count": null,
   "id": "11c0f657",
   "metadata": {
    "echo": true,
    "lines_to_next_cell": 0,
    "tags": [
     "remove_cell"
    ]
   },
   "outputs": [],
   "source": [
    "import pandas as pd\n",
    "\n",
    "df = pd.read_csv(\"../data/15_Herkansingen_kunstmatige_intelligentie.csv\")\n",
    "dfHerkansingen_kunstmatige_intelligentie = df.loc[:, ~df.columns.str.contains('^Unnamed')]"
   ]
  },
  {
   "cell_type": "code",
   "execution_count": null,
   "id": "beccc8c1",
   "metadata": {
    "lines_to_next_cell": 0
   },
   "outputs": [],
   "source": [
    "## Importeer nuttige packages\n",
    "import numpy as np\n",
    "\n",
    "## Eerste 5 observaties\n",
    "print(dfHerkansingen_kunstmatige_intelligentie.head(5))"
   ]
  },
  {
   "cell_type": "code",
   "execution_count": null,
   "id": "58a56886",
   "metadata": {
    "lines_to_next_cell": 0
   },
   "outputs": [],
   "source": [
    "## Laatste 5 observaties\n",
    "print(dfHerkansingen_kunstmatige_intelligentie.tail(5))"
   ]
  },
  {
   "cell_type": "markdown",
   "id": "f6024ada",
   "metadata": {
    "lines_to_next_cell": 0
   },
   "source": [
    "<!-- ## /OPENBLOK: Data-bekijken2.py -->\n",
    "\n",
    "<!-- ## TEKSTBLOK: Data-kruistabel1.py -->\n",
    "Een kruistabel geeft weer hoeveel eerstejaars studenten wel of geen herkansingen hebben in de vier onderwijsperiodes. Maak de kruistabel met de functie `.crosstab()` van het package `pandas` met als argumenten de variabele `dfHerkansingen_kunstmatige_intelligentie['Herkansingen']` die aangeeft of eerstejaars studenten wel of geen herkansing hebben en de variabele `dfHerkansingen_kunstmatige_intelligentie['Onderwijsperiode']` die aangeeft in welke onderwijsperiode een observatie is gedaan.\n",
    "\n",
    "<!-- ## /TEKSTBLOK: Data-kruistabel1.py -->\n",
    "\n",
    "<!-- ## OPENBLOK: Data-kruistabel2.py -->"
   ]
  },
  {
   "cell_type": "code",
   "execution_count": null,
   "id": "93ed15dd",
   "metadata": {
    "lines_to_next_cell": 0,
    "name": "kruistabel"
   },
   "outputs": [],
   "source": [
    "## Maak een kruistabel\n",
    "Herkansingen_kruistabel = pd.crosstab(dfHerkansingen_kunstmatige_intelligentie['Herkansingen'], dfHerkansingen_kunstmatige_intelligentie['Onderwijsperiode'])\n",
    "\n",
    "## Print de kruistabel \n",
    "print(Herkansingen_kruistabel)\n",
    "\n",
    "## Print een tabel met proporties, tweede argument 'columns' zorgt ervoor dat de \n",
    "## proporties per kolom berekend worden\n",
    "Prop_Herkansingen_kruistabel =  pd.crosstab(dfHerkansingen_kunstmatige_intelligentie['Herkansingen'], dfHerkansingen_kunstmatige_intelligentie['Onderwijsperiode'], normalize = 'columns')\n",
    "\n",
    "## Print de tabel met proporties\n",
    "print(Prop_Herkansingen_kruistabel)"
   ]
  },
  {
   "cell_type": "markdown",
   "id": "f026364e",
   "metadata": {
    "lines_to_next_cell": 0
   },
   "source": [
    "<!-- ## /OPENBLOK: Data-kruistabel2.py -->\n",
    "\n",
    "<!-- ## CLOSEDBLOK: Data-kruistabel3.py -->\n",
    "\n",
    "<!-- ## /CLOSEDBLOK: Data-kruistabel3.py -->\n",
    "\n",
    "<!-- ## TEKSTBLOK: Data-kruistabel4.py -->\n",
    "De kruistabel en bijbehorende tabel met proporties laten zien dat het aantal eerstejaars studenten dat een herkansing doet in onderwijsperiode 1 (`r py$Herkansingen_kruistabel[1,1]`) relatief laag is en relatief hoog is in onderwijsperiode 2 (`r py$Herkansingen_kruistabel[1,2]`). Onderwijsperiode 3 en 4 (`r py$Herkansingen_kruistabel[1,3]` en `r py$Herkansingen_kruistabel[1,4]`) zitten qua aantal herkansende eerstejaars studenten ertussenin.\n",
    "<!-- ## /TEKSTBLOK: Data-kruistabel4.py -->\n",
    "\n",
    "## Uitvoering\n",
    "\n",
    "### Assumptie steekproefgrootte\n",
    "\n",
    "Een assumptie van *Cochran's Q toets* is dat het product van het aantal deelnemers en het aantal herhaalde metingen groter dan of gelijk is aan 24. In deze casus gaat het om het product van het aantal eerstejaars studenten en het aantal onderwijsperiodes. Toets deze assumpties door dit product te berekenen.\n",
    "\n",
    "<!-- ## OPENBLOK: steekproefgrootte1.py -->"
   ]
  },
  {
   "cell_type": "code",
   "execution_count": null,
   "id": "cea83b21",
   "metadata": {
    "lines_to_next_cell": 0,
    "name": "data bekijken 2"
   },
   "outputs": [],
   "source": [
    "# Bereken het aantal eerstejaars studenten\n",
    "N = len(set(dfHerkansingen_kunstmatige_intelligentie['Studentnummer']))\n",
    "\n",
    "# Bereken het aantal onderwijsperiodes\n",
    "k = len(set(dfHerkansingen_kunstmatige_intelligentie['Onderwijsperiode']))\n",
    "\n",
    "# Bereken het product van beide\n",
    "Product = N * k\n",
    "\n",
    "# Print het resultaat\n",
    "print(Product)"
   ]
  },
  {
   "cell_type": "markdown",
   "id": "fb670122",
   "metadata": {},
   "source": [
    "<!-- ## /OPENBLOK: steekproefgrootte1.py -->\n",
    "\n",
    "<!-- ## TEKSTBLOK: steekproefgrootte2.py -->\n",
    "Het product van het aantal eerstejaars studenten en het aantal onderwijsperiodes is `r py$Product`. Aangezien dit aantal groter dan 24 is, is aan de assumptie wat betreft de steekproefgrootte voldaan.\n",
    "<!-- ## /TEKSTBLOK: steekproefgrootte2.py -->"
   ]
  },
  {
   "cell_type": "markdown",
   "id": "d993d1bb",
   "metadata": {
    "lines_to_next_cell": 0
   },
   "source": [
    "### Cochran's Q toets\n",
    "<!-- ## TEKSTBLOK: Cochran1.py -->\n",
    "Voer *Cochran's Q toets* uit om te onderzoeken of er effect is van de onderwijsperiodes op het wel of niet hebben van herkansingen van eerstejaars studenten van de bachelor Kunstmatige Intelligentie. Maak eerst een numerieke variabele voor de variabele Herkansingen met de functie `np.where()` van het package `numpy`. Zet daarna de dataset om in een wijd formaat met behulp van de functie `pd.pivot_table()` van het package `pandas`. Op deze manier ontstaat een nieuwe dataset `dfHerkansingen_kunstmatige_intelligentie_wijd` met in de eerste kolom de studentnummers en in de tweede kolom een numerieke indicator die aangeeft of de student wel of geen herkansing heeft in onderwijsperiode 1 waarbij de variabele de waarde 1 heeft als de student wel een herkansing heeft en de waarde 0 heeft als de student geen herkansing heeft. De kolommen 3, 4 en 5 zijn hetzelfde als kolom 2, maar dan voor onderwijsperiode 2, 3 en 4.\n",
    "\n",
    "Voer ten slotte *Cochran's Q toets* uit met behulp van de functie `sms.contingency_tables.cochrans_q()` van het package `statsmodels.stats` met als argumenten de wijde dataset `dfHerkansingen_kunstmatige_intelligentie_wijd` en `return_object = True` om de output overzichtelijk weer te geven.\n",
    "<!-- ## /TEKSTBLOK: Cochran1.py -->\n",
    "\n",
    "<!-- ## OPENBLOK: Cochran2.py -->"
   ]
  },
  {
   "cell_type": "code",
   "execution_count": null,
   "id": "ca90253f",
   "metadata": {
    "lines_to_next_cell": 0,
    "name": "cochran"
   },
   "outputs": [],
   "source": [
    "from statsmodels import api\n",
    "\n",
    "## Maak numeriek\n",
    "dfHerkansingen_kunstmatige_intelligentie['Herkansingen_dummy'] = np.where(dfHerkansingen_kunstmatige_intelligentie['Herkansingen'] == 'ja', 1, 0)\n",
    "\n",
    "## Maak dataset wijd\n",
    "dfHerkansingen_kunstmatige_intelligentie_wijd = pd.pivot_table(data = dfHerkansingen_kunstmatige_intelligentie, index='Studentnummer', columns='Onderwijsperiode', values='Herkansingen_dummy')\n",
    "\n",
    "# Voer Cochran's Q toets uit\n",
    "Cochrans_Q  = api.stats.cochrans_q(dfHerkansingen_kunstmatige_intelligentie_wijd, return_object = True)\n",
    "print(Cochrans_Q)\n"
   ]
  },
  {
   "cell_type": "markdown",
   "id": "6a038bcf",
   "metadata": {
    "lines_to_next_cell": 0
   },
   "source": [
    "<!-- ## /OPENBLOK: Cochran2.py -->\n",
    "\n",
    "<!-- ## CLOSEDBLOK: Cochran3.py -->"
   ]
  },
  {
   "cell_type": "code",
   "execution_count": null,
   "id": "a4a7e543",
   "metadata": {
    "echo": true,
    "lines_to_next_cell": 0,
    "tags": [
     "remove_cell"
    ]
   },
   "outputs": [],
   "source": [
    "## Maak numeriek\n",
    "dfHerkansingen_kunstmatige_intelligentie['Herkansingen_dummy'] = np.where(dfHerkansingen_kunstmatige_intelligentie['Herkansingen'] == 'ja', 1, 0)\n",
    "\n",
    "## Maak dataset wijd\n",
    "dfHerkansingen_kunstmatige_intelligentie_wijd = pd.pivot_table(data = dfHerkansingen_kunstmatige_intelligentie, index='Studentnummer', columns='Onderwijsperiode', values='Herkansingen_dummy')\n",
    "\n",
    "# Voer Cochran's Q toets uit\n",
    "stat, pval, df  = api.stats.cochrans_q(dfHerkansingen_kunstmatige_intelligentie_wijd, return_object = False)\n"
   ]
  },
  {
   "cell_type": "markdown",
   "id": "8fcfbd03",
   "metadata": {},
   "source": [
    "<!-- ## /CLOSEDBLOK: Cochran3.py -->\n",
    "\n",
    "<!-- ## TEKSTBLOK: Cochran4.py -->\n",
    "* Q (`r py$df`, *N* = `r py$N`) = `r Round_and_format(py$stat)`, *p* = `r Round_and_format(py$pval, 3)`\n",
    "* Aantal vrijheidsgraden is gelijk aan aantal herhaalde metingen minus één, in deze casus `r py$k` - 1 = `r py$df`\n",
    "* De p-waarde is kleiner dan 0,05, dus de H<sub>0</sub> wordt verworpen.[^10]\n",
    "* Er is een significant effect van de vier onderwijsperiodes op het wel of niet hebben van herkansingen van eerstejaars studenten van de bachelor Kunstmatige Intelligentie\n",
    "\n",
    "<!-- ## /TEKSTBLOK: Cochran4.py -->"
   ]
  },
  {
   "cell_type": "markdown",
   "id": "c4a6c507",
   "metadata": {
    "lines_to_next_cell": 0
   },
   "source": [
    "### Post-hoc toets\n",
    "\n",
    "<!-- ## TEKSTBLOK: posthoc1.py -->\n",
    "Voer post-hoc toetsen uit om te onderzoeken tussen welke onderwijsperiodes er verschillen zijn in de verdeling van de eerstejaars studenten die wel of geen herkansingen hebben. Gebruik de [McNemar toets](12-McNemar-toets-Python.html) als post-hoc toets. Maak eerst een aparte variabele aan voor iedere onderwijsperiode waarin is aangegeven of een student wel of geen herkansing heeft gehad in die periode. Gebruik daarna om een [McNemar toets](12-McNemar-toets-Python.html) uit te voeren de zelfgeschreven[^12] functie `McNemar_toets()` met als argumenten de te vergelijken onderwijsperiodes (bijvoorbeeld `P1` en `P2`) en het argument `'mid'` om aan te geven dat de *mid p-value* methode gebruikt moet worden. \n",
    "\n",
    "Voer de [McNemar toets](12-McNemar-toets-Python.html) uit voor alle zes de combinaties van onderwijsperiodes. Hiervoor is het nodig om handmatig een correctie uit te voeren voor meerdere toetsen. Voer de Bonferroni correctie uit door het significantieniveau te delen door het aantal uitgevoerde toetsen. Het significatieniveau voor deze post-hoc toetsen wordt dan 0,05 / 6 ≈ 0,008. Vergelijk de p-waarden van de [McNemar toetsen](12-McNemar-toets-Python.html) daarna met dit significantieniveau.\n",
    "<!-- ## /TEKSTBLOK: posthoc1.py -->\n",
    "\n",
    "<!-- ## OPENBLOK: posthoc2.py -->"
   ]
  },
  {
   "cell_type": "code",
   "execution_count": null,
   "id": "a81279e2",
   "metadata": {
    "lines_to_next_cell": 0,
    "name": "mcnemar"
   },
   "outputs": [],
   "source": [
    "## Importeer het package scipy.stats\n",
    "import scipy.stats as sps\n",
    "import numpy as np\n",
    "import pandas as pd\n",
    "\n",
    "## Maak voor elke onderwijsperiode een variabele\n",
    "P1 = np.array(dfHerkansingen_kunstmatige_intelligentie_wijd[1])\n",
    "P2 = np.array(dfHerkansingen_kunstmatige_intelligentie_wijd[2])\n",
    "P3 = np.array(dfHerkansingen_kunstmatige_intelligentie_wijd[3])\n",
    "P4 = np.array(dfHerkansingen_kunstmatige_intelligentie_wijd[4])\n",
    "\n",
    "## Maak een frequentiematrix\n",
    "\n",
    "## Definieer een functie om de mid p-waarde of de exacte p-waarde voor de McNemar toets te berekenen\n",
    "def McNemar_toets(Variabele_1, Variabele_2, p_waarde):\n",
    "  \n",
    "  ## Maak een frequentiematrix\n",
    "  Frequentiematrix =  np.array(pd.crosstab(Variabele_1, Variabele_2))\n",
    "\n",
    "  ## Sla de niet-diagonale elementen op\n",
    "  n12 = Frequentiematrix[0,1]\n",
    "  n21 = Frequentiematrix[1,0]\n",
    "  \n",
    "  ## Bereken de som van de niet-diagonale elementen\n",
    "  n = n12 + n21\n",
    "  \n",
    "  ## Bepaal het minimum van beide niet-diagonale elementen \n",
    "  n_min = min(n12,n21)\n",
    "  \n",
    "  ## Bereken de p-waarde als beide elementen gelijk zijn\n",
    "  if n12 == n21:\n",
    "    exact_p_value\n",
    "    mid_p_value = 1 - sps.binom.pmf(n_min, n, 0.5)\n",
    "\n",
    "  ## Bereken de p-waarde als beide elementen niet gelijk zijn\n",
    "  else:\n",
    "    exact_p_value = 2 * sps.binom.cdf(n_min, n, 0.5)\n",
    "    mid_p_value = exact_p_value - sps.binom.pmf(n_min, n, 0.5)\n",
    "  \n",
    "  ## Retourneer de juiste p-waarde op basis van de gekozen methode\n",
    "  if p_waarde == 'exact':\n",
    "    return exact_p_value\n",
    "  if p_waarde == 'mid':\n",
    "    return mid_p_value\n",
    "\n",
    "## Voer de McNemar toets uit voor elke combinatie van onderwijsperiodes\n",
    "print(McNemar_toets(P1, P2, 'mid'))\n",
    "print(McNemar_toets(P1, P3, 'mid'))\n",
    "print(McNemar_toets(P1, P4, 'mid'))\n",
    "print(McNemar_toets(P2, P3, 'mid'))\n",
    "print(McNemar_toets(P2, P4, 'mid'))\n",
    "print(McNemar_toets(P3, P4, 'mid'))"
   ]
  },
  {
   "cell_type": "markdown",
   "id": "9230e3e3",
   "metadata": {
    "lines_to_next_cell": 0
   },
   "source": [
    "<!-- ## /OPENBLOK: posthoc2.py -->\n",
    "\n",
    "<!-- ## CLOSEDBLOK: posthoc3.py -->"
   ]
  },
  {
   "cell_type": "code",
   "execution_count": null,
   "id": "22c181a9",
   "metadata": {
    "echo": true,
    "lines_to_next_cell": 0,
    "tags": [
     "remove_cell"
    ]
   },
   "outputs": [],
   "source": [
    "## Importeer het package scipy.stats\n",
    "import scipy.stats as sps\n",
    "import numpy as np\n",
    "import pandas as pd\n",
    "\n",
    "P1 = np.array(dfHerkansingen_kunstmatige_intelligentie_wijd[1])\n",
    "P2 = np.array(dfHerkansingen_kunstmatige_intelligentie_wijd[2])\n",
    "P3 = np.array(dfHerkansingen_kunstmatige_intelligentie_wijd[3])\n",
    "P4 = np.array(dfHerkansingen_kunstmatige_intelligentie_wijd[4])\n",
    "\n",
    "## Maak een frequentiematrix\n",
    "\n",
    "## Definieer een functie om de mid p-waarde of de exacte p-waarde voor de McNemar toets te berekenen\n",
    "def McNemar_toets(Variabele_1, Variabele_2, p_waarde):\n",
    "  \n",
    "  ## Maak een frequentiematrix\n",
    "  Frequentiematrix =  np.array(pd.crosstab(Variabele_1, Variabele_2))\n",
    "\n",
    "  ## Sla de niet-diagonale elementen op\n",
    "  n12 = Frequentiematrix[0,1]\n",
    "  n21 = Frequentiematrix[1,0]\n",
    "  \n",
    "  ## Bereken de som van de niet-diagonale elementen\n",
    "  n = n12 + n21\n",
    "  \n",
    "  ## Bepaal het minimum van beide niet-diagonale elementen \n",
    "  n_min = min(n12,n21)\n",
    "  \n",
    "  ## Bereken de p-waarde als beide elementen gelijk zijn\n",
    "  if n12 == n21:\n",
    "    exact_p_value\n",
    "    mid_p_value = 1 - sps.binom.pmf(n_min, n, 0.5)\n",
    "\n",
    "  ## Bereken de p-waarde als beide elementen niet gelijk zijn\n",
    "  else:\n",
    "    exact_p_value = 2 * sps.binom.cdf(n_min, n, 0.5)\n",
    "    mid_p_value = exact_p_value - sps.binom.pmf(n_min, n, 0.5)\n",
    "  \n",
    "  ## Retourneer de juiste p-waarde op basis van de gekozen methode\n",
    "  if p_waarde == 'exact':\n",
    "    return exact_p_value\n",
    "  if p_waarde == 'mid':\n",
    "    return mid_p_value\n",
    "\n",
    "## Voer de McNemar toets uit voor elke combinatie van onderwijsperiodes\n",
    "Pval_P1_P2 = McNemar_toets(P1, P2, 'mid')"
   ]
  },
  {
   "cell_type": "markdown",
   "id": "9155dc3a",
   "metadata": {},
   "source": [
    "<!-- ## /CLOSEDBLOK: posthoc3.py -->\n",
    "\n",
    "<!-- ## TEKSTBLOK: posthoc4.py -->\n",
    "* Er is een significant verschil gevonden in de verdeling van eerstejaars studenten wat betreft herkansingen  tussen onderwijsperiode 1 en onderwijsperiode 2 (*p* = `r Round_and_format(py$Pval_P1_P2, 3)`)\n",
    "* Er zijn geen significante verschillen gevonden bij de overige vergelijkingen tussen onderwijsperiodes\n",
    "\n",
    "<!-- ## /TEKSTBLOK: posthoc4.py -->\n"
   ]
  },
  {
   "cell_type": "markdown",
   "id": "8f568840",
   "metadata": {},
   "source": [
    "## Rapportage\n",
    "<!-- ## CLOSEDBLOK: rapportage1.py -->\n",
    "<!-- ## /CLOSEDBLOK: rapportage1.py -->\n",
    "\n",
    "<!-- ## TEKSTBLOK: rapportage2.py -->\n",
    "*Cochran's Q toets* is uitgevoerd om te onderzoeken of er een effect is van de vier onderwijsperiodes op het wel of niet hebben van herkansingen van eerstejaars studenten van de bachelor Kunstmatige Intelligentie. Het percentage eerstejaars studenten dat een of meerdere herkansingen heeft is per onderwijsperiode weergegeven in Tabel 1. *Cochran's Q toets* toont aan dat er een significant effect is van de onderwijsperiodes op het wel of niet hebben van herkansingen, Q (`r py$df`, *N* = `r py$N`) = `r Round_and_format(py$stat)`, *p* = `r Round_and_format(py$pval, 3)`. \n",
    "\n",
    "Om te bepalen tussen welke onderwijsperiodes er verschillen zijn, is de [McNemar toets](12-McNemar-toets-Python.html) als post-hoc toets uitgevoerd met een Bonferroni correctie voor meerdere toetsen. Uit de post-hoc toetsen blijkt dat er alleen een significant verschil is tussen onderwijsperiode 1 (`r Round_and_format(100*py$Prop_Herkansingen_kruistabel[1,1], 1)`% eerstejaars studenten met herkansingen) en onderwijsperiode 2 (`r Round_and_format(100*py$Prop_Herkansingen_kruistabel[1,2], 1)`% eerstejaars studenten met herkansingen) met als p-waarde `r Round_and_format(py$Pval_P1_P2, 3)`. Er zijn dus significant meer eerstejaars studenten met een of meerdere herkansingen in periode 2 in vergelijking tot periode 1, maar verder zijn er geen verschillen tussen de onderwijsperiodes.\n",
    "<!-- ## /TEKSTBLOK: rapportage2.py -->\n"
   ]
  },
  {
   "cell_type": "markdown",
   "id": "770561f8",
   "metadata": {},
   "source": [
    "<!-- ## TEKSTBLOK: rapportage3.py -->\n",
    "|                      | Periode 1          | Periode 2          | Periode 3          | Periode 4 |\n",
    "|-------------| -------------------- | -------------| ------------|-------------| ------------| \n",
    "|Herkansingen (%) | `r Round_and_format(100*py$Prop_Herkansingen_kruistabel[1,1], 1)` | `r Round_and_format(100*py$Prop_Herkansingen_kruistabel[1,2], 1)` | `r Round_and_format(100*py$Prop_Herkansingen_kruistabel[1,3], 1)` | `r Round_and_format(100*py$Prop_Herkansingen_kruistabel[1,4], 1)` |\n",
    "|Geen herkansingen (%) | `r Round_and_format(100*py$Prop_Herkansingen_kruistabel[2,1], 1)` | `r Round_and_format(100*py$Prop_Herkansingen_kruistabel[2,2], 1)` | `r Round_and_format(100*py$Prop_Herkansingen_kruistabel[2,3], 1)` | `r Round_and_format(100*py$Prop_Herkansingen_kruistabel[2,4], 1)` |\n",
    "\n",
    "*Tabel 1. Het percentage eerstejaars studenten van de bachelor Kunstmatige Intelligentie dat wel of geen herkansingen heeft voor de vakken in de vier onderwijsperiodes.*\n",
    "<!-- ## /TEKSTBLOK: rapportage3.py -->\n",
    "\n",
    "\n"
   ]
  },
  {
   "cell_type": "markdown",
   "id": "40e3b984",
   "metadata": {},
   "source": [
    "<!-- ## /CLOSEDBLOK: Footer.R -->\n",
    "\n",
    "[^1]: Binaire variabelen: twee elkaar uitsluitende waarden, zoals ja of nee, 0 of 1, aan of uit.\n",
    "[^2]: Allen, P. & Bennett, K. (2012). *SPSS A practical Guide version 20.0*. Cengage Learning Australia Pty Limited.\n",
    "[^3]: Laerd statistics (2018). *Cochran's Q test using SPSS Statistics*. [Laerd statistics](https://statistics.laerd.com/spss-tutorials/cochrans-q-test-in-spss-statistics.php#assumption4) \n",
    "[^4]: Statistics How To (18 juli 2016). *Cochran’s Q Test*. [Statistics How to](https://www.statisticshowto.datasciencecentral.com/cochrans-q-test/).\n",
    "[^5]: Er is geen package gevonden om de exacte versie van *Cochran's Q toets* uit te voeren in R. De exacte versie is echter wel uit te voeren in SPSS.\n",
    "[^9]: Field, A., Miles, J., & Field, Z. (2012). *Discovering statistics using R*. London: Sage publications.\n",
    "[^10]: In dit voorbeeld wordt uitgegaan van een waarschijnlijkheid van 95% c.q. een p-waardegrens van 0,05. De grens is naar eigen inzicht aan te passen; houd hierbij rekening met type I en type II fouten. \n",
    "[^11]: Met een deelnemer wordt het object bedoeld dat geobserveerd wordt, bijvoorbeeld een student, een inwoner van Nederland, een opleiding of een organisatie. Met een observatie wordt de waarde bedoeld die de deelnemer heeft voor een bepaalde variabele. Een deelnemer heeft dus meestal een observatie voor meerdere variabelen.\n",
    "[^12]: Additional file 1 van Fagerland, M.W., Lydersen, S., & Laake, P. (2013). *The McNemar test for binary matched-pairs data: mid-p and asymptotic are better than exact conditional*. BMC medical research methodology, 13, 91. https://doi.org/10.1186/1471-2288-13-91 . Te vinden op https://www.ncbi.nlm.nih.gov/pmc/articles/PMC3716987/#S1"
   ]
  }
 ],
 "metadata": {
  "jupytext": {
   "cell_metadata_filter": "code,results,tags,message,warning,echo,name,include,-all",
   "main_language": "python",
   "notebook_metadata_filter": "-all"
  },
  "kernelspec": {
   "display_name": "Python 3 (ipykernel)",
   "language": "python",
   "name": "python3"
  },
  "language_info": {
   "codemirror_mode": {
    "name": "ipython",
    "version": 3
   },
   "file_extension": ".py",
   "mimetype": "text/x-python",
   "name": "python",
   "nbconvert_exporter": "python",
   "pygments_lexer": "ipython3",
   "version": "3.10.4"
  }
 },
 "nbformat": 4,
 "nbformat_minor": 5
}
