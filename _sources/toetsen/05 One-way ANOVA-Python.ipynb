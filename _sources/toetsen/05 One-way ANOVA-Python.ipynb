{
 "cells": [
  {
   "cell_type": "raw",
   "id": "b376c183",
   "metadata": {},
   "source": [
    "---\n",
    "title: \"One-way ANOVA\"\n",
    "output:\n",
    "  html_document:\n",
    "    theme: lumen\n",
    "    toc: yes\n",
    "    toc_depth: 2\n",
    "    toc_float: \n",
    "      collapsed: FALSE \n",
    "    number_sections: true\n",
    "    includes:\n",
    "      in_header: [\"../01. Includes/html/nocache.html\", \"../01. Includes/html/favicon.html\", \"../01. Includes/html/analytics.html\"]\n",
    "  keywords: [statistisch handboek, studiedata]\n",
    "---"
   ]
  },
  {
   "cell_type": "markdown",
   "id": "977efb2e",
   "metadata": {
    "lines_to_next_cell": 0
   },
   "source": [
    "<!-- ## CLOSEDBLOK: Functies.R -->"
   ]
  },
  {
   "cell_type": "markdown",
   "id": "df577c6e",
   "metadata": {},
   "source": [
    "<!-- ## /OPENBLOK: Data-aanmaken.py -->\n",
    "\n",
    "# Toepassing\n",
    "Gebruik de *one-way ANOVA* bij het toetsen of de gemiddelden van twee of meer onafhankelijke groepen verschillen.[^1] \n",
    "\n",
    "# Onderwijscasus\n",
    "<div id = \"casus\">\n",
    "Om wervingsactiviteiten beter af te stemmen op de aankomende studenten, wil het hoofd van de afdeling Communicatie weten wat de reistijd (in minuten) is van studenten van verschillende opleidingen. Hij heeft daarom data verzameld over de reistijd van uitwonende studenten voor de opleidingen: Arabische Taal en Cultuur, Filosofie en Geschiedenis. \n",
    "\n",
    "Dit onderzoek vertaalt zich in de volgende combinatie van hypothesen, waarbij de nulhypothese zo geformuleerd is dat er geen effect of verschil is en de alternatieve hypothese zo geformuleerd is dat er wel een effect of verschil is.\n",
    "\n",
    "*H~0~*: De reistijden van de studenten van de drie opleidingen komen uit dezelfde verdeling en hebben dus een gezamenlijk gemiddelde\n",
    "\n",
    "*H~A~*: De reistijden van de studenten van de drie opleidingen komen niet uit dezelfde verdeling en hebben dus een verschillend gemiddelde"
   ]
  },
  {
   "cell_type": "markdown",
   "id": "208f9358",
   "metadata": {
    "lines_to_next_cell": 0
   },
   "source": [
    "# Uitleg assumpties\n",
    "Om een valide toetsresultaat te bereiken moet de data aan een aantal voorwaarden voldoen. Controleer of de steekproef aan de volgende assumpties voldoet: normaliteit, homogeniteit van varianties en onafhankelijkheid.\n",
    "\n",
    "De *one-way ANOVA* is een robuuste toets: als er niet voldaan is aan de assumptie van normaliteit of homogeniteit van varianties, dan kan de *one-way ANOVA* in bepaalde gevallen nog steeds uitgevoerd en geïnterpreteerd worden.[^2] Hierdoor kan het wel zijn dat de toets minder onderscheidend vermogen heeft, dan wanneer de assumpties niet geschonden worden.[^3]<sup>, </sup>[^4] Als er grote afwijkingen zijn van normaliteit of homogeniteit van varianties, is de [Kruskal-Wallis toets](10-Kruskal-Wallis-toets-R.html) een alternatief voor de *one-way ANOVA*.[^5]<sup>, </sup>[^6]\n",
    "\n",
    "## Normaliteit\n",
    "De assumptie van normaliteit houdt bij de *one-way ANOVA* in dat de afhankelijke variabele normaal verdeeld is voor elke groep. Controleer de assumptie van normaliteit voor elke groep met de volgende stappen:  \n",
    "1. Controleer de data visueel met een histogram, een boxplot of een Q-Q plot.   \n",
    "2. Toets of de data normaal verdeeld zijn met de *Kolmogorov-Smirnov test* of bij een kleinere steekproef (n < 50) met de *Shapiro-Wilk test*.[^7]<sup>, </sup>[^8]  \n",
    "\n",
    "De eerste stap heeft als doel een goede indruk te krijgen van de verdeling van de steekproef. In de tweede stap wordt de assumptie van normaliteit getoetst. De statistische toets laat zien of de verdeling van de observaties van een groep voldoet aan de assumptie van normaliteit. Voor alle groepen moet er voldaan zijn aan de assumptie van normaliteit.\n",
    "\n",
    "Als er niet voldaan is aan normaliteit, is het transformeren van de data een optie.[^2] Een andere optie is het gebruik van de nonparametrische [Kruskal-Wallis toets](10-Kruskal-Wallis-toets-R.html) waar normaliteit geen assumptie is.[^3] De *one-way ANOVA* is echter ook een robuuste toets ten opzichte van de assumptie van normaliteit. Als elke groep een aantal observaties (*n*) heeft dat groter dan 100 is,  ga er dan vanuit dat de *one-way ANOVA* robuust genoeg is om uit te voeren zonder dat de afhankelijke variabele een normale verdeling volgt.\n",
    "\n",
    "## Homogeniteit van varianties\n",
    "Toets met de *Levene's Test (for equality of variance)* of de variantie van iedere groep ongeveer hetzelfde is. Bij een p-waarde kleiner dan 0,05 is de variantie van de groepen significant verschillend.[^10] De *one-way ANOVA* is in bepaalde gevallen robuust als er geen homogeniteit van varianties is. Als de ratio van de grootste en kleinste steekproefgrootte van alle groepen kleiner dan 10 is en de ratio van de grootste en kleinste variantie van alle groepen kleiner dan 4 is, dan kan de *one-way ANOVA* gewoon uitgevoerd worden.[^19] Voer de [Kruskal-Wallis toets](10-Kruskal-Wallis-toets-R.html) toets uit als er niet aan deze voorwaarden voor robuustheid is voldaan.\n",
    "\n",
    "# Effectmaat\n",
    "De p-waarde geeft aan of het verschil tussen groepen significant is. De grootte van het verschil of effect is echter ook relevant. Een effectmaat is een gestandaardiseerde maat die de grootte van een effect weergeeft, zodat effecten van verschillende onderzoeken met elkaar vergeleken kunnen worden.[^11] Voor de *one-way ANOVA* wordt de effectmaat eta squared vaak gebruikt.\n",
    "\n",
    "De effectmaat eta squared (*η^2^*) berekent de proportie van de variantie in de afhankelijke variabele die verklaard wordt door de onafhankelijke variabele. In deze casus berekent het de proportie van de variantie in de lengte van de reistijd die verklaard kan worden door de opleiding. Een indicatie om *η^2^* te interpreteren is: rond 0,01 is een klein effect, rond 0,06 is een gemiddeld effect en rond 0,14 is een groot effect.[^12]<sup>,</sup>[^13]\n",
    "\n",
    "# Post-hoc toetsen\n",
    "De *one-way ANOVA* toetst of de groepen afkomstig zijn van eenzelfde verdeling met een gezamenlijk gemiddelde of van verschillende verdeling met een eigen gemiddelde. Voer een post-hoc toets uit om te bepalen welke groepen significant verschillen. De post-hoc toetsen voeren meestal een correctie voor de p-waarden uit, omdat er meerdere toetsen tegelijkertijd worden gebruikt. Meerdere toetsen tegelijkertijd uitvoeren verhoogt de kans dat een van de nulhypotheses onterecht wordt verworpen en er bij toeval een verband wordt ontdekt dat er niet is (type I fout).\n",
    "\n",
    "Er zijn meerdere post-hoc toetsen. De keuze voor een toets hangt onder andere af van het wel of niet schenden van de assumptie van homogeniteit van varianties:   \n",
    "* Gebruik de Tukey Honestly Significant Difference post-hoc toets bij gelijke variantie.[^14]  \n",
    "* Gebruik de Games-Howell post-hoc toets bij ongelijke variantie.[^15]  \n",
    "\n",
    "# Toetsing assumpties\n",
    "<!-- ## TEKSTBLOK: Dataset-inladen.py -->\n",
    "Er is een dataset ingeladen met de reistijden van uitwonende studenten per opleiding genaamd `dfReistijd_per_opleiding`. \n",
    "<!-- ## /TEKSTBLOK: Dataset-inladen.py -->\n",
    "\n",
    "## De data bekijken\n",
    "<!-- ## TEKSTBLOK: Data-bekijken.py -->\n",
    "Gebruik `<dataframe>.head()` en `<dataframe>.tail()` om de structuur van de data te bekijken.\n",
    "<!-- ## /TEKSTBLOK: Data-bekijken.py -->\n",
    "\n",
    "<!-- ## OPENBLOK: Data-bekijken.py -->"
   ]
  },
  {
   "cell_type": "code",
   "execution_count": null,
   "id": "68c049ed",
   "metadata": {
    "tags": [
     "remove_cell"
    ]
   },
   "outputs": [],
   "source": [
    "import pandas as pd\n",
    "df = pd.read_csv(\"../data/05_Reistijd_per_opleiding.csv\")\n",
    "dfReistijd_per_opleiding = df.loc[:, ~df.columns.str.contains('^Unnamed')]"
   ]
  },
  {
   "cell_type": "code",
   "execution_count": null,
   "id": "352f095b",
   "metadata": {
    "collapse": true,
    "name": "data bekijken-1"
   },
   "outputs": [],
   "source": [
    "## Eerste 5 observaties\n",
    "print(dfReistijd_per_opleiding.head(5))"
   ]
  },
  {
   "cell_type": "code",
   "execution_count": null,
   "id": "ddcafb8e",
   "metadata": {
    "collapse": true,
    "lines_to_next_cell": 0,
    "name": "data bekijken-2"
   },
   "outputs": [],
   "source": [
    "## Laatste 5 observaties\n",
    "print(dfReistijd_per_opleiding.tail(5))"
   ]
  },
  {
   "cell_type": "markdown",
   "id": "1602a096",
   "metadata": {
    "lines_to_next_cell": 0
   },
   "source": [
    "<!-- ## /OPENBLOK: Data-bekijken.py -->\n",
    "<!-- ## TEKSTBLOK: Data-bekijken2.py -->\n",
    "De dataset bevat gegevens van studenten van verschillende opleidingen. Gebruik `.unique()` om te onderzoeken welke opleidingen er in de data aanwezig zijn. \n",
    "<!-- ## /TEKSTBLOK: Data-bekijken2.py -->\n",
    "<!-- ## OPENBLOK: Data-bekijken2.py -->"
   ]
  },
  {
   "cell_type": "code",
   "execution_count": null,
   "id": "18ea53fa",
   "metadata": {
    "lines_to_next_cell": 0,
    "name": "data bekijken 2"
   },
   "outputs": [],
   "source": [
    "## Opleidingen in de data aanwezig\n",
    "print(dfReistijd_per_opleiding['Opleiding'].unique())"
   ]
  },
  {
   "cell_type": "markdown",
   "id": "a272b478",
   "metadata": {
    "lines_to_next_cell": 0
   },
   "source": [
    "<!-- ## /OPENBLOK: Data-bekijken2.py -->\n",
    "\n",
    "Selecteer de drie groepen en sla deze op in een vector om deze makkelijker aan te kunnen roepen. \n",
    "<!-- ## OPENBLOK: Data-selecteren.py -->"
   ]
  },
  {
   "cell_type": "code",
   "execution_count": null,
   "id": "b8f4d132",
   "metadata": {
    "lines_to_next_cell": 0,
    "name": "data selecteren"
   },
   "outputs": [],
   "source": [
    "Reistijd_ATC = dfReistijd_per_opleiding[\n",
    "    dfReistijd_per_opleiding['Opleiding'] == \"Arabische Taal en Cultuur\"]['Reistijd']\n",
    "Reistijd_FIL = dfReistijd_per_opleiding[\n",
    "    dfReistijd_per_opleiding['Opleiding'] == \"Filosofie\"]['Reistijd']\n",
    "Reistijd_GSC = dfReistijd_per_opleiding[\n",
    "    dfReistijd_per_opleiding['Opleiding'] == \"Geschiedenis\"]['Reistijd']"
   ]
  },
  {
   "cell_type": "markdown",
   "id": "65b4958d",
   "metadata": {
    "lines_to_next_cell": 0
   },
   "source": [
    "<!-- ## /OPENBLOK: Data-selecteren.py -->\n",
    "\n",
    "<!-- ## TEKSTBLOK: Data-beschrijven.py -->\n",
    "Om meer inzicht te krijgen in de data, inspecteer de data met `len()`, `np.mean()` en `np.std())`, door deze aan te roepen uit de library `numpy`.\n",
    "<!-- ## /TEKSTBLOK: Data-beschrijven.py -->\n",
    "\n",
    "<!-- ## OPENBLOK: Data-beschrijven-inladen.py -->"
   ]
  },
  {
   "cell_type": "code",
   "execution_count": null,
   "id": "78fa52de",
   "metadata": {
    "lines_to_next_cell": 0
   },
   "outputs": [],
   "source": [
    "# Om het gemiddelde en de standaard deviatie te berekenen, hebben we de library 'numpy' nodig\n",
    "import numpy as np"
   ]
  },
  {
   "cell_type": "markdown",
   "id": "8ef5cdad",
   "metadata": {
    "lines_to_next_cell": 0
   },
   "source": [
    "<!-- ## /OPENBLOK: Data-beschrijven-inladen.py -->\n",
    "\n",
    "<!-- ## OPENBLOK: Data-beschrijven-1.py -->"
   ]
  },
  {
   "cell_type": "code",
   "execution_count": null,
   "id": "04c93af9",
   "metadata": {
    "collapse": true,
    "name": "Data beschrijven 1"
   },
   "outputs": [],
   "source": [
    "## Aantallen, gemiddelde en standaarddeviatie voor Arabische Taal en Cultuur\n",
    "print(len(Reistijd_ATC))\n",
    "print(np.mean(Reistijd_ATC))\n",
    "print(np.std(Reistijd_ATC))"
   ]
  },
  {
   "cell_type": "code",
   "execution_count": null,
   "id": "b29a03c2",
   "metadata": {
    "collapse": true,
    "name": "Data beschrijven 2"
   },
   "outputs": [],
   "source": [
    "## Aantallen, gemiddelde en standaarddeviatie voor Filosofie\n",
    "print(len(Reistijd_FIL))\n",
    "print(np.mean(Reistijd_FIL))\n",
    "print(np.std(Reistijd_FIL))"
   ]
  },
  {
   "cell_type": "code",
   "execution_count": null,
   "id": "174bda7a",
   "metadata": {
    "collapse": true,
    "lines_to_next_cell": 0,
    "name": "Data beschrijven 3"
   },
   "outputs": [],
   "source": [
    "## Aantallen, gemiddelde en standaarddeviatie voor Geschiedenis\n",
    "print(len(Reistijd_GSC))\n",
    "print(np.mean(Reistijd_GSC))\n",
    "print(np.std(Reistijd_GSC))"
   ]
  },
  {
   "cell_type": "markdown",
   "id": "0c81d4be",
   "metadata": {
    "lines_to_next_cell": 0
   },
   "source": [
    "<!-- ## /OPENBLOK: Data-beschrijven-1.py -->\n",
    "\n",
    "<!-- ## CLOSEDBLOK: Data-beschrijven-11.R -->"
   ]
  },
  {
   "cell_type": "code",
   "execution_count": null,
   "id": "f64490a8",
   "metadata": {
    "echo": true,
    "lines_to_next_cell": 0,
    "name": "data beschrijven als object",
    "tags": [
     "remove_cell"
    ]
   },
   "outputs": [],
   "source": [
    "vM_ATC = np.mean(Reistijd_ATC)\n",
    "vSD_ATC = np.std(Reistijd_ATC)\n",
    "vN_ATC = np.size(Reistijd_ATC)\n",
    "\n",
    "vM_FIL = np.mean(Reistijd_FIL)\n",
    "vSD_FIL = np.std(Reistijd_FIL)\n",
    "vN_FIL = np.size(Reistijd_FIL)\n",
    "\n",
    "vM_GSC = np.mean(Reistijd_GSC)\n",
    "vSD_GSC = np.std(Reistijd_GSC)\n",
    "vN_GSC = np.size(Reistijd_GSC)"
   ]
  },
  {
   "cell_type": "markdown",
   "id": "94b09325",
   "metadata": {
    "lines_to_next_cell": 0
   },
   "source": [
    "<!-- ## /CLOSEDBLOK: Data-beschrijven.py -->\n",
    "\n",
    "<!-- ## TEKSTBLOK: Datatekst-beschrijven.py -->\n",
    "* Gemiddelde reistijd Arabische Taal en Cultuur (standaarddeviatie): `r Round_and_format(py$vM_ATC)` (`r Round_and_format(py$vSD_ATC)`). *n* = `r py$vN_ATC`  \n",
    "* Gemiddelde reistijd Filosofie (standaarddeviatie): `r Round_and_format(py$vM_FIL)` (`r Round_and_format(py$vSD_FIL)`). *n* = `r py$vN_FIL`.\n",
    "* Gemiddelde reistijd Geschiedenis (standaarddeviatie): `r Round_and_format(py$vM_GSC)` (`r Round_and_format(py$vSD_GSC)`). *n* = `r py$vN_GSC`.\n",
    "\n",
    "<!-- ## /TEKSTBLOK: Datatekst-beschrijven.py -->\n",
    "\n",
    "## Visuele inspectie van normaliteit\n",
    "Geef de verdeling van de reistijd voor elke opleiding visueel weer met een histogram, Q-Q plot en boxplot.\n",
    "\n",
    "### Histogram\n",
    "\n",
    "Focus bij het analyseren van een histogram[^20] op de symmetrie van de verdeling, de hoeveelheid toppen (modaliteit) en mogelijke uitbijters. Een normale verdeling is symmetrisch, heeft één top en geen uitbijters.[^16]<sup>, </sup>[^17]\n",
    "\n",
    "<!-- ## OPENBLOK: Histogram.py -->"
   ]
  },
  {
   "cell_type": "code",
   "execution_count": null,
   "id": "d50c08c7",
   "metadata": {
    "lines_to_next_cell": 0,
    "name": "histogram"
   },
   "outputs": [],
   "source": [
    "## Histogram met matplotlib\n",
    "import matplotlib.pyplot as plt\n",
    "fig = plt.figure(figsize = (15, 10))\n",
    "sub1 = fig.add_subplot(1, 3, 1)\n",
    "title1 = plt.title(\"Arabische Taal en Cultuur\")\n",
    "ylab = plt.ylabel(\"Frequentiedichtheid\")\n",
    "hist1 = plt.hist(Reistijd_ATC, density = True, edgecolor = \"black\", bins = 10)\n",
    "\n",
    "sub2 = fig.add_subplot(1, 3, 2)\n",
    "title2 = plt.title(\"Filosofie\")\n",
    "xlab = plt.xlabel(\"Reistijd\")\n",
    "hist2 = plt.hist(Reistijd_FIL, density = True, edgecolor = \"black\", bins = 10)\n",
    "\n",
    "sub3 = fig.add_subplot(1, 3, 3)\n",
    "title3 = plt.title(\"Geschiedenis\")\n",
    "hist3 = plt.hist(Reistijd_GSC, density = True, edgecolor = \"black\", bins = 12)\n",
    "\n",
    "main = fig.suptitle('Reistijd per opleiding')\n",
    "plt.show()"
   ]
  },
  {
   "cell_type": "markdown",
   "id": "5a59611d",
   "metadata": {
    "lines_to_next_cell": 0
   },
   "source": [
    "<!-- ## /OPENBLOK: Histogram.py -->\n",
    "\n",
    "De verdelingen van de opleidingen Filosofie en Geschiedenis lijken twee toppen te hebben. Alle drie de opleidingen hebben een niet geheel symmetrische verdeling, maar vertonen ook geen uitbijters. De verdeling van de opleiding Arabische taal en Cultuur is bij benadering normaal; voor de opleidingen Filosofie en Geschiedenis zijn lichte afwijkingen van de normale verdeling te zien.\n",
    "\n",
    "### Q-Q plot\n",
    "<!-- ## TEKSTBLOK: QQplot.py -->\n",
    "Importeer `scipy.stats` om een Q-Q plot te maken. Gebruik de functie `scipy.stats.probplot()` om een Q-Q plot te maken.\n",
    "<!-- ## TEKSTBLOK: QQplot.py -->\n",
    "\n",
    "Als over het algemeen de meeste datapunten op de lijn liggen, neem dan aan dat de data normaal verdeeld is.\n",
    "<div class = \"col-container\">\n",
    "  <div class=\"col\">\n",
    "<!-- ## OPENBLOK: QQplot1.py -->"
   ]
  },
  {
   "cell_type": "code",
   "execution_count": null,
   "id": "f758a7e0",
   "metadata": {
    "lines_to_next_cell": 0,
    "name": "QQplot-t1"
   },
   "outputs": [],
   "source": [
    "import scipy.stats as stats\n",
    "qq = stats.probplot(Reistijd_ATC, dist=\"norm\", plot=plt)\n",
    "title = plt.title(\"Arabische Taal en Cultuur\")\n",
    "xlab = plt.xlabel(\"Theoretische kwantielen\")\n",
    "ylab = plt.ylabel(\"Kwantielen in data\")\n",
    "plt.show()"
   ]
  },
  {
   "cell_type": "markdown",
   "id": "f52d307a",
   "metadata": {
    "lines_to_next_cell": 0
   },
   "source": [
    "<!-- ## /OPENBLOK: QQplot1.py -->\n",
    "  </div>\n",
    "  <div class = \"col\">\n",
    "<!-- ## OPENBLOK: QQplot2.py -->"
   ]
  },
  {
   "cell_type": "code",
   "execution_count": null,
   "id": "baecaa47",
   "metadata": {
    "lines_to_next_cell": 0,
    "name": "QQplot-t2"
   },
   "outputs": [],
   "source": [
    "import scipy.stats as stats\n",
    "qq = stats.probplot(Reistijd_FIL, dist=\"norm\", plot=plt)\n",
    "title = plt.title(\"Filosofie\")\n",
    "xlab = plt.xlabel(\"Theoretische kwantielen\")\n",
    "ylab = plt.ylabel(\"Kwantielen in data\")\n",
    "plt.show()\n"
   ]
  },
  {
   "cell_type": "markdown",
   "id": "60cf59bb",
   "metadata": {
    "lines_to_next_cell": 0
   },
   "source": [
    "<!-- ## /OPENBLOK: QQplot2.py -->\n",
    "  </div>\n",
    "  <div class = \"col\">\n",
    "<!-- ## OPENBLOK: QQplot3.py -->"
   ]
  },
  {
   "cell_type": "code",
   "execution_count": null,
   "id": "ae7edf8f",
   "metadata": {
    "lines_to_next_cell": 0,
    "name": "QQplot-t3"
   },
   "outputs": [],
   "source": [
    "import scipy.stats as stats\n",
    "qq = stats.probplot(Reistijd_GSC, dist=\"norm\", plot=plt)\n",
    "title = plt.title(\"Geschiedenis\")\n",
    "xlab = plt.xlabel(\"Theoretische kwantielen\")\n",
    "ylab = plt.ylabel(\"Kwantielen in data\")\n",
    "plt.show()\n"
   ]
  },
  {
   "cell_type": "markdown",
   "id": "ccf87a78",
   "metadata": {},
   "source": [
    "<!-- ## OPENBLOK: QQplot3.py -->\n",
    "  </div>\n",
    "</div>\n",
    "Bij alle drie de verdelingen liggen de meeste datapunten op of vlakbij de lijn. Hoewel er bij de uiteinden van de verdeling wat afwijkingen zijn, duidt deze grafiek op een goede benadering van de normaalverdeling voor de drie verdelingen."
   ]
  },
  {
   "cell_type": "markdown",
   "id": "33d88a6d",
   "metadata": {
    "lines_to_next_cell": 0
   },
   "source": [
    "### Boxplot\n",
    "De box geeft de middelste 50% van de reistijd weer. De zwarte lijn binnen de box is de mediaan. In de staarten of snorreharen zitten de eerste 25% en de laatste 25%. Cirkels visualiseren mogelijke uitbijters.[^16]<sup>, </sup>[^17] Hoe meer de boxen overlappen, hoe waarschijnlijker er geen significant verschil is tussen de groepen. \n",
    "\n",
    "<!-- ## OPENBLOK: Boxplot.py -->"
   ]
  },
  {
   "cell_type": "code",
   "execution_count": null,
   "id": "7eb223d6",
   "metadata": {
    "lines_to_next_cell": 0,
    "name": "boxplot"
   },
   "outputs": [],
   "source": [
    "fig, ax = plt.subplots()\n",
    "box = ax.boxplot([Reistijd_ATC, Reistijd_FIL, Reistijd_GSC], labels = [\"Arabische Taal en Cultuur\", \"Filosofie\", \"Geschiedenis\"])\n",
    "title = plt.title(\"Reistijd per opleiding\")\n",
    "ylab = plt.ylabel(\"Reistijd in minuten\")\n",
    "plt.show()"
   ]
  },
  {
   "cell_type": "markdown",
   "id": "157f3d87",
   "metadata": {
    "lines_to_next_cell": 0
   },
   "source": [
    "<!-- ## /OPENBLOK: Boxplot.py -->\n",
    "\n",
    "De boxplotten geven de spreiding weer van de gemiddelde reistijd van uitwonende studenten voor de opleidingen Arabische Taal en Cultuur, Filosofie en Geschiedenis. De boxplotten Arabische Taal en Cultuur en Geschiedenis zien er symmetrisch uit; de boxen zijn even hoog boven als onder de mediaan en de snorreharen zijn onder en boven even groot. De boxplot van Filosofie is boven de mediaan groter dan onder de mediaan, de data kan wat scheef verdeeld zijn. De mediaan Arabische Taal en Cultuur ligt hoger dan de twee andere opleidingen.\n",
    "\n",
    "## Toetsen van normaliteit\n",
    "Om te controleren of de data normaal verdeeld is, kan de normaliteit getoetst worden. Twee veelgebruikte toetsen zijn: de *Kolmogorov-Smirnov test* en de *Shapiro-Wilk test*.\n",
    "\n",
    "### Kolmogorov-Smirnov\n",
    "De *Kolmogorov-Smirnov test* toetst het verschil tussen twee verdelingen. Standaard toetst deze toets het verschil tussen een normale verdeling en de verdeling van de steekproef. De Lilliefors correctie is vereist als het gemiddelde en de standaardafwijking niet van tevoren bekend of bepaald zijn, wat meestal het geval is bij een steekproef. Als de p-waarde kleiner dan 0,05 is, is de verdeling van de data significant verschillend van de normale verdeling.\n",
    "\n",
    "<!-- ## TEKSTBLOK: Lilliefors-test1.py -->\n",
    "De standaard interpretatie van een statitische toets in Python is: `(<teststatistiek>, <p-waarde>)`. Verder toetst Python standaard tweezijdig.\n",
    "<!-- ## /TEKSTBLOK: Lilliefors-test1.py -->\n",
    "\n",
    "<!-- ## OPENBLOK: Library-nortest.py -->"
   ]
  },
  {
   "cell_type": "code",
   "execution_count": null,
   "id": "030bd024",
   "metadata": {
    "lines_to_next_cell": 0
   },
   "outputs": [],
   "source": [
    "import statsmodels.stats.api as smod"
   ]
  },
  {
   "cell_type": "markdown",
   "id": "13c896cf",
   "metadata": {
    "lines_to_next_cell": 0
   },
   "source": [
    "<!-- ## /OPENBLOK: Library-nortest.py -->\n",
    "\n",
    "<div class=\"col-container\"> \n",
    "  <div class=\"col\">\n",
    "<!-- ## OPENBLOK: Lilliefors-test-1.py -->\n",
    "``` {python Lilliefors Test-1, warning=FALSE}\n",
    "print(statsmodels.stats.api.lilliefors(Reistijd_ATC, pvalmethod=\"table\"))\n",
    "```\n",
    "<!-- ## OPENBLOK: Lilliefors-test-1.py -->\n",
    "  </div>\n",
    "  <div class = \"col\">\n",
    "<!-- ## OPENBLOK: Lilliefors-test-2.py -->\n",
    "``` {python Lilliefors Test-2, warning=FALSE}\n",
    "print(statsmodels.stats.api.lilliefors(Reistijd_FIL, pvalmethod=\"table\"))\n",
    "```\n",
    "<!-- ## OPENBLOK: Lilliefors-test-2.py -->\n",
    "  </div>\n",
    "  <div class = \"col\">\n",
    "<!-- ## OPENBLOK: Lilliefors-test-3.py -->\n",
    "``` {python Lilliefors Test-3, warning=FALSE}\n",
    "print(statsmodels.stats.api.lilliefors(Reistijd_GSC, pvalmethod=\"table\"))\n",
    "```\n",
    "<!-- ## /OPENBLOK: Lilliefors-test-3.py -->\n",
    "  </div>\n",
    "</div>\n",
    "\n",
    "De p-waarde is groter dan 0,05 voor elke groep; er is geen significant verschil gevonden tussen de verdeling van de steekproef en de normale verdeling. [^18] De *one-way ANOVA* kan uitgevoerd worden.\n",
    "\n",
    "### Shapiro-Wilk Test\n",
    "De *Shapiro-Wilk test* is een soortgelijke toets als de *Kolmogorov-Smirnov test* en vooral geschikt bij kleine steekproeven (*n* < 50). Als de p-waarde kleiner dan 0,05 is, is de verdeling van de data significant verschillend van de normale verdeling.\n",
    "\n",
    "<div class=\"col-container\"> \n",
    "  <div class=\"col\">\n",
    "<!-- ## OPENBLOK: Shapiro-Wilk-test-3.py -->\n",
    "``` {python Shapiro-Wilk Test-1, warning=FALSE}\n",
    "import scipy.stats as stats\n",
    "print(stats.shapiro(Reistijd_GSC))\n",
    "\n",
    "```\n",
    "<!-- ## /OPENBLOK: Shapiro-Wilk-test-3.py -->\n",
    "  </div>\n",
    "  <div class= \"col\">\n",
    "<!-- ## OPENBLOK: Shapiro-Wilk-test-2.py -->\n",
    "``` {python Shapiro-Wilk Test-2, warning=FALSE}\n",
    "import scipy.stats as stats\n",
    "print(stats.shapiro(Reistijd_FIL))\n",
    "\n",
    "```\n",
    "<!-- ## OPENBLOK: Shapiro-Wilk-test-2.py -->\n",
    "  </div>\n",
    "  <div class= \"col\"> \n",
    "<!-- ## OPENBLOK: Shapiro-Wilk-test-1.py -->\n",
    "``` {python Shapiro-Wilk Test-3, warning=FALSE}\n",
    "import scipy.stats as stats\n",
    "print(stats.shapiro(Reistijd_ATC))\n",
    "```\n",
    "<!-- ## OPENBLOK: Shapiro-Wilk-test-1.py -->\n",
    "  </div>\n",
    "</div>\n",
    "\n",
    "De p-waarde is groter dan 0,05 voor elke groep, dus er is geen significant verschil gevonden tussen de verdeling van de steekproef en de normale verdeling. De *one-way ANOVA* kan uitgevoerd worden.\n",
    "\n",
    "## Toetsen van Homogeniteit van varianties\n",
    "Toets met de *Levene's test* de homogeniteit van varianties. Gebruik hiervoor de functie `leveneTest()` van het package `car` met als eerst argument de afhankelijke variabele `Reistijd_per_opleiding$Reistijd` en als tweede argument de onafhankelijke variabele `Reistijd_per_opleiding$Opleiding`.\n",
    "\n",
    "<!-- ## OPENBLOK: Levenes-test.py -->"
   ]
  },
  {
   "cell_type": "code",
   "execution_count": null,
   "id": "972748a2",
   "metadata": {
    "lines_to_next_cell": 0,
    "name": "Levenes test"
   },
   "outputs": [],
   "source": [
    "import scipy.stats as stats\n",
    "# Geef de drie variabelen met de reistijden per opleiding als argumenten\n",
    "print(stats.levene(Reistijd_ATC, Reistijd_FIL, Reistijd_GSC))"
   ]
  },
  {
   "cell_type": "markdown",
   "id": "c27871df",
   "metadata": {
    "lines_to_next_cell": 0
   },
   "source": [
    "<!-- ## /OPENBLOK: Levenes-test.py -->\n",
    "<!-- ## CLOSEDBLOK: Levenes-test.py -->"
   ]
  },
  {
   "cell_type": "code",
   "execution_count": null,
   "id": "baf964b4",
   "metadata": {
    "lines_to_next_cell": 0,
    "name": "Levenes test als object",
    "tags": [
     "remove_input"
    ]
   },
   "outputs": [],
   "source": [
    "stat, pval = stats.levene(Reistijd_ATC, Reistijd_FIL, Reistijd_GSC)\n",
    "vDF1 = 2\n",
    "vDF2 = len(Reistijd_ATC) + len(Reistijd_FIL) + len(Reistijd_GSC) - 3"
   ]
  },
  {
   "cell_type": "markdown",
   "id": "862b81fb",
   "metadata": {
    "lines_to_next_cell": 0
   },
   "source": [
    "<!-- ## /CLOSEDBLOK: Levenes-test.py -->\n",
    "<!-- ## TEKSTBLOK: Levenes-test.py -->\n",
    "* *F*~`r py$vDF1`~~,~~`r py$vDF2`~ = `r Round_and_format(py$stat)`, p-waarde = `r Round_and_format(py$pval)`, \n",
    "* De p-waarde is groter dan 0,05, dus er is geen significant verschil gevonden tussen de groepen in spreiding.\n",
    "*  Vrijheidsgraden bestaan uit twee cijfers, het eerste cijfer (het aantal groepen - 1 = `r py$vDF1`) en het tweede cijfer (*n~1~* + *n~2~*+*n~3~* - 3 = `r py$vDF2`).  \n",
    "<!-- ## TEKSTBLOK: Levenes-test.py -->\n",
    "\n",
    "# One-way ANOVA \n",
    "Voer de *one-way ANOVA* uit om de vraag te beantwoorden of de gemiddelde reistijd van de studenten per opleiding verschilt.  \n",
    "<!-- ## TEKSTBLOK: ANOVA-toets.py -->\n",
    "Gebruik `.anova()` uit de package `pingouin` om een ANOVA-test uit te voeren. De argumenten van de functie zijn de dataset `data = dfReistijd_per_opleiding`, de afhankelijke variabele `dv = \"Reistijd\"`, de groepsvariabele `between = \"Opleiding\"` en `detailed = True` om aan te geven dat de functie een uitgebreide versie van de resultaten geeft.\n",
    "<!-- ## /TEKSTBLOK: ANOVA-toets.py -->  \n",
    "<!-- ## OPENBLOK: ANOVA-toets.py -->"
   ]
  },
  {
   "cell_type": "code",
   "execution_count": null,
   "id": "0fccdced",
   "metadata": {},
   "outputs": [],
   "source": [
    "# We importeren een library om de ANOVA toets te kunnen berekenen\n",
    "import pingouin as pg"
   ]
  },
  {
   "cell_type": "code",
   "execution_count": null,
   "id": "70ab2358",
   "metadata": {
    "lines_to_next_cell": 0,
    "name": "ANOVA"
   },
   "outputs": [],
   "source": [
    "aov = pg.anova(data = dfReistijd_per_opleiding, dv = 'Reistijd', between = 'Opleiding', detailed = True)\n",
    "print(aov)"
   ]
  },
  {
   "cell_type": "markdown",
   "id": "380acead",
   "metadata": {
    "lines_to_next_cell": 0
   },
   "source": [
    "<!-- ## /OPENBLOK: ANOVA-toets.py -->\n",
    "\n",
    "<!-- ## CLOSEDBLOK: ANOVA-toets.py -->"
   ]
  },
  {
   "cell_type": "code",
   "execution_count": null,
   "id": "792365c4",
   "metadata": {
    "lines_to_next_cell": 0,
    "name": "ANOVA als object",
    "tags": [
     "remove_input"
    ]
   },
   "outputs": [],
   "source": [
    "vDF1 = aov['DF'][0]\n",
    "vDF2 = aov['DF'][1]\n",
    "vF_waarde = aov['F'][0]"
   ]
  },
  {
   "cell_type": "markdown",
   "id": "cf778e0c",
   "metadata": {
    "lines_to_next_cell": 0
   },
   "source": [
    "<!-- ## /CLOSEDBLOK: ANOVA-toets.py -->\n",
    "\n",
    "<!-- ## TEKSTBLOK: Eta-squared-tekst.py -->\n",
    "De effectmaat *η^2^* is in de resultaten te vinden onder `np2`.\n",
    "<!-- ## /TEKSTBLOK: Eta-squared-tekst.py -->\n",
    "\n",
    "<!-- ## OPENBLOK: Eta-squared.py --> \n",
    "<!-- ## /OPENBLOK: Eta-squared.py -->\n",
    "<!-- ## CLOSEDBLOK: Eta-squared.py -->"
   ]
  },
  {
   "cell_type": "code",
   "execution_count": null,
   "id": "2d3e6375",
   "metadata": {
    "lines_to_next_cell": 0,
    "tags": [
     "remove_cell"
    ]
   },
   "outputs": [],
   "source": [
    "Esq = float(aov[\"np2\"][0])"
   ]
  },
  {
   "cell_type": "markdown",
   "id": "ee4ba36d",
   "metadata": {
    "lines_to_next_cell": 0
   },
   "source": [
    "<!-- ## /CLOSEDBLOK: Eta-squared.py -->\n",
    "\n",
    "<!-- ## TEKSTBLOK: ANOVA-toets1.py -->\n",
    "* *F* ~`r py$vDF1`~~,~~`r py$vDF2`~ = `r Round_and_format(py$stat)`, *p* < 0,0001.\n",
    "* p-waarde is kleiner dan 0,05, dus de H~0~ wordt verworpen.[^16] \n",
    "* Vrijheidsgraden: het aantal groepen - 1 = `r py$vDF1`; *n~1~* + *n~2~* + *n~3~*- 3 = `r py$vDF2`.\n",
    "\n",
    "<!-- ## /TEKSTBLOK: ANOVA-toets1.py -->\n",
    "\n",
    "# Post-hoc toets: Tukey's toets\n",
    "\n",
    "<!-- ## TEKSTBLOK: Tukey-HSD.py -->\n",
    "Gebruik de functie `.pairwise_tukey()` met als argumenten de dataset `data = dfReistijd_per_opleiding`, de afhankelijke variabele `dv = \"Reistijd\"`, de groepsvariabele `between = \"Opleiding\"` en `effsize = \"cohen\"` om aan te geven dat Cohen's d als effectmaat voor de post-hoc toets wordt gebruikt.\n",
    "<!-- ## /TEKSTBLOK: Tukey-HSD.py -->\n",
    "\n",
    "<!-- ## OPENBLOK: Tukey-HSD.py -->"
   ]
  },
  {
   "cell_type": "code",
   "execution_count": null,
   "id": "c00bb1f9",
   "metadata": {
    "lines_to_next_cell": 0
   },
   "outputs": [],
   "source": [
    "print(pg.pairwise_tukey(data = dfReistijd_per_opleiding, dv = \"Reistijd\", between = \"Opleiding\", effsize = \"cohen\"))"
   ]
  },
  {
   "cell_type": "markdown",
   "id": "71727d34",
   "metadata": {
    "lines_to_next_cell": 0
   },
   "source": [
    "<!-- ## /OPENBLOK: Tukey-HSD.py -->\n",
    "<!-- ## CLOSEDBLOK: Tukey-HSD.py -->"
   ]
  },
  {
   "cell_type": "code",
   "execution_count": null,
   "id": "695a0ae8",
   "metadata": {
    "lines_to_next_cell": 0,
    "name": "TukeyHSD als object"
   },
   "outputs": [],
   "source": [
    "THSD = pg.pairwise_tukey(data = dfReistijd_per_opleiding, dv = \"Reistijd\", between = \"Opleiding\", effsize = \"cohen\")\n",
    "vATCvsFIL = THSD['diff'][0]\n",
    "vATCvsGSC = THSD['diff'][1]\n",
    "vFILvsGSC = THSD['diff'][2]\n",
    "vpFILvsGSC = THSD['p-tukey'][2]"
   ]
  },
  {
   "cell_type": "markdown",
   "id": "f342c487",
   "metadata": {},
   "source": [
    "<!-- ## /CLOSEDBLOK: Tukey-HSD.py -->\n",
    "<!-- ## TEKSTBLOK: Tukey-HSD1.py -->\n",
    "Het verschil tussen Filosofie en Arabische Taal en Cultuur is *MD* = `r Round_and_format(py$vATCvsFIL)`, *p* = 0,001.  \n",
    "Het verschil tussen Geschiedenis en Arabische Taal en Cultuur is *MD* = `r Round_and_format(py$vATCvsGSC)`, *p* = 0,001.  \n",
    "Het verschil tussen Geschiedenis en Filosofie is *MD* = `r Round_and_format(py$vFILvsGSC)`, *p* = `r Round_and_format(py$vpFILvsGSC)`.  \n",
    "<!-- ## /TEKSTBLOK: Tukey-HSD1.py -->\n",
    "\n",
    "# Rapportage\n",
    "<!-- ## TEKSTBLOK: Rapportage.py -->\n",
    "Een *one-way ANOVA* is uitgevoerd om te toetsen of de gemiddelde reistijd van de studenten per opleiding gelijk is aan elkaar. De opleidingen zijn: Arabische Taal en Cultuur (*M~atc~* = `r Round_and_format(py$vM_ATC)`, *SD~atc~* = `r Round_and_format(py$vSD_ATC)`), Filosofie (*M~fil~* = `r Round_and_format(py$vM_FIL)`, *SD~fil~* = `r Round_and_format(py$vSD_FIL)`) en Geschiedenis (*M~gsc~* = `r Round_and_format(py$vM_GSC)`, *SD~fil~* = `r Round_and_format(py$vSD_FIL)`; zie ook Tabel 1. De gemiddelde reistijd van de groepen verschilt significant van elkaar, *F*(`r py$vDF1`, `r py$vDF2`) = `r Round_and_format(py$vF_waarde)`, *p* < 0,0001, *η^2^* = `r Round_and_format(py$Esq)`. De sterkte van het effect van de type opleiding op de reistijd is groot."
   ]
  },
  {
   "cell_type": "markdown",
   "id": "0739d450",
   "metadata": {},
   "source": [
    "| Opleiding     | N          | M          | SD          |\n",
    "| ------------- | ---------- | ---------- | ----------- |\n",
    "| Arabisch      | `r Round_and_format(py$vN_ATC)` | `r Round_and_format(py$vM_ATC)` | `r Round_and_format(py$vSD_ATC)` |\n",
    "| Filosofie     | `r Round_and_format(py$vN_FIL)` | `r Round_and_format(py$vM_FIL)` | `r Round_and_format(py$vSD_FIL)` |\n",
    "| Geschiedenis  | `r Round_and_format(py$vN_GSC)` | `r Round_and_format(py$vM_GSC)` | `r Round_and_format(py$vSD_GSC)` |\n",
    "<!-- ## /TEKSTBLOK: Rapportage.py -->\n",
    "*Tabel 1. Groepsgrootte, gemiddelde reistijd en standaarddeviatie per opleiding*\n",
    "<!-- ## TEKSTBLOK: Rapportage-tukey.py -->\n",
    "*Tukey's HSD test* is uitgevoerd om te toetsen welke van de drie gemiddelden significant verschillen. Filosofie en Arabische Taal en Cultuur verschillen significant (*MD* = `r Round_and_format(py$vATCvsFIL)`, *p* < 0,01). Tussen Geschiedenis en Arabische Taal en Cultuur is een significant verschil (*MD* = `r Round_and_format(py$vATCvsGSC)`, *p* < 0,01). Tussen Geschiedenis en Filosofie is geen significant verschil gevonden (*MD* = `r Round_and_format(py$vFILvsGSC)`, *p* = `r Round_and_format(py$vpFILvsGSC)`). \n",
    "<!-- ## /TEKSTBLOK: Rapportage-tukey.py -->"
   ]
  },
  {
   "cell_type": "markdown",
   "id": "33ad1d13",
   "metadata": {
    "lines_to_next_cell": 0
   },
   "source": [
    "<!-- ## CLOSEDBLOK: Footer.R -->"
   ]
  },
  {
   "cell_type": "markdown",
   "id": "161c9f5b",
   "metadata": {},
   "source": [
    "<!-- ## /CLOSEDBLOK: Footer.R -->\n",
    "\n",
    "[^1]: Van Geloven, N. (25 mei 2016). *One-way ANOVA*. [Wiki Statistiek Academisch Medisch Centrum](https://wikistatistiek.amc.nl/index.php/One-way_ANOVA).\n",
    "[^2]: Universiteit van Amsterdam (8 juli 2014). *One-way ANOVA*. [UvA Wiki Methodologiewinkel](https://wiki.uva.nl/methodologiewinkel/index.php/One-way_ANOVA).\n",
    "[^3]: Onderscheidend vermogen, in het Engels power genoemd, is de kans dat de nulhypothese verworpen wordt wanneer de alternatieve hypothese 'waar' is.  \n",
    "[^4]: Field, A., Miles, J., & Field, Z. (2012). *Discovering statistics using R*. London: Sage publications.\n",
    "[^5]: Van Geloven, N. (21 maart 2018). *Kruskal Wallis*. [Wiki Statistiek Academisch Medisch Centrum](https://wikistatistiek.amc.nl/index.php/Kruskal_Wallis).\n",
    "[^6]: De [Kruskal-Wallis toets](10-Kruskal-Wallis-toets-R.html) maakt een rangschikking van de data. Hierdoor is de toets verdelingsvrij en is normaliteit geen assumptie. Ook zijn uitbijters minder van invloed op het eindresultaat. Toch wordt er voor deze toets minder vaak gekozen, omdat bij het maken van een rankschikking de dataset informatie verliest. Als de data wel normaal verdeeld zijn, heeft de [Kruskal-Wallis toets](10-Kruskal-Wallis-toets-R.html) minder onderscheidend vermogen dan wanneer de *one-way ANOVA* uitgevoerd zou worden.\n",
    "[^7]: Laerd statistics (2018). *Testing for Normality using SPSS Statistics*. https://statistics.laerd.com/spss-tutorials/testing-for-normality-using-spss-statistics.php. \n",
    "[^8]: Universiteit van Amsterdam (14 juli 2014). *Normaliteit*. [UvA Wiki Methodologiewinkel](https://wiki.uva.nl/methodologiewinkel/index.php/Normaliteit).\n",
    "[^9]: Er zijn verschillende opties om variabelen te transformeren, zoals de logaritme, wortel of inverse (1 gedeeld door de variabele) nemen van de variabele. Zie *Discovering statistics using IBM SPSS statistics* van Field (2013) pagina 201-210 voor meer informatie over welke transformaties wanneer gebruikt kunnen worden.\n",
    "[^10]: Wikipedia (7 september 2019). *Analysis of variance*. https://en.wikipedia.org/wiki/Analysis_of_variance.\n",
    "[^11]: Field, A., Miles, J., & Field, Z. (2012). *Discovering statistics using R*. London: Sage publications.\n",
    "[^12]: Watson, P. (30 oktober 2019). *Rules of thumb on magnitudes of effect sizes*. [MRC Cognition and Brain Sciences Unit Wiki](http://imaging.mrc-cbu.cam.ac.uk/statswiki/FAQ/effectSize).\n",
    "[^13]: Eta-squared. (2019 May 14). Retrieved from: https://en.wikiversity.org/wiki/Eta-squared.\n",
    "[^14]: Universiteit van Amsterdam (26 augustus 2014). *MANOVA*. [UvA Wiki Methodologiewinkel](https://wiki.uva.nl/methodologiewinkel/index.php/MANOVA).\n",
    "[^15]: Marshall, E., & Boggis, E. (2016). *The statistics tutor’s quick guide to commonly used statistical tests*. http://www.statstutor.ac.uk/resources/uploaded/tutorsquickguidetostatistics.pdf. \n",
    "[^16]: Outliers (13 augustus 2016). [UvA Wiki Methodologiewinkel](https://wiki.uva.nl/methodologiewinkel/index.php/Outliers).\n",
    "[^17]: Uitbijters kunnen bepalend zijn voor de uitkomst van toetsen. Bekijk of de uitbijters valide uitbijters zijn en niet een meetfout of op een andere manier incorrect verkregen data. Het weghalen van uitbijters kan de uitkomst ook vertekenen, daarom is het belangrijk om verwijderde uitbijters te melden in een rapport. \n",
    "[^18]: In dit voorbeeld wordt uitgegaan van een waarschijnlijkheid van 95% c.q. een p-waardegrens van 0,05. De grens is naar eigen inzicht aan te passen; houd hierbij rekening met type I en type II fouten.\n",
    "[^19]: Tabachnick, B.G. & Fidell, L.S. (2013). *Using multivariate statistics*. Sixth Edition, Pearson. Pagina 86.\n",
    "[^20]: De breedte van de staven van het histogram wordt vaak automatisch bepaald, maar kan handmatig aangepast worden. Aangezien de breedte van de staven bepalend zijn voor de indruk die de visualisatie geeft, is het verstandig om hier goed op te letten.\n",
    "\n"
   ]
  }
 ],
 "metadata": {
  "jupytext": {
   "cell_metadata_filter": "collapse,code,cache,name,echo,include,results,warning,tags,message,-all",
   "main_language": "python",
   "notebook_metadata_filter": "-all"
  },
  "kernelspec": {
   "display_name": "Python 3 (ipykernel)",
   "language": "python",
   "name": "python3"
  },
  "language_info": {
   "codemirror_mode": {
    "name": "ipython",
    "version": 3
   },
   "file_extension": ".py",
   "mimetype": "text/x-python",
   "name": "python",
   "nbconvert_exporter": "python",
   "pygments_lexer": "ipython3",
   "version": "3.10.4"
  }
 },
 "nbformat": 4,
 "nbformat_minor": 5
}
