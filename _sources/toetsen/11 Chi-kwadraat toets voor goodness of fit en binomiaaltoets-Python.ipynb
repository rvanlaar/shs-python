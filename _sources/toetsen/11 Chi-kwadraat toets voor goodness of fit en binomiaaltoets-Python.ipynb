{
 "cells": [
  {
   "cell_type": "raw",
   "id": "62b3f27a",
   "metadata": {
    "lines_to_next_cell": 0
   },
   "source": [
    "---\n",
    "title: \"Chi-kwadraat toets voor goodness of fit en binomiaaltoets\"\n",
    "output:\n",
    "  html_document:\n",
    "    theme: lumen\n",
    "    toc: yes\n",
    "    toc_depth: 2\n",
    "    toc_float: \n",
    "      collapsed: FALSE \n",
    "    number_sections: true\n",
    "    includes:\n",
    "      in_header: [\"../01. Includes/html/nocache.html\", \"../01. Includes/html/favicon.html\", \"../01. Includes/html/analytics.html\"]\n",
    "  keywords: [statistisch handboek, studiedata]\n",
    "---"
   ]
  },
  {
   "cell_type": "markdown",
   "id": "7b422712",
   "metadata": {},
   "source": [
    "# Chi-kwadraat toets voor goodness of fit en binomiaaltoets"
   ]
  },
  {
   "cell_type": "markdown",
   "id": "30ded51d",
   "metadata": {
    "lines_to_next_cell": 0
   },
   "source": [
    "<!-- ## CLOSEDBLOK: Functies.R -->"
   ]
  },
  {
   "cell_type": "code",
   "execution_count": null,
   "id": "9b124dc1",
   "metadata": {
    "eval": false,
    "lines_to_next_cell": 0,
    "name": "opmerking TODO",
    "tags": [
     "remove_cell"
    ]
   },
   "outputs": [],
   "source": [
    "# TODO: Uitleg extra pagina: nominaal, ordinaal etc., afhanjeklijk en onafhankelijk  \n",
    "# TODO: Uitleg transformeren data "
   ]
  },
  {
   "cell_type": "markdown",
   "id": "c8078f43",
   "metadata": {
    "lines_to_next_cell": 0
   },
   "source": [
    "<!-- ## /OPENBLOK: Data-aanmaken.py -->\n",
    "## Toepassing\n",
    "\n",
    "Gebruik de *Chi-kwadraat toets voor goodness of fit* om te onderzoeken of de geobserveerde frequenties van de categorieën van één categorische variabele overeenkomt met de verwachte frequenties van de categorische variabele.[^6]<sup>,</sup>[^7] Met deze toets kan een geobserveerd percentage met een bekend of verwacht percentage vergeleken worden. Gebruik de exacte *binomiaaltoets* bij een laag aantal observaties, dit wordt bij de assumpties toegelicht.[^1] \n",
    "\n",
    "## Onderwijscasus\n",
    "<div id = \"casus\">\n",
    "De controller van een universiteit is geïnteresseerd in de instroom van studenten met een hbo vooropleiding. Zij wil weten of haar universiteit relatief veel studenten met een vooropleiding in het hbo heeft in vergelijking met het landelijke gemiddelde. Op de website van de VSNU vindt ze dat studenten met een hbo vooropleiding 11,13% uitmaken van de totale instroom voor Bachelors en Masters in het wetenschappelijk onderwijs (wo) in 2018.[^2] Ze wil weten of er op haar instelling naar verhouding evenveel hbo-studenten zijn als het landelijk gemiddelde.\n",
    "\n",
    "Dit onderzoek vertaalt zich in de volgende combinatie van hypothesen, waarbij de nulhypothese zo geformuleerd is dat er geen effect of verschil is en de alternatieve hypothese zo geformuleerd is dat er wel een effect of verschil is.\n",
    "\n",
    "H<sub>0</sub>: De verdeling van de vooropleiding van de instromende studenten is gelijk aan de landelijke verdeling (11,13% met een hbo vooropleiding). \n",
    "\n",
    "H<sub>A</sub>: De verdeling van de vooropleiding van de instromende studenten is niet gelijk aan de landelijke verdeling (11,13% met een hbo vooropleiding).\n",
    "</div>\n",
    "\n",
    "## Assumpties\n",
    "\n",
    "Om de *Chi-kwadraat toets voor goodness of fit* uit te voeren, moet de variabele nominaal[^9] of ordinaal[^8] zijn.[^6] De exacte *binomiaaltoets* vereist een binaire[^3] variabele. In deze casus is de categorische variabele binair. \n",
    "\n",
    "De categorieën van de variabele mogen niet overlappen, wat wil zeggen dat elke observatie slechts in een van de categorieën past. Voor de *Chi-kwadraat toets voor goodness of fit* mag in niet meer dan 20% van de categorieën van de variabele de verwachte frequentie minder dan vijf zijn. Als dit wel het geval is, gebruik dan de *binomiaaltoets*.[^7]\n",
    "\n",
    "## De data bekijken\n",
    "\n",
    "<!-- ## TEKSTBLOK: Data-bekijken1.py -->\n",
    "Er is een dataset ingeladen genaamd `dfInstroom_2018_totaal`. Dit is een dataframe met studentnummers en een binaire variabele die laat zien of de student wel of geen hbo vooropleiding heeft.\n",
    "<!-- ## /TEKSTBLOK: Data-bekijken1.py -->\n",
    "\n",
    "<!-- ## OPENBLOK: Data-bekijken2.py -->"
   ]
  },
  {
   "cell_type": "code",
   "execution_count": null,
   "id": "6ea668b9",
   "metadata": {
    "collapse": true,
    "lines_to_next_cell": 0,
    "name": "data bekijken-1"
   },
   "outputs": [],
   "source": [
    "## Importeer nuttige packages\n",
    "import numpy as np\n",
    "import pandas as pd\n",
    "import scipy.stats as sps"
   ]
  },
  {
   "cell_type": "code",
   "execution_count": null,
   "id": "08a92da1",
   "metadata": {
    "echo": true,
    "lines_to_next_cell": 0,
    "name": "kruistabel rapportage",
    "tags": [
     "remove_cell"
    ]
   },
   "outputs": [],
   "source": [
    "df = pd.read_csv(\"../data/11_Instroom_2018_totaal.csv\")\n",
    "dfInstroom_2018_totaal = df.loc[:, ~df.columns.str.contains('^Unnamed')]\n",
    "df = pd.read_csv(\"../data/11_Instroom_2018_totaal_steekproef.csv\")\n",
    "dfInstroom_2018_totaal_steekproef = df.loc[:, ~df.columns.str.contains('^Unnamed')]\n"
   ]
  },
  {
   "cell_type": "code",
   "execution_count": null,
   "id": "fa578d72",
   "metadata": {},
   "outputs": [],
   "source": [
    "## Eerste 5 observaties\n",
    "print(dfInstroom_2018_totaal.head(5))"
   ]
  },
  {
   "cell_type": "code",
   "execution_count": null,
   "id": "74217738",
   "metadata": {
    "collapse": true,
    "lines_to_next_cell": 0,
    "name": "data bekijken-2"
   },
   "outputs": [],
   "source": [
    "## Laatste 5 observaties\n",
    "print(dfInstroom_2018_totaal.tail(5))"
   ]
  },
  {
   "cell_type": "markdown",
   "id": "c681149f",
   "metadata": {
    "lines_to_next_cell": 0
   },
   "source": [
    "<!-- ## /OPENBLOK: Data-bekijken2.py -->\n",
    "\n",
    "Het is informatief om het percentage studenten met hbo vooropleiding in de data te bepalen.\n",
    "\n",
    "<!-- ## OPENBLOK: Data-bekijken3.py -->"
   ]
  },
  {
   "cell_type": "code",
   "execution_count": null,
   "id": "40b22dfa",
   "metadata": {
    "lines_to_next_cell": 0,
    "name": "percentage berekenen"
   },
   "outputs": [],
   "source": [
    "# Maak een tabel met percentages\n",
    "Percentages = 100 * pd.crosstab(dfInstroom_2018_totaal['hbo_vooropleiding'], columns = 'count',\n",
    "normalize = 'columns')\n",
    "\n",
    "# Print de tabel\n",
    "print(Percentages)"
   ]
  },
  {
   "cell_type": "markdown",
   "id": "55d896da",
   "metadata": {},
   "source": [
    "<!-- ## /OPENBLOK: Data-bekijken3.py -->\n",
    "\n",
    "<!-- ## TEKSTBLOK: Data-bekijken4.py -->\n",
    "Het percentage studenten met hbo vooropleiding is `r Round_and_format(py$Percentages[1, 1])`. Dit percentage lijkt hoger te liggen dan het landelijk percentage van 11,13%. De *Chi-kwadraat toets voor goodness of fit* of de *binomiaaltoets* toetst of dit verschil significant is.\n",
    "<!-- ## /TEKSTBLOK: Data-bekijken4.py -->\n",
    "\n",
    "## Chi-kwadraat toets voor goodness of fit\n",
    "\n",
    "### Asssumptie verwachte frequenties\n",
    "\n",
    "<!-- ## TEKSTBLOK: Assumptie.py -->\n",
    "Het verwacht aantal observaties mag niet vijf of minder zijn in 20% van de categorieën van de categorische variabele. Aangezien er een binaire variabele getoetst wordt, mag geen van beide categorieën dus vijf of minder verwachte observaties hebben. Bereken het verwacht aantal observaties door de proporties van de nulhyothese (11,3% met hbo vooropleiding, dus 0,113 en 1 - 0,113) te vermenigvuldigen met het totaal aantal observaties in de dataset (`len(dfInstroom_2018_totaal)`).\n",
    "<!-- ## /TEKSTBLOK: Assumptie.py -->"
   ]
  },
  {
   "cell_type": "markdown",
   "id": "91b77371",
   "metadata": {
    "lines_to_next_cell": 0
   },
   "source": [
    "<!-- ## OPENBLOK: Assumptie1.py -->"
   ]
  },
  {
   "cell_type": "code",
   "execution_count": null,
   "id": "123853c4",
   "metadata": {
    "lines_to_next_cell": 0,
    "name": "chi2 assumptie"
   },
   "outputs": [],
   "source": [
    "# Sla de verwachte proporties op in een vector\n",
    "Verwachte_proporties = np.array([0.113, 1 - 0.113])\n",
    "\n",
    "# Bereken het verwachte aantal observaties door de verwachte proporties met het totaal aantal observaties te vermenigvuldigen\n",
    "Verwacht_aantal_observaties = Verwachte_proporties * len(dfInstroom_2018_totaal)\n",
    "\n",
    "# Print het verwachte aantal observaties\n",
    "print(Verwacht_aantal_observaties)"
   ]
  },
  {
   "cell_type": "markdown",
   "id": "312b2495",
   "metadata": {},
   "source": [
    "<!-- ## /OPENBLOK: Assumptie1.py -->\n",
    "\n",
    "Geen van de verwachte frequenties is kleiner dan vijf, dus de *Chi-kwadraat toets voor goodness of fit* kan worden uitgevoerd.\n",
    "\n",
    "### Uitvoering\n",
    "\n",
    "Voer de *Chi-kwadraat toets voor goodness of fit*  uit om te onderzoeken of de verdeling van het aantal studenten met en zonder hbo vooropleiding overeenkomt met de landelijke verdeling waarbij het percentage studenten met hbo vooropleiding 11,13% is.\n",
    "\n",
    "<!-- ## TEKSTBLOK: Chi-kwadraat1.py -->\n",
    "Bereken eerst de aantallen observaties en verwachte aantallen observaties. Gebruik daarna de functie `chisquare()` van het `scipy.stats` package met als argumenten de aantallen observaties `Aantal_observaties`, de verwachte aantallen observaties `Verwacht_aantal_observaties` en `axis = None` om aan te geven dat alle waarden in de twee vorige argumenten van dezelfde dataset afkomstig zijn. Let goed op dat de volgorde van de aantallen observaties en de verwachte aantallen observaties dezelfde volgorde hebben zodat de toets de goede vergelijking maakt.\n",
    "<!-- ## /TEKSTBLOK: Chi-kwadraat1.py -->"
   ]
  },
  {
   "cell_type": "markdown",
   "id": "54e36cfc",
   "metadata": {
    "lines_to_next_cell": 0
   },
   "source": [
    "<!-- ## OPENBLOK: Chi-kwadraat2.py-->"
   ]
  },
  {
   "cell_type": "code",
   "execution_count": null,
   "id": "d0f8bd6a",
   "metadata": {
    "name": "chi-kwadraat"
   },
   "outputs": [],
   "source": [
    "## Bereken de aantallen observaties\n",
    "Aantal_observaties = pd.crosstab(dfInstroom_2018_totaal['hbo_vooropleiding'], columns = 'count')\n",
    "\n",
    "## Zet het aantal observaties om in een numpy array. Gebruik de toevoeging .T om de array om te zetten in een rij\n",
    "Aantal_observaties = np.array(Aantal_observaties).T\n",
    "\n",
    "## Bereken de verwachte aantallen observaties\n",
    "Verwachte_proporties = np.array([0.113, 1- 0.113])\n",
    "Verwacht_aantal_observaties = Verwachte_proporties * len(dfInstroom_2018_totaal)\n",
    "\n",
    "## voer de chi-kwadraat toets uit\n",
    "sps.chisquare(Aantal_observaties, Verwacht_aantal_observaties, axis = None)\n"
   ]
  },
  {
   "cell_type": "markdown",
   "id": "ab6a7391",
   "metadata": {
    "lines_to_next_cell": 0
   },
   "source": [
    "<!-- ## /OPENBLOK: Chi-kwadraat2.py-->\n",
    "\n",
    "<!-- ## CLOSEDBLOK: Chi-kwadraat3.py-->"
   ]
  },
  {
   "cell_type": "code",
   "execution_count": null,
   "id": "63550bb0",
   "metadata": {
    "echo": true,
    "lines_to_next_cell": 0,
    "name": "chi-kwadraat verstopt",
    "tags": [
     "remove_cell"
    ]
   },
   "outputs": [],
   "source": [
    "## Bereken de aantallen observaties\n",
    "Aantal_observaties = pd.crosstab(dfInstroom_2018_totaal['hbo_vooropleiding'], columns = 'count')\n",
    "\n",
    "## Zet het aantal observaties om in een numpy array. Gebruik de toevoeging .T om de array om te zetten in een rij\n",
    "Aantal_observaties = np.array(Aantal_observaties).T\n",
    "\n",
    "## Bereken de verwachte aantallen observaties\n",
    "Verwachte_proporties = np.array([0.113, 1- 0.113])\n",
    "Verwacht_aantal_observaties = Verwachte_proporties * len(dfInstroom_2018_totaal)\n",
    "\n",
    "# Voer de chi-kwadraat toets voor goodness of fit uit\n",
    "chi2, pval = sps.chisquare(Aantal_observaties, Verwacht_aantal_observaties, axis = None)\n",
    "\n",
    "# Degrees of freedom\n",
    "vdf = 1\n",
    "\n",
    "Proporties = pd.crosstab(dfInstroom_2018_totaal['hbo_vooropleiding'], columns = 'count',\n",
    "normalize = 'columns')\n"
   ]
  },
  {
   "cell_type": "markdown",
   "id": "b8a5fe9c",
   "metadata": {},
   "source": [
    "<!-- ## /CLOSEDBLOK: Chi-kwadraat3.py-->\n",
    "\n",
    "<!-- ## TEKSTBLOK: Chi-kwadraat4.py-->\n",
    "* &chi;^2^~`r Round_and_format(py$vdf)`~ = `r Round_and_format(py$chi2)`, *p* < 0,0001\n",
    "* De p-waarde is kleiner dan 0,05, dus de H<sub>0</sub> wordt verworpen.[^5]\n",
    "\n",
    "<!-- ## /TEKSTBLOK: Chi-kwadraat4.py-->\n"
   ]
  },
  {
   "cell_type": "markdown",
   "id": "68c7a125",
   "metadata": {},
   "source": [
    "### Rapportage\n",
    "<!-- ## TEKSTBLOK: Chi-kwadraat5.py-->\n",
    "De *Chi-kwadraat toets voor goodness of fit* is uitgevoerd om te onderzoeken of de verdeling van het instromende aantal studenten van een universiteit met en zonder hbo vooropleiding verschilt van de landelijke verdeling waarbij het percentage studenten met een hbo vooropleiding 11,13% is. De verdeling van de instromende studenten van de universiteit is significant verschillend van de landelijke verdeling, &chi;^2^~`r Round_and_format(py$vdf)`~ = `r Round_and_format(py$chi2)`, *p* < 0,0001. Het percentage instromende studenten met een hbo vooropleiding is `r Round_and_format(py$Proporties[1, 1])`. Aan de hand van de resultaten kan geconcludeerd worden dat het percentage studenten met een hbo vooropleiding hoger ligt dan het landelijk gemiddelde van 11,13%.\n",
    "\n",
    "<!-- ## /TEKSTBLOK: Chi-kwadraat5.py-->\n"
   ]
  },
  {
   "cell_type": "markdown",
   "id": "146a7bfd",
   "metadata": {
    "lines_to_next_cell": 0
   },
   "source": [
    "## Binomiaaltoets\n",
    "\n",
    "### Uitvoering\n",
    "\n",
    "<!-- ## TEKSTBLOK: Binomiaaltoets1.py -->\n",
    "Voer de *binomiaaltoets*  uit om te onderzoeken of de verdeling van het aantal studenten met en zonder hbo vooropleiding overeenkomt met de landelijke verdeling waarbij het percentage studenten met hbo vooropleiding 11,13% is. Deze toets is een alternatief voor de *Chi-kwadraat toets voor goodness of fit* bij lage verwachte aantallen observaties. Er is een subset `dfInstroom_2018_totaal_steekproef` van de dataset `dfInstroom_2018_totaal` ingeladen met daarin een lager aantal observaties.\n",
    "\n",
    "Maak een tabel van de variabele `hbo_vooropleiding` om het aantal observaties per categorie te tellen. Bereken het verwacht aantal observaties door de proporties van de nulhyothese (11,3% met hbo vooropleiding, dus 0,113 en 1 - 0,113) te vermenigvuldigen met het totaal aantal observaties in de dataset (`len(dfInstroom_2018_totaal)`).\n",
    "<!-- ## /TEKSTBLOK: Binomiaaltoets1.py -->\n",
    "\n",
    "<!-- ## OPENBLOK: Binomiaaltoets2.py -->"
   ]
  },
  {
   "cell_type": "code",
   "execution_count": null,
   "id": "c6926122",
   "metadata": {
    "lines_to_next_cell": 0,
    "name": "chi2 assumptie binomiaaltoets"
   },
   "outputs": [],
   "source": [
    "# Bereken de aantallen observaties\n",
    "Aantal_observaties = pd.crosstab(dfInstroom_2018_totaal_steekproef['hbo_vooropleiding'], columns = 'count')\n",
    "\n",
    "# Print het aantal observaties\n",
    "print(Aantal_observaties)\n",
    "\n",
    "# Sla de verwachte proporties op in een vector\n",
    "Verwachte_proporties = np.array([0.113, 1 - 0.113])\n",
    "\n",
    "# Bereken het verwachte aantal observaties door de verwachte proporties met het totaal aantal observaties te vermenigvuldigen\n",
    "Verwacht_aantal_observaties = Verwachte_proporties * len(dfInstroom_2018_totaal_steekproef)\n",
    "\n",
    "# Print het verwachte aantal observaties\n",
    "print(Verwacht_aantal_observaties)"
   ]
  },
  {
   "cell_type": "markdown",
   "id": "2ea5ef5f",
   "metadata": {},
   "source": [
    "<!-- ## /OPENBLOK: Binomiaaltoets2.py -->\n",
    "\n",
    "<!-- ## TEKSTBLOK: Binomiaaltoets3.py -->\n",
    "Het aantal studenten met een hbo vooropleiding is `r Round_and_format(py$Aantal_observaties[1, 1])` en het aantal zonder hbo vooropleiding `r Round_and_format(py$Aantal_observaties[2, 1])`. Het verwachte aantal observaties met een hbo vooropleiding is `r Round_and_format(py$Verwacht_aantal_observaties[1])` wat kleiner dan vijf is. Voer daarom de *binomiaaltoets* uit, aangezien meer dan 20% van de categorieën een verwacht aantal observaties van vijf of minder heeft.\n",
    "<!-- ## /TEKSTBLOK: Binomiaaltoets3.py -->\n",
    "\n",
    "<!-- ## TEKSTBLOK: Binomiaaltoets4.py -->\n",
    "Bereken eerst het aantal studenten met een hbo vooropleiding in de dataset en het totaal aantal studenten in de dataset. Voer daarna de *binomiaaltoets* uit met de functie `binom_._test()` van het `scipy` package met de argumenten `x = Aantal_hbo_vooropleiding` voor de hoeveelheid studenten met een hbo vooropleiding, `n = Aantal_observaties` voor de totale instroom van de universiteit, `p = 0.1113` voor de referentieproportie en  `alternative = two-sided` voor het soort toets (eenzijdig of tweezijdig). Bereken tenslotte handmatig de proportie studenten met een hbo vooropleiding.\n",
    "<!-- ## /TEKSTBLOK: Binomiaaltoets4.py -->"
   ]
  },
  {
   "cell_type": "markdown",
   "id": "58f7fe51",
   "metadata": {
    "lines_to_next_cell": 0
   },
   "source": [
    "<!-- ## OPENBLOK: Binomiaaltoets5.py -->"
   ]
  },
  {
   "cell_type": "code",
   "execution_count": null,
   "id": "04d3fa48",
   "metadata": {
    "lines_to_next_cell": 0,
    "name": "Tekentoets"
   },
   "outputs": [],
   "source": [
    "# Bereken het aantal observaties met hbo vooropleiding\n",
    "Aantal_hbo_vooropleiding = sum(dfInstroom_2018_totaal_steekproef['hbo_vooropleiding'] == 'ja')\n",
    "\n",
    "# Bereken het totaal aantal observaties\n",
    "Aantal_observaties = len(dfInstroom_2018_totaal_steekproef)\n",
    "\n",
    "# Voer de binomiaaltoets uit\n",
    "sps.binom_test(x = Aantal_hbo_vooropleiding, n = Aantal_observaties, p = 0.113, alternative = 'two-sided')\n",
    "\n",
    "# Bereken de proportie studenten met een hbo vooropleiding\n",
    "Proportie_hbo_vooropleiding = Aantal_hbo_vooropleiding / Aantal_observaties\n",
    "\n",
    "# Print de proportie\n",
    "print(Proportie_hbo_vooropleiding)\n"
   ]
  },
  {
   "cell_type": "markdown",
   "id": "f3189938",
   "metadata": {
    "lines_to_next_cell": 0
   },
   "source": [
    "<!-- ## /OPENBLOK: Binomiaaltoets5.py -->\n",
    "\n",
    "<!-- ## CLOSEDBLOK: Binomiaaltoets6.py -->"
   ]
  },
  {
   "cell_type": "code",
   "execution_count": null,
   "id": "ed35bf37",
   "metadata": {
    "lines_to_next_cell": 0,
    "tags": [
     "remove_input"
    ]
   },
   "outputs": [],
   "source": [
    "# Bereken het aantal observaties met hbo vooropleiding\n",
    "Aantal_hbo_vooropleiding = sum(dfInstroom_2018_totaal_steekproef['hbo_vooropleiding'] == 'ja')\n",
    "\n",
    "# Bereken het totaal aantal observaties\n",
    "Aantal_observaties = len(dfInstroom_2018_totaal_steekproef)\n",
    "\n",
    "# Voer de binomiaaltoets uit\n",
    "pval = sps.binom_test(x = Aantal_hbo_vooropleiding, n = Aantal_observaties, p = 0.113, alternative = 'two-sided')\n"
   ]
  },
  {
   "cell_type": "markdown",
   "id": "771ada60",
   "metadata": {},
   "source": [
    "<!-- ## /CLOSEDBLOK: Binomiaaltoets6.py -->\n",
    "\n",
    "<!-- ## TEKSTBLOK: Binomiaaltoets7.py-->\n",
    "* de geschatte proportie studenten met een hbo vooropleiding in de data is `r Round_and_format(py$Proportie_hbo_vooropleiding)`.[^8]\n",
    "* p-waarde = `r Round_and_format(py$pval)`, dus de H<sub>0</sub> kan niet worden verworpen.[^5]  \n",
    "\n",
    "<!-- ## /TEKSTBLOK: Binomiaaltoets7.py-->"
   ]
  },
  {
   "cell_type": "markdown",
   "id": "b26fa5c8",
   "metadata": {},
   "source": [
    "### Rapportage\n",
    "\n",
    "<!-- ## TEKSTBLOK: Binomiaaltoets8.py-->\n",
    "De *binomiaaltoets* is uitgevoerd om te onderzoeken of de verdeling van het instromende aantal studenten van een universiteit met en zonder hbo vooropleiding voor een dataset met een laag aantal observaties verschilt van de landelijke verdeling waarbij het percentage studenten met een hbo vooropleiding 11,13% is. De verdeling van het aantal instromende studenten met een zonder hbo vooropleiding is niet significant verschillend van de landelijke verdeling (*p* = `r Round_and_format(py$pval)`), dus de nulhypothese kan niet verworpen worden. De schatting van het percentage is `r Round_and_format(py$Proportie_hbo_vooropleiding)`% en is niet significant verschillend van het landelijk gemiddelde van 11,13%. De resultaten suggereren dat het percentage studenten met een hbo vooropleiding niet hoger ligt dan het landelijk gemiddelde van 11,13%.\n",
    "\n",
    "<!-- ## /TEKSTBLOK: Binomiaaltoets8.py-->\n",
    "\n"
   ]
  },
  {
   "cell_type": "markdown",
   "id": "3d089c0a",
   "metadata": {
    "lines_to_next_cell": 0
   },
   "source": [
    "<!-- ## CLOSEDBLOK: Footer.R -->"
   ]
  },
  {
   "cell_type": "markdown",
   "id": "7949a8f3",
   "metadata": {},
   "source": [
    "<!-- ## /CLOSEDBLOK: Footer.R -->\n",
    "\n",
    "[^1]: Agresti, A. (2003). *Categorical data analysis*. Vol. 482, John Wiley & Sons.\n",
    "[^2]: Het percentage is een berekening op basis van cijfers van de Vereniging van Universiteiten (VSNU). In 2018 zijn er 102.147 studenten ingestroomd in Universitaire Bachelors en Masters. In dat zelfde jaar stroomden bij de universiteiten 11.374 studenten met een hbo vooropleiding in. Deze studenten maken dus 11,13% uit van de totale instroom.  Zie respectievelijk: Vereniging van Universiteiten (2019). *Downloadbare tabellen Studenten*. Opgehaald van de website van de VSNU: https://www.vsnu.nl/nl_NL/f_c_studenten_downloads.html. Vereniging van Universiteiten (2019). *Factsheet - Nederlandse Universiteiten Zijn Toegankelijk*. Opgehaald van de website van de VSNU: https://www.vsnu.nl/files/documenten/Nederlands%20universiteiten%20zijn%20toegankelijk%20-%20tbv%20AO%20Toegankelijkheid%20en%20Kansengelijkheid%20in%20het%20hoger%20onderwijs%20d.d.%2020-2-2019.pdf\n",
    "[^3]: Binaire variabelen: twee elkaar uitsluitende waarden, zoals ja of nee, 0 of 1, aan of uit.\n",
    "[^4]: Een proportie van een bepaalde categorie is de frequentie van de categorie gedeeld door het totaal aantal observaties. Het kan gezien worden als de kans van een bepaalde categorie en bevat een waarde tussen 0 en 1.\n",
    "[^5]: In dit voorbeeld wordt uitgegaan van een waarschijnlijkheid van 95% c.q. een p-waardegrens van 0,05. De grens is naar eigen inzicht aan te passen; houd hierbij rekening met type I en type II fouten.\n",
    "[^6]: Laerd Statistics (2018). *Chi-Square Goodness-of-Fit Test in SPSS Statistics*. https://statistics.laerd.com/spss-tutorials/chi-square-goodness-of-fit-test-in-spss-statistics.php\n",
    "[^7]: Allen, P. & Bennett, K. (2012). *SPSS A practical Guide version 20.0*. Cengage Learning Australia Pty Limited.\n",
    "[^8]: Een ordinale variabele is een categorische variabele waarbij de categorieën geordend kunnen worden. Een voorbeeld is de variabele beoordeling met de categorieën Onvoldoende, Voldoende, Goed en Uitstekend.\n",
    "[^9]: Een nominale variabele is een categorische variabele waarbij de categorieën niet geordend kunnen worden. Een voorbeeld is de variabele windstreek (noord, oost, zuid, west) en geslacht (man of vrouw).\n",
    "\n",
    "<!-- ## TEKSTBLOK: Extra-Bron.py -->\n",
    "[^8]: De proportie studenten met hbo vooropleiding en bijbehorend 95%-betrouwbaarheidsinterval worden bij deze Python functie niet weergegeven. Bij de uitvoering van *binomiaaltoets* in R zitten beide wel in de output.\n",
    "<!-- ## /TEKSTBLOK: Extra-Bron.py -->\n"
   ]
  }
 ],
 "metadata": {
  "jupytext": {
   "cell_metadata_filter": "name,code,include,message,warning,collapse,eval,results,tags,echo,-all",
   "main_language": "python",
   "notebook_metadata_filter": "-all"
  },
  "kernelspec": {
   "display_name": "Python 3 (ipykernel)",
   "language": "python",
   "name": "python3"
  },
  "language_info": {
   "codemirror_mode": {
    "name": "ipython",
    "version": 3
   },
   "file_extension": ".py",
   "mimetype": "text/x-python",
   "name": "python",
   "nbconvert_exporter": "python",
   "pygments_lexer": "ipython3",
   "version": "3.10.4"
  }
 },
 "nbformat": 4,
 "nbformat_minor": 5
}
