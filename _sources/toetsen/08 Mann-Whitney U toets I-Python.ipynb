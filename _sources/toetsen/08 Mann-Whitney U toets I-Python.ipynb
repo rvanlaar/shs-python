{
 "cells": [
  {
   "cell_type": "raw",
   "id": "d59b9d61",
   "metadata": {
    "lines_to_next_cell": 0
   },
   "source": [
    "---\n",
    "title: \"Mann-Whitney U toets\"\n",
    "output:\n",
    "  html_document:\n",
    "    theme: lumen\n",
    "    toc: yes\n",
    "    toc_depth: 2\n",
    "    toc_float: \n",
    "      collapsed: FALSE \n",
    "    number_sections: true\n",
    "    includes:\n",
    "      in_header: [\"../01. Includes/html/nocache.html\", \"../01. Includes/html/favicon.html\", \"../01. Includes/html/analytics.html\"]\n",
    "  keywords: [statistisch handboek, studiedata]\n",
    "---"
   ]
  },
  {
   "cell_type": "markdown",
   "id": "2a7a2a5e",
   "metadata": {},
   "source": [
    "# Mann-Whitney U toets"
   ]
  },
  {
   "cell_type": "markdown",
   "id": "b0fe471d",
   "metadata": {
    "lines_to_next_cell": 0
   },
   "source": [
    "<!-- ## CLOSEDBLOK: Functies.py -->"
   ]
  },
  {
   "cell_type": "markdown",
   "id": "6e7d020b",
   "metadata": {},
   "source": [
    "<!-- ## /OPENBLOK: Data-aanmaken.py -->\n",
    "## Toepassing\n",
    "\n",
    "<!-- ## TEKSTBLOK: link1.py -->\n",
    "Gebruik de *Mann-Whitney U toets* om te toetsen of de gemiddelde rangnummers van de verdelingen van twee ongepaarde groepen van elkaar verschillen.[^1] De *Mann-Whitney U toets* is een alternatief voor de [ongepaarde t-toets](03-Ongepaarde-t-toets-R.Python) als de verdelingen niet normaal verdeeld zijn. Alleen als de verdelingen van beide groepen dezelfde vorm hebben, kan de *Mann-Whitney U toets* ook gebruikt worden om het verschil tussen de medianen van twee groepen te toetsen.[^9] Gebruik *Mood's mediaan toets* om medianen te toetsen bij twee ongepaarde groepen waarvan de verdelingen niet dezelfde vorm hebben.\n",
    "<!-- ## /TEKSTBLOK: link1.py -->"
   ]
  },
  {
   "cell_type": "markdown",
   "id": "9dab27a5",
   "metadata": {},
   "source": [
    "## Onderwijscasus\n",
    "<div id =\"casus\">\n",
    "De onderwijsdirecteur van de opleiding Business Administration van een hogeschool vraagt zich af of er verschil is in de studieresultaten van studenten met een Nederlandse vooropleiding en een buitenlandse vooropleiding. Met name in het tweede studiejaar lijken er verschillen op te treden die hij wil begrijpen om mogelijke interventies met zijn docenten te bespreken. Hij vraagt zich af: ‘Verschilt het aantal studiepunten in het tweede studiejaar van studenten met een Nederlandse vooropleiding van het aantal studiepunten in het tweede studiejaar van studenten met een buitenlandse vooropleiding?\n",
    "\n",
    "Dit onderzoek vertaalt zich in de volgende combinatie van hypothesen, waarbij de nulhypothese zo geformuleerd is dat er geen effect of verschil is en de alternatieve hypothese zo geformuleerd is dat er wel een effect of verschil is.\n",
    "\n",
    "*H<sub>0</sub>*: Er is geen verschil in het gemiddelde rangnummer van het behaalde aantal studiepunten in het tweede jaar tussen studenten met een buitenlandse vooropleiding en een Nederlandse vooropleiding.\n",
    "\n",
    "*H<sub>A</sub>*: Er is een verschil in  gemiddelde rangnummer van het behaalde aantal studiepunten in het tweede jaar tussen studenten met een buitenlandse vooropleiding en een Nederlandse vooropleiding. Eén van beide verdelingen bevat hogere waarden betreffende het behaalde aantal studiepunten.\n",
    "</div>\n",
    "\n",
    "## Assumpties\n",
    "<!-- ## TEKSTBLOK: link2.py -->\n",
    "Het meetniveau van de afhankelijke variabele is ordinaal[^12] of continu.[^9] In deze toetspagina staat een casus met continue data centraal; een casus met ordinale data met bijbehorende uitwerking is te vinden in de [Mann-Whitney U toets II](23-Mann-Whitney-U-toets-II-Python.html).\n",
    "\n",
    "De *Mann-Whitney U toets* hoeft - in tegenstelling tot de [ongepaarde t-toets](03-Ongepaarde-t-toets-Python.html) - niet te voldoen aan de assumptie van normaliteit.  Daarnaast hebben uitbijters minder invloed op het eindresultaat dan bij de [ongepaarde t-toets](03-Ongepaarde-t-toets-Python.html). Daarentegen, als de data wel normaal verdeeld is, heeft de *Mann-Whitney U toets* minder onderscheidend vermogen[^2] dan de [ongepaarde t-toets](03-Ongepaarde-t-toets-Python.html). Vandaar dat ondanks het voordeel van de grotere robuustheid er toch minder vaak voor de *Mann-Whitney U toets* gekozen wordt.\n",
    "<!-- ## /TEKSTBLOK: link2.py -->\n",
    "\n",
    "### Verdeling steekproeven\n",
    "\n",
    "De *Mann-Whitney U toets* schrijft geen assumpties voor over de verdeling van de twee ongepaarde groepen.[^9] In principe toetst de *Mann-Whitney U toets* een hypothese over het verschil tussen het gemiddelde rangnummer van de verdelingen van twee ongepaarde groepen. De *Mann-Whitney U toets* maakt een rangschikking van alle observaties van beide groepen samengevoegd en telt vervolgens apart de rangnummers op voor de observaties in beide groepen. Met behulp van de groepsgroottes kan ook het gemiddelde rangnummer van beide groepen berekend worden. Het verschil tussen de gemiddelde rangnummers in beide groepen bepaalt de significantie van de toets.[^10]  Daarom kan de *Mann-Whitney U toets* gezien worden als een toets die het gemiddelde rangnummer van twee groepen vergelijkt.\n",
    "\n",
    "Als de verdelingen van de groepen niet dezelfde vorm hebben, doet de *Mann-Whitney U toets* een uitspraak over het verschil tussen verdelingen. Een verschil tussen verdelingen kan meerdere oorzaken hebben. De top of toppen van de verdelingen kunnen verschillend zijn, maar ook de spreiding van de verdeling kan verschillen.[^9] In alle gevallen is er echter een verschil tussen het gemiddelde rangnummer van de verdelingen. In andere woorden, de ene verdeling bevat hogere waarden dan de andere verdeling. Benoem daarom het gemiddelde rangnummer van beide groepen in de rapportage en visualiseer de verdeling van beide groepen om duidelijk te maken op welke manier de verdelingen van elkaar verschillen.\n",
    "\n",
    "Als de verdelingen van beide ongepaarde groepen echter dezelfde vorm hebben, toetst de *Mann-Whitney U toets* ook een hypothese over het verschil tussen de medianen. Immers, het enige verschil tussen de verdeling is in dat geval een verschuiving van de verdeling, dus een verandering van de mediaan. In dat geval heeft de *Mann-Whitney U toets* een hoger onderscheidend vermogen[^2] dan *Mood's mediaan toets* om medianen te toetsen.[^10]"
   ]
  },
  {
   "cell_type": "markdown",
   "id": "d93fdb18",
   "metadata": {
    "lines_to_next_cell": 0
   },
   "source": [
    "## Effectmaat\n",
    "\n",
    "De p-waarde geeft aan of een (mogelijk) verschil tussen twee groepen significant is. De grootte van het verschil of effect is echter ook relevant. Een effectmaat is een gestandaardiseerde maat die de grootte van een effect weergeeft, zodat effecten van verschillende onderzoeken met elkaar vergeleken kunnen worden.[^3] \n",
    "\n",
    "De *Mann-Whitney U toets* heeft als effectmaat *r*. Een indicatie om *r* te interpreteren is: rond 0,1 is het een klein effect, rond 0,3 is het een gemiddeld effect en rond 0,5 is het een groot effect.[^5] De effectmaat *r* wordt voor de *Mann-Whitney U toets* berekend door de\n",
    "*z*-waarde behorend bij de *p*-waarde van de toets te delen door de wortel van\n",
    "het aantal observaties, i.e. $\\frac{z}{\\sqrt{N}}$.[^5] Een correlatie tussen twee variabelen wordt vaak ook aangeduid met het symbool *r*. Beide zijn effectmaten, maar er is verder geen verband tussen de correlatie en de effectmaat van de *Wilcoxon signed rank toets*.\n",
    "\n",
    "## Uitvoering \n",
    "<!-- ## TEKSTBLOK: Dataset-inladen.py -->\n",
    "Er is data ingeladen met het aantal studiepunten dat studenten in het tweede jaar halen. `dfPunten_jaar2_NL` bevat Nederlandse studenten, `dfPunten_jaar2_inter` bevat internationale studenten. \n",
    "<!-- ## /TEKSTBLOK: Dataset-inladen.py -->\n",
    "\n",
    "### De data bekijken\n",
    "<!-- ## TEKSTBLOK: Data-bekijken.py -->\n",
    "Gebruik `<dataframe>.head()` en `<dataframe>.tail()` om de structuur van de data te bekijken.\n",
    "<!-- ## /TEKSTBLOK: Data-bekijken.py -->\n",
    "<!-- ## OPENBLOK: Data-bekijken.py -->"
   ]
  },
  {
   "cell_type": "code",
   "execution_count": null,
   "id": "2bfe71ee",
   "metadata": {
    "lines_to_next_cell": 0
   },
   "outputs": [],
   "source": [
    "# Pandas library importeren\n",
    "import pandas as pd"
   ]
  },
  {
   "cell_type": "code",
   "execution_count": null,
   "id": "baf37262",
   "metadata": {
    "tags": [
     "remove_cell"
    ]
   },
   "outputs": [],
   "source": [
    "df = pd.read_csv(\"../data/08_Studiepunten_studiejaar2.csv\")\n",
    "dfStudiepunten_studiejaar2 = df.loc[:, ~df.columns.str.contains('^Unnamed')]"
   ]
  },
  {
   "cell_type": "code",
   "execution_count": null,
   "id": "6d6ab9bd",
   "metadata": {
    "collapse": true
   },
   "outputs": [],
   "source": [
    "## Eerste 6 observaties\n",
    "print(dfStudiepunten_studiejaar2.head(6))"
   ]
  },
  {
   "cell_type": "code",
   "execution_count": null,
   "id": "9c00a5e8",
   "metadata": {
    "collapse": true,
    "lines_to_next_cell": 0
   },
   "outputs": [],
   "source": [
    "## Laatste 6 observaties\n",
    "print(dfStudiepunten_studiejaar2.tail(6))"
   ]
  },
  {
   "cell_type": "markdown",
   "id": "69741614",
   "metadata": {
    "lines_to_next_cell": 0
   },
   "source": [
    "<!-- ## /OPENBLOK: Data-bekijken.py -->\n",
    "<!-- ## TEKSTBLOK: Data-beschrijven.py -->\n",
    "Bekijk de grootte, de mediaan en de kwantielen van de data met `np.size()` en `np.quantile()`. De mediaan en kwantielen worden vaak gebruikt als maat wanneer een verdeling niet symmetrisch is.\n",
    "<!-- ## /TEKSTBLOK: Data-beschrijven.py -->\n",
    "<!-- ## OPENBLOK: Data-selecteren.py -->"
   ]
  },
  {
   "cell_type": "code",
   "execution_count": null,
   "id": "47d4e203",
   "metadata": {
    "lines_to_next_cell": 0,
    "name": "data selecteren"
   },
   "outputs": [],
   "source": [
    "Studiepunten_Nederlands = dfStudiepunten_studiejaar2[\n",
    "    dfStudiepunten_studiejaar2[\"Vooropleiding\"] == \"Nederlands\"][\"Studiepunten\"]\n",
    "Studiepunten_buitenlands = dfStudiepunten_studiejaar2[\n",
    "    dfStudiepunten_studiejaar2[\"Vooropleiding\"] == \"buitenlands\"][\"Studiepunten\"]"
   ]
  },
  {
   "cell_type": "markdown",
   "id": "abd6ad6d",
   "metadata": {
    "lines_to_next_cell": 0
   },
   "source": [
    "<!-- ## /OPENBLOK: Data-selecteren.py -->\n",
    "\n",
    "<!-- ## OPENBLOK: Numpy-inladen.py -->"
   ]
  },
  {
   "cell_type": "code",
   "execution_count": null,
   "id": "088bdff3",
   "metadata": {
    "lines_to_next_cell": 0
   },
   "outputs": [],
   "source": [
    "import numpy as np"
   ]
  },
  {
   "cell_type": "markdown",
   "id": "d1002d5d",
   "metadata": {
    "lines_to_next_cell": 0
   },
   "source": [
    "<!-- ## /OPENBLOK: Numpy-inladen.py -->\n",
    "\n",
    "<div class=\"col-container\">\n",
    "  <div class=\"col\">\n",
    "<!-- ## OPENBLOK: Data-beschrijven-1.py -->"
   ]
  },
  {
   "cell_type": "code",
   "execution_count": null,
   "id": "01bfaef9",
   "metadata": {
    "collapse": true,
    "lines_to_next_cell": 0
   },
   "outputs": [],
   "source": [
    "print(np.size(Studiepunten_Nederlands))\n",
    "print(np.quantile(Studiepunten_Nederlands, [0, 0.25, 0.5, 0.75, 1]))"
   ]
  },
  {
   "cell_type": "markdown",
   "id": "bb525e78",
   "metadata": {
    "lines_to_next_cell": 0
   },
   "source": [
    "<!-- ## /OPENBLOK: Data-beschrijven-1.py -->\n",
    "  </div>\n",
    "  <div class=\"col\">\n",
    "<!-- ## OPENBLOK: Data-beschrijven-2.py -->"
   ]
  },
  {
   "cell_type": "code",
   "execution_count": null,
   "id": "69704982",
   "metadata": {
    "collapse": true,
    "lines_to_next_cell": 0
   },
   "outputs": [],
   "source": [
    "print(np.size(Studiepunten_buitenlands))\n",
    "print(np.quantile(Studiepunten_buitenlands, [0, 0.25, 0.5, 0.75, 1]))"
   ]
  },
  {
   "cell_type": "markdown",
   "id": "2c3818a7",
   "metadata": {},
   "source": [
    "<!-- ## /OPENBLOK: Data-beschrijven-2.py -->\n",
    "  </div>\n",
    "</div>\n",
    "<!-- ## CLOSEDBLOK: Data-beschrijven-3.py -->\n",
    "``` {python data beschrijven als object, include=FALSE, echo=TRUE}\n",
    "### Onderstaand zijn de dynamische variabelen te vinden\n",
    "q_NL = np.quantile(Studiepunten_Nederlands, [0, 0.25, 0.5, 0.75, 1])\n",
    "q_Inter = np.quantile(Studiepunten_buitenlands, [0, 0.25, 0.5, 0.75, 1])\n",
    "\n",
    "vN_NL = len(Studiepunten_Nederlands)\n",
    "vN_Inter = len(Studiepunten_buitenlands)\n",
    "\n",
    "vQ1_NL = q_NL[1]\n",
    "vQ1_Inter = q_Inter[1]\n",
    "\n",
    "vQ2_NL = q_NL[2]\n",
    "vQ2_Inter = q_Inter[2]\n",
    "\n",
    "vQ3_NL = q_NL[3]\n",
    "vQ3_Inter = q_Inter[3]\n",
    "```\n",
    "<!-- ## /CLOSEDBLOK: Data-beschrijven-3.py -->\n",
    "\n",
    "<!-- ## TEKSTBLOK: Data-beschrijven2.py -->\n",
    "* Mediaan studenten Nederlandse vooropleiding: `r Round_and_format(py$vQ2_NL)`, *n* = `r py$vN_NL`.\n",
    "* Mediaan studenten buitenlandse vooropleiding: `r Round_and_format(py$vQ2_Inter)`, *n* = `r py$vN_Inter`.\n",
    "\n",
    "<!-- ## /TEKSTBLOK: Data-beschrijven2.py -->"
   ]
  },
  {
   "cell_type": "markdown",
   "id": "512b386c",
   "metadata": {
    "lines_to_next_cell": 0
   },
   "source": [
    "### De data visualiseren\n",
    "\n",
    "Maak een histogram[^18] om de verdeling van het aantal studiepunten in het tweede jaar voor studenten met een Nederlandse en buitenlandse vooropleiding visueel weer te geven.[^13]\n",
    "\n",
    "<!-- ## OPENBLOK: Histogram1.py -->"
   ]
  },
  {
   "cell_type": "code",
   "execution_count": null,
   "id": "7088995c",
   "metadata": {
    "lines_to_next_cell": 0,
    "name": "histogram"
   },
   "outputs": [],
   "source": [
    "## Histogram met matplotlib\n",
    "import matplotlib.pyplot as plt\n",
    "fig = plt.figure(figsize = (15, 10))\n",
    "sub1 = fig.add_subplot(1, 2, 1)\n",
    "title1 = plt.title(\"Nederlandse vooropleiding\")\n",
    "hist1 = plt.hist(Studiepunten_Nederlands, density = True, edgecolor = \"black\", bins = 29)\n",
    "\n",
    "sub2 = fig.add_subplot(1, 2, 2)\n",
    "title2 = plt.title(\"Buitenlandse vooropleiding\")\n",
    "hist2 = plt.hist(Studiepunten_buitenlands, density = True, edgecolor = \"black\", bins = 31)\n",
    "\n",
    "main = fig.suptitle('Studiepunten van studenten Business Administration in het tweede jaar')\n",
    "plt.show()"
   ]
  },
  {
   "cell_type": "markdown",
   "id": "1b1dd78f",
   "metadata": {},
   "source": [
    "<!-- ## /OPENBLOK: Histogram1.py -->\n",
    "\n",
    "Beide histogrammen bevatten een grote groep studenten met een laag aantal studiepunten (twaalf of minder). De overige studenten volgen een ietwat scheve verdeling met de top rond de vijftig studiepunten. De verdelingen van beide groepen studenten hebben echter niet dezelfde vorm. De frequentie van het aantal studenten rond de vijftig studiepunten is veel hoger voor de studenten met Nederlandse vooropleiding, terwijl de frequentie van het aantal studenten met twaalf of minder studiepunten juist hoger is voor de studenten met een buitenlandse vooropleiding. De *Mann-Whitney U toets* kan in dit geval dus niet gebruikt worden om een uitspraak te doen over de significantie van het verschil van de medianen van beide groepen. "
   ]
  },
  {
   "cell_type": "markdown",
   "id": "68123ff9",
   "metadata": {
    "lines_to_next_cell": 0
   },
   "source": [
    "### Mann-Whitney U toets\n",
    "<!-- ## TEKSTBLOK: Mann-Whitney-U-toets-1.py -->\n",
    "Gebruik de functie `mannwhitneyu()` van het `scipy` package om een *Mann-Whitney U toets* te doen. Het eerste argument bevat het aantal studiepunten van studenten met een Nederlandse vooropleiding `Studiepunten_Nederlands`; het tweede argument het aantal studiepunten van studenten met een buitenlandse vooropleiding `Studiepunten_buitenlands`. Voer daarna het argument `alternative = 'two-sided'` vanwege de tweezijdige alternatieve hypothese.\n",
    "<!-- ## /TEKSTBLOK: Mann-Whitney-U-toets-1.py -->\n",
    "\n",
    "<!-- ## OPENBLOK: Mann-Whitney-U-toets-2.py -->"
   ]
  },
  {
   "cell_type": "code",
   "execution_count": null,
   "id": "4f82961b",
   "metadata": {
    "lines_to_next_cell": 0
   },
   "outputs": [],
   "source": [
    "import scipy.stats as sp\n",
    "sp.mannwhitneyu(Studiepunten_Nederlands, \n",
    "Studiepunten_buitenlands,\n",
    "alternative = 'two-sided')"
   ]
  },
  {
   "cell_type": "markdown",
   "id": "407f0697",
   "metadata": {
    "lines_to_next_cell": 0
   },
   "source": [
    "<!-- ## /OPENBLOK: Mann-Whitney-U-toets-2.py -->\n",
    "<!-- ## CLOSEDBLOK: Mann-Whitney-U-toets-3.py -->"
   ]
  },
  {
   "cell_type": "code",
   "execution_count": null,
   "id": "81598236",
   "metadata": {
    "lines_to_next_cell": 0,
    "name": "Mann Whitney U toets als object",
    "tags": [
     "remove_cell"
    ]
   },
   "outputs": [],
   "source": [
    "stat, pval = sp.mannwhitneyu(Studiepunten_Nederlands, \n",
    "Studiepunten_buitenlands,\n",
    "alternative = 'two-sided')"
   ]
  },
  {
   "cell_type": "markdown",
   "id": "fb51c373",
   "metadata": {
    "lines_to_next_cell": 0
   },
   "source": [
    "<!-- ## /CLOSEDBLOK: Mann-Whitney-U-toets-3.py -->\n",
    "\n",
    "Bereken vervolgens de effectmaat *r* op basis van de p-waarde van de *Mann-Whitney U toets*.\n",
    "\n",
    "<!-- ## OPENBLOK: Mann-Whitney-U-toets-4.py -->"
   ]
  },
  {
   "cell_type": "code",
   "execution_count": null,
   "id": "d14ef898",
   "metadata": {},
   "outputs": [],
   "source": [
    "df = pd.read_csv(\"../data/07_Alumni_jaarinkomens.csv\")\n",
    "dfAlumni_jaarinkomens = df.loc[:, ~df.columns.str.contains('^Unnamed')]\n",
    "Alumni_jaarinkomens_T1 = dfAlumni_jaarinkomens[dfAlumni_jaarinkomens[\"Meetmoment\"] == \"T1\"][\"Inkomen\"]\n",
    "Alumni_jaarinkomens_T2 = dfAlumni_jaarinkomens[dfAlumni_jaarinkomens[\"Meetmoment\"] == \"T2\"][\"Inkomen\"]"
   ]
  },
  {
   "cell_type": "code",
   "execution_count": null,
   "id": "fdc09a73",
   "metadata": {
    "lines_to_next_cell": 0,
    "name": "effectgrootte"
   },
   "outputs": [],
   "source": [
    "# Sla de p-waarde op\n",
    "stat, pval = sp.wilcoxon(Alumni_jaarinkomens_T2, Alumni_jaarinkomens_T1, alternative = 'two-sided')\n",
    "\n",
    "# Bereken de effectgrootte voor een tweezijdige toets\n",
    "Effectmaat = sp.norm.ppf(pval/2) / np.sqrt(len(Alumni_jaarinkomens_T1))\n",
    "# Bereken de effectgrootte voor een eenzijdige toets\n",
    "#r = sp.norm.ppf(pval) / np.sqrt(len(Alumni_jaarinkomens_T1))\n",
    "\n",
    "# Print de effectgrootte (vaak weergegeven als absolute waarde)\n",
    "print(np.abs(Effectmaat))\n"
   ]
  },
  {
   "cell_type": "markdown",
   "id": "e423f903",
   "metadata": {
    "lines_to_next_cell": 0
   },
   "source": [
    "<!-- ## /OPENBLOK: Mann-Whitney-U-toets-4.py -->\n",
    "\n",
    "Bereken ten slotte het gemiddelde rangnummer van beide groepen. Beoordeel op basis van de gemiddelde rangnummers welke groep hogere waardes bevat.\n",
    "<!-- ## OPENBLOK: Mann-Whitney-U-toets-5.py -->"
   ]
  },
  {
   "cell_type": "code",
   "execution_count": null,
   "id": "d9a7b221",
   "metadata": {
    "lines_to_next_cell": 0,
    "name": "sommen"
   },
   "outputs": [],
   "source": [
    "\n",
    "#dfStudiepunten_studiejaar2[dfStudiepunten_studiejaar2[\"Vooropleiding\"] == \"Nederlands\"][\"Studiepunten\"]\n",
    "vvv = dfStudiepunten_studiejaar2[\"Vooropleiding\"] == \"Nederlands\"\n",
    "print(vvv)\n",
    "\n",
    "dfStudiepunten_studiejaar2[-vvv]\n"
   ]
  },
  {
   "cell_type": "code",
   "execution_count": null,
   "id": "c980ef41",
   "metadata": {
    "lines_to_next_cell": 0
   },
   "outputs": [],
   "source": [
    "# Sla de studiepunten variabele op in vector\n",
    "Studiepunten_vector = dfStudiepunten_studiejaar2[\"Studiepunten\"]\n",
    "\n",
    "# Rangschik de studiepunten\n",
    "Rangnummers = sp.rankdata(dfStudiepunten_studiejaar2[\"Studiepunten\"])\n",
    "\n",
    "# Bepaal de index met daarin studenten met een Nederlandse vooropleiding\n",
    "Vooropleiding_Nederlands = dfStudiepunten_studiejaar2[\"Vooropleiding\"] == \"Nederlands\"\n",
    "\n",
    "# Bereken gemiddelde rangnummers\n",
    "N_positief = len(Studiepunten_vector[Vooropleiding_Nederlands == True])\n",
    "print(N_positief)\n",
    "Rangnummer_Nederlandse_vooropleiding = np.sum(Rangnummers[Vooropleiding_Nederlands == True]) / N_positief\n",
    "\n",
    "N_negatief = len(Studiepunten_vector[Vooropleiding_Nederlands == False])\n",
    "print(N_positief)\n",
    "Rangnummer_buitenlandse_vooropleiding = np.sum(Rangnummers[Vooropleiding_Nederlands == False]) / N_negatief\n",
    "\n",
    "# Print gemiddelde rangnummers\n",
    "print(Rangnummer_Nederlandse_vooropleiding)\n",
    "print(Rangnummer_buitenlandse_vooropleiding)\n"
   ]
  },
  {
   "cell_type": "markdown",
   "id": "fc46eddd",
   "metadata": {},
   "source": [
    "<!-- ## /OPENBLOK: Mann-Whitney-U-toets-5.py -->\n",
    "\n",
    "<!-- ## TEKSTBLOK: Mann-Whitney-U-toets-6.py -->\n",
    "* *W* = `r Round_and_format(py$stat)`, *p* = < 0,0001, *r* = `r Round_and_format(abs(py$Effectmaat))`\n",
    "* *p*-waarde < 0,05, dus de H<sub>0</sub> wordt verworpen.[^8]\n",
    "* Effectmaat is `r Round_and_format(abs(py$Effectmaat))`, dus een klein tot gemiddeld effect\n",
    "* Het gemiddelde rangnummer is `r Round_and_format(py$Rangnummer_Nederlandse_vooropleiding)` (*n*=`r py$N_positief`) voor studenten met een Nederlandse vooropleiding en `r Round_and_format(py$Rangnummer_buitenlandse_vooropleiding)` (*n*=`r py$N_negatief`) voor studenten met een buitenlandse vooropleiding. De verdeling van studenten met een Nederlandse vooropleiding bevat dus hogere waarden dan de verdeling van studenten met een buitenlandse vooropleiding.\n",
    "\n",
    "<!-- ## /TEKSTBLOK: Mann-Whitney-U-toets-6.py -->"
   ]
  },
  {
   "cell_type": "markdown",
   "id": "e0ccd79d",
   "metadata": {
    "lines_to_next_cell": 0
   },
   "source": [
    "## Rapportage\n",
    "<!-- ## TEKSTBLOK: Rapportage.py -->\n",
    "De *Mann-Whitney U toets* is uitgevoerd om te toetsen of het behaalde aantal studiepunten in het tweede jaar van de bachelor Business Administration hetzelfde is voor studenten met buitenlandse vooropleiding als voor studenten met Nederlandse vooropleiding. Uit de resultaten kan afgelezen worden dat er een significant verschil is tussen de verdelingen van het aantal studiepunten van studenten met een buitenlandse vooropleiding en met een Nederlandse vooropleiding, *W* = `r Round_and_format(py$stat)`, *p* < 0,0001, *r* = `r Round_and_format(abs(py$Effectmaat))`. Er is een klein tot gemiddeld effect van het verschil in het land van vooropleiding op het aantal studiepunten. Het gemiddelde rangnummer is `r Round_and_format(py$Rangnummer_Nederlandse_vooropleiding)` (*n*=`r py$N_positief`) voor studenten met een Nederlandse vooropleiding en `r Round_and_format(py$Rangnummer_buitenlandse_vooropleiding)` (*n*=`r py$N_negatief`) voor studenten met een buitenlandse vooropleiding. Studenten met een Nederlandse vooropleiding lijken dus een hoger aantal studiepunten te halen in het tweede jaar dan studenten met een buitenlandse vooropleiding.  \n",
    "<!-- ## /TEKSTBLOK: Rapportage.py -->\n",
    "\n",
    "<!-- ## CLOSEDBLOK: Footer.R -->"
   ]
  },
  {
   "cell_type": "markdown",
   "id": "3e9858e6",
   "metadata": {},
   "source": [
    "<!-- ## /CLOSEDBLOK: Footer.R -->\n",
    " \n",
    "[^1]: Van Geloven, N. (13 maart 2018). *Mann-Whitney U toets*. [Wiki Statistiek Academisch Medisch Centrum](https://wikistatistiek.amc.nl/index.php/Mann-Whitney_U_toets).\n",
    "[^2]: Onderscheidend vermogen, in het Engels power genoemd, is de kans dat de nulhypothese verworpen wordt wanneer de alternatieve hypothese 'waar' is.\n",
    "[^3]: Field, A., Miles, J., & Field, Z. (2012). *Discovering statistics using R*. London: Sage publications.\n",
    "[^5]: Allen, P. & Bennett, K. (2012). *SPSS A practical Guide version 20.0*. Cengage Learning Australia Pty Limited.\n",
    "[^6]: De mediaan van de verschilscores kan bij twee ongepaarde steekproeven bijvoorbeeld geschat worden door alle *m x n* verschilscores te berekenen tussen *m* observaties uit de ene steekproef en *n* observaties uit de andere steekproef. De mediaan van deze *m x n* verschilscores is dan de schatting.\n",
    "[^7]: Wikipedia (10 maart 2020). *Hogdes-Lehmann estimator*.[https://en.wikipedia.org/wiki/Hodges%E2%80%93Lehmann_estimator](https://en.wikipedia.org/wiki/Hodges%E2%80%93Lehmann_estimator) \n",
    "[^8]: In dit voorbeeld wordt uitgegaan van een waarschijnlijkheid van 95% c.q. een p-waardegrens van 0,05. De grens is naar eigen inzicht aan te passen; houd hierbij rekening met type I en type II fouten.\n",
    "[^9]: Laerd Statistics (2018). *Mann-Whitney U Test using SPSS Statistics*. https://statistics.laerd.com/spss-tutorials/mann-whitney-u-test-using-spss-statistics.php\n",
    "[^10]: Field, A. (2013). *Discovering statistics using IBM SPSS statistics*. Sage.\n",
    "[^11]: Voor zowel de *Mann-Whitney U toets* als de [Wilcoxon signed rank toets](07-Wilcoxon-signed-rank-toets-I-R.html) wordt functie `wilcox.test()` in R gebruikt. Het verschil is dat de *Mann-Whitney U toets* wordt uitgevoerd met het argument `paired = FALSE` en de [Wilcoxon signed rank toets](07-Wilcoxon-signed-rank-toets-I-R.html) bij het argument `paired = TRUE`, aangezien de eerste toets ongepaarde groepen en de tweede toets gepaarde groepen vergelijkt.\n",
    "[^12]: Een ordinale variabele is een categorische variabele waarbij de categorieën geordend kunnen worden. Een voorbeeld is de variabele beoordeling met de categorieën Onvoldoende, Voldoende, Goed en Uitstekend.\n",
    "[^13]: De breedte van de staven van het histogram worden hier automatisch bepaald, maar kunnen handmatig aangepast worden. Aangezien de breedte van de staven bepalend zijn voor de indruk die de visualisatie geeft, is het verstandig om hier goed op te letten.\n",
    "[^14]: Bij de *Mann-Whitney U toets* en andere nonparametrische toetsen wordt de data eerst gerangschikt zodat elke observatie een rangnummer toegewezen krijgt. Deze rangnummers worden vervolgens gebruikt om de toets uit te voeren.\n",
    "[^18]: De breedte van de staven van het histogram wordt vaak automatisch bepaald, maar kan handmatig aangepast worden. Aangezien de breedte van de staven bepalend zijn voor de indruk die de visualisatie geeft, is het verstandig om hier goed op te letten."
   ]
  }
 ],
 "metadata": {
  "jupytext": {
   "cell_metadata_filter": "include,message,name,results,code,echo,collapse,warning,tags,-all",
   "main_language": "python",
   "notebook_metadata_filter": "-all"
  },
  "kernelspec": {
   "display_name": "Python 3 (ipykernel)",
   "language": "python",
   "name": "python3"
  },
  "language_info": {
   "codemirror_mode": {
    "name": "ipython",
    "version": 3
   },
   "file_extension": ".py",
   "mimetype": "text/x-python",
   "name": "python",
   "nbconvert_exporter": "python",
   "pygments_lexer": "ipython3",
   "version": "3.10.4"
  }
 },
 "nbformat": 4,
 "nbformat_minor": 5
}
