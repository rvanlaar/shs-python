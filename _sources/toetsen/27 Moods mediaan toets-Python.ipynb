{
 "cells": [
  {
   "cell_type": "raw",
   "id": "516312f8",
   "metadata": {
    "lines_to_next_cell": 0
   },
   "source": [
    "---\n",
    "title: \"Mood's mediaan toets\"\n",
    "output:\n",
    "  html_document:\n",
    "    theme: lumen\n",
    "    toc: yes\n",
    "    toc_depth: 2\n",
    "    toc_float: \n",
    "      collapsed: FALSE \n",
    "    number_sections: true\n",
    "    includes:\n",
    "      in_header: [\"../01. Includes/html/nocache.html\", \"../01. Includes/html/favicon.html\", \"../01. Includes/html/analytics.html\"]\n",
    "  keywords: [statistisch handboek, studiedata]\n",
    "---"
   ]
  },
  {
   "cell_type": "markdown",
   "id": "6633b62a",
   "metadata": {},
   "source": [
    "# Mood's mediaan toets"
   ]
  },
  {
   "cell_type": "markdown",
   "id": "77f6a297",
   "metadata": {
    "lines_to_next_cell": 0
   },
   "source": [
    "<!-- ## CLOSEDBLOK: Functies.py -->"
   ]
  },
  {
   "cell_type": "markdown",
   "id": "5a985f49",
   "metadata": {},
   "source": [
    "<!-- ## /OPENBLOK: Data-aanmaken.py -->\n",
    "## Toepassing\n",
    "<!-- ## TEKSTBLOK: link1.py-->\n",
    "Gebruik *Mood's mediaan toets* om te toetsen of de medianen van twee ongepaarde groepen van elkaar verschillen.[^1]<sup>,</sup>[^2] Deze toets is een alternatief voor de [ongepaarde t-toets](03-Ongepaarde-t-toets-Python.html) als een van de of beide ongepaarde groepen niet normaal verdeeld zijn. *Mood's mediaan toets* kan ook gebruikt worden om medianen van meer dan twee ongepaarde groepen te vergelijken. Deze toetspagina illustreert de toets echter voor twee ongepaarde groepen.\n",
    "\n",
    "Naast *Mood's mediaan toets* kan de [Mann-Whitney U toets](08-Mann-Whitney-U-toetsI-Python.html) ook gebruikt worden om het verschil tussen medianen van twee ongepaarde groepen te toetsen. Deze toets heeft een hoger onderscheidend vermogen[^3]<sup>,</sup>[^1], maar vereist dat de verdelingen van beide ongepaarde groepen dezelfde vorm hebben.[^4] *Mood's mediaan toets* kan ook gebruikt worden als de verdelingen niet dezelfde vorm hebben. \n",
    "<!-- ## /TEKSTBLOK: link1.py-->"
   ]
  },
  {
   "cell_type": "markdown",
   "id": "df0fd3ac",
   "metadata": {
    "lines_to_next_cell": 0
   },
   "source": [
    "## Onderwijscasus\n",
    "<div id =\"casus\">\n",
    "De onderwijsdirecteur van de opleiding Business Administration van een hogeschool vraagt zich af of er verschil is in de studieresultaten van studenten met een Nederlandse vooropleiding en een buitenlandse vooropleiding. Met name in het tweede studiejaar lijken er verschillen op te treden die hij wil begrijpen om mogelijke interventies met zijn docenten te bespreken. Hij vraagt zich af: ‘Verschilt het aantal studiepunten in het tweede studiejaar van studenten met een Nederlandse vooropleiding van het aantal studiepunten in het tweede studiejaar van studenten met een buitenlandse vooropleiding?\n",
    "\n",
    "Dit onderzoek vertaalt zich in de volgende combinatie van hypothesen, waarbij de nulhypothese zo geformuleerd is dat er geen effect of verschil is en de alternatieve hypothese zo geformuleerd is dat er wel een effect of verschil is.\n",
    "\n",
    "*H<sub>0</sub>*: De verdeling van het behaalde aantal studiepunten in het tweede jaar van studenten met een buitenlandse vooropleiding is hetzelfde als de verdeling van studenten met een Nederlandse vooropleiding. \n",
    "\n",
    "*H<sub>A</sub>*: De verdeling van het behaalde aantal studiepunten in het tweede jaar van studenten met een buitenlandse vooropleiding is anders dan de verdeling van studenten met een Nederlandse vooropleiding.\n",
    "</div>\n",
    "\n",
    "## Assumpties\n",
    "\n",
    "Het meetniveau van de afhankelijke variabele is continu.[^5]<sup>,</sup>[^6] \n",
    "\n",
    "### Groepsgroottes\n",
    "\n",
    "<!-- ## TEKSTBLOK: link2.py-->\n",
    "*Mood's mediaan toets* toetst het verschil tussen de medianen van twee ongepaarde groepen. Eerst wordt de mediaan berekend van de samengevoegde observaties van beide groepen. Daarna worden voor beide ongepaarde groepen het aantal observaties groter dan en kleiner dan of gelijk aan de mediaan geteld. Dit levert een kruistabel op die vervolgens getoetst kan worden met de [Chi-kwadraat toets voor onafhankelijkheid](13-Chi-kwadraat-toets-voor-onafhankelijkheid-en-Fishers-exact-toets-Python.html). Een voorbeeld van zo'n kruistabel is te zien in Tabel 1.\n",
    "<!-- ## /TEKSTBLOK: link2.py-->\n",
    "\n",
    "|                      | Groep 1    | Groep 2 | \n",
    "| -------------------- | ---------- | ------------| \n",
    "| Aantal observaties groter dan mediaan  | 20   | 25          | \n",
    "| Aantal observaties kleiner dan of gelijk aan mediaan  | 30   | 40          |\n",
    "*Tabel 1. Kruistabel met aantal observaties groter dan en kleiner dan of gelijk aan mediaan voor twee ongepaarde groepen.*\n",
    "\n",
    "<!-- ## TEKSTBLOK: link3.py-->\n",
    "Een assumptie van de *Chi-kwadraat toets voor onafhankelijk* is dat niet meer dan 20% van de cellen van de kruistabel een verwacht aantal observaties van vijf of minder heeft. Als dit niet het geval is, is *Fisher's exact toets* een beter alternatief. Zie de toetspagina van de [Chi-kwadraat toets voor onafhankelijkheid](13-Chi-kwadraat-toets-voor-onafhankelijkheid-en-Fishers-exact-toets-Python.html) voor een uitgebreide uitleg over deze assumptie. \n",
    "<!-- ## /TEKSTBLOK: link3.py-->\n",
    "\n",
    "## Uitvoering \n",
    "<!-- ## TEKSTBLOK: Dataset-inladen.py-->\n",
    "Er is een dataset `dfStudiepunten_studiejaar2` ingeladen met het aantal punten dat studenten in het tweede jaar halen.\n",
    "<!-- ## /TEKSTBLOK: Dataset-inladen.py-->\n",
    "\n",
    "### De data bekijken\n",
    "<!-- ## TEKSTBLOK: Data-bekijken.py -->\n",
    "Gebruik `<dataframe>.head()` en `<dataframe>.tail()` om de structuur van de data te bekijken.\n",
    "<!-- ## /TEKSTBLOK: Data-bekijken.py -->\n",
    "<!-- ## OPENBLOK: Data-bekijken.py -->"
   ]
  },
  {
   "cell_type": "code",
   "execution_count": null,
   "id": "3f6fcf88",
   "metadata": {
    "lines_to_next_cell": 0,
    "warning": false
   },
   "outputs": [],
   "source": [
    "# Pandas library importeren\n",
    "import pandas as pd"
   ]
  },
  {
   "cell_type": "code",
   "execution_count": null,
   "id": "b31dd42a",
   "metadata": {
    "tags": [
     "remove_cell"
    ]
   },
   "outputs": [],
   "source": [
    "df = pd.read_csv(\"../data/08_Studiepunten_studiejaar2.csv\")\n",
    "dfStudiepunten_studiejaar2 = df.loc[:, ~df.columns.str.contains('^Unnamed')]"
   ]
  },
  {
   "cell_type": "code",
   "execution_count": null,
   "id": "c36fde53",
   "metadata": {
    "collapse": true
   },
   "outputs": [],
   "source": [
    "## Eerste 6 observaties\n",
    "print(dfStudiepunten_studiejaar2.head(6))"
   ]
  },
  {
   "cell_type": "code",
   "execution_count": null,
   "id": "038e7b7d",
   "metadata": {
    "collapse": true,
    "lines_to_next_cell": 0
   },
   "outputs": [],
   "source": [
    "## Laatste 6 observaties\n",
    "print(dfStudiepunten_studiejaar2.tail(6))"
   ]
  },
  {
   "cell_type": "markdown",
   "id": "7980c92f",
   "metadata": {
    "lines_to_next_cell": 0
   },
   "source": [
    "<!-- ## /OPENBLOK: Data-bekijken.py -->\n",
    "<!-- ## TEKSTBLOK: Data-beschrijven.py -->\n",
    "Bekijk de grootte, de mediaan en de kwantielen van de data met `np.size()` en `np.quantile()`. De mediaan en kwantielen worden vaak gebruikt als maat wanneer een verdeling niet symmetrisch is.\n",
    "<!-- ## /TEKSTBLOK: Data-beschrijven.py -->\n",
    "<!-- ## OPENBLOK: Data-selecteren.py -->"
   ]
  },
  {
   "cell_type": "code",
   "execution_count": null,
   "id": "8698454e",
   "metadata": {
    "lines_to_next_cell": 0,
    "name": "data selecteren"
   },
   "outputs": [],
   "source": [
    "Studiepunten_Nederlands = dfStudiepunten_studiejaar2[dfStudiepunten_studiejaar2[\"Vooropleiding\"] == \"Nederlands\"][\"Studiepunten\"]\n",
    "Studiepunten_buitenlands = dfStudiepunten_studiejaar2[dfStudiepunten_studiejaar2[\"Vooropleiding\"] == \"buitenlands\"][\"Studiepunten\"]"
   ]
  },
  {
   "cell_type": "markdown",
   "id": "327eb751",
   "metadata": {
    "lines_to_next_cell": 0
   },
   "source": [
    "<!-- ## /OPENBLOK: Data-selecteren.py -->\n",
    "\n",
    "<!-- ## OPENBLOK: Numpy-inladen.py -->"
   ]
  },
  {
   "cell_type": "code",
   "execution_count": null,
   "id": "08094e29",
   "metadata": {
    "lines_to_next_cell": 0
   },
   "outputs": [],
   "source": [
    "import numpy as np"
   ]
  },
  {
   "cell_type": "markdown",
   "id": "7625fd3b",
   "metadata": {
    "lines_to_next_cell": 0
   },
   "source": [
    "<!-- ## /OPENBLOK: Numpy-inladen.py -->\n",
    "\n",
    "<div class=\"col-container\">\n",
    "  <div class=\"col\">\n",
    "<!-- ## OPENBLOK: Data-beschrijven-1.py -->"
   ]
  },
  {
   "cell_type": "code",
   "execution_count": null,
   "id": "050712fe",
   "metadata": {
    "collapse": true,
    "lines_to_next_cell": 0
   },
   "outputs": [],
   "source": [
    "print(np.size(Studiepunten_Nederlands))\n",
    "print(np.quantile(Studiepunten_Nederlands, [0, 0.25, 0.5, 0.75, 1]))"
   ]
  },
  {
   "cell_type": "markdown",
   "id": "ae87d7b9",
   "metadata": {
    "lines_to_next_cell": 0
   },
   "source": [
    "<!-- ## /OPENBLOK: Data-beschrijven-1.py -->\n",
    "  </div>\n",
    "  <div class=\"col\">\n",
    "<!-- ## OPENBLOK: Data-beschrijven-2.py -->"
   ]
  },
  {
   "cell_type": "code",
   "execution_count": null,
   "id": "1bd20de1",
   "metadata": {
    "collapse": true,
    "lines_to_next_cell": 0
   },
   "outputs": [],
   "source": [
    "print(np.size(Studiepunten_buitenlands))\n",
    "print(np.quantile(Studiepunten_buitenlands, [0, 0.25, 0.5, 0.75, 1]))"
   ]
  },
  {
   "cell_type": "markdown",
   "id": "384f26dd",
   "metadata": {},
   "source": [
    "<!-- ## /OPENBLOK: Data-beschrijven-2.py -->\n",
    "  </div>\n",
    "</div>\n",
    "<!-- ## CLOSEDBLOK: Data-beschrijven-3.py -->\n",
    "``` {python data beschrijven als object, include=FALSE, echo=TRUE}\n",
    "### Onderstaand zijn de dynamische variabelen te vinden\n",
    "q_NL = np.quantile(Studiepunten_Nederlands, [0, 0.25, 0.5, 0.75, 1])\n",
    "q_Inter = np.quantile(Studiepunten_buitenlands, [0, 0.25, 0.5, 0.75, 1])\n",
    "\n",
    "vN_NL = len(Studiepunten_Nederlands)\n",
    "vN_Inter = len(Studiepunten_buitenlands)\n",
    "\n",
    "vQ1_NL = q_NL[1]\n",
    "vQ1_Inter = q_Inter[1]\n",
    "\n",
    "vQ2_NL = q_NL[2]\n",
    "vQ2_Inter = q_Inter[2]\n",
    "\n",
    "vQ3_NL = q_NL[3]\n",
    "vQ3_Inter = q_Inter[3]\n",
    "```\n",
    "<!-- ## /CLOSEDBLOK: Data-beschrijven-3.py -->\n",
    "\n",
    "<!-- ## TEKSTBLOK: Data-beschrijven2.py -->\n",
    "* Mediaan studenten Nederlandse vooropleiding: `r Round_and_format(py$vQ2_NL)`, *n* = `r py$vN_NL`.\n",
    "* Mediaan studenten buitenlandse vooropleiding: `r Round_and_format(py$vQ2_Inter)`, *n* = `r py$vN_Inter`.\n",
    "\n",
    "<!-- ## /TEKSTBLOK: Data-beschrijven2.py -->"
   ]
  },
  {
   "cell_type": "markdown",
   "id": "7d69ecb1",
   "metadata": {
    "lines_to_next_cell": 0
   },
   "source": [
    "### De data visualiseren\n",
    "\n",
    "Maak een histogram[^18] om de verdeling van het aantal studiepunten in het tweede jaar voor studenten met een Nederlandse en buitenlandse vooropleiding visueel weer te geven.\n",
    "\n",
    "<!-- ## OPENBLOK: Histogram1.py -->"
   ]
  },
  {
   "cell_type": "code",
   "execution_count": null,
   "id": "d3573dd7",
   "metadata": {
    "lines_to_next_cell": 0
   },
   "outputs": [],
   "source": [
    "## Histogram met matplotlib\n",
    "import matplotlib.pyplot as plt\n",
    "fig = plt.figure(figsize = (15, 10))\n",
    "sub1 = fig.add_subplot(1, 2, 1)\n",
    "title1 = plt.title(\"Nederlandse vooropleiding\")\n",
    "hist1 = plt.hist(Studiepunten_Nederlands, density = True, edgecolor = \"black\", bins = 29)\n",
    "\n",
    "sub2 = fig.add_subplot(1, 2, 2)\n",
    "title2 = plt.title(\"Buitenlandse vooropleiding\")\n",
    "hist2 = plt.hist(Studiepunten_buitenlands, density = True, edgecolor = \"black\", bins = 31)\n",
    "\n",
    "main = fig.suptitle('Studiepunten van studenten Business Administration in het tweede jaar')\n",
    "plt.show()"
   ]
  },
  {
   "cell_type": "markdown",
   "id": "f38b57c2",
   "metadata": {},
   "source": [
    "<!-- ## /OPENBLOK: Histogram1.py -->\n",
    "\n",
    "Beide histogrammen bevatten een grote groep studenten met een laag aantal studiepunten (twaalf of minder). De overige studenten volgen een ietwat scheve verdeling met de top rond de vijftig studiepunten. De verdelingen van beide groepen studenten hebben echter niet dezelfde vorm. De frequentiedichtheid van het aantal studenten rond de vijftig studiepunten is veel hoger voor de studenten met Nederlandse vooropleiding, terwijl de frequentiedichtheid van het aantal studenten met twaalf of minder studiepunten juist hoger is voor de studenten met een buitenlandse vooropleiding."
   ]
  },
  {
   "cell_type": "markdown",
   "id": "6f449d33",
   "metadata": {
    "lines_to_next_cell": 0
   },
   "source": [
    "### Assumptie groepsgrootte\n",
    "\n",
    "<!-- ## TEKSTBLOK: groepsgrootte1.py -->\n",
    "Maak een kruistabel met het aantal observaties hoger en lager dan de mediaan voor beide ongepaarde groepen. Bereken vervolgens de verwachte aantallen observaties met de functie `sps.contingency.expected_freq()` van het package `scipy` met als argument de kruistabel `Kruistabel`.\n",
    "<!-- ## /TEKSTBLOK: groepsgrootte1.py -->\n",
    "\n",
    "<!-- ## OPENBLOK: groepsgrootte2.py -->"
   ]
  },
  {
   "cell_type": "code",
   "execution_count": null,
   "id": "fcae7e7f",
   "metadata": {
    "lines_to_next_cell": 0
   },
   "outputs": [],
   "source": [
    "import scipy.stats as sps \n",
    "\n",
    "# Bereken de mediaan van alle observaties samengevoegd\n",
    "Mediaan = np.median(dfStudiepunten_studiejaar2[\"Studiepunten\"])\n",
    "\n",
    "# Bepaal voor elke observatie of deze hoger of lager/gelijk aan de mediaan is\n",
    "Index_hoger_lager = dfStudiepunten_studiejaar2[\"Studiepunten\"] > Mediaan \n",
    "\n",
    "# Maak een kruistabel\n",
    "Kruistabel = pd.crosstab(Index_hoger_lager, dfStudiepunten_studiejaar2[\"Vooropleiding\"])\n",
    "\n",
    "# Bereken verwachte aantallen observaties\n",
    "sps.contingency.expected_freq(Kruistabel)"
   ]
  },
  {
   "cell_type": "markdown",
   "id": "a7c3277d",
   "metadata": {},
   "source": [
    "Geen van de verwachte aantallen observaties is kleiner dan vijf, dus er is voldaan aan de assumptie over de groepsgroottes. Voer *Mood's mediaan toets* uit met behulp van de *Chi-kwadraat toets*."
   ]
  },
  {
   "cell_type": "markdown",
   "id": "67efd7a4",
   "metadata": {},
   "source": [
    "### Mood's mediaan toets"
   ]
  },
  {
   "cell_type": "markdown",
   "id": "8ffb9d4a",
   "metadata": {
    "lines_to_next_cell": 0
   },
   "source": [
    "<!-- ## TEKSTBLOK: Moods-mediaan-toets-1.py -->\n",
    "Gebruik de functie `median_test()` van het package `scipy.stats` om *Mood's mediaan toets* uit te voeren. De eerste twee argumenten zijn vectoren met het aantal studiepunten van studenten met een Nederlandse (`Studiepunten_Nederlands`) en buitenlandse (`Studiepunten_buitenlands`) vooropleiding. Het derde argument `ties = \"below\"` geeft aan dat de observaties die gelijk zijn aan de mediaan opgeteld worden bij de observaties die kleiner dan de mediaan zijn.\n",
    "<!-- ## /TEKSTBLOK: Moods-mediaan-toets-1.py -->\n",
    "\n",
    "<!-- ## OPENBLOK: Moods-mediaan-toets-2.py -->"
   ]
  },
  {
   "cell_type": "code",
   "execution_count": null,
   "id": "95c01c53",
   "metadata": {
    "lines_to_next_cell": 0
   },
   "outputs": [],
   "source": [
    "# Sla de studiepunten van beide groepen apart op in een vector\n",
    "Studiepunten_Nederlands = dfStudiepunten_studiejaar2[dfStudiepunten_studiejaar2[\"Vooropleiding\"] == \"Nederlands\"][\"Studiepunten\"]\n",
    "Studiepunten_buitenlands = dfStudiepunten_studiejaar2[dfStudiepunten_studiejaar2[\"Vooropleiding\"] == \"buitenlands\"][\"Studiepunten\"]\n",
    "\n",
    "# Voer Mood's mediaan toets uit\n",
    "Toetsstatistiek, p_waarde, Mediaan, Kruistabel = sps.median_test(Studiepunten_Nederlands, Studiepunten_buitenlands, ties = \"below\")\n",
    "\n",
    "print(Toetsstatistiek)\n",
    "print(p_waarde)\n",
    "print(Mediaan)\n"
   ]
  },
  {
   "cell_type": "markdown",
   "id": "0a33f69d",
   "metadata": {},
   "source": [
    "<!-- ## /OPENBLOK: Moods-mediaan-toets-2.py -->\n",
    "<!-- ## CLOSEDBLOK: Moods-mediaan-toets-3.py -->\n",
    "\n",
    "<!-- ## /CLOSEDBLOK: Moods-mediaan-toets-3.py -->\n",
    "\n",
    "<!-- ## TEKSTBLOK: Moods-mediaan-toets-3.py -->\n",
    "<!-- ## /TEKSTBLOK: Moods-mediaan-toets-3.py -->\n",
    "\n",
    "<!-- ## OPENBLOK: Moods-mediaan-toets-4.py -->\n",
    "\n",
    "<!-- ## /OPENBLOK: Moods-mediaan-toets-4.py -->"
   ]
  },
  {
   "cell_type": "markdown",
   "id": "ed0cc753",
   "metadata": {},
   "source": [
    "<!-- ## TEKSTBLOK: Moods-mediaan-toets-4.py -->\n",
    "* &chi;^2^ ~ 1 ~ = `r Round_and_format(py$Toetsstatistiek)`, *p* = < 0,0001\n",
    "* De p-waarde is kleiner dan 0,05, dus de H<sub>0</sub> wordt verworpen.[^9]\n",
    "* De mediaan van de variabele studiepunten is `r Round_and_format_0decimals(py$Mediaan)`  \n",
    "\n",
    "<!-- ## /TEKSTBLOK: Moods-mediaan-toets-4.py -->"
   ]
  },
  {
   "cell_type": "markdown",
   "id": "48aac079",
   "metadata": {
    "lines_to_next_cell": 0
   },
   "source": [
    "## Rapportage\n",
    "<!-- ## TEKSTBLOK: Rapportage.py -->\n",
    "*Mood's mediaan toets* is uitgevoerd om te toetsen of de mediaan van het behaald aantal studiepunten in het tweede jaar van de bachelor Business Administration hetzelfde is voor studenten met buitenlandse vooropleiding als voor studenten met Nederlandse vooropleiding. De resultaten van de toets laten zien dat er een significant verschil is tussen beide medianen, &chi;^2^ <sub>1</sub> = `r Round_and_format(py$Toetsstatistiek)`, *p* = < 0,0001. Studenten met een Nederlandse vooropleiding lijken dus meer studiepunten te behalen in het tweede jaar dan studenten met een buitenlandse vooropleiding.\n",
    "<!-- ## /TEKSTBLOK: Rapportage.py -->\n",
    "\n",
    "<!-- ## CLOSEDBLOK: Footer.R -->"
   ]
  },
  {
   "cell_type": "markdown",
   "id": "d1a55cb6",
   "metadata": {},
   "source": [
    "[^1]: Statistics How To (28 februari 2016). *Mood’s Median Test: Definition, Run the Test and Interpret Results*. [Statistics How to](https://www.statisticshowto.com/moods-median-test/).\n",
    "[^2]: Brown, G. W., & Mood, A. M. (1951). *On median tests for linear hypotheses*. In *Proceedings of the Second Berkeley Symposium on Mathematical Statistics and Probability*. The Regents of the University of California.\n",
    "[^3]: Onderscheidend vermogen, in het Engels power genoemd, is de kans dat de nulhypothese verworpen wordt wanneer de alternatieve hypothese 'waar' is.\n",
    "[^4]: Divine, G. W., Norton, H. J., Barón, A. E., & Juarez-Colunga, E. (2018). *The Wilcoxon–Mann–Whitney procedure fails as a test of medians*. The American Statistician, 72(3), 278-286.\n",
    "[^5]: SPSS Tutorials. *SPSS Median Test for 2 Independent Medians*. Bezocht op 22 april 2020. [Statistics How to](https://www.statisticshowto.com/moods-median-test/).\n",
    "[^6]: *Mood's mediaan toets* kan ook uitgevoerd worden om de medianen te vergelijken van twee of meer ordinale variabelen. Echter, de [Mann-Whitney U toets](08-Mann-Whitney-U-toetsiI-R.html) of de [Kruskal Wallis toets](10-Kruskal-Wallis-toets-I-R.html) zijn dan alternatieven met een hoger onderscheidend vermogen.\n",
    "[^7]: De mediaan van de verschilscores kan bij twee ongepaarde steekproeven bijvoorbeeld geschat worden door alle *m x n* verschilscores te berekenen tussen *m* observaties uit de ene steekproef en *n* observaties uit de andere steekproef. De mediaan van deze *m x n* verschilscores is dan de schatting.\n",
    "[^8]: Wikipedia (10 maart 2020). *Hogdes-Lehmann estimator. *[https://en.wikipedia.org/wiki/Hodges%E2%80%93Lehmann_estimator](https://en.wikipedia.org/wiki/Hodges%E2%80%93Lehmann_estimator) \n",
    "[^9]: In dit voorbeeld wordt uitgegaan van een waarschijnlijkheid van 95% c.q. een p-waardegrens van 0,05. De grens is naar eigen inzicht aan te passen; houd hierbij rekening met type I en type II fouten.\n",
    "[^18]: De breedte van de staven van het histogram wordt vaak automatisch bepaald, maar kan handmatig aangepast worden. Aangezien de breedte van de staven bepalend zijn voor de indruk die de visualisatie geeft, is het verstandig om hier goed op te letten."
   ]
  }
 ],
 "metadata": {
  "jupytext": {
   "cell_metadata_filter": "echo,message,name,collapse,include,tags,code,results,warning,-all",
   "main_language": "python",
   "notebook_metadata_filter": "-all"
  },
  "kernelspec": {
   "display_name": "Python 3 (ipykernel)",
   "language": "python",
   "name": "python3"
  },
  "language_info": {
   "codemirror_mode": {
    "name": "ipython",
    "version": 3
   },
   "file_extension": ".py",
   "mimetype": "text/x-python",
   "name": "python",
   "nbconvert_exporter": "python",
   "pygments_lexer": "ipython3",
   "version": "3.10.4"
  }
 },
 "nbformat": 4,
 "nbformat_minor": 5
}
