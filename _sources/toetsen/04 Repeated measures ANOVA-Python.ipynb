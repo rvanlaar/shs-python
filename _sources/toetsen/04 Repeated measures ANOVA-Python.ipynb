{
 "cells": [
  {
   "cell_type": "raw",
   "id": "af8b2db5",
   "metadata": {},
   "source": [
    "---\n",
    "title: \"Repeated measures ANOVA\"\n",
    "output:\n",
    "  html_document:\n",
    "    theme: lumen\n",
    "    toc: yes\n",
    "    toc_depth: 2\n",
    "    toc_float: \n",
    "      collapsed: FALSE \n",
    "    number_sections: true\n",
    "    includes:\n",
    "      in_header: [\"../01. Includes/html/nocache.html\", \"../01. Includes/html/favicon.html\", \"../01. Includes/html/analytics.html\"]\n",
    "  keywords: [statistisch handboek, studiedata]\n",
    "---"
   ]
  },
  {
   "cell_type": "markdown",
   "id": "12b48981",
   "metadata": {
    "lines_to_next_cell": 0
   },
   "source": [
    "<!-- ## CLOSEDBLOK: Functies.R -->"
   ]
  },
  {
   "cell_type": "markdown",
   "id": "993fcdea",
   "metadata": {
    "lines_to_next_cell": 0
   },
   "source": [
    "<!-- ## /CLOSEDBLOK: Functies.R -->\n",
    "\n",
    "<!-- ## CLOSEDBLOK: CSS -->\n",
    "<style>\n",
    "`r htmltools::includeHTML(paste0(here::here(),\"/01. Includes/css/Stylesheet_SHHO.css\"))`\n",
    "</style>\n",
    "<!-- ## /CLOSEDBLOK: CSS -->\n",
    "\n",
    "<!-- ## CLOSEDBLOK: Header.R -->"
   ]
  },
  {
   "cell_type": "markdown",
   "id": "d4ed2372",
   "metadata": {
    "lines_to_next_cell": 0
   },
   "source": [
    "<!-- ## /OPENBLOK: Data-aanmaken.py -->\n",
    "\n",
    "# Toepassing\n",
    "Gebruik de *repeated measures ANOVA* om gemiddelden te vergelijken van een groep bij twee of meer herhaalde metingen of om gemiddelden van twee of meer gepaarde groepen te vergelijken.[^1] \n",
    "\n",
    "# Onderwijscasus\n",
    "<div id = \"casus\">\n",
    "\n",
    "De opleidingsdirecteur van de bachelor Technische Natuurkunde van een universiteit hoort vanuit de opleidingscommissie dat de eerstejaars studenten de studielast van de eerste onderwijsperiode als erg hoog ervaren. Om te onderzoeken hoe deze ervaren studielast verminderd kan worden, wil hij onderzoeken hoeveel tijd de studenten per week besteden aan hun vakken. Met behulp van een vragenlijst over de studiebelasting in het eerste jaar verzamelt hij gegevens van het aantal uur per week dat eerstejaars studenten besteden aan de vakken in de eerste onderwijsperiode: Lineaire Algebra, Relativiteitstheorie en Kosmologie. Op deze manier kan hij onderzoeken of er verschillen in de tijdsbesteding aan de verschillende vakken zijn en om te bepalen van welke vakken de studielast aangepast moet worden.\n",
    "\n",
    "Dit onderzoek vertaalt zich in de volgende combinatie van hypothesen, waarbij de nulhypothese zo geformuleerd is dat er geen effect of verschil is en de alternatieve hypothese zo geformuleerd is dat er wel een effect of verschil is.\n",
    "\n",
    "*H~0~*: Het gemiddeld aantal studieuren per week van eerstejaars studenten van de bachelor Technische Natuurkunde is hetzelfde voor de drie vakken in de eerste onderwijsperiode\n",
    "\n",
    "*H~A~*: Het gemiddeld aantal studieuren per week van eerstejaars studenten van de bachelor Technsiche Natuurkunde is niet hetzelfde voor de drie vakken in de eerste onderwijsperiode\n",
    "\n",
    "</div>\n",
    "\n",
    "# Assumpties\n",
    "Om een valide toetsresultaat te bereiken met de *repeated measures ANOVA* moet de data aan een aantal voorwaarden voldoen: normaliteit, sphericiteit en onafhankelijkheid.[^1] Onafhankelijkheid houdt in dat de herhaalde metingen van de deelnemers[^12] onafhankelijk van elkaar zijn.\n",
    "\n",
    "## Normaliteit\n",
    "<!-- ## TEKSTBLOK: link1.py -->\n",
    "De assumptie van normaliteit houdt in dat er een normale\n",
    "verdeling van de afhankelijke variabele is in elke groep. Wanneer er duidelijke afwijkingen van normaliteit zijn,\n",
    "is het transformeren van de data een optie.[^2] Een andere optie is het gebruik van de nonparametrische\n",
    "[Friedman's ANOVA](09-Friedmans-ANOVA-Python.html) waar normaliteit geen assumptie is.[^3] Controleer de assumptie van normaliteit voor elke groep met de volgende stappen:  \n",
    "1. Controleer de data visueel met een histogram, een boxplot of een Q-Q plot.   \n",
    "2. Toets of de data normaal verdeeld zijn met de *Kolmogorov-Smirnov test* of bij een kleinere steekproef (n < 50) met de *Shapiro-Wilk test*.[^4]<sup>, </sup>[^5]  \n",
    "<!-- ## /TEKSTBLOK: link1.py -->\n",
    "\n",
    "De eerste stap heeft als doel een goede indruk te krijgen van de verdeling van de steekproef. In de tweede stap wordt de assumptie van normaliteit getoetst. De statistische toets laat zien of de verdeling van de observaties van een groep voldoet aan de assumptie van normaliteit. Voor alle groepen moet er voldaan zijn aan de assumptie van normaliteit.\n",
    "\n",
    "Als er niet voldaan is aan normaliteit, is het transformeren van de data een optie.[^2] Een andere optie is het gebruik van de nonparametrische [Friedman's ANOVA](09-Friedmans-ANOVA-R.html) waar normaliteit geen assumptie is.[^3] De *repeated measures ANOVA* is echter ook een robuuste toets ten opzichte van de assumptie van normaliteit. Als elke groep een aantal observaties (*n*) heeft dat groter dan 100 is,  ga er dan vanuit dat de *repeated measures ANOVA* robuust genoeg is om uit te voeren zonder dat de afhankelijke variabele een normale verdeling volgt.\n",
    "\n",
    "## Sphericiteit\n",
    "De assumptie van sphericiteit houdt in dat de variantie van de verschilscores tussen groepen van metingen ongeveer aan elkaar gelijk zijn.[^6] In deze casus zijn dat de verschilscores tussen de drie vakken: Lineaire Algebra minus Relativiteitstheorie, Relativiteitstheorie minus Kosmologie en Kosmologie minus Lineaire Algebra. Toets deze assumptie met *Mauchly's test*. Wanneer de data niet aan de assumptie voldoen, geeft de gewone *repeated measures ANOVA* een verkeerd resultaat. Er zijn echter correcties die gebruikt kunnen worden wanneer de data niet aan sphericiteit voldoen. Een voorbeeld van mogelijke output van *Mauchly's test* in R is hieronder weergegeven.\n",
    "\n",
    "<!-- ## CLOSEDBLOK: Sphericiteit.py -->"
   ]
  },
  {
   "cell_type": "raw",
   "id": "e4390b04",
   "metadata": {},
   "source": [
    "## $`Mauchly's Test for Sphericity`\n",
    "##   Effect         W           p p<.05\n",
    "## 2    Vak 0.8732982 0.005073887     *\n",
    "## \n",
    "## $`Sphericity Corrections`\n",
    "##   Effect       GGe        p[GG] p[GG]<.05       HFe        p[HF] p[HF]<.05\n",
    "## 2    Vak   0.47683     0.05279         *   0.56298      0.04692"
   ]
  },
  {
   "cell_type": "markdown",
   "id": "94f023bd",
   "metadata": {},
   "source": [
    "<!-- ## /CLOSEDBLOK: Sphericiteit.py -->\n",
    "\n",
    "<!-- ## TEKSTBLOK: Sphericiteit1.py -->\n",
    "Bij een p-waarde < 0,05, toont *Mauchly's test* dat de assumptie van sphericiteit geschonden is. In de output is dit te zien aan de p-waarde van 0,0051 onder ` $Mauchly's Test for Sphericity `. Er zijn twee mogelijke correcties wanneer er geen sphericiteit is: de Greenhouse-Geisser (GG) en Huynh-Feldt (HF) correctie. De Greenhouse-Geisser correctie staat bekend als conservatief, wat betekent dat de correctie een relatief lage kans op een type I fout heeft. In andere woorden, het zal niet vaak gebeuren dat deze correctie een significant effect aantoont wanneer dat er in werkelijkheid niet is. De Huynh-Feldt correctie staat echter bekend als liberaal, wat betekent dat er een relatief hoge kans op een type I fout is. De teststatistiek en p-waarde van beide correcties zijn in de output te vinden onder ` $Sphericity Corrections `.\n",
    "<!-- ## /TEKSTBLOK: Sphericiteit1.py -->\n",
    "\n",
    "Houd de volgende richtlijnen aan bij het interpreteren van de *repeated measures ANOVA* wanneer niet aan sphericiteit is voldaan:\n",
    "\n",
    "* Wanneer beide correcties significant zijn, rapporteer de (conservatieve) Greenhouse-Geisser correctie.\n",
    "* Wanneer beide correcties niet significant zijn, rapporteer de (liberale) Huynh-Feldt correctie.\n",
    "* Wanneer de een significant is en de ander niet, bereken de gemiddelde p-waarde van beide correcties.\n",
    "    * Wanneer deze p-waarde significant is, rapporteer dan de significante correctie.\n",
    "    * Wanneer deze p-waarde niet significant is, rapporteer dan de niet significante correctie.\n",
    "\n",
    "In de voorbeeldoutput is de p-waarde van de Greenhouse-Geisser correctie groter dan 0,05 en de p-waarde van de Huynh-Feldt correctie kleiner dan 0,05. Het gemiddelde van beide p-waarden is 0,049855, wat betekent dat er een significant resultaat is. Rapporteer in dit geval dus de (significante) Huynh-Feldt correctie, i.e. *F* = 0,56, *p* < 0,05.  "
   ]
  },
  {
   "cell_type": "markdown",
   "id": "5c3f8340",
   "metadata": {
    "lines_to_next_cell": 0
   },
   "source": [
    "# Effectmaat\n",
    "De p-waarde geeft aan of het verschil tussen groepen van metingen significant is. De grootte van het verschil of effect is echter ook relevant. Een effectmaat is een gestandaardiseerde maat die de grootte van een effect weergeeft, zodat effecten van verschillende onderzoeken met elkaar vergeleken kunnen worden.[^6] Voor de *repeated measures ANOVA* wordt de effectmaat eta squared vaak gebruikt.\n",
    "\n",
    "## Eta squared\n",
    "De effectmaat eta squared (*η^2^*) berekent de proportie van de variantie in de afhankelijke variabele die verklaard wordt door de onafhankelijke variabele. In deze casus berekent het de proportie van de variantie in het aantal uren studeren die verklaard kan worden door het vak in de eerste onderwijsperiode. Een indicatie om *η^2^* te interpreteren is: rond 0,01 is een klein effect, rond 0,06 is een gemiddeld effect en rond 0,14 is een groot effect.[^7]\n",
    "\n",
    "# Post-hoc toetsen\n",
    "De *repeated measures ANOVA* toetst of één of meerdere van de gemiddelden anders is dan de andere gemiddelden. Voer een post-hoc toets uit om te bepalen welke groepen van metingen significant verschillen.\n",
    "\n",
    "Gebruik een correctie voor de p-waarden, omdat er meerdere toetsen tegelijkertijd worden gebruikt. Meerdere toetsen tegelijkertijd uitvoeren verhoogt de kans dat een van de nulhypotheses onterecht wordt verworpen en er bij toeval een verband wordt ontdekt dat er niet is (type I fout). In deze toetspagina wordt de *Bonferroni correctie* gebruikt. Deze correctie past de p-waarde aan door de p-waarde te vermenigvuldigen met het aantal uitgevoerde toetsen en verlaagt hiermee de kans op een type I fout. Een andere uitleg hiervan is dat het significantieniveau gedeeld wordt door het aantal toetsen wat leidt tot een lager significantieniveau en dus een strengere toets. Er zijn ook andere opties voor een correctie op de p-waarden.[^6]\n",
    "\n",
    "# Uitvoering\n",
    "<!-- ## TEKSTBLOK: Dataset-inladen.py -->\n",
    "Er is een dataset `dfStudieuren_technische_natuurkunde` ingeladen met het aantal studieuren van eerstejaars studenten van de bachelor Technische Natuurkunde voor de drie vakken in de eerste onderwijsperiode.\n",
    "<!-- ## /TEKSTBLOK: Dataset-inladen.py -->\n",
    "\n",
    "## De data bekijken\n",
    "<!-- ## TEKSTBLOK: Data-bekijken.py -->\n",
    "Gebruik `<dataframe>.head()` en `<dataframe>.tail()` om de structuur van de data te bekijken.\n",
    "<!-- ## /TEKSTBLOK: Data-bekijken.py -->\n",
    "\n",
    "<!-- ## OPENBLOK: Data-bekijken1.py -->"
   ]
  },
  {
   "cell_type": "code",
   "execution_count": null,
   "id": "b388adc3",
   "metadata": {
    "tags": [
     "remove_cell"
    ]
   },
   "outputs": [],
   "source": [
    "import pandas as pd\n",
    "df = pd.read_csv(\"../data/04_Studieuren_technische_natuurkunde.csv\")\n",
    "dfStudieuren_technische_natuurkunde = df.loc[:, ~df.columns.str.contains('^Unnamed')]"
   ]
  },
  {
   "cell_type": "code",
   "execution_count": null,
   "id": "307b07fa",
   "metadata": {
    "collapse": true,
    "name": "data bekijken-1"
   },
   "outputs": [],
   "source": [
    "## Eerste 5 observaties\n",
    "print(dfStudieuren_technische_natuurkunde.head(5))"
   ]
  },
  {
   "cell_type": "code",
   "execution_count": null,
   "id": "59838b2f",
   "metadata": {
    "collapse": true,
    "lines_to_next_cell": 0,
    "name": "data bekijken-2"
   },
   "outputs": [],
   "source": [
    "## Laatste 5 observaties\n",
    "print(dfStudieuren_technische_natuurkunde.tail(5))"
   ]
  },
  {
   "cell_type": "markdown",
   "id": "11a8ca6b",
   "metadata": {
    "lines_to_next_cell": 0
   },
   "source": [
    "<!-- ## /OPENBLOK: Data-bekijken1.py -->\n",
    "\n",
    "Selecteer de drie groepen van metingen en sla deze op in een vector om deze makkelijker aan te kunnen roepen. \n",
    "<!-- ## OPENBLOK: Data-selecteren.py -->"
   ]
  },
  {
   "cell_type": "code",
   "execution_count": null,
   "id": "6306a03c",
   "metadata": {
    "lines_to_next_cell": 0,
    "name": "data selecteren"
   },
   "outputs": [],
   "source": [
    "Studieuren_lineaire_algebra = dfStudieuren_technische_natuurkunde[\n",
    "    dfStudieuren_technische_natuurkunde['Vak'] == \"Lineaire Algebra\"]['Studieuren']\n",
    "Studieuren_relativiteitstheorie = dfStudieuren_technische_natuurkunde[\n",
    "    dfStudieuren_technische_natuurkunde['Vak'] == \"Relativiteitstheorie\"]['Studieuren']\n",
    "Studieuren_kosmologie = dfStudieuren_technische_natuurkunde[\n",
    "    dfStudieuren_technische_natuurkunde['Vak'] == \"Kosmologie\"]['Studieuren']"
   ]
  },
  {
   "cell_type": "markdown",
   "id": "4ff0250f",
   "metadata": {},
   "source": [
    "<!-- ## /OPENBLOK: Data-selecteren.py -->"
   ]
  },
  {
   "cell_type": "markdown",
   "id": "fb4d0a9a",
   "metadata": {
    "lines_to_next_cell": 0
   },
   "source": [
    "<!-- ## TEKSTBLOK: Data-beschrijven.py -->\n",
    "Inspecteer de data met `np.mean()`, `np.std()` en `len()` om meer inzicht te krijgen in de data,, door deze aan te roepen uit het `numpy` package.\n",
    "<!-- ## /TEKSTBLOK: Data-beschrijven.py -->\n",
    "\n",
    "<!-- ## OPENBLOK: numpy1.py -->"
   ]
  },
  {
   "cell_type": "code",
   "execution_count": null,
   "id": "a418745f",
   "metadata": {
    "lines_to_next_cell": 0
   },
   "outputs": [],
   "source": [
    "import numpy as np"
   ]
  },
  {
   "cell_type": "markdown",
   "id": "55d19478",
   "metadata": {},
   "source": [
    "<!-- ## /OPENBLOK: numpy1.py -->"
   ]
  },
  {
   "cell_type": "markdown",
   "id": "c0b3072c",
   "metadata": {
    "lines_to_next_cell": 0
   },
   "source": [
    "<div class=\"col-container\"> \n",
    "  <div class=\"col\">\n",
    "<!-- ## OPENBLOK: Data-beschrijven1.py -->"
   ]
  },
  {
   "cell_type": "code",
   "execution_count": null,
   "id": "7a2c7c01",
   "metadata": {
    "collapse": true,
    "lines_to_next_cell": 0,
    "name": "Data beschrijven 1"
   },
   "outputs": [],
   "source": [
    "# Gemiddelde\n",
    "print(np.mean(Studieuren_lineaire_algebra))\n",
    "# Standaardafwijking\n",
    "print(np.std(Studieuren_lineaire_algebra))\n",
    "# Aantal observaties\n",
    "print(len(Studieuren_lineaire_algebra))"
   ]
  },
  {
   "cell_type": "markdown",
   "id": "43eb7329",
   "metadata": {
    "lines_to_next_cell": 0
   },
   "source": [
    "<!-- ## /OPENBLOK: Data-beschrijven1.py -->\n",
    "  </div>\n",
    "  <div class = \"col\">\n",
    "<!-- ## OPENBLOK: Data-beschrijven2.py -->"
   ]
  },
  {
   "cell_type": "code",
   "execution_count": null,
   "id": "1d022429",
   "metadata": {
    "collapse": true,
    "lines_to_next_cell": 0,
    "name": "Data beschrijven 2"
   },
   "outputs": [],
   "source": [
    "# Gemiddelde\n",
    "print(np.mean(Studieuren_relativiteitstheorie))\n",
    "# Standaardafwijking\n",
    "print(np.std(Studieuren_relativiteitstheorie))\n",
    "# Aantal observaties\n",
    "print(len(Studieuren_relativiteitstheorie))"
   ]
  },
  {
   "cell_type": "markdown",
   "id": "a153a4f7",
   "metadata": {
    "lines_to_next_cell": 0
   },
   "source": [
    "<!-- ## /OPENBLOK: Data-beschrijven2.py -->\n",
    "  </div>\n",
    "  <div class = \"col\">\n",
    "<!-- ## OPENBLOK: Data-beschrijven3.py -->"
   ]
  },
  {
   "cell_type": "code",
   "execution_count": null,
   "id": "4aa97676",
   "metadata": {
    "collapse": true,
    "lines_to_next_cell": 0,
    "name": "Data beschrijven 3"
   },
   "outputs": [],
   "source": [
    "# Gemiddelde\n",
    "print(np.mean(Studieuren_kosmologie))\n",
    "# Standaardafwijking\n",
    "print(np.std(Studieuren_kosmologie))\n",
    "# Aantal observaties\n",
    "print(len(Studieuren_kosmologie))"
   ]
  },
  {
   "cell_type": "markdown",
   "id": "ed2487a2",
   "metadata": {},
   "source": [
    "<!-- ## /OPENBLOK: Data-beschrijven3.py -->\n",
    "  </div>\n",
    "</div>"
   ]
  },
  {
   "cell_type": "markdown",
   "id": "685bba08",
   "metadata": {
    "lines_to_next_cell": 0
   },
   "source": [
    "<!-- ## CLOSEDBLOK: Data-beschrijven4.py -->"
   ]
  },
  {
   "cell_type": "code",
   "execution_count": null,
   "id": "4d8951c5",
   "metadata": {
    "echo": true,
    "lines_to_next_cell": 0,
    "name": "data beschrijven als object",
    "tags": [
     "remove_cell"
    ]
   },
   "outputs": [],
   "source": [
    "vM_LA = np.mean(Studieuren_lineaire_algebra)\n",
    "vSD_LA = np.std(Studieuren_lineaire_algebra)\n",
    "vN_LA = np.size(Studieuren_lineaire_algebra)\n",
    "\n",
    "vM_RT = np.mean(Studieuren_relativiteitstheorie)\n",
    "vSD_RT = np.std(Studieuren_relativiteitstheorie)\n",
    "vN_RT = np.size(Studieuren_relativiteitstheorie)\n",
    "\n",
    "vM_KL = np.mean(Studieuren_kosmologie)\n",
    "vSD_KL = np.std(Studieuren_kosmologie)\n",
    "vN_KL = np.size(Studieuren_kosmologie)"
   ]
  },
  {
   "cell_type": "markdown",
   "id": "4e58d43b",
   "metadata": {
    "lines_to_next_cell": 0
   },
   "source": [
    "<!-- ## /CLOSEDBLOK: Data-beschrijven4.py -->\n",
    "\n",
    "<!-- ## TEKSTBLOK: Datatekst-beschrijven.py -->\n",
    "* Gemiddeld aantal studieuren Lineaire Algebra (standaarddeviatie): `r Round_and_format(py$vM_LA)` (`r Round_and_format(py$vSD_LA)`). *n* = `r py$vN_LA`  \n",
    "* Gemiddeld aantal studieuren Relativiteitstheorie (standaarddeviatie): `r Round_and_format(py$vM_RT)` (`r Round_and_format(py$vSD_RT)`). *n* = `r py$vN_RT`.\n",
    "* Gemiddeld aantal studieuren Kosmologie (standaarddeviatie): `r Round_and_format(py$vM_KL)` (`r Round_and_format(py$vSD_KL)`). *n* = `r py$vN_KL`.\n",
    "\n",
    "<!-- ## /TEKSTBLOK: Datatekst-beschrijven.py -->\n",
    "\n",
    "## Visuele inspectie van normaliteit\n",
    "Geef de verdeling van de studieuren voor elke groep visueel weer met een histogram, Q-Q plot en boxplot.\n",
    "\n",
    "### Histogram\n",
    "\n",
    "Focus bij het analyseren van een histogram[^18] op de symmetrie van de verdeling, de hoeveelheid toppen (modaliteit) en mogelijke uitbijters. Een normale verdeling is symmetrisch, heeft één top en geen uitbijters.[^9]<sup>, </sup>[^10]\n",
    "\n",
    "<!-- ## OPENBLOK: Histogram.py -->"
   ]
  },
  {
   "cell_type": "code",
   "execution_count": null,
   "id": "56f10a73",
   "metadata": {
    "lines_to_next_cell": 0,
    "name": "histogram"
   },
   "outputs": [],
   "source": [
    "# Laad seaborn of facets te maken\n",
    "import seaborn as sb\n",
    "# Laad matplotlib.pyplot om plots te maken\n",
    "import matplotlib.pyplot as plt\n",
    "\n",
    "# Maak een facet plot met een histogram voor elke vooropleiding\n",
    "g = sb.FacetGrid(dfStudieuren_technische_natuurkunde, col=\"Vak\")\n",
    "g = (g.map(plt.hist, \"Studieuren\", edgecolor = \"black\").set_axis_labels(\"Aantal studieuren\"))\n",
    "plt.show()"
   ]
  },
  {
   "cell_type": "markdown",
   "id": "6fa53bbb",
   "metadata": {
    "lines_to_next_cell": 0
   },
   "source": [
    "<!-- ## /OPENBLOK: Histogram.py -->\n",
    "\n",
    "Alle drie de verdelingen hebben één top en lijken geen uitbijters te hebben. Tevens zijn de verdelingen redelijk symmetrisch. Deze verdelingen benaderen de normaalverdeling.\n",
    "\n",
    "### Q-Q plot\n",
    "<!-- ## TEKSTBLOK: QQplot.py -->\n",
    "Importeer `scipy.stats` om een Q-Q plot te maken. Gebruik de functie `scipy.stats.probplot()` om een Q-Q plot te maken.\n",
    "<!-- ## TEKSTBLOK: QQplot.py -->\n",
    "\n",
    "Als over het algemeen de meeste datapunten op de lijn liggen, neem dan aan dat de data normaal verdeeld zijn.\n",
    "<div class = \"col-container\">\n",
    "  <div class=\"col\">\n",
    "<!-- ## OPENBLOK: QQplot1.py -->"
   ]
  },
  {
   "cell_type": "code",
   "execution_count": null,
   "id": "3b938f0c",
   "metadata": {
    "lines_to_next_cell": 0,
    "name": "QQplot-t1"
   },
   "outputs": [],
   "source": [
    "import scipy.stats as stats\n",
    "qq = stats.probplot(Studieuren_lineaire_algebra, dist=\"norm\", plot=plt)\n",
    "title = plt.title(\"Lineaire algebra\")\n",
    "xlab = plt.xlabel(\"Theoretische kwantielen\")\n",
    "ylab = plt.ylabel(\"Kwantielen in data\")\n",
    "plt.show()"
   ]
  },
  {
   "cell_type": "markdown",
   "id": "1c401da5",
   "metadata": {
    "lines_to_next_cell": 0
   },
   "source": [
    "<!-- ## /OPENBLOK: QQplot1.py -->\n",
    "  </div>\n",
    "  <div class = \"col\">\n",
    "<!-- ## OPENBLOK: QQplot2.py -->"
   ]
  },
  {
   "cell_type": "code",
   "execution_count": null,
   "id": "ac9c963c",
   "metadata": {
    "lines_to_next_cell": 0,
    "name": "QQplot-t2"
   },
   "outputs": [],
   "source": [
    "import scipy.stats as stats\n",
    "qq = stats.probplot(Studieuren_relativiteitstheorie, dist=\"norm\", plot=plt)\n",
    "title = plt.title(\"Relativiteitstheorie\")\n",
    "xlab = plt.xlabel(\"Theoretische kwantielen\")\n",
    "ylab = plt.ylabel(\"Kwantielen in data\")\n",
    "plt.show()\n"
   ]
  },
  {
   "cell_type": "markdown",
   "id": "d998f866",
   "metadata": {
    "lines_to_next_cell": 0
   },
   "source": [
    "<!-- ## /OPENBLOK: QQplot2.py -->\n",
    "  </div>\n",
    "  <div class = \"col\">\n",
    "<!-- ## OPENBLOK: QQplot3.py -->"
   ]
  },
  {
   "cell_type": "code",
   "execution_count": null,
   "id": "0250d5f8",
   "metadata": {
    "lines_to_next_cell": 0,
    "name": "QQplot-t3"
   },
   "outputs": [],
   "source": [
    "import scipy.stats as stats\n",
    "qq = stats.probplot(Studieuren_kosmologie, \n",
    "dist=\"norm\", \n",
    "plot=plt)\n",
    "title = plt.title(\"Kosmologie\")\n",
    "xlab = plt.xlabel(\"Theoretische kwantielen\")\n",
    "ylab = plt.ylabel(\"Kwantielen in data\")\n",
    "plt.show()\n"
   ]
  },
  {
   "cell_type": "markdown",
   "id": "d6c649f5",
   "metadata": {
    "lines_to_next_cell": 0
   },
   "source": [
    "<!-- ## /OPENBLOK: QQplot3.py -->\n",
    "  </div>\n",
    "</div>\n",
    "\n",
    "Bij alle drie de Q-Q plots liggen de punten rond de lijn die normaliteit aangeeft; vermoedelijk zijn de studieuren voor elke groep normaal verdeeld.\n",
    "\n",
    "### Boxplot\n",
    "De box geeft de middelste 50% van het aantal studieuren per week weer. De zwarte lijn binnen de box is de mediaan. In de staarten of snorreharen zitten de eerste 25% en de laatste 25%. Cirkels visualiseren mogelijke uitbijters.[^9]<sup>, </sup>[^10] Hoe meer de boxen overlappen, hoe waarschijnlijker er geen significant verschil is tussen de groepen van metingen. \n",
    "\n",
    "<!-- ## OPENBLOK: Boxplot.py -->"
   ]
  },
  {
   "cell_type": "code",
   "execution_count": null,
   "id": "c0fb7dc5",
   "metadata": {
    "lines_to_next_cell": 0,
    "name": "boxplot"
   },
   "outputs": [],
   "source": [
    "fig, ax = plt.subplots()\n",
    "box = ax.boxplot([Studieuren_lineaire_algebra, Studieuren_relativiteitstheorie, Studieuren_kosmologie], labels = [\"Lineaire algebra\", \"Relativiteitstheorie\", \"Kosmologie\"])\n",
    "title = plt.title(\"\")\n",
    "ylab = plt.ylabel(\"Aantal studieuren\")\n",
    "plt.show()"
   ]
  },
  {
   "cell_type": "markdown",
   "id": "b1a7897a",
   "metadata": {},
   "source": [
    "<!-- ## /OPENBLOK: Boxplot.py -->\n",
    "\n",
    "De boxplotten geven de spreiding weer van het aantal studieuren voor de drie vakken in de eerste onderwijsperiode: Kosmologie, Lineaire Algebra en Relativiteitstheorie. In het algemeen lijken de vakken een symmetrische verdeling te hebben. De medianen van Kosmologie en Lineaire Algebra liggen een stuk lager dan de mediaan van Relativiteitstheorie. Kosmologie en Relativiteitstheorie hebben mogelijke uitbijters. "
   ]
  },
  {
   "cell_type": "markdown",
   "id": "9b3b8d5c",
   "metadata": {
    "lines_to_next_cell": 0
   },
   "source": [
    "## Toetsen van normaliteit\n",
    "Om te controleren of de verdelingen van de studieuren voor elk vak normaal verdeeld zijn, kan de normaliteit getoetst worden. Twee veelgebruikte toetsen zijn: de *Kolmogorov-Smirnov test* en de *Shapiro-Wilk test*.\n",
    "\n",
    "### Kolmogorov-Smirnov\n",
    "De *Kolmogorov-Smirnov test* toetst het verschil tussen twee verdelingen. Standaard toetst deze test het verschil tussen een normale verdeling en de verdeling van de steekproef. De Lilliefors correctie is vereist als het gemiddelde en de standaardafwijking niet van tevoren bekend of bepaald zijn, wat meestal het geval is bij een steekproef. Als de p-waarde kleiner dan 0,05 is, is de verdeling van de data significant verschillend van de normale verdeling.\n",
    "\n",
    "<!-- ## TEKSTBLOK: Lilliefors-test1.py -->\n",
    "De standaard interpretatie van een statitische toets in Python is: `(<teststatistiek>, <p-waarde>)`. Verder toetst Python standaard tweezijdig.\n",
    "<!-- ## /TEKSTBLOK: Lilliefors-test1.py -->\n",
    "\n",
    "<!-- ## OPENBLOK: Library-nortest.py -->"
   ]
  },
  {
   "cell_type": "code",
   "execution_count": null,
   "id": "f4c9aa6f",
   "metadata": {
    "lines_to_next_cell": 0
   },
   "outputs": [],
   "source": [
    "import statsmodels.stats.api as smod"
   ]
  },
  {
   "cell_type": "markdown",
   "id": "8bcea508",
   "metadata": {},
   "source": [
    "<!-- ## /OPENBLOK: Library-nortest.py -->\n",
    "\n",
    "<div class=\"col-container\"> \n",
    "  <div class=\"col\">\n",
    "<!-- ## OPENBLOK: Lilliefors-test-1.py -->\n",
    "``` {python Lilliefors Test-1, warning=FALSE}\n",
    "print(smod.lilliefors(Studieuren_lineaire_algebra, pvalmethod=\"table\"))\n",
    "```\n",
    "<!-- ## OPENBLOK: Lilliefors-test-1.py -->\n",
    "  </div>\n",
    "  <div class = \"col\">\n",
    "<!-- ## OPENBLOK: Lilliefors-test-2.py -->\n",
    "``` {python Lilliefors Test-2, warning=FALSE}\n",
    "print(smod.lilliefors(Studieuren_relativiteitstheorie, pvalmethod=\"table\"))\n",
    "```\n",
    "<!-- ## /OPENBLOK: Lilliefors-test-2.py -->\n",
    "  </div>\n",
    "  <div class = \"col\">\n",
    "<!-- ## OPENBLOK: Lilliefors-test-3.py -->\n",
    "``` {python Lilliefors Test-3, warning=FALSE}\n",
    "print(smod.lilliefors(Studieuren_kosmologie, pvalmethod=\"table\"))\n",
    "```\n",
    "<!-- ## /OPENBLOK: Lilliefors-test-3.py -->\n",
    "  </div>\n",
    "</div>\n",
    "\n",
    "De p-waarde is groter dan 0,05 voor elk vak; er is geen significant verschil gevonden tussen de verdeling van de steekproef en de normale verdeling. [^11] De *repeated measures ANOVA* kan uitgevoerd worden.\n",
    "\n",
    "### Shapiro-Wilk Test\n",
    "De *Shapiro-Wilk test* is een soortgelijke toets als de *Kolmogorov-Smirnov test* en vooral geschikt bij kleine steekproeven (n < 50). Als de p-waarde kleiner dan 0,05 is, is de verdeling van de data significant verschillend van de normale verdeling.\n",
    "\n",
    "<div class=\"col-container\"> \n",
    "  <div class=\"col\">\n",
    "<!-- ## OPENBLOK: Shapiro-Wilk-test-1.py -->\n",
    "``` {python Shapiro-Wilk Test-1, warning=FALSE}\n",
    "import scipy.stats as stats\n",
    "print(stats.shapiro(Studieuren_lineaire_algebra))\n",
    "\n",
    "```\n",
    "<!-- ## /OPENBLOK: Shapiro-Wilk-test-1.py -->\n",
    "  </div>\n",
    "  <div class= \"col\">\n",
    "<!-- ## OPENBLOK: Shapiro-Wilk-test-2.py -->\n",
    "``` {python Shapiro-Wilk Test-2, warning=FALSE}\n",
    "import scipy.stats as stats\n",
    "print(stats.shapiro(Studieuren_relativiteitstheorie))\n",
    "\n",
    "```\n",
    "<!-- ## /OPENBLOK: Shapiro-Wilk-test-2.py -->\n",
    "  </div>\n",
    "  <div class= \"col\"> \n",
    "<!-- ## OPENBLOK: Shapiro-Wilk-test-3.py -->\n",
    "``` {python Shapiro-Wilk Test-3, warning=FALSE}\n",
    "import scipy.stats as stats\n",
    "print(stats.shapiro(Studieuren_kosmologie))\n",
    "```\n",
    "<!-- ## /OPENBLOK: Shapiro-Wilk-test-3.py -->\n",
    "  </div>\n",
    "</div>\n",
    "\n",
    "De p-waarde is groter dan 0,05 voor elk vak, dus er is geen significant verschil gevonden tussen de verdeling van de steekproef en de normale verdeling.[^11] De *repeated measures ANOVA* kan uitgevoerd worden."
   ]
  },
  {
   "cell_type": "markdown",
   "id": "474586ec",
   "metadata": {
    "lines_to_next_cell": 0
   },
   "source": [
    "## Repeated measures ANOVA \n",
    "\n",
    "<!-- ## TEKSTBLOK: repeatedmeasuresANOVA1.py -->\n",
    "Voer de *repeated measures ANOVA* uit om de vraag te beantwoorden of er verschillen zijn tussen het aantal studieuren voor de vakken in de eerste onderwijsperiode van het eerste jaar van de bachelor Technische Natuurkunde. Gebruik de functie `rm_anova` van het package `pingouin` met als argumenten de dataset `dfStudieuren_technische_natuurkunde`, de afhankelijke variabele `dv = 'Studieuren'`, de onafhankelijke variabele `within = 'Vak'`, de variabele die de observaties aangeeft `subject = 'Studentnummer'`, `correction = True` om ook *Mauchly's test* uit te voeren en de resultaten voor de Greenhouse-Geisser correctie te laten, en `effsize = 'n2'` om *eta squared* als effectmaat te gebruiken.\n",
    "\n",
    "<!-- ## /TEKSTBLOK: repeatedmeasuresANOVA1.py -->\n",
    "\n",
    "<!-- ## OPENBLOK: repeatedmeasuresANOVA2.py -->"
   ]
  },
  {
   "cell_type": "code",
   "execution_count": null,
   "id": "0adbba93",
   "metadata": {
    "lines_to_next_cell": 0,
    "name": "ANOVA2"
   },
   "outputs": [],
   "source": [
    "# Importeer package pingouin\n",
    "import pingouin as pg\n",
    "\n",
    "# Voer de repeated measures ANOVA uit\n",
    "aov = pg.rm_anova(data = dfStudieuren_technische_natuurkunde, \n",
    "dv = 'Studieuren', \n",
    "within = 'Vak',\n",
    "subject = 'Studentnummer',\n",
    "correction = True,\n",
    "effsize = 'n2')\n",
    "\n",
    "# Print de resultaten van repeated measures ANOVA. Omdat de output veel kolommen heeft, wordt het in twee helften geprint zodat alles zichtbaar is in de output\n",
    "print(aov.iloc[:,:7])\n",
    "print(aov.iloc[:,7:])"
   ]
  },
  {
   "cell_type": "markdown",
   "id": "d3e51d9e",
   "metadata": {
    "lines_to_next_cell": 0
   },
   "source": [
    "<!-- ## /OPENBLOK: repeatedmeasuresANOVA2.py -->\n",
    "\n",
    "<!-- ## CLOSEDBLOK: repeatedmeasuresANOVA3.py -->"
   ]
  },
  {
   "cell_type": "code",
   "execution_count": null,
   "id": "e2f9df60",
   "metadata": {
    "lines_to_next_cell": 0,
    "name": "ANOVA als object",
    "tags": [
     "remove_input"
    ]
   },
   "outputs": [],
   "source": [
    "import pingouin as pg\n",
    "aov2 = pg.rm_anova(data = dfStudieuren_technische_natuurkunde, \n",
    "dv = 'Studieuren', \n",
    "within = 'Vak',\n",
    "subject = 'Studentnummer',\n",
    "correction = True,\n",
    "effsize = 'n2')\n",
    "\n",
    "Mauchly_W = aov2['W-spher']\n",
    "Mauchly_p = aov2['p-spher']\n",
    "GG_F = aov2['eps']\n",
    "eta2 = aov2['n2']"
   ]
  },
  {
   "cell_type": "markdown",
   "id": "b63db5bf",
   "metadata": {
    "lines_to_next_cell": 0
   },
   "source": [
    "<!-- ## /CLOSEDBLOK: repeatedmeasuresANOVA3.py -->\n",
    "\n",
    "<!-- ## TEKSTBLOK: repeatedmeasuresANOVA4.py -->\n",
    "\n",
    "* *Mauchly's test* toont aan dat de assumptie van sphericiteit niet standthoudt in deze casus ($\\chi^2$ = `r Round_and_format(py$Mauchly_W)`, p < 0,0001); gebruik in dit geval een van de correcties. In Python is alleen de (conservatieve) Greenhouse-Geisser correctie mogelijk, dus rapporteer deze. Wil je de toets op de geadviseerde manier (zowel de Greenhouse-Geisser als de Huynh-Feldt correctie uitvoeren en daarna vergelijken), dan moet de toets uitgevoerd worden in de programmeertaal R.\n",
    "* De data voldoet aan de assumptie van sphericiteit, $\\chi^2$ = `r Round_and_format(py$Mauchly_W)`, p = `r Round_and_format(py$Mauchly_p, 3)`\n",
    "* De resultaten van de Greenhouse-Geisser correctie zijn *F* = `r Round_and_format(py$GG_F)`, p < 0,0001, *η^2^* = `r Round_and_format(py$eta2)`\n",
    "* De p-waarde is kleiner dan 0,05, dus de H~0~ wordt verworpen.[^11]\n",
    "* Er is een significant verschil tussen het aantal studieuren voor de drie vakken in de eerste onderwijsperiode; het effect van de verschillende vakken op het aantal studieuren is groot\n",
    "\n",
    "<!-- ## /TEKSTBLOK: repeatedmeasuresANOVA4.py -->\n",
    "\n",
    "## Post-hoc toets\n",
    "<!-- ## TEKSTBLOK: posthoc1.py -->\n",
    "Voer post-hoc toetsen uit om te onderzoeken welke vakken uit de eerste onderwijsperiode van elkaar verschillen wat betreft het aantal studieuren dat eerstejaars studenten van de bachelor Technische Natuurkunde hieraan besteden. Bereken eerst de verschillen in gemiddelde tussen de drie vakken. Gebruik daarna voor de post-hoc toetsen de functie `pairwise_ttests` van het `pingouin` package met als argumenten de dataset `data = dfStudieuren_technische_natuurkunde`, de afhankelijke variabele `dv = 'Studieuren'`, de onafhankelijke variabele `within = 'Vak'`, de variabele die de observaties aangeeft `subject = 'Studentnummer'`, de methode om te corrigeren voor meerdere toetsen (Bonferroni) `padjust = 'bonf`' en `parametric = True` om aan te geven dat er een parametrische toets (de t-toets) gebruikt moet worden.\n",
    "<!-- ## /TEKSTBLOK: posthoc1.py -->\n",
    "\n",
    "<!-- ## OPENBLOK: posthoc2.py -->"
   ]
  },
  {
   "cell_type": "code",
   "execution_count": null,
   "id": "3260a399",
   "metadata": {
    "lines_to_next_cell": 0
   },
   "outputs": [],
   "source": [
    "# Bereken de verschillen in gemiddelde tussen de drie vakken\n",
    "Verschil_gemiddelde_LA_RT = np.mean(Studieuren_lineaire_algebra) - np.mean(Studieuren_relativiteitstheorie)\n",
    "Verschil_gemiddelde_RT_KL = np.mean(Studieuren_relativiteitstheorie) - np.mean(Studieuren_kosmologie)\n",
    "Verschil_gemiddelde_KL_LA = np.mean(Studieuren_kosmologie) - np.mean(Studieuren_lineaire_algebra)\n",
    "\n",
    "# Voer de post-hoc toetsen uit\n",
    "post_hoc = pg.pairwise_ttests(data = dfStudieuren_technische_natuurkunde, \n",
    "dv = 'Studieuren', \n",
    "within = 'Vak',\n",
    "subject = 'Studentnummer',\n",
    "padjust = 'bonf',\n",
    "parametric = True)\n",
    "\n",
    "# Print de benodigde resultaten\n",
    "print(post_hoc[['A', 'B', 'T', 'p-corr']])"
   ]
  },
  {
   "cell_type": "markdown",
   "id": "2d965dc4",
   "metadata": {
    "lines_to_next_cell": 0
   },
   "source": [
    "<!-- ## /OPENBLOK: posthoc2.py -->\n",
    "\n",
    "<!-- ## CLOSEDBLOK: posthoc3.py -->"
   ]
  },
  {
   "cell_type": "code",
   "execution_count": null,
   "id": "56ccff1f",
   "metadata": {
    "lines_to_next_cell": 0,
    "tags": [
     "remove_cell"
    ]
   },
   "outputs": [],
   "source": [
    "# Bereken de p-waarden van de post-hoc toets\n",
    "phtest = pg.pairwise_ttests(data = dfStudieuren_technische_natuurkunde, \n",
    "dv = 'Studieuren', \n",
    "within = 'Vak',\n",
    "subject = 'Studentnummer',\n",
    "padjust = 'bonf',\n",
    "parametric = True)\n",
    "\n",
    "# Sla de p-waarde van niet significante toets op\n",
    "pwaardes = phtest['p-corr']\n",
    "pwaarde_niet_significant = pwaardes[0]\n"
   ]
  },
  {
   "cell_type": "markdown",
   "id": "30a52916",
   "metadata": {},
   "source": [
    "<!-- ## /CLOSEDBLOK: posthoc3.py -->\n",
    "\n",
    "<!-- ## /TEKSTBLOK: posthoc4.py -->\n",
    "* Er is een significant verschil tussen Lineaire algebra en Relativiteitstheorie, *MD* = `r Round_and_format(py$Verschil_gemiddelde_LA_RT)`, p < 0,0001\n",
    "* Er is een significant verschil tussen Relativiteitstheorie en Kosmologie, *MD* = `r Round_and_format(py$Verschil_gemiddelde_RT_KL)`, p < 0,0001\n",
    "* Er is geen significant verschil tussen Kosmologie en Lineaire algebra, *MD* = `r Round_and_format(py$Verschil_gemiddelde_KL_LA)`, p = `r Round_and_format(py$pwaarde_niet_significant, 3)`\n",
    "\n",
    "<!-- ## /TEKSTBLOK: posthoc4.py -->"
   ]
  },
  {
   "cell_type": "markdown",
   "id": "e225d79b",
   "metadata": {},
   "source": [
    "# Rapportage\n",
    "\n",
    "<!-- ## TEKSTBLOK: rapportage.py -->\n",
    "Een *repeated measures ANOVA* is uitgevoerd om te onderzoeken of er verschillen zijn tussen het aantal studieuren dat eerstejaars studenten van de bachelor Technische Natuurkunde besteden aan de vakken in de eerste onderwijsperiode. De vakken zijn Lineaire Algebra, Relativiteitstheorie en Kosmologie; beschrijvende statistieken zijn te vinden in Tabel 1. De data voldoet aan de assumptie van sphericiteit ($\\chi^2$ = `r Round_and_format(py$Mauchly_W)`,  p = `r Round_and_format(py$Mauchly_p, 3)`), daarom is er geen correctie gebruikt. Het aantal studieuren voor de drie vakken in de eerste onderwijsperiode verschilt significant van elkaar, *F* = `r Round_and_format(py$GG_F)`, p < 0,0001, *η^2^* = `r Round_and_format(py$eta2)`. De sterkte van het effect van het vak op het aantal studieuren is groot. Post-hoc toetsen - waarbij een Bonferroni correctie is toegepast om te corrigeren voor meerdere toetsen -  tonen aan dat het aantal studieuren voor het vak Relativiteitstheorie significant verschilt van het aantal studieuren voor zowel het vak Lineaire Algebra als Kosmologie (voor beide p < 0,0001) en dat er een significant verschil is tussen de vakken Lineaire Algebra en Kosmologie (p = `r Round_and_format(py$pwaarde_niet_significant, 3)`). De resultaten suggereren dat eerstejaars studenten van de bachelor Technische Natuurkunde de meeste uren steken in het vak Relativiteitstheorie en daarna iets meer uren in het vak Kosmologie dan dan in het vak Lineaire Algebra."
   ]
  },
  {
   "cell_type": "markdown",
   "id": "19afb447",
   "metadata": {},
   "source": [
    "| Opleiding     | M          | SD          | N          |\n",
    "| ------------- | ---------- | ---------- | ----------- |\n",
    "| Lineaire Algebra      | `r Round_and_format(py$vM_LA)` | `r Round_and_format(py$vSD_LA)` | `r Round_and_format(py$vN_LA)` |\n",
    "| Relativiteitstheorie  | `r Round_and_format(py$vM_RT)` | `r Round_and_format(py$vSD_RT)` | `r Round_and_format(py$vN_RT)` |\n",
    "| Kosmologie            | `r Round_and_format(py$vM_KL)` | `r Round_and_format(py$vSD_KL)` | `r Round_and_format(py$vN_KL)` |\n",
    "*Tabel 1. Het gemiddelde aantal studieuren, bijbehorende standaarddeviatie en groepsgrootte voor de vakken in de eerste onderwijsperiode van de bachelor Technische Natuurkunde.*\n",
    "<!-- ## /TEKSTBLOK: rapportage.py -->\n"
   ]
  },
  {
   "cell_type": "markdown",
   "id": "f94c1c13",
   "metadata": {
    "lines_to_next_cell": 0
   },
   "source": [
    "<!-- ## CLOSEDBLOK: Footer.R -->"
   ]
  },
  {
   "cell_type": "markdown",
   "id": "6e9943f9",
   "metadata": {},
   "source": [
    "<!-- ## /CLOSEDBLOK: Footer.R -->\n",
    "\n",
    "[^1]: Universiteit van Amsterdam (26 augustus 2014). *Repeated-Measures ANOVA*. [UvA Wiki Methodologiewinkel](https://wiki.uva.nl/methodologiewinkel/index.php/Repeated-Measures_ANOVA).\n",
    "[^2]: Er zijn verschillende opties om variabelen te transformeren, zoals de logaritme, wortel of inverse (1 gedeeld door de variabele) nemen van de variabele. Zie *Discovering statistics using IBM SPSS statistics* van Field (2013) pagina 201-210 voor meer informatie over welke transformaties wanneer gebruikt kunnen worden.\n",
    "[^3]: Allen, P. & Bennett, K. (2012). *SPSS A practical Guide version 20.0*. Cengage Learning Australia Pty Limited.\n",
    "[^4]: Laerd statistics (2018). *Testing for Normality using SPSS Statistics*. https://statistics.laerd.com/spss-tutorials/testing-for-normality-using-spss-statistics.php. \n",
    "[^5]: Universiteit van Amsterdam (14 juli 2014). *Normaliteit*. [UvA Wiki Methodologiewinkel](https://wiki.uva.nl/methodologiewinkel/index.php/Normaliteit).\n",
    "[^6]: Field, A., Miles, J., & Field, Z. (2012). *Discovering statistics using R*. London: Sage publications.\n",
    "[^7]: Allen, P. & Bennett, K. (2012). *SPSS A practical Guide version 20.0*. Cengage Learning Australia Pty Limited.\n",
    "[^9]: Outliers (13 augustus 2016). [UvA Wiki Methodologiewinkel](https://wiki.uva.nl/methodologiewinkel/index.php/Outliers).\n",
    "[^10]: Uitbijters kunnen bepalend zijn voor de uitkomst van toetsen. Bekijk of de uitbijters valide uitbijters zijn en niet een meetfout of op een andere manier incorrect verkregen data. Het weghalen van uitbijters kan de uitkomst ook vertekenen, daarom is het belangrijk om verwijderde uitbijters te melden in een rapport. \n",
    "[^11]: In dit voorbeeld wordt uitgegaan van een waarschijnlijkheid van 95% c.q. een p-waardegrens van 0,05. De grens is naar eigen inzicht aan te passen; houd hierbij rekening met type I en type II fouten.\n",
    "[^12]: Met een deelnemer wordt het object bedoeld dat geobserveerd wordt, bijvoorbeeld een student, een inwoner van Nederland, een opleiding of een organisatie. Met een observatie wordt de waarde bedoeld die de deelnemer heeft voor een bepaalde variabele. Een deelnemer heeft dus meestal een observatie voor meerdere variabelen.\n",
    "[^18]: De breedte van de staven van het histogram wordt vaak automatisch bepaald, maar kan handmatig aangepast worden. Aangezien de breedte van de staven bepalend zijn voor de indruk die de visualisatie geeft, is het verstandig om hier goed op te letten.\n"
   ]
  }
 ],
 "metadata": {
  "jupytext": {
   "cell_metadata_filter": "warning,echo,message,code,name,results,tags,collapse,include,-all",
   "main_language": "python",
   "notebook_metadata_filter": "-all"
  },
  "kernelspec": {
   "display_name": "Python 3 (ipykernel)",
   "language": "python",
   "name": "python3"
  },
  "language_info": {
   "codemirror_mode": {
    "name": "ipython",
    "version": 3
   },
   "file_extension": ".py",
   "mimetype": "text/x-python",
   "name": "python",
   "nbconvert_exporter": "python",
   "pygments_lexer": "ipython3",
   "version": "3.10.4"
  }
 },
 "nbformat": 4,
 "nbformat_minor": 5
}
