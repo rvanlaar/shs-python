{
 "cells": [
  {
   "cell_type": "raw",
   "id": "6b229b7b",
   "metadata": {},
   "source": [
    "---\n",
    "title: \"Tekentoets\"\n",
    "output:\n",
    "  html_document:\n",
    "    theme: lumen\n",
    "    toc: yes\n",
    "    toc_depth: 2\n",
    "    toc_float: \n",
    "      collapsed: FALSE \n",
    "    number_sections: true\n",
    "    includes:\n",
    "      in_header: [\"../01. Includes/html/nocache.html\", \"../01. Includes/html/favicon.html\", \"../01. Includes/html/analytics.html\"]\n",
    "  keywords: [statistisch handboek, studiedata]\n",
    "---"
   ]
  },
  {
   "cell_type": "markdown",
   "id": "d7e2c475",
   "metadata": {},
   "source": [
    "# Tekentoets"
   ]
  },
  {
   "cell_type": "markdown",
   "id": "59f96090",
   "metadata": {
    "lines_to_next_cell": 0
   },
   "source": [
    "<!-- ## CLOSEDBLOK: Functies.R -->"
   ]
  },
  {
   "cell_type": "markdown",
   "id": "ec1be194",
   "metadata": {},
   "source": [
    "<!-- ## /OPENBLOK: Data-aanmaken.py -->\n",
    "\n",
    "## Toepassing\n",
    "<!-- ## TEKSTBLOK: link1.py -->\n",
    "Gebruik de *tekentoets* om te toetsen of de medianen van twee gepaarde groepen van elkaar verschillen.[^1] Deze toets is een alternatief voor de [gepaarde t-toets](02-Gepaarde-t-toets-Python.html) als de verschilscores van de gepaarde groepen niet normaal verdeeld zijn. De [Wilcoxon signed rank toets](07-Wilcoxon-signed-rank-toets-I-Python.html) kan ook gebruikt worden om het verschil tussen medianen van gepaarde groepen te toetsen. Deze toets heeft een hoger onderscheidend vermogen[^2], maar vereist dat de verdeling van de verschilscores symmetrisch is.[^3] De *tekentoets* kan ook gebruikt worden als de verdeling niet symmetrisch is. \n",
    "<!-- ## /TEKSTBLOK: link1.py -->\n"
   ]
  },
  {
   "cell_type": "markdown",
   "id": "acf10b99",
   "metadata": {},
   "source": [
    "## Onderwijscasus\n",
    "<div id =\"casus\">\n",
    "De directeur van de Academie Mens & Maatschappij wil bekijken hoe het inkomen van zijn alumni zich ontwikkelt nadat zij zijn afgestudeerd. Hij is nieuwsgierig of het inkomen gedurende deze jaren groeit of juist stagneert voor deze alumni. Deze informatie is interessant om te gebruiken bij voorlichtingsactiviteiten van de Academie. Hij bekijkt het bruto jaarinkomen van de alumni één jaar na afstuderen en vergelijkt het met het bruto jaarinkomen vijf jaar na afstuderen. \n",
    "\n",
    "Dit onderzoek vertaalt zich in de volgende combinatie van hypothesen, waarbij de nulhypothese zo geformuleerd is dat er geen effect of verschil is en de alternatieve hypothese zo geformuleerd is dat er wel een effect of verschil is.\n",
    "\n",
    "*H<sub>0</sub>*: Er is geen verschil in de medianen van het bruto jaarinkomen van de alumni van de Academie Mens & Maatschappij één jaar na afstuderen en vijf jaar na afstuderen.\n",
    "\n",
    "*H<sub>A</sub>*: Er is een verschil in de medianen van het bruto jaarinkomen van de alumni van de Academie Mens & Maatschappij één jaar na afstuderen en vijf jaar na afstuderen.\n",
    " \n",
    "</div>\n",
    "\n",
    "## Assumpties\n",
    "\n",
    "Het meetniveau van de variabelen is continu.[^1]"
   ]
  },
  {
   "cell_type": "markdown",
   "id": "42c5db17",
   "metadata": {
    "lines_to_next_cell": 0
   },
   "source": [
    "## Uitvoering\n",
    "<!-- ## TEKSTBLOK: Dataset-inladen.py-->\n",
    "Er is data ingeladen met het bruto jaarinkomen van alumni van de Academie Mens & Maatschappij genaamd `dfAlumni_jaarinkomens`. De directeur wil een vergelijking maken tussen het inkomen één jaar na afstuderen (meetmoment T<sub>1</sub>) en vijf jaar na afstuderen (meetmoment T<sub>2</sub>). \n",
    "<!-- ## /TEKSTBLOK: Dataset-inladen.py-->\n",
    "\n",
    "### De data bekijken\n",
    "<!-- ## TEKSTBLOK: Data-bekijken.py -->\n",
    "Gebruik `<dataframe>.head()` en `<dataframe>.tail()` om de structuur van de data te bekijken.\n",
    "<!-- ## /TEKSTBLOK: Data-bekijken.py -->\n",
    "\n",
    "<!-- ## OPENBLOK: Data-bekijken.py -->"
   ]
  },
  {
   "cell_type": "code",
   "execution_count": null,
   "id": "1f5bd60b",
   "metadata": {},
   "outputs": [],
   "source": [
    "# Pandas library importeren\n",
    "import pandas as pd"
   ]
  },
  {
   "cell_type": "code",
   "execution_count": null,
   "id": "7ffc2eaa",
   "metadata": {
    "tags": [
     "remove_cell"
    ]
   },
   "outputs": [],
   "source": [
    "df = pd.read_csv(\"../data/07_Alumni_jaarinkomens.csv\")\n",
    "dfAlumni_jaarinkomens = df.loc[:, ~df.columns.str.contains('^Unnamed')]"
   ]
  },
  {
   "cell_type": "code",
   "execution_count": null,
   "id": "a088c57c",
   "metadata": {
    "include": true
   },
   "outputs": [],
   "source": [
    "# Eerste 5 observaties\n",
    "print(dfAlumni_jaarinkomens.head())"
   ]
  },
  {
   "cell_type": "code",
   "execution_count": null,
   "id": "819f76c4",
   "metadata": {
    "include": true,
    "lines_to_next_cell": 0
   },
   "outputs": [],
   "source": [
    "# Laatste 5 observaties\n",
    "print(dfAlumni_jaarinkomens.tail())"
   ]
  },
  {
   "cell_type": "markdown",
   "id": "96f9eaba",
   "metadata": {
    "lines_to_next_cell": 0
   },
   "source": [
    "<!-- ## /OPENBLOK: Data-bekijken.py -->\n",
    "\n",
    "<!-- ## TEKSTBLOK: Data-beschrijven11.py -->\n",
    "Bekijk de grootte en de mediaan  van de data met `len()` en `np.median()` van het package `numpy`. Maak hiervoor twee vectoren met daarin de jaarinkomens op T<sub>1</sub> en T<sub>2</sub>.\n",
    "<!-- ## /TEKSTBLOK: Data-beschrijven11.py -->\n",
    "\n",
    "<!-- ## OPENBLOK: Data-selecteren.py-->"
   ]
  },
  {
   "cell_type": "code",
   "execution_count": null,
   "id": "ccdec939",
   "metadata": {
    "lines_to_next_cell": 0
   },
   "outputs": [],
   "source": [
    "Alumni_jaarinkomens_T1 = dfAlumni_jaarinkomens[dfAlumni_jaarinkomens[\"Meetmoment\"] == \"T1\"][\"Inkomen\"]\n",
    "Alumni_jaarinkomens_T2 = dfAlumni_jaarinkomens[dfAlumni_jaarinkomens[\"Meetmoment\"] == \"T2\"][\"Inkomen\"]"
   ]
  },
  {
   "cell_type": "markdown",
   "id": "198cee7b",
   "metadata": {
    "lines_to_next_cell": 0
   },
   "source": [
    "<!-- ## /OPENBLOK: Data-selecteren.py-->\n",
    "\n",
    "<div class=\"col-container\">\n",
    "  <div class=\"col\">\n",
    "<!-- ## OPENBLOK: Data-beschrijven-1.py -->"
   ]
  },
  {
   "cell_type": "code",
   "execution_count": null,
   "id": "422a06c3",
   "metadata": {
    "collapse": true,
    "lines_to_next_cell": 0,
    "name": "data beschrijven 1"
   },
   "outputs": [],
   "source": [
    "import numpy as np\n",
    "print(len(Alumni_jaarinkomens_T1))\n",
    "print(np.median(Alumni_jaarinkomens_T1))"
   ]
  },
  {
   "cell_type": "markdown",
   "id": "f8bb37e7",
   "metadata": {
    "lines_to_next_cell": 0
   },
   "source": [
    "<!-- ## /OPENBLOK: Data-beschrijven-1.py -->\n",
    "  </div>\n",
    "  <div class=\"col\">\n",
    "<!-- ## OPENBLOK: Data-beschrijven-2.py -->"
   ]
  },
  {
   "cell_type": "code",
   "execution_count": null,
   "id": "9085d6c1",
   "metadata": {
    "collapse": true,
    "lines_to_next_cell": 0,
    "name": "Data beschrijven 2"
   },
   "outputs": [],
   "source": [
    "import numpy as np\n",
    "print(len(Alumni_jaarinkomens_T2))\n",
    "print(np.median(Alumni_jaarinkomens_T2))"
   ]
  },
  {
   "cell_type": "markdown",
   "id": "e905cf0e",
   "metadata": {
    "lines_to_next_cell": 0
   },
   "source": [
    "<!-- ## /OPENBLOK: Data-beschrijven-2.py -->\n",
    "  </div>\n",
    "</div>\n",
    "<!-- ## CLOSEDBLOK: Data-beschrijven-2.py -->"
   ]
  },
  {
   "cell_type": "code",
   "execution_count": null,
   "id": "7896af3b",
   "metadata": {
    "echo": true,
    "lines_to_next_cell": 0,
    "name": "data beschrijven als object",
    "tags": [
     "remove_cell"
    ]
   },
   "outputs": [],
   "source": [
    "vMed_T1 = np.median(Alumni_jaarinkomens_T1)\n",
    "vN_T1 = len(Alumni_jaarinkomens_T1)\n",
    "vMed_T2 = np.median(Alumni_jaarinkomens_T2)\n",
    "vN_T2 = len(Alumni_jaarinkomens_T2)"
   ]
  },
  {
   "cell_type": "markdown",
   "id": "7280f9c0",
   "metadata": {},
   "source": [
    "<!-- ## /CLOSEDBLOK: Data-beschrijven-2.py -->\n",
    "<!-- ## TEKSTBLOK: Data-beschrijven.py-->\n",
    "\n",
    "* Mediaan bruto jaarinkomen op T<sub>1</sub>: `r paste0(\"€\",format(py$vMed_T1, scientific = FALSE))` \n",
    "* Mediaan bruto jaarinkomen op T<sub>2</sub>: `r paste0(\"€\",format(py$vMed_T2, scientific = FALSE))` \n",
    "* Aangezien de gegevens gepaard zijn, zijn de groepsgroottes op beide meetmomenten gelijk: *n<sub>T1</sub>* = `r py$vN_T1` en *n<sub>T2</sub>* = `r py$vN_T2`\n",
    "\n",
    "<!-- ## /TEKSTBLOK: Data-beschrijven.py-->"
   ]
  },
  {
   "cell_type": "markdown",
   "id": "cd4f9676",
   "metadata": {
    "lines_to_next_cell": 0
   },
   "source": [
    "### De data visualiseren\n",
    "\n",
    "Maak een histogram[^18] om de verdeling van de bruto jaarinkomens van de alumni één jaar en vijf jaar na afstuderen visueel weer te geven.\n",
    "\n",
    "<!-- ## OPENBLOK: Histogram1.py -->"
   ]
  },
  {
   "cell_type": "code",
   "execution_count": null,
   "id": "1a35b288",
   "metadata": {
    "lines_to_next_cell": 0,
    "name": "histogram"
   },
   "outputs": [],
   "source": [
    "## Histogram met matplotlib\n",
    "import matplotlib.pyplot as plt\n",
    "fig = plt.figure(figsize = (15, 10))\n",
    "sub1 = fig.add_subplot(1, 2, 1)\n",
    "title1 = plt.title(\"Een jaar na afstudereren\")\n",
    "hist1 = plt.hist(Alumni_jaarinkomens_T1, density = True, edgecolor = \"black\", bins = 29)\n",
    "\n",
    "sub2 = fig.add_subplot(1, 2, 2)\n",
    "title2 = plt.title(\"Vijf jaar na afstudereren\")\n",
    "hist2 = plt.hist(Alumni_jaarinkomens_T2, density = True, edgecolor = \"black\", bins = 31)\n",
    "\n",
    "main = fig.suptitle('Bruto jaarinkomen alumni Mens & Maatschappij')\n",
    "plt.show()"
   ]
  },
  {
   "cell_type": "markdown",
   "id": "ed20dc3c",
   "metadata": {
    "lines_to_next_cell": 0
   },
   "source": [
    "<!-- ## /OPENBLOK: Histogram1.py -->\n",
    "\n",
    "Op beide meetmomenten is te zien dat de meeste alumni tussen de 0 en €35.000 euro per jaar verdienen en dat een paar alumni hierboven zit. Beide verdelingen hebben één top, maar zijn niet symmetrisch. Bij de inkomens 1 jaar na afstuderen ligt de meerderheid van de observaties links van de top. Bij de inkomens 5 jaar na afstuderen ligt de meerderheid van de observaties juist rechts van de top. Beide verdeling lijken niet echt op elkaar qua vorm en spreiding.\n",
    "\n",
    "Maak vervolgens een histogram[^18] van de verschilscores.\n",
    "\n",
    "<!-- ## OPENBLOK: Histogram2.py -->"
   ]
  },
  {
   "cell_type": "code",
   "execution_count": null,
   "id": "24c3a85a",
   "metadata": {
    "lines_to_next_cell": 0,
    "message": false,
    "name": "histogram2",
    "warnings": false
   },
   "outputs": [],
   "source": [
    "# Maak een variabele met de verschilscores\n",
    "Alumni_verschilscores = np.array(Alumni_jaarinkomens_T2) - np.array(Alumni_jaarinkomens_T1)\n",
    "\n",
    "## Histogram met matplotlib\n",
    "import matplotlib.pyplot as plt\n",
    "hist = plt.hist(Alumni_verschilscores, density = True, edgecolor = \"black\", bins = 9)\n",
    "title = plt.title(\"Verschilscores bruto jaarinkomen alumni Mens & Maatschappij\")\n",
    "xlab = plt.xlabel(\"Verschilscores\")\n",
    "ylab = plt.ylabel(\"Frequentiedichtheid\")\n",
    "plt.show()\n"
   ]
  },
  {
   "cell_type": "markdown",
   "id": "a4ea1c2c",
   "metadata": {},
   "source": [
    "<!-- ## /OPENBLOK: Histogram2.py -->\n",
    "\n",
    "De verdeling van de verschilscores bevat voornamelijk positieve waarden en een paar negatieve waarden; de meeste alumni zijn er dus in bruto jaarinkomen op vooruitgegaan. De verdeling lijkt niet geheel symmetrisch te zijn \n"
   ]
  },
  {
   "cell_type": "markdown",
   "id": "abd7bfd5",
   "metadata": {
    "lines_to_next_cell": 0
   },
   "source": [
    "### Tekentoets\n",
    "<!-- ## TEKSTBLOK: Wilcoxon-signed-rank-toets.py -->\n",
    "Voer een tweezijdige *tekentoets* uit om de vraag te beantwoorden of de mediaan van de bruto jaarinkomens van alumni verschillend is voor de inkomens één jaar en vijf jaar na afstuderen. Gebruik van het `scipy.stats` package de functie `binom_test()` met de argumenten `x = Hoger` dat het aantal alumni aangeeft dat na vijf jaar meer verdient dan na één jaar na afstuderen, `n = Aantal_observaties` dat het totaal aantal alumni aangeeft, `p = 0.5` om de nulhypothese aan te geven en `alternative = 'two-sided'` om een tweezijdige alternatieve hypothese te toetsen. De nulhypothese stelt dat er geen verschil is tussen de medianen van het bruto jaarinkomen één jaar en vijf jaar na afstuderen wat betekent dat (ongeveer) de helft van de verschilscores groter dan nul is en de helft van de verschilscores kleiner dan nul is. Vandaar dat de nulhypothese aangegeven kan worden door de verwachte proportie `p` gelijk te stellen aan `0.5`.\n",
    "\n",
    "<!-- ## /TEKSTBLOK: Wilcoxon-signed-rank-toets.py -->\n",
    "\n",
    "<!-- ## OPENBLOK: Wilcoxon-signed-rank-toets.py -->"
   ]
  },
  {
   "cell_type": "code",
   "execution_count": null,
   "id": "614aa4b1",
   "metadata": {
    "lines_to_next_cell": 0,
    "name": "wilcox test"
   },
   "outputs": [],
   "source": [
    "import scipy.stats as sps\n",
    "\n",
    "# Maak een variabele met de verschilscores\n",
    "Alumni_verschilscores = np.array(Alumni_jaarinkomens_T2) - np.array(Alumni_jaarinkomens_T1)\n",
    "\n",
    "# Bereken het aantal alumni dat na 5 jaar meer verdient dan na een jaar\n",
    "Hoger = sum(Alumni_verschilscores > 0)\n",
    "\n",
    "# Bereken het totaal aantal observaties\n",
    "Aantal_observaties = len(Alumni_verschilscores)\n",
    "\n",
    "# Voer de binomiaaltoets uit\n",
    "Binomiaaltoets = sps.binom_test(x = Hoger, n = Aantal_observaties, p = 0.5, alternative = 'two-sided')\n",
    "\n",
    "print(Binomiaaltoets)\n",
    "\n",
    "# Bereken de proportie alumni dat na 5 jaar meer verdient dan na een jaar\n",
    "Proportie_boven_mediaan = Hoger / Aantal_observaties\n",
    "\n",
    "print(Proportie_boven_mediaan)\n"
   ]
  },
  {
   "cell_type": "markdown",
   "id": "774e15df",
   "metadata": {
    "lines_to_next_cell": 0
   },
   "source": [
    "<!-- ## /OPENBLOK: Wilcoxon-signed-rank-toets.py -->\n",
    "\n",
    "<!-- ## CLOSEDBLOK: Wilcoxon-signed-rank-toets.py -->"
   ]
  },
  {
   "cell_type": "markdown",
   "id": "a2c5c043",
   "metadata": {
    "lines_to_next_cell": 0
   },
   "source": [
    "<!-- ## /CLOSEDBLOK: Wilcoxon-signed-rank-toets.py -->\n",
    "\n",
    "<!-- ## TEKSTBLOK: Wilcoxon-signed-rank-toets2.py -->\n",
    "\n",
    "* Er is een significant verschil tussen het mediane inkomen vijf jaar en één jaar na afstuderen, *S* = `r py$Hoger`, *N* = `r py$Aantal_observaties`, *p* < 0.0001 [^4]\n",
    "* De toetsstatistiek *S* is het aantal positieve verschillen (inkomen vijf jaar na afstuderen hoger dan één jaar na afstuderen), *N* is het totaal aantal observatie-eenheden (alumni)\n",
    "* Van de `r py$Aantal_observaties` alumni verdienen `r py$Hoger` alumni meer vijf jaar na afstuderen dan één jaar na afstuderen\n",
    "\n",
    "<!-- ## /TEKSTBLOK: Wilcoxon-signed-rank-toets2.py -->\n",
    "\n",
    "## Rapportage\n",
    "<!-- ## TEKSTBLOK: Rapportage.py -->\n",
    "\n",
    "De *tekentoets* is uitgevoerd om te onderzoeken of er een verschil is tussen het mediane bruto jaarinkomen van de alumni van de Academie Mens & Maatschappij één jaar en vijf jaar na afstuderen. De resultaten van de toets laten zien dat er een significant verschil is tussen beide medianen, *S* = `r py$Hoger`, *N* = `r py$Aantal_observaties`, *p* < 0.0001. Van de `r py$Aantal_observaties` alumni verdienen `r py$Hoger` alumni meer vijf jaar na afstuderen. Deze resultaten duiden op een verschil in het mediane bruto jaarinkomen van de alumni van de Academie Mens & Maatschappij waarbij de inkomens vijf jaar na afstuderen hoger lijken te liggen.\n",
    "\n",
    "<!-- ## /TEKSTBLOK: Rapportage.py -->\n",
    "\n",
    "<!-- ## CLOSEDBLOK: Footer.R -->"
   ]
  },
  {
   "cell_type": "markdown",
   "id": "029284b4",
   "metadata": {},
   "source": [
    "<!-- ## /CLOSEDBLOK: Footer.R -->\n",
    "\n",
    "[^1]: Laerd Statistics (2018). *Sign Test using SPSS Statistics*. https://statistics.laerd.com/spss-tutorials/sign-test-using-spss-statistics.php\n",
    "[^2]: Onderscheidend vermogen, in het Engels power genoemd, is de kans dat de nulhypothese verworpen wordt wanneer de alternatieve hypothese waar is.\n",
    "[^3]: Statistics How To (27 mei 2018). *One Sample Median Test*. [Statistics How to](https://www.statisticshowto.datasciencecentral.com/one-sample-median-test/).\n",
    "[^4]: In dit voorbeeld wordt uitgegaan van een waarschijnlijkheid van 95% c.q. een p-waardegrens van 0,05. De grens is naar eigen inzicht aan te passen; houd hierbij rekening met type I en type II fouten.\n",
    "[^5]: Omdat het betrouwbaarheidsinterval van de mediaan van verschilscores exact berekend wordt, kan het percentage van het betrouwbaarheidsinterval afwijken van 95%. In dit geval is het 96%.\n",
    "[^18]: De breedte van de staven van het histogram wordt vaak automatisch bepaald, maar kan handmatig aangepast worden. Aangezien de breedte van de staven bepalend zijn voor de indruk die de visualisatie geeft, is het verstandig om hier goed op te letten.\n",
    "[^19]: Met een deelnemer wordt het object bedoeld dat geobserveerd wordt, bijvoorbeeld een student, een inwoner van Nederland, een opleiding of een organisatie. Met een observatie wordt de waarde bedoeld die de deelnemer heeft voor een bepaalde variabele. Een deelnemer heeft dus meestal een observatie voor meerdere variabelen."
   ]
  }
 ],
 "metadata": {
  "jupytext": {
   "cell_metadata_filter": "name,message,warnings,warning,code,echo,include,results,tags,collapse,-all",
   "main_language": "python",
   "notebook_metadata_filter": "-all"
  },
  "kernelspec": {
   "display_name": "Python 3 (ipykernel)",
   "language": "python",
   "name": "python3"
  },
  "language_info": {
   "codemirror_mode": {
    "name": "ipython",
    "version": 3
   },
   "file_extension": ".py",
   "mimetype": "text/x-python",
   "name": "python",
   "nbconvert_exporter": "python",
   "pygments_lexer": "ipython3",
   "version": "3.10.4"
  }
 },
 "nbformat": 4,
 "nbformat_minor": 5
}
