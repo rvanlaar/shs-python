{
 "cells": [
  {
   "cell_type": "raw",
   "id": "1b4cd9ff",
   "metadata": {},
   "source": [
    "---\n",
    "title: \"Ongepaarde t-toets\"\n",
    "output:\n",
    "  html_document:\n",
    "    includes:\n",
    "      in_header:\n",
    "      - ../01. Includes/html/nocache.html\n",
    "      - ../01. Includes/html/favicon.html\n",
    "      - ../01. Includes/html/analytics.html\n",
    "    number_sections: yes\n",
    "    theme: lumen\n",
    "    toc: yes\n",
    "    toc_depth: 2\n",
    "    toc_float:\n",
    "      collapsed: no\n",
    "  keywords:\n",
    "  - statistisch handboek\n",
    "  - studiedata\n",
    "  word_document:\n",
    "    toc: yes\n",
    "---"
   ]
  },
  {
   "cell_type": "markdown",
   "id": "b6fc5deb",
   "metadata": {
    "lines_to_next_cell": 0
   },
   "source": [
    "<!-- ## CLOSEDBLOK: Functies.R -->"
   ]
  },
  {
   "cell_type": "markdown",
   "id": "85c1848f",
   "metadata": {
    "lines_to_next_cell": 0
   },
   "source": [
    "<!-- ## /CLOSEDBLOK: Functies.R -->\n",
    "\n",
    "<!-- ## CLOSEDBLOK: CSS -->\n",
    "<style>\n",
    "`r htmltools::includeHTML(paste0(here::here(),\"/01. Includes/css/Stylesheet_SHHO.css\"))`\n",
    "</style>\n",
    "<!-- ## /CLOSEDBLOK: CSS -->\n",
    "\n",
    "<!-- ## CLOSEDBLOK: Header.R -->"
   ]
  },
  {
   "cell_type": "markdown",
   "id": "c0080ef6",
   "metadata": {
    "lines_to_next_cell": 0
   },
   "source": [
    "<!-- ## /OPENBLOK: Data-aanmaken.py -->\n",
    "\n",
    "# Toepassing\n",
    "Gebruik de *ongepaarde t-toets* om de gemiddelden van twee onafhankelijke groepen te vergelijken.[^1]\n",
    "\n",
    "# Onderwijscasus\n",
    "<div id = \"casus\">\n",
    "Vanaf 2011 heeft de opleiding Taalwetenschap een Bindend Studieadvies (BSA) die de selectiviteit van het eerste jaar moet vergroten. De studieadviseur vraagt zich af of het gemiddelde cijfer van de opleiding Taalwetenschap op 1 februari, na invoering van het BSA, veranderd is. De data is beschikbaar voor het cohort gestart in 2010 en voor het cohort gestart in 2011.\n",
    "\n",
    "Dit onderzoek vertaalt zich in de volgende combinatie van hypothesen, waarbij de nulhypothese zo geformuleerd is dat er geen effect of verschil is en de alternatieve hypothese zo geformuleerd is dat er wel een effect of verschil is.\n",
    "\n",
    "*H~0~*: Het gemiddelde tentamencijfer dat de studenten halen aan de opleiding Taalwetenschap is niet veranderd na de invoer van het BSA, µ~0~ = µ~1~  \n",
    "\n",
    "*H~A~*: Het gemiddelde tentamencijfer dat de studenten halen aan de opleiding Taalwetenschap is veranderd na de invoer van het BSA, µ~0~ ≠ µ~1~\n",
    "</div>\n",
    "\n",
    "# Assumpties\n",
    "Voor een valide resultaat moet de data aan een aantal voorwaarden voldoen voordat de toets uitgevoerd kan worden.\n",
    "\n",
    "## Normaliteit \n",
    "De *ongepaarde t-toets* gaat ervan uit dat de afhankelijke variabele normaal verdeeld is voor alle groepen. Als elke groep een aantal observaties (*n*) heeft dat groter dan 100 is,  ga er dan vanuit dat de *ongepaarde t-toets* robuust genoeg is om uit te voeren zonder dat de afhankelijke variabele een normale verdeling volgt.\n",
    "\n",
    "Controleer de assumptie van normaliteit met de volgende stappen:  \n",
    "1. Controleer de afhankelijke variabele per groep visueel met een histogram, een boxplot en een Q-Q plot.   \n",
    "2. Toets of de afhankelijke variabele voor beide groepen normaal verdeeld is met de *Kolmogorov-Smirnov test* of bij een kleinere steekproef (*n* < 50) met de *Shapiro-Wilk test*.[^3]<sup>, </sup>[^4]  \n",
    "\n",
    "De eerste stap heeft als doel een goede indruk te krijgen van de verdeling van de steekproef. In de tweede stap wordt de assumptie van normaliteit getoetst. De statistische toets laat zien of de verdeling van de observaties van een groep voldoet aan de assumptie van normaliteit. Voor beide groepen moet er voldaan zijn aan de assumptie van normaliteit.\n",
    "\n",
    "<!-- ## TEKSTBLOK: Link1.py -->\n",
    "Als blijkt dat de afhankelijke variabele niet normaal verdeeld is voor één van of allebei de groepen, transformeer[^5] dan de afhankelijke variabele en bepaal daarna of deze wel normaal verdeeld is of gebruik de [Mann-Whitney U toets](08-Mann-Whitney-U-toets-Python.html).[^6]<sup>, </sup>[^7]  \n",
    "<!-- ## /TEKSTBLOK: Link1.py -->\n",
    "\n",
    "## Wel of geen gepoolde variantie\n",
    "De *ongepaarde t-toets* kan met en zonder gepoolde variantie uitgevoerd worden. Bij een gepoolde variantie is de berekening van de variantie van het verschil in gemiddelden anders en wordt aangenomen dat de varianties van beide steekproeven even groot zijn. Deze aanname is te toetsen met de *Levene's test*, waarbij een significant resultaat aangeeft dat er een verschil is in de varianties van beide groepen. De hedendaagse consensus is echter om altijd deze aanname niet te toetsen en de *ongepaarde t-toets* zonder gepoolde variantie uit te voeren.[^8] Een gepoolde variantie zorgt ervoor dat het onderscheidend vermogen[^14] van de *ongepaarde t-toets* iets hoger is als de varianties van beide groepen ongeveer gelijk zijn, maar geeft verkeerde resultaten als de varianties van elkaar afwijken. Daarnaast heeft *Levene's test* een laag onderscheidend vermogen, wat betekent dat het lastig is om ongelijke varianties goed te toetsen. Gebruik daarom de *ongepaarde t-toets* zonder gepoolde variantie; deze staat ook wel bekend als *Welch's t-toets*.[^8]\n",
    "\n",
    "# Uitvoering\n",
    "<!-- ## TEKSTBLOK: Dataset-inladen.py -->\n",
    "Er is een dataset ingeladen met gemiddelde cijfers van tweedejaarsstudenten bij de opleiding Taalwetenschap: `dfCijfers_gemiddeld`. De data bevatten cijfers van 180 studenten begonnen in 2010 en cijfers van 160 studenten begonnen in 2011.\n",
    "<!-- ## /TEKSTBLOK: Dataset-inladen.py -->\n",
    "\n",
    "## De data bekijken\n",
    "<!-- ## TEKSTBLOK: Data-bekijken.py -->\n",
    "Gebruik `<dataframe>.head()` en `<dataframe>.tail()` om de structuur van de data te bekijken.\n",
    "<!-- ## /TEKSTBLOK: Data-bekijken.py -->\n",
    "<!-- ## OPENBLOK: Data-bekijken.py -->"
   ]
  },
  {
   "cell_type": "code",
   "execution_count": null,
   "id": "a984a29b",
   "metadata": {
    "tags": [
     "remove_cell"
    ]
   },
   "outputs": [],
   "source": [
    "import pandas as pd\n",
    "dfCijfers_gemiddeld = pd.read_csv(\"../data/03_Cijfers_gemiddeld.csv\")"
   ]
  },
  {
   "cell_type": "code",
   "execution_count": null,
   "id": "e599ddb3",
   "metadata": {
    "name": "data bekijken-1"
   },
   "outputs": [],
   "source": [
    "## Eerste 6 observaties\n",
    "print(dfCijfers_gemiddeld.head())"
   ]
  },
  {
   "cell_type": "code",
   "execution_count": null,
   "id": "2859cd16",
   "metadata": {
    "lines_to_next_cell": 0,
    "name": "data bekijken-2"
   },
   "outputs": [],
   "source": [
    "## Laatste 6 observaties\n",
    "print(dfCijfers_gemiddeld.tail())"
   ]
  },
  {
   "cell_type": "markdown",
   "id": "bee7a9a0",
   "metadata": {
    "lines_to_next_cell": 0
   },
   "source": [
    "<!-- ## /OPENBLOK: Data-bekijken.py -->\n",
    "\n",
    "Selecteer beide groepen en sla deze op in een vector om deze makkelijker aan te kunnen roepen. \n",
    "<!-- ## OPENBLOK: Data-selecteren.py -->"
   ]
  },
  {
   "cell_type": "code",
   "execution_count": null,
   "id": "d72307f4",
   "metadata": {
    "lines_to_next_cell": 0,
    "name": "data selecteren"
   },
   "outputs": [],
   "source": [
    "Cijfers_2010 = dfCijfers_gemiddeld[dfCijfers_gemiddeld['Cohort'] == 2010]['Cijfers']\n",
    "Cijfers_2011 = dfCijfers_gemiddeld[dfCijfers_gemiddeld['Cohort'] == 2011]['Cijfers']"
   ]
  },
  {
   "cell_type": "markdown",
   "id": "c04bb593",
   "metadata": {
    "lines_to_next_cell": 0
   },
   "source": [
    "<!-- ## /OPENBLOK: Data-selecteren.py -->\n",
    "\n",
    "<!-- ## TEKSTBLOK: Data-beschrijven.py -->\n",
    "Inspecteer de data met `np.size()`, `np.mean()` en `np.std())`, door deze aan te roepen uit het package `numpy`.\n",
    "<!-- ## /TEKSTBLOK: Data-beschrijven.py -->\n",
    "\n",
    "<!-- ## OPENBLOK: Data-beschrijven-inladen.py -->"
   ]
  },
  {
   "cell_type": "code",
   "execution_count": null,
   "id": "77e142d6",
   "metadata": {
    "lines_to_next_cell": 0
   },
   "outputs": [],
   "source": [
    "# Om het gemiddelde en de standaard deviatie te berekenen, hebben we de library 'numpy' nodig\n",
    "import numpy as np"
   ]
  },
  {
   "cell_type": "markdown",
   "id": "123d306c",
   "metadata": {
    "lines_to_next_cell": 0
   },
   "source": [
    "<!-- ## /OPENBLOK: Data-beschrijven-inladen.py -->\n",
    "\n",
    "<div class=\"col-container\">\n",
    "  <div class=\"col\">\n",
    "<!-- ## OPENBLOK: Data-beschrijven-1.py -->"
   ]
  },
  {
   "cell_type": "code",
   "execution_count": null,
   "id": "9c1380ba",
   "metadata": {
    "lines_to_next_cell": 0,
    "name": "Data beschrijven 1"
   },
   "outputs": [],
   "source": [
    "## Aantallen, gemiddelde en standaarddeviatie 2010\n",
    "print(np.size(Cijfers_2010))\n",
    "print(np.mean(Cijfers_2010))\n",
    "print(np.std(Cijfers_2010))"
   ]
  },
  {
   "cell_type": "markdown",
   "id": "b24cc958",
   "metadata": {
    "lines_to_next_cell": 0
   },
   "source": [
    "<!-- ## /OPENBLOK: Data-beschrijven-1.py -->\n",
    "  </div>\n",
    "  <div class =\"col\">\n",
    "<!-- ## OPENBLOK: Data-beschrijven-2.py -->"
   ]
  },
  {
   "cell_type": "code",
   "execution_count": null,
   "id": "56ad1828",
   "metadata": {
    "lines_to_next_cell": 0,
    "name": "Data beschrijven 2"
   },
   "outputs": [],
   "source": [
    "## Aantallen, gemiddelde en standaarddeviatie 2011\n",
    "print(np.size(Cijfers_2011))\n",
    "print(np.mean(Cijfers_2011))\n",
    "print(np.std(Cijfers_2011))"
   ]
  },
  {
   "cell_type": "markdown",
   "id": "f7a7f2aa",
   "metadata": {
    "lines_to_next_cell": 0
   },
   "source": [
    "<!-- ## /OPENBLOK: Data-beschrijven-2.py -->\n",
    "  </div>\n",
    "</div>\n",
    "<!-- ## CLOSEDBLOK: Data-beschrijven-3.py -->"
   ]
  },
  {
   "cell_type": "code",
   "execution_count": null,
   "id": "78b6945b",
   "metadata": {
    "echo": true,
    "lines_to_next_cell": 0,
    "name": "Var beschrijven t1",
    "tags": [
     "remove_cell"
    ]
   },
   "outputs": [],
   "source": [
    "vN_t0 = np.size(Cijfers_2010)\n",
    "vMean_t0 = np.mean(Cijfers_2010)\n",
    "vSD_t0 = np.std(Cijfers_2010)\n",
    "vN_t1 = np.size(Cijfers_2011)\n",
    "vMean_t1 = np.mean(Cijfers_2011)\n",
    "vSD_t1 = np.std(Cijfers_2011)"
   ]
  },
  {
   "cell_type": "markdown",
   "id": "a6d67a36",
   "metadata": {
    "lines_to_next_cell": 0
   },
   "source": [
    "<!-- ## /CLOSEDBLOK: Data-beschrijven-3.py -->\n",
    "\n",
    "<!-- ## TEKSTBLOK: Data-beschrijven-4.py -->\n",
    "* Gemiddeld tentamencijfer 2010 (standaarddeviatie): `r Round_and_format(py$vMean_t0)` (`r Round_and_format(py$vSD_t0)`). *n* = `r py$vN_t0`.\n",
    "* Gemiddeld tentamencijfer 2011 (standaarddeviatie): `r Round_and_format(py$vMean_t1)` (`r Round_and_format(py$vSD_t1)`). *n* = `r py$vN_t1`.\n",
    "<!-- ## /TEKSTBLOK: Data-beschrijven-4.py -->\n",
    "\n",
    "## Visuele inspectie van normaliteit\n",
    "Geef de verdeling van de tentamencijfers van beide groepen visueel weer met een histogram, Q-Q plot en boxplot.\n",
    "\n",
    "### Histogram\n",
    "\n",
    "Focus bij het analyseren van een histogram[^18] op de symmetrie van de verdeling, de hoeveelheid toppen (modaliteit) en mogelijke uitbijters. Een normale verdeling is symmetrisch, heeft één top en geen uitbijters.[^9]<sup>, </sup>[^10]\n",
    "\n",
    "<!-- ## OPENBLOK: Histogram.py -->"
   ]
  },
  {
   "cell_type": "code",
   "execution_count": null,
   "id": "51d7e40d",
   "metadata": {
    "lines_to_next_cell": 0,
    "name": "histogram"
   },
   "outputs": [],
   "source": [
    "## Histogram met matplotlib\n",
    "import matplotlib.pyplot as plt\n",
    "fig = plt.figure()\n",
    "sub1 = fig.add_subplot(1, 2, 1)\n",
    "title1 = plt.title(\"2010\")\n",
    "xlab = plt.xlabel(\"Cijfers\")\n",
    "ylab = plt.ylabel(\"Frequentiedichtheid\")\n",
    "hist1 = plt.hist(Cijfers_2010, density = True, edgecolor = \"black\", bins = 9)\n",
    "\n",
    "sub2 = fig.add_subplot(1, 2, 2)\n",
    "title2 = plt.title(\"2011\")\n",
    "xlab = plt.xlabel(\"Cijfers\")\n",
    "hist2 = plt.hist(Cijfers_2011, density = True, edgecolor = \"black\", bins = 9)\n",
    "\n",
    "main = fig.suptitle('Taalwetenschap gemiddelde cijfers voor en na de BSA')\n",
    "plt.show()"
   ]
  },
  {
   "cell_type": "markdown",
   "id": "d3b8ddd1",
   "metadata": {
    "lines_to_next_cell": 0
   },
   "source": [
    "<!-- ## /OPENBLOK: Histogram.py -->\n",
    "\n",
    "Beide histogrammen laten een verdeling zien die redelijk symmetrisch is, één top heeft en geen uitbijters. Daarom zijn beide verdelingen bij benadering normaal verdeeld.\n",
    "\n",
    "### Q-Q plot\n",
    "<!-- ## TEKSTBLOK: QQplot.py -->\n",
    "Gebruik de functie `probplot` van het `scipy` package om een Q-Q plot te maken, met als datapunten kleine cirkels. \n",
    "<!-- ## TEKSTBLOK: QQplot.py -->\n",
    "\n",
    "Als over het algemeen de meeste datapunten op de lijn liggen, kan aangenomen worden dat de data normaal verdeeld is.\n",
    "<div class =\"col-container\">\n",
    "  <div class = \"col\"> \n",
    "<!-- ## OPENBLOK: QQplot-t1.py -->"
   ]
  },
  {
   "cell_type": "code",
   "execution_count": null,
   "id": "3383fb8f",
   "metadata": {
    "lines_to_next_cell": 0,
    "name": "QQplot-t1"
   },
   "outputs": [],
   "source": [
    "import scipy.stats as stats\n",
    "qq = stats.probplot(Cijfers_2010, dist=\"norm\", plot=plt)\n",
    "title = plt.title(\"Normaal Q-Q plot van tentamencijfers 2010\")\n",
    "xlab = plt.xlabel(\"Theoretische kwantielen\")\n",
    "ylab = plt.ylabel(\"Kwantielen in data\")\n",
    "plt.show()"
   ]
  },
  {
   "cell_type": "markdown",
   "id": "70aa9fe5",
   "metadata": {
    "lines_to_next_cell": 0
   },
   "source": [
    "<!-- ## /OPENBLOK: QQplot-t1.py -->\n",
    "  </div>\n",
    "  <div class = \"col\">\n",
    "<!-- ## OPENBLOK: QQplot-t2.py -->"
   ]
  },
  {
   "cell_type": "code",
   "execution_count": null,
   "id": "abfebc51",
   "metadata": {
    "lines_to_next_cell": 0,
    "name": "QQplot-t2"
   },
   "outputs": [],
   "source": [
    "import scipy.stats as stats\n",
    "qq = stats.probplot(Cijfers_2011, dist=\"norm\", plot=plt)\n",
    "title = plt.title(\"Normaal Q-Q plot van tentamencijfers 2011\")\n",
    "xlab = plt.xlabel(\"Theoretische kwantielen\")\n",
    "ylab = plt.ylabel(\"Kwantielen in data\")\n",
    "plt.show()"
   ]
  },
  {
   "cell_type": "markdown",
   "id": "d9b0cac7",
   "metadata": {
    "lines_to_next_cell": 0
   },
   "source": [
    "<!-- ## /OPENBLOK: QQplot-t2.py -->\n",
    "  </div>\n",
    "</div>\n",
    "\n",
    "Voor beide Q-Q plots liggen de meeste datapunten op of vlakbij de lijn. Hoewel er bij de uiteinden van de verdeling wat afwijkingen zijn, duidt deze grafiek op een goede benadering van de normaalverdeling voor beide cohorten.\n",
    "\n",
    "### Boxplot\n",
    "De box geeft de middelste 50% van de tentamencijfers weer. De zwarte lijn binnen de box is de mediaan. In de staarten of snorreharen zitten de eerste 25% en de laatste 25%. Cirkels visualiseren mogelijke uitbijters.[^9] Hoe meer de boxen overlappen, hoe waarschijnlijker er geen significant verschil is tussen de groepen. \n",
    "\n",
    "<!-- ## OPENBLOK: Boxplot.py -->"
   ]
  },
  {
   "cell_type": "code",
   "execution_count": null,
   "id": "7da09111",
   "metadata": {
    "lines_to_next_cell": 0,
    "name": "boxplot"
   },
   "outputs": [],
   "source": [
    "fig, ax = plt.subplots()\n",
    "box = ax.boxplot([Cijfers_2010, Cijfers_2011], labels = [\"2010\", \"2011\"])\n",
    "title = plt.title(\"Tentamencijfers Taalwetenschap voor en na de BSA\")\n",
    "plt.show()"
   ]
  },
  {
   "cell_type": "markdown",
   "id": "c06b7b43",
   "metadata": {
    "lines_to_next_cell": 0
   },
   "source": [
    "<!-- ## /OPENBLOK: Boxplot.py -->\n",
    "\n",
    "De boxplotten geven de spreiding weer van het gemiddelde tentamencijfer voor de BSA en na de BSA. De boxplotten en de staarten lijken symmetrisch, wat een teken is van een bij benadering normale verdeling. Het cohort van 2011 heeft een aantal mogelijke uitbijters.[^10] \n",
    "\n",
    "## Toetsen van normaliteit\n",
    "Om te controleren of de afhankelijke variabele voor beide groepen normaal verdeeld is, kan de normaliteit getoetst worden. Twee veelgebruikte toetsen zijn: de *Kolmogorov-Smirnov test* en de *Shapiro-Wilk test*.\n",
    "\n",
    "### Kolmogorov-Smirnov\n",
    "De *Kolmogorov-Smirnov test* toetst het verschil tussen twee verdelingen. Standaard toetst deze test het verschil tussen een normale verdeling en de verdeling van de steekproef. De Lilliefors correctie is vereist als het gemiddelde en de standaardafwijking niet van tevoren bekend of bepaald zijn, wat meestal het geval is bij een steekproef. Als de p-waarde kleiner dan 0,05 is, is de verdeling van de steekproef significant verschillend van de normale verdeling.\n",
    "\n",
    "<!-- ## TEKSTBLOK: Lilliefors-test1.py -->\n",
    "De standaard interpretatie van de statistische toetsen van normaliteit in Python is: `(<teststatistiek>, <p-waarde>)`. Verder toetst Python hierbij tweezijdig. Gebruik bij deze toets het argument `pvalmethod = \"table\"` om een betrouwbare p-waarde te krijgen.\n",
    "<!-- ## /TEKSTBLOK: Lilliefors-test1.py -->\n",
    "\n",
    "<!-- ## OPENBLOK: Library-nortest.py -->"
   ]
  },
  {
   "cell_type": "code",
   "execution_count": null,
   "id": "0f9f6c32",
   "metadata": {
    "lines_to_next_cell": 0
   },
   "outputs": [],
   "source": [
    "import statsmodels.stats.api as smod"
   ]
  },
  {
   "cell_type": "markdown",
   "id": "d136713b",
   "metadata": {
    "lines_to_next_cell": 0
   },
   "source": [
    "<!-- ## OPENBLOK: Library-nortest.py -->\n",
    "\n",
    "<div class=\"col-container\">\n",
    "  <div class = \"col\">\n",
    "<!-- ## OPENBLOK: Lilliefors-test-1.py -->\n",
    "``` {python Lilliefors Test-1, warning=FALSE}\n",
    "print(smod.lilliefors(Cijfers_2010, pvalmethod=\"table\"))\n",
    "```\n",
    "``` {python Lilliefors Test-1 closed, warning=FALSE, include = FALSE}\n",
    "lilliefors2010 = smod.lilliefors(Cijfers_2010, pvalmethod=\"table\")\n",
    "```\n",
    "<!-- ## /OPENBLOK: Lilliefors-test-1.py -->\n",
    "  </div>\n",
    "  <div class = \"col\">\n",
    "<!-- ## OPENBLOK: Lilliefors-test-2.py -->\n",
    "``` {python Lilliefors Test-2, warning=FALSE}\n",
    "print(smod.lilliefors(Cijfers_2011, pvalmethod=\"table\"))\n",
    "```\n",
    "``` {python Lilliefors Test-2 closed, warning=FALSE, include = FALSE}\n",
    "lilliefors2011 = smod.lilliefors(Cijfers_2011, pvalmethod=\"table\")\n",
    "```"
   ]
  },
  {
   "cell_type": "code",
   "execution_count": null,
   "id": "449fe098",
   "metadata": {
    "echo": true,
    "tags": [
     "remove_cell"
    ]
   },
   "outputs": [],
   "source": [
    "Cijfers_2010_n30 = pd.read_csv(\"../data/03_Cijfers_2010_n30.csv\").to_numpy()\n",
    "Cijfers_2011_n30 = pd.read_csv(\"../data/03_Cijfers_2011_n30.csv\").to_numpy()\n",
    "n = len(Cijfers_2010_n30)"
   ]
  },
  {
   "cell_type": "markdown",
   "id": "d8497f57",
   "metadata": {
    "lines_to_next_cell": 0
   },
   "source": [
    "<!-- ## /OPENBLOK: Lilliefors-test-2.py -->\n",
    "  </div>\n",
    "</div>\n",
    "\n",
    "Bij deze casus is van beide groepen de p-waarde groter dan 0,05, dus er zijn geen significante verschillen gevonden tussen de verdeling van de steekproef en de normale verdeling. De *ongepaarde t-toets* kan uitgevoerd worden.\n",
    "\n",
    "### Shapiro-Wilk Test\n",
    "De *Shapiro-Wilk test* is een soortgelijke test als de *Kolmogorov-Smirnov test* en vooral geschikt bij kleine steekproeven (*n* < 50). Als de p-waarde kleiner dan 0,05 is, is de verdeling van de steekproef significant verschillend van de normale verdeling. \n",
    "<!-- ## TEKSTBLOK: Shapiro-Wilk-test.py -->\n",
    "Er zijn twee subsets van `Cijfers_gemiddeld` ingeladen: `Cijfers_2010_n30` en `Cijfers_2011_n30`. Beide subsets bevatten `r py$n` studenten. Voor relatief kleine steekproeven als deze is de *Shapiro-Wilk Test* geschikt.\n",
    "<!-- ## TEKSTBLOK: Shapiro-Wilk-test.py -->\n",
    "<div class = \"col-container\">\n",
    "  <div class=\"col\">\n",
    "<!-- ## OPENBLOK: Shapiro-Wilk-test-1.py -->\n",
    "``` {python Shapiro-Wilk Test-1, warning=FALSE}\n",
    "print(stats.shapiro(Cijfers_2010_n30))\n",
    "```\n",
    "<!-- ## /OPENBLOK: Shapiro-Wilk-test-1.py -->\n",
    "  </div>\n",
    "  <div class=\"col\">\n",
    "<!-- ## OPENBLOK: Shapiro-Wilk-test-2.py -->\n",
    "``` {python Shapiro-Wilk Test-2, warning=FALSE}\n",
    "print(stats.shapiro(Cijfers_2011_n30))\n",
    "```\n",
    "<!-- ## /OPENBLOK: Shapiro-Wilk-test-2.py -->\n",
    "  </div>\n",
    "</div>\n",
    "\n",
    "De p-waarde is groter dan 0,05 voor beide groepen, dus er zijn geen significante verschillen gevonden tussen de verdeling van de steekproef en de normale verdeling. De *ongepaarde t-toets* kan uitgevoerd worden.\n",
    "\n",
    "## Ongepaarde t-toets\n",
    "<!-- ## TEKSTBLOK: T-test.py -->\n",
    "Voer een ongepaarde t-toets uit in twee stappen. Definieer eerst de vergelijking van de twee groepen met `CompareMeans()` met als argumenten de observaties uit 2010 `DescrStatsW(Cijfers_2010)` en de observaties uit 2011 `DescrStatsW(Cijfers_2011)`. Voer daarna de t-toets uit met `ttest_ind()` met de argumenten `alternative='two-sided'` vanwege de tweezijdige alternatieve hypothese en `usevar = 'unequal'` omdat er geen gepoolde variantie wordt gebruikt. Bereken daarna het 95%-betrouwbaarheidsinterval met `tconfint_diff()` met als nieuw argument `alpha = 0.05` om het significantieniveau aan te geven. Deze functies zijn afkomstig van het package `statsmodels.stats.api`.\n",
    "<!-- ## /TEKSTBLOK: T-test.py -->\n",
    "\n",
    "<!-- ## OPENBLOK: T-test.py -->"
   ]
  },
  {
   "cell_type": "code",
   "execution_count": null,
   "id": "2cd8176e",
   "metadata": {
    "lines_to_next_cell": 0,
    "name": "statistische toets"
   },
   "outputs": [],
   "source": [
    "# Importeer library voor statistische toets\n",
    "import statsmodels.stats.api as stat\n",
    "# Maak een object voor de groepen die vergeleken worden\n",
    "Groepen = stat.CompareMeans(stat.DescrStatsW(Cijfers_2010), stat.DescrStatsW(Cijfers_2011))\n",
    "# Print de resultaten van de ongepaarde t-toets\n",
    "print(Groepen.ttest_ind(alternative = 'two-sided', usevar = 'unequal'))\n",
    "# Print het 95%-betrouwbaarheidsinterval\n",
    "print(Groepen.tconfint_diff(alpha = 0.05, alternative = 'two-sided', usevar = 'pooled'))"
   ]
  },
  {
   "cell_type": "markdown",
   "id": "53178477",
   "metadata": {
    "lines_to_next_cell": 0
   },
   "source": [
    "<!-- ## /OPENBLOK: T-test.py -->\n",
    "<!-- ## CLOSEDBLOK: T-test.py -->"
   ]
  },
  {
   "cell_type": "code",
   "execution_count": null,
   "id": "6643cbab",
   "metadata": {
    "lines_to_next_cell": 0,
    "name": "T-test als object",
    "tags": [
     "remove_input"
    ]
   },
   "outputs": [],
   "source": [
    "stat, pval, df = Groepen.ttest_ind(alternative='two-sided', usevar = 'unequal')\n",
    "lb, ub = Groepen.tconfint_diff(alpha=0.05, alternative='two-sided', usevar='pooled')\n",
    "mean1 = np.mean(Cijfers_2010)\n",
    "mean2 = np.mean(Cijfers_2011)"
   ]
  },
  {
   "cell_type": "markdown",
   "id": "ecf50c20",
   "metadata": {
    "lines_to_next_cell": 0
   },
   "source": [
    "<!-- ## /CLOSEDBLOK: T-test.py -->\n",
    "\n",
    "<!-- ## TEKSTBLOK: T-test2.py -->\n",
    "* *t* = `r Round_and_format(py$stat)`, *p* = `r Round_and_format(py$pval)`\n",
    "* Vrijheidsgraden, *df* = *n* -1 = `r py$n`-1 = `r py$df`  \n",
    "* De p-waarde is groter dan 0,05, dus de H~0~ wordt niet verworpen [^11]\n",
    "* Vrijheidsgraden: *df* = `r Round_and_format(py$df)`, niet gelijk aan aantal observaties min één bij een ongepaarde t-toets zonder gepoolde varianties\n",
    "* 95%-betrouwbaarheidsinterval: bij het herhalen van het experiment met verschillende steekproeven van de populatie zal 95% van de betrouwbaarheidsintervallen de daadwerkelijke parameter bevatten, het verschil tussen de hoogte van de cijfers voor en na de BSA  cursus, µ~verschil~ = µ~T2011~ - µ~T2010~. In deze casus is het interval tussen `r Round_and_format(py$lb)` en `r Round_and_format(py$ub)`. Aangezien 0 in dit interval zit, is er geen significant verschil tussen beide gemiddelden in 2010 en 2011.\n",
    "* Het gemiddelde van de steekproef is in 2010 `r Round_and_format(py$mean1)`\n",
    "* Het gemiddelde van de steekproef is in 2011 `r Round_and_format(py$mean2)`\n",
    "<!-- ## /TEKSTBLOK: T-test2.py -->\n",
    "\n",
    "### Effectmaat: Cohen's d \n",
    "De p-waarde geeft aan of het verschil tussen twee groepen significant is. De grootte van het verschil of effect is echter ook relevant. Een effectmaat is een gestandaardiseerde maat die de grootte van een effect weergeeft, zodat effecten van verschillende onderzoeken met elkaar vergeleken kunnen worden.[^12] Een veel gebruikte effectmaat is Cohen's *d*. Cohen's *d* geeft een gestandaardiseerd verschil weer: het verschil in gemiddelden tussen twee groepen gecorrigeerd voor de gecombineerde standaardafwijking van de twee groepen. Een indicatie om *d* te interpreteren is: rond 0,3 is het een klein effect, rond 0,5 is het een gemiddeld effect en rond 0,8 is het een groot effect.[^13]\n",
    "\n",
    "In dit voorbeeld is de p-waarde groter dan 0,05, dus is een effectmaat uitrekenen onnodig. Pas de volgende stappen toe bij een p-waarde kleiner dan 0,05.\n",
    "\n",
    "<!-- ## TEKSTBLOK: Cohen-d.py -->\n",
    "Er is geen Python functie voor Cohen's d. Bereken daarom de effectmaat zelf door het verschil tussen de gemiddelden van beide groepen te delen door de ongepoolde standaardafwijking.[^15] Neem de absolute waarde omdat het gebruikelijk is om een effectmaat als positief getal weer te geven.\n",
    "<!-- ## /TEKSTBLOK: Cohen-d.py -->\n",
    "\n",
    "<!-- ## OPENBLOK: Cohens-d-test.py -->"
   ]
  },
  {
   "cell_type": "code",
   "execution_count": null,
   "id": "909c3de2",
   "metadata": {},
   "outputs": [],
   "source": [
    "# Bereken verschil in gemiddelden beide groepen\n",
    "Verschil = np.mean(Cijfers_2011) - np.mean(Cijfers_2010)\n",
    "\n",
    "# Bereken ongepoolde standaardafwijking\n",
    "SD = np.sqrt((np.var(Cijfers_2010, ddof = 1) + np.var(Cijfers_2010, ddof = 1)) / 2)\n",
    "\n",
    "# Bereken Cohen's d\n",
    "d = abs(Verschil / SD)\n",
    "\n",
    "# Print effectmaat\n",
    "print(d)"
   ]
  },
  {
   "cell_type": "markdown",
   "id": "d7fb6d79",
   "metadata": {
    "lines_to_next_cell": 0
   },
   "source": [
    "<!-- ## /OPENBLOK: Cohens-d-test.py -->\n",
    "<!-- ## CLOSEDBLOK: Cohens-d-test.py -->\n",
    "<!-- ## /CLOSEDBLOK: Cohens-d-test.py -->\n",
    "<!-- ## TEKSTBLOK: Cohens-d-test.py -->\n",
    "*d* = `r Round_and_format(py$d)`. De sterkte van het effect van de tutor op het cijfer is verwaarloosbaar. \n",
    "<!-- ## /TEKSTBLOK: Cohens-d-test.py -->\n",
    "\n",
    "# Rapportage\n",
    "<!-- ## TEKSTBLOK: Rapportage.py -->\n",
    "Een *ongepaarde t-toets* is uitgevoerd om te toetsen of het gemiddelde tentamencijfer is veranderd na de invoer van het BSA. Het verschil tussen het gemiddelde tentamencijfer van cohort 2010 (*M~2010~* = `r Round_and_format(py$vMean_t0)`, *SD~2010~* = `r Round_and_format(py$vSD_t0)`) en het gemiddelde tentamencijfer van cohort 2011 (*M~2011~* = `r Round_and_format(py$vMean_t1)`, *SD~2011~* = `r Round_and_format(py$vSD_t1)`) is  niet significant, *t* ~`r py$df`~ = `r Round_and_format(py$stat)`, *p* = `r Round_and_format(py$pval)`. Het 95% betrouwbaarheidsinterval voor het verschil tussen het gemiddelde van beide groepen loopt van `r Round_and_format(py$lb)` tot `r Round_and_format(py$ub)`. Het gemiddelde tentamencijfer lijkt niet veranderd te zijn na de invoer van het BSA. \n",
    "\n",
    "| Cohort   | N         | M            | SD         |\n",
    "| -------- | --------- | ------------ | ---------- |\n",
    "| 2010     | `r py$vN_t0` | `r Round_and_format(py$vMean_t0)` | `r Round_and_format(py$vSD_t0)` |\n",
    "| 2011     | `r py$vN_t1` | `r Round_and_format(py$vMean_t1)` | `r Round_and_format(py$vSD_t1)` |\n",
    "<!-- ## /TEKSTBLOK: Rapportage.py -->\n",
    "*Tabel 1. Groepsgrootte, gemiddeld tentamencijfer en standaarddeviatie per cohort*\n",
    "\n",
    "<!-- ## CLOSEDBLOK: Footer.R -->"
   ]
  },
  {
   "cell_type": "markdown",
   "id": "23e094a4",
   "metadata": {},
   "source": [
    "<!-- ## /CLOSEDBLOK: Footer.R -->\n",
    "\n",
    "[^1]: Van Geloven, N. (25 mei 2016). *T-toets* [Wiki Statistiek Academisch Medisch Centrum](https://wikistatistiek.amc.nl/index.php/T-toets#ongepaarde_t-toets).\n",
    "[^2]: Lumley, T., Diehr, P., Emerson, S., & Chen, L. (2002). The importance of the normality assumption in large public health data sets. *Annu Rev Public Health, 23*, 151-69. doi: 10.1146/annurev.publheath.23.100901.140546 http://rctdesign.org/techreports/arphnonnormality.pdf \n",
    "[^3]: Laerd statistics. (2018). [Testing for Normality using SPSS Statistics](https://statistics.laerd.com/spss-tutorials/testing-for-normality-using-spss-statistics.php).\n",
    "[^4]: Normaliteit. (14 juli 2014). [UvA Wiki Methodologiewinkel](https://wiki.uva.nl/methodologiewinkel/index.php/Normaliteit).\n",
    "[^5]: Er zijn verschillende opties om variabelen te transformeren, zoals de logaritme, wortel of inverse (1 gedeeld door de variabele) nemen van de variabele. Zie *Discovering statistics using IBM SPSS statistics* van Field (2013) pagina 201-210 voor meer informatie over welke transformaties wanneer gebruikt kunnen worden.\n",
    "[^6]: Van Geloven, N. (13 maart 2018). *Mann-Whitney U toets* [Wiki Statistiek Academisch Medisch Centrum](https://wikistatistiek.amc.nl/index.php/Mann-Whitney_U_toets).\n",
    "[^7]: De [Mann-Whitney U toets](08-Mann-Whitney-U-toets-R.html) maakt een rangschikking van de data. Hierdoor is de test verdelingsvrij en is normaliteit geen assumptie. Ook zijn uitbijters minder van invloed op het eindresultaat. Toch wordt er voor deze test minder vaak gekozen, doordat bij het maken van een rankschikking de data informatie verliest. Als de data wel normaal verdeeld is, heeft de [Mann-Whitney U toets](08-Mann-Whitney-U-toets-R.html) minder onderscheidend vermogen dan wanneer de *ongepaarde t-toets* uitgevoerd zou worden. \n",
    "[^8]: Lakens, D. (26 januari 2015). *Always use Welch's t-test instead of Student's t-test*. [The 20% Statistician](http://daniellakens.blogspot.com/2015/01/always-use-welchs-t-test-instead-of.html).\n",
    "[^9]: Outliers (13 augustus 2016). [UvA Wiki Methodologiewinkel](https://wiki.uva.nl/methodologiewinkel/index.php/Outliers).\n",
    "[^10]: Uitbijters kunnen bepalend zijn voor de uitkomst van toetsen. Bekijk of de uitbijters valide uitbijters zijn en niet een meetfout of op een andere manier incorrect verkregen data. Het weghalen van uitbijters kan de uitkomst ook vertekenen, daarom is het belangrijk om verwijderde uitbijters te melden in een rapport. \n",
    "[^11]: In dit voorbeeld wordt uitgegaan van een waarschijnlijkheid van 95% c.q. een p-waardegrens van 0,05. De grens is naar eigen inzicht aan te passen; houd hierbij rekening met type I en type II fouten.\n",
    "[^12]: Field, A., Miles, J., & Field, Z. (2012). *Discovering statistics using R*. London: Sage publications.\n",
    "[^13]: Marshall, E., & Boggis, E. (2016). *The statistics tutor’s quick guide to commonly used statistical tests*. http://www.statstutor.ac.uk/resources/uploaded/tutorsquickguidetostatistics.pdf.\n",
    "[^14]: Onderscheidend vermogen, in het Engels power genoemd, is de kans dat de nulhypothese verworpen wordt wanneer de alternatieve hypothese 'waar' is.  \n",
    "[^18]: De breedte van de staven van het histogram wordt vaak automatisch bepaald, maar kan handmatig aangepast worden. Aangezien de breedte van de staven bepalend zijn voor de indruk die de visualisatie geeft, is het verstandig om hier goed op te letten.\n",
    "\n",
    "<!-- ## TEKSTBLOK: Extra-Bron.py -->\n",
    "[^15]: Navarro, D. J. (2015). *Learning statistics with R: A tutorial for psychology students\n",
    "  and other beginners. (Version 0.5)* University of Adelaide. Adelaide, Australia. \n",
    "[Link](http://www.fon.hum.uva.nl/paul/lot2015/Navarro2014.pdf)\n",
    "<!-- ## /TEKSTBLOK: Extra-Bron.py -->\n"
   ]
  }
 ],
 "metadata": {
  "jupytext": {
   "cell_metadata_filter": "code,include,message,results,warning,tags,name,echo,-all",
   "main_language": "python",
   "notebook_metadata_filter": "-all"
  },
  "kernelspec": {
   "display_name": "Python 3 (ipykernel)",
   "language": "python",
   "name": "python3"
  },
  "language_info": {
   "codemirror_mode": {
    "name": "ipython",
    "version": 3
   },
   "file_extension": ".py",
   "mimetype": "text/x-python",
   "name": "python",
   "nbconvert_exporter": "python",
   "pygments_lexer": "ipython3",
   "version": "3.10.4"
  }
 },
 "nbformat": 4,
 "nbformat_minor": 5
}
