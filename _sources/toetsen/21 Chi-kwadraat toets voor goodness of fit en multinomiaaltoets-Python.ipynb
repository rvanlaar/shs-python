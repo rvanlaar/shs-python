{
 "cells": [
  {
   "cell_type": "raw",
   "id": "6b436832",
   "metadata": {
    "lines_to_next_cell": 0
   },
   "source": [
    "---\n",
    "title: \"Chi-kwadraat toets voor goodness of fit en multinomiaaltoets\"\n",
    "output:\n",
    "  html_document:\n",
    "    theme: lumen\n",
    "    toc: yes\n",
    "    toc_depth: 2\n",
    "    toc_float: \n",
    "      collapsed: FALSE \n",
    "    number_sections: true\n",
    "    includes:\n",
    "      in_header: [\"../01. Includes/html/nocache.html\", \"../01. Includes/html/favicon.html\", \"../01. Includes/html/analytics.html\"]\n",
    "  keywords: [statistisch handboek, studiedata]\n",
    "---"
   ]
  },
  {
   "cell_type": "markdown",
   "id": "79d07451",
   "metadata": {
    "lines_to_next_cell": 0
   },
   "source": [
    "<!-- ## CLOSEDBLOK: Functies.R -->"
   ]
  },
  {
   "cell_type": "markdown",
   "id": "88dcf94a",
   "metadata": {
    "lines_to_next_cell": 0
   },
   "source": [
    "<!-- ## /OPENBLOK: Data-aanmaken.py -->\n",
    "\n",
    "# Toepassing\n",
    "\n",
    "<!-- ## TEKSTBLOK: Link1.py -->\n",
    "Gebruik de *Chi-kwadraat toets voor goodness of fit* om te onderzoeken of de geobserveerde frequenties van de categorieën van één categorische variabele met meer dan twee categorieën overeenkomt met de verwachte frequenties van de categorische variabele.[^6]<sup>,</sup>[^7] Met deze toets kunnen geobserveerde percentages met bekende of verwachte percentages vergeleken worden. Gebruik de exacte *multinomiaaltoets* bij een laag aantal observaties, dit wordt bij de assumpties toegelicht.[^1] De *Chi-kwadraat toets voor goodness of fit* kan ook gebruikt worden voor een categorische variabele met twee categorieën. Voor de exacte *multinomiaaltoets* geldt dit ook, maar in dat geval is de toets gelijk aan de exacte *binomiaaltoets* die te vinden is in bijbehorende [toetspagina](11-Chi-kwadraat-toets-voor-goodness-of-fit-en-binomiaaltoets-Python.html). De *Chi-kwadraat toets voor goodness of fit* en de exacte *multinomiaaltoets* zijn voor zowel nominale[^9] als ordinale[^8] variabelen te gebruiken.\n",
    "<!-- ## /TEKSTBLOK: Link1.py -->\n",
    "\n",
    "# Onderwijscasus\n",
    "<div id = \"casus\">\n",
    "\n",
    "De opleidingsdirecteur van de bacheloropleiding Maritieme Techniek van een universiteit is geïnteresseerd in de resultaten van het Bindend Studie Advies (BSA) van de studenten die deze opleiding volgen. Zij is met name geïnteresseerd in de mate waarin de resultaten van het BSA overeenkomen met de resultaten van de universiteit. Bij deze universiteit ontvangt 70% van de studenten een positief BSA, 20% een negatief BSA en 10% een uitgesteld BSA aan het einde van het eerste jaar. Als blijkt dat de resultaten van het BSA voor de opleiding Maritieme Techniek afwijken van de resultaten van de gehele universiteit, dan kan dit een signaal voor de opleidingsdirecteur zijn om het eerste jaar van de opleiding anders in te richten.\n",
    "\n",
    "Dit onderzoek vertaalt zich in de volgende combinatie van hypothesen, waarbij de nulhypothese zo geformuleerd is dat er geen effect of verschil is en de alternatieve hypothese zo geformuleerd is dat er wel een effect of verschil is.\n",
    "\n",
    "H~0~: De verdeling van het BSA van de studenten Maritieme Techniek is gelijk aan de verdeling van de gehele universiteit (70% positief BSA, 20% negatief BSA en 10% uitgesteld BSA). \n",
    "\n",
    "H~A~: De verdeling van het BSA van de studenten Maritieme Techniek is niet gelijk aan de verdeling van de gehele universiteit (70% positief BSA, 20% negatief BSA en 10% uitgesteld BSA).\n",
    "\n",
    "</div>\n",
    "\n",
    "# Assumpties\n",
    "\n",
    "Om de *Chi-kwadraat toets voor goodness of fit* en de exacte *multinomiaaltoets*uit te voeren, moet de variabele nominaal[^9] of ordinaal[^8] zijn.[^6] In deze casus is de categorische variabele nominaal, bij een ordinale categorische variabele worden de toetsen op dezelfde manier uitgevoerd. \n",
    "\n",
    "De categorieën van de variabele mogen niet overlappen, wat wil zeggen dat elke observatie slechts in een van de categorieën past. Voor de *Chi-kwadraat toets voor goodness of fit* mag in niet meer dan 20% van de categorieën van de variabele de verwachte frequentie minder dan vijf zijn. Als dit wel het geval is, gebruik dan de *multinomiaaltoets*.[^7]\n",
    "\n",
    "# Post-hoc toetsen\n",
    "\n",
    "De *Chi-kwadraat toets voor goodness of fit* en de exacte *multinomiaaltoets* worden gebruikt om te onderzoeken of de verdeling van een categorische variabele met meer dan twee categorieën overeenkomt met een verwachte verdeling. Als de verdelingen niet overeenkomen, is de volgende stap om te bepalen voor welke specifieke categorieën er een verschil is. Met behulp van post-hoc toetsen wordt vervolgens bepaald in welke categorieën de verschillen te vinden zijn.\n",
    "\n",
    "Als post-hoc toets voor de *Chi-kwadraat toets voor goodness of fit* wordt het gestandaardiseerde residu gebruikt. Dit is het gestandaardiseerde verschil tussen het (geobserveerde) aantal observaties en het verwachte aantal observaties, waarbij gestandaardiseerd betekent dat het een gemiddelde van 0 en standaardafwijking van 1 heeft. Op deze manier kunnen de verschillende residuen met elkaar vergeleken worden, omdat ze dezelfde schaal hebben. Voor elke cel in de kruistabel kan het gestandaardiseerde residu bepaald worden. Vergelijkbaar met z-scores[^11] zijn deze residuen significant bij een waarde groter dan ± 1,96 wanneer een significantieniveau (α) van 0,05 wordt gehanteerd. Op deze manier kan bepaald worden in welke cellen er afwijkingen van de verwachte frequenties zijn.[^12]\n",
    "\n",
    "Voor de *multinomiaaltoets* zijn er geen voorgeschreven post-hoc toetsen. Vergelijk hiervoor de geobserveerde percentages met de percentages die verwacht worden om te onderzoeken in welke categorieën er afwijkingen zijn tussen het geobserveerde en verwachte percentage.\n",
    "\n",
    "# De data bekijken\n",
    "\n",
    "<!-- ## TEKSTBLOK: Data-bekijken1.py -->\n",
    "Er is een dataset ingeladen genaamd `dfBSA_Maritieme_techniek`. Dit is een dataframe met studentnummers en een nominale variabele die laat zien wat voor BSA de student heeft ontvangen.\n",
    "<!-- ## /TEKSTBLOK: Data-bekijken1.py -->\n",
    "\n",
    "<!-- ## OPENBLOK: Data-bekijken2.py -->"
   ]
  },
  {
   "cell_type": "code",
   "execution_count": null,
   "id": "6f4d2bca",
   "metadata": {
    "collapse": true,
    "name": "data bekijken-1"
   },
   "outputs": [],
   "source": [
    "## Importeer nuttige packages\n",
    "import numpy as np\n",
    "import pandas as pd\n",
    "import scipy.stats as sps"
   ]
  },
  {
   "cell_type": "code",
   "execution_count": null,
   "id": "3c1a75e5",
   "metadata": {
    "echo": true,
    "name": "kruistabel rapportage",
    "tags": [
     "remove_cell"
    ]
   },
   "outputs": [],
   "source": [
    "df = pd.read_csv(\"../data/21_BSA_Maritieme_techniek.csv\")\n",
    "dfBSA_Maritieme_techniek = df.loc[:, ~df.columns.str.contains('^Unnamed')]\n",
    "\n",
    "df = pd.read_csv(\"../data/21_BSA_Maritieme_techniek_steekproef.csv\")\n",
    "dfBSA_Maritieme_techniek_steekproef = df.loc[:, ~df.columns.str.contains('^Unnamed')]"
   ]
  },
  {
   "cell_type": "code",
   "execution_count": null,
   "id": "91f3ab53",
   "metadata": {},
   "outputs": [],
   "source": [
    "## Eerste 5 observaties\n",
    "print(dfBSA_Maritieme_techniek.head(5))"
   ]
  },
  {
   "cell_type": "code",
   "execution_count": null,
   "id": "d2ceac62",
   "metadata": {
    "collapse": true,
    "lines_to_next_cell": 0,
    "name": "data bekijken-2"
   },
   "outputs": [],
   "source": [
    "## Laatste 5 observaties\n",
    "print(dfBSA_Maritieme_techniek.tail(5))"
   ]
  },
  {
   "cell_type": "markdown",
   "id": "8b5bc643",
   "metadata": {
    "lines_to_next_cell": 0
   },
   "source": [
    "<!-- ## /OPENBLOK: Data-bekijken2.py -->\n",
    "\n",
    "Het is informatief om de frequenties en de percentages van de drie mogelijkheden van het BSA te bepalen voor de studenten Maritieme Techniek.\n",
    "\n",
    "<!-- ## OPENBLOK: Data-bekijken3.py -->"
   ]
  },
  {
   "cell_type": "code",
   "execution_count": null,
   "id": "a1411956",
   "metadata": {},
   "outputs": [],
   "source": [
    "## Bepaal de frequenties\n",
    "pd.crosstab(dfBSA_Maritieme_techniek['BSA_advies'], columns = 'Frequentie')"
   ]
  },
  {
   "cell_type": "code",
   "execution_count": null,
   "id": "24cdc35c",
   "metadata": {
    "lines_to_next_cell": 0
   },
   "outputs": [],
   "source": [
    "## Bepaal de percentages\n",
    "100 * pd.crosstab(dfBSA_Maritieme_techniek['BSA_advies'], columns = 'Percentage', normalize = 'columns')"
   ]
  },
  {
   "cell_type": "code",
   "execution_count": null,
   "id": "063012af",
   "metadata": {
    "lines_to_next_cell": 0,
    "tags": [
     "remove_input"
    ]
   },
   "outputs": [],
   "source": [
    "Tab = pd.crosstab(dfBSA_Maritieme_techniek['BSA_advies'], columns = 'Frequentie')\n",
    "\n",
    "Proptab = 100 * pd.crosstab(dfBSA_Maritieme_techniek['BSA_advies'], columns = 'Percentage', normalize = 'columns')"
   ]
  },
  {
   "cell_type": "markdown",
   "id": "577f985a",
   "metadata": {
    "lines_to_next_cell": 0
   },
   "source": [
    "<!-- ## /OPENBLOK: Data-bekijken3.py -->\n",
    "\n",
    "<!-- ## TEKSTBLOK: Data-bekijken4.py -->\n",
    "Het aantal studenten met een positief BSA is `r Round_and_format(py$Tab[2, 1])` (`r Round_and_format(py$Proptab[2, 1])`%), met een negatief BSA is `r Round_and_format(py$Tab[1, 1])` (`r Round_and_format(py$Proptab[1, 1])`%) en met een uitgesteld BSA is `r Round_and_format(py$Tab[3, 1])` (`r Round_and_format(py$Proptab[3, 1])`%). Het lijkt erop dat het percentage studenten met een positief BSA lager is dan het percentage van de gehele universiteit (70%) en dat het percentage studenten met een negatief BSA juist hoger is dan dat van de gehele universiteit (20%). De *Chi-kwadraat toets voor goodness of fit* of de *multinomiaaltoets* toetst of dit verschil significant is.\n",
    "<!-- ## /TEKSTBLOK: Data-bekijken4.py -->\n",
    "\n",
    "# Chi-kwadraat toets voor goodness of fit\n",
    "\n",
    "## Asssumptie verwachte frequenties\n",
    "\n",
    "<!-- ## TEKSTBLOK: Assumptie.py -->\n",
    "De verwachte frequentie mag niet kleiner dan vijf zijn in 20% van de categorieën van de categorische variabele. Aangezien er een variabele met drie categorieën getoetst wordt, mag geen van de drie categorieën dus minder dan vijf als verwachte frequentie hebben. Bereken de verwachte frequentie door de verwachte proporties te vermenigvuldigen met het aantal observaties in de dataset. Sla eerst de verwachte proporties op met `np.array([0.7,0.2, 0.1])` van het package `numpy` en vermenigvuldig deze met het totaal aantal observaties `len(dfBSA_Maritieme_techniek)`.\n",
    "<!-- ## /TEKSTBLOK: Assumptie.py -->\n",
    "\n",
    "<!-- ## OPENBLOK: Assumptie1.py -->"
   ]
  },
  {
   "cell_type": "code",
   "execution_count": null,
   "id": "da31034b",
   "metadata": {
    "lines_to_next_cell": 0,
    "name": "chi2 assumptie"
   },
   "outputs": [],
   "source": [
    "# Sla de verwachte proporties op in een vector\n",
    "Verwachte_proporties = np.array([0.7,0.2, 0.1])\n",
    "\n",
    "# Bereken het verwachte aantal observaties door de verwachte proporties met het totaal aantal observaties te vermenigvuldigen\n",
    "Verwacht_aantal_observaties = Verwachte_proporties * len(dfBSA_Maritieme_techniek)\n",
    "\n",
    "# Print het verwachte aantal observaties\n",
    "print(Verwacht_aantal_observaties)\n"
   ]
  },
  {
   "cell_type": "markdown",
   "id": "d745646f",
   "metadata": {},
   "source": [
    "<!-- ## /OPENBLOK: Assumptie1.py -->\n",
    "\n",
    "Geen van de verwachte frequenties is kleiner dan vijf, dus de *Chi-kwadraat toets voor goodness of fit* kan worden uitgevoerd.\n",
    "\n",
    "## Uitvoering\n",
    "\n",
    "Voer de *Chi-kwadraat toets voor goodness of fit*  uit om te onderzoeken of de verdeling van de BSA mogelijkheden van de studenten Maritieme Techniek overeenkomt met de verdeling van de gehele universiteit (70% positief BSA, 20% negatief BSA en 10% uitgesteld BSA).\n",
    "\n",
    "<!-- ## TEKSTBLOK: Chi-kwadraat1.py -->\n",
    "Bereken eerst de aantallen observaties en verwachte aantallen observaties. Gebruik daarna de functie `chisquare()` van het `scipy.stats` package met als argumenten de aantallen observaties `Aantal_observaties`, de verwachte aantallen observaties `Verwacht_aantal_observaties` en `axis = None` om aan te geven dat alle waarden in de twee vorige argumenten van dezelfde dataset afkomstig zijn. Let goed op dat de volgorde van de aantallen observaties en de verwachte aantallen observaties dezelfde volgorde hebben zodat de toets de goede vergelijking maakt.\n",
    "<!-- ## /TEKSTBLOK: Chi-kwadraat1.py -->"
   ]
  },
  {
   "cell_type": "markdown",
   "id": "b1b27159",
   "metadata": {
    "lines_to_next_cell": 0
   },
   "source": [
    "<!-- ## OPENBLOK: Chi-kwadraat2.py-->"
   ]
  },
  {
   "cell_type": "code",
   "execution_count": null,
   "id": "e86829ef",
   "metadata": {
    "lines_to_next_cell": 0
   },
   "outputs": [],
   "source": [
    "## Bereken de aantallen observaties\n",
    "Aantal_observaties = pd.crosstab(dfBSA_Maritieme_techniek['BSA_advies'], columns = 'Frequentie')\n",
    "\n",
    "## Zet het aantal observaties om in een numpy array. Gebruik de toevoeging .T om de array om te zetten in een rij\n",
    "Aantal_observaties = np.array(Aantal_observaties).T\n",
    "\n",
    "## Sla de verwachte proporties op in een vector\n",
    "Verwachte_proporties = np.array([0.2,0.7, 0.1])\n",
    "\n",
    "## Bereken het verwachte aantal observaties door de verwachte proporties met het totaal aantal observaties te vermenigvuldigen\n",
    "Verwacht_aantal_observaties = Verwachte_proporties * len(dfBSA_Maritieme_techniek)\n",
    "\n",
    "## Voer de chi-kwadraat toets voor goodness of fit uit\n",
    "sps.chisquare(Aantal_observaties, Verwacht_aantal_observaties, axis = None)\n",
    "\n"
   ]
  },
  {
   "cell_type": "markdown",
   "id": "5ec0c6c1",
   "metadata": {
    "lines_to_next_cell": 0
   },
   "source": [
    "<!-- ## /OPENBLOK: Chi-kwadraat2.py-->\n",
    "\n",
    "<!-- ## CLOSEDBLOK: Chi-kwadraat3.py-->"
   ]
  },
  {
   "cell_type": "code",
   "execution_count": null,
   "id": "42c2543b",
   "metadata": {
    "echo": true,
    "lines_to_next_cell": 0,
    "tags": [
     "remove_cell"
    ]
   },
   "outputs": [],
   "source": [
    "## Bereken de aantallen observaties\n",
    "Aantal_observaties = pd.crosstab(dfBSA_Maritieme_techniek['BSA_advies'], columns = 'Frequentie')\n",
    "\n",
    "## Zet het aantal observaties om in een numpy array. Gebruik de toevoeging .T om de array om te zetten in een rij\n",
    "Aantal_observaties = np.array(Aantal_observaties).T\n",
    "\n",
    "## Sla de verwachte proporties op in een vector\n",
    "Verwachte_proporties = np.array([0.2,0.7, 0.1])\n",
    "\n",
    "## Bereken het verwachte aantal observaties door de verwachte proporties met het totaal aantal observaties te vermenigvuldigen\n",
    "Verwacht_aantal_observaties = Verwachte_proporties * len(dfBSA_Maritieme_techniek)\n",
    "\n",
    "## Voer de chi-kwadraat toets voor goodness of fit uit\n",
    "chi2, pval = sps.chisquare(Aantal_observaties, Verwacht_aantal_observaties, axis = None)\n",
    "\n",
    "vdf = len(Verwacht_aantal_observaties) -1"
   ]
  },
  {
   "cell_type": "markdown",
   "id": "9930bd4d",
   "metadata": {},
   "source": [
    "<!-- ## /CLOSEDBLOK: Chi-kwadraat3.py-->\n",
    "\n",
    "<!-- ## TEKSTBLOK: Chi-kwadraat4.py-->\n",
    "* &chi;^2^~`r Round_and_format(py$vdf)`~ = `r Round_and_format(py$chi2)`, *p* < 0,001\n",
    "* De p-waarde is kleiner dan 0,05, dus de nulhypothese wordt verworpen.[^5]\n",
    "\n",
    "<!-- ## /TEKSTBLOK: Chi-kwadraat4.py-->"
   ]
  },
  {
   "cell_type": "markdown",
   "id": "a59a7b23",
   "metadata": {
    "lines_to_next_cell": 0
   },
   "source": [
    "## Post-hoc toets: gestandaardiseerde residuën\n",
    "\n",
    "Voer post-hoc toetsen uit om te bepalen voor welke BSA mogelijkheden er verschillen zijn tussen de verdeling van de studenten Maritieme Techniek en de verdeling van de gehele universiteit. Inspecteer hiervoor de Pearson residuen van de *Chi-kwadraat toets voor onafhankelijkheid* op waarden groter dan 1,96 en kleiner dan -1,96. Let op dat hier nog geen correctie voor meerdere toetsen plaatsvindt.[^10]\n",
    "\n",
    "<!-- ## TEKSTBLOK: Chi2-toets post-hoc0.py -->\n",
    "Bereken de gestandaardiseerde residuën door het verschil tussen het aantal observaties en verwacht aantal observaties te delen door de wortel van het verwacht aantal observaties, i.e. $\\frac{Geobserveerd - Verwacht}{\\sqrt(Verwacht)}$.\n",
    "<!-- ## /TEKSTBLOK: Chi2-toets post-hoc0.py -->\n",
    "\n",
    "<!-- ## OPENBLOK: Chi2-toets post-hoc1.py -->"
   ]
  },
  {
   "cell_type": "code",
   "execution_count": null,
   "id": "e810dcc0",
   "metadata": {
    "lines_to_next_cell": 0
   },
   "outputs": [],
   "source": [
    "## Bereken de aantallen observaties\n",
    "Aantal_observaties = pd.crosstab(dfBSA_Maritieme_techniek['BSA_advies'], columns = 'Frequentie')\n",
    "\n",
    "## Zet het aantal observaties om in een numpy array. Gebruik de toevoeging .T om de array om te zetten in een rij\n",
    "Aantal_observaties = np.array(Aantal_observaties).T\n",
    "\n",
    "## Sla de verwachte proporties op in een vector\n",
    "Verwachte_proporties = np.array([0.2,0.7, 0.1])\n",
    "\n",
    "## Bereken het verwachte aantal observaties door de verwachte proporties met het totaal aantal observaties te vermenigvuldigen\n",
    "Verwacht_aantal_observaties = Verwachte_proporties * len(dfBSA_Maritieme_techniek)\n",
    "\n",
    "## Bereken de gestandaardiseerde residuen\n",
    "(Aantal_observaties - Verwacht_aantal_observaties)/ np.sqrt(Verwacht_aantal_observaties)"
   ]
  },
  {
   "cell_type": "markdown",
   "id": "80c79cc4",
   "metadata": {
    "lines_to_next_cell": 0
   },
   "source": [
    "<!-- ## /OPENBLOK: Chi2-toets post-hoc1.py -->\n",
    "\n",
    "<!-- ## CLOSEDBLOK: Chi2-toets post-hoc1_1.py -->"
   ]
  },
  {
   "cell_type": "code",
   "execution_count": null,
   "id": "a756d8b6",
   "metadata": {
    "lines_to_next_cell": 0,
    "tags": [
     "remove_input"
    ]
   },
   "outputs": [],
   "source": [
    "## Bereken de aantallen observaties\n",
    "Aantal_observaties = pd.crosstab(dfBSA_Maritieme_techniek['BSA_advies'], columns = 'Frequentie')\n",
    "\n",
    "## Zet het aantal observaties om in een numpy array. Gebruik de toevoeging .T om de array om te zetten in een rij\n",
    "Aantal_observaties = np.array(Aantal_observaties).T\n",
    "\n",
    "## Sla de verwachte proporties op in een vector\n",
    "Verwachte_proporties = np.array([0.2,0.7, 0.1])\n",
    "\n",
    "## Bereken het verwachte aantal observaties door de verwachte proporties met het totaal aantal observaties te vermenigvuldigen\n",
    "Verwacht_aantal_observaties = Verwachte_proporties * len(dfBSA_Maritieme_techniek)\n",
    "\n",
    "## Bereken de gestandaardiseerde residuen\n",
    "PH_res = (Aantal_observaties - Verwacht_aantal_observaties)/ np.sqrt(Verwacht_aantal_observaties)"
   ]
  },
  {
   "cell_type": "markdown",
   "id": "1310f001",
   "metadata": {},
   "source": [
    "<!-- ## /CLOSEDBLOK: Chi2-toets post-hoc1_1.py -->\n",
    "\n",
    "De post-hoc toetsing op basis van de gestandaardiseerde residuën kan als volgt geïnterpreteerd worden:\n",
    "<!-- ## TEKSTBLOK: Chi2-toets post-hoc2.py-->\n",
    "* Significant hoger aantal observaties bij een negatief BSA , *z* = `r Round_and_format(py$PH_res[1,1])`\n",
    "* Geen significant lager aantal observaties bij een positief BSA , *z* = `r Round_and_format(py$PH_res[1,2])`\n",
    "* Geen significant verschillend aantal observaties bij een uitgesteld BSA , *z* = `r Round_and_format(py$PH_res[1,3])`\n",
    "\n",
    "<!-- ## /TEKSTBLOK: Chi2-toets post-hoc2.py-->\n",
    "\n",
    "## Rapportage\n",
    "<!-- ## TEKSTBLOK: Chi-kwadraat5.py-->\n",
    "De *Chi-kwadraat toets voor goodness of fit* is uitgevoerd om te onderzoeken of de verdeling van het BSA van studenten Maritieme Techniek overeenkomt met de verdeling van de gehele universiteit waar deze opleiding onder valt (70% positief BSA, 20% negatief BSA en 10% uitgesteld BSA). De verdeling van het BSA van de instromende studenten Maritieme Techniek is significant verschillend van de verdeling van de gehele universiteit, &chi;^2^~`r Round_and_format(py$vdf)`~ = `r Round_and_format(py$chi2)`, *p* < 0,001. \n",
    "\n",
    "Uit de post-hoc toetsen blijkt dat het aantal studenten met een negatief BSA significant hoger is dan het percentage van de gehele universiteit (`r Round_and_format(py$Proptab[1, 1])`%, *z* = `r Round_and_format(py$PH_res[1,1])`). Het aantal studenten met een positief BSA (`r Round_and_format(py$Proptab[2, 1])`%, *z* = `r Round_and_format(py$PH_res[1,2])`) en een uitgesteld BSA (`r Round_and_format(py$Proptab[3, 1])`%, *z* = `r Round_and_format(py$PH_res[1,3])`) is niet significant verschillend is van het percentage van de gehele universiteit. De resultaten suggereren dat de opleiding Maritieme Technieken qua BSA dus iets afwijkt van de gehele universiteit waarbij het aantal negatieve BSA's hoger is in vergelijking tot de gehele universiteit.\n",
    "<!-- ## /TEKSTBLOK: Chi-kwadraat5.py-->"
   ]
  },
  {
   "cell_type": "markdown",
   "id": "2f1c7eb6",
   "metadata": {
    "lines_to_next_cell": 0
   },
   "source": [
    "# Multinomiaaltoets\n",
    "\n",
    "## Uitvoering\n",
    "\n",
    "<!-- ## TEKSTBLOK: Binomiaaltoets1.py -->\n",
    "Voer de *multinomiaaltoets*  uit te onderzoeken of de verdeling van de BSA mogelijkheden van de studenten Maritieme Techniek overeenkomt met de verdeling van de gehele universiteit (70% positief BSA, 20% negatief BSA en 10% uitgesteld BSA). Deze toets is een alternatief voor de *Chi-kwadraat toets voor goodness of fit* bij een laag aantal observaties. Er is een subset `dfBSA_Maritieme_techniek_steekproef` van de dataset `dfBSA_Maritieme_techniek` ingeladen met daarin een lager aantal observaties.\n",
    "<!-- ## /TEKSTBLOK: Binomiaaltoets1.py -->\n",
    "\n",
    "Het is informatief om de frequenties en de percentages van de drie mogelijkheden van het BSA te bepalen voor de studenten Maritieme Techniek.\n",
    "\n",
    "<!-- ## OPENBLOK: Binomiaaltoets3.py -->"
   ]
  },
  {
   "cell_type": "code",
   "execution_count": null,
   "id": "3fbdfecd",
   "metadata": {},
   "outputs": [],
   "source": [
    "## Bepaal de frequenties\n",
    "pd.crosstab(dfBSA_Maritieme_techniek_steekproef['BSA_advies'], columns = 'Frequentie')"
   ]
  },
  {
   "cell_type": "code",
   "execution_count": null,
   "id": "bd026d70",
   "metadata": {
    "lines_to_next_cell": 0
   },
   "outputs": [],
   "source": [
    "## Bepaal de percentages\n",
    "100 * pd.crosstab(dfBSA_Maritieme_techniek_steekproef['BSA_advies'], columns = 'Percentage', normalize = 'columns')"
   ]
  },
  {
   "cell_type": "markdown",
   "id": "c2a07925",
   "metadata": {
    "lines_to_next_cell": 0
   },
   "source": [
    "<!-- ## /OPENBLOK: Binomiaaltoets3.py -->\n",
    "\n",
    "<!-- ## CLOSEDBLOK: Binomiaaltoets3_3.py -->"
   ]
  },
  {
   "cell_type": "code",
   "execution_count": null,
   "id": "f6968c5d",
   "metadata": {
    "lines_to_next_cell": 0,
    "tags": [
     "remove_input"
    ]
   },
   "outputs": [],
   "source": [
    "Tab2 = pd.crosstab(dfBSA_Maritieme_techniek_steekproef['BSA_advies'], columns = 'Frequentie')\n",
    "\n",
    "Proptab2 = 100 * pd.crosstab(dfBSA_Maritieme_techniek_steekproef['BSA_advies'], columns = 'Percentage', normalize = 'columns')"
   ]
  },
  {
   "cell_type": "markdown",
   "id": "c325152f",
   "metadata": {
    "lines_to_next_cell": 0
   },
   "source": [
    "<!-- ## /CLOSEDBLOK: Binomiaaltoets3_3.py -->\n",
    "\n",
    "<!-- ## TEKSTBLOK: Binomiaaltoets4.py -->\n",
    "Het aantal studenten met een positief BSA is `r Round_and_format(py$Tab2[2, 1])` (`r Round_and_format(py$Proptab2[2, 1])`%), met een negatief BSA is `r Round_and_format(py$Tab2[1, 1])` (`r Round_and_format(py$Proptab2[1, 1])`%) en met een uitgesteld BSA is `r Round_and_format(py$Tab2[3, 1])` (`r Round_and_format(py$Proptab2[3, 1])`%). Het lijkt erop dat het percentage studenten met een positief BSA lager is dan het percentage van de gehele universiteit (70%) en dat het percentage studenten met een negatief BSA juist hoger is dan dat van de gehele universiteit (20%). De *multinomiaaltoets* toetst of dit verschil significant is.\n",
    "<!-- ## /TEKSTBLOK: Binomiaaltoets4.py -->\n",
    "\n",
    "<!-- ## TEKSTBLOK: Binomiaaltoets5.py -->\n",
    "Bereken de verwachte frequentie door de verwachte proporties te vermenigvuldigen met het aantal observaties in de dataset. Sla eerst de verwachte proporties op met `np.array([0.7,0.2, 0.1])` van het package `numpy` en vermenigvuldig deze met het totaal aantal observaties `len(dfBSA_Maritieme_techniek_steekproef)`.\n",
    "<!-- ## /TEKSTBLOK: Binomiaaltoets5.py -->\n",
    "\n",
    "<!-- ## OPENBLOK: Binomiaaltoets6.py -->"
   ]
  },
  {
   "cell_type": "code",
   "execution_count": null,
   "id": "73689d61",
   "metadata": {
    "lines_to_next_cell": 0,
    "warning": false
   },
   "outputs": [],
   "source": [
    "# Sla de verwachte proporties op in een vector\n",
    "Verwachte_proporties = np.array([0.7,0.2, 0.1])\n",
    "\n",
    "# Bereken het verwachte aantal observaties door de verwachte proporties met het totaal aantal observaties te vermenigvuldigen\n",
    "Verwacht_aantal_observaties = Verwachte_proporties * len(dfBSA_Maritieme_techniek_steekproef)\n",
    "\n",
    "# Print het verwachte aantal observaties\n",
    "print(Verwacht_aantal_observaties)"
   ]
  },
  {
   "cell_type": "markdown",
   "id": "8993a6ce",
   "metadata": {},
   "source": [
    "<!-- ## /OPENBLOK: Binomiaaltoets6.py -->\n",
    "\n",
    "<!-- ## CLOSEDBLOK: Binomiaaltoets6_1.py -->\n",
    "<!-- ## /CLOSEDBLOK: Binomiaaltoets6_1.py -->\n",
    "\n",
    "De verwachte frequentie voor studenten met een uitgesteld BSA is kleiner dan 5. Dit betekent dat er in meer dan 20% van de categorieën een verwachte frequentie van minder dan 5 is en dat er dus niet voldaan is aan de assumptie van verwachte frequenties. Voer daarom de *multinomiaaltoets* uit.\n",
    "\n",
    "<!-- ## TEKSTBLOK: Binomiaaltoets7.py -->\n",
    "Voor zover bekend is er geen package om de *multinomiaaltoets* uit te voeren in Python. De *multinomiaaltoets* kan in Python alleen uitgevoerd worden voor een nominale variabele met twee categorieën, dan is de *multinomiaaltoets* gelijk aan de *binomiaaltoets*. Deze stap kan dus in deze toetspagina niet weergegeven worden. Bekijk de [toetspagina van de multinomiaaltoets in R](21-Chi-kwadraat-toets-voor-goodness-of-fit-en-multinomiaaltoets-R.html) om deze met de programmeertaal R uit te voeren. Voor het vervolg van deze toetspagina wordt aangenomen dat de *multinomiaaltoets* geen significant resultaat laat zien.\n",
    "<!-- ## /TEKSTBLOK: Binomiaaltoets7.py -->\n",
    "\n",
    "<!-- ## OPENBLOK: Binomiaaltoets8.py-->\n",
    "<!-- ## /OPENBLOK: Binomiaaltoets8.py-->\n",
    "\n",
    "<!-- ## CLOSEDBLOK: Binomiaaltoets9.py -->\n",
    "<!-- ## /CLOSEDBLOK: Binomiaaltoets9.py -->\n",
    "\n",
    "<!-- ## TEKSTBLOK: Binomiaaltoets10.py-->\n",
    "<!-- ## /TEKSTBLOK: Binomiaaltoets10.py-->"
   ]
  },
  {
   "cell_type": "markdown",
   "id": "59d4038a",
   "metadata": {
    "lines_to_next_cell": 0
   },
   "source": [
    "## Rapportage\n",
    "\n",
    "<!-- ## TEKSTBLOK: Rapportage2.py-->\n",
    "\n",
    "De *multinomiaaltoets* is uitgevoerd om te onderzoeken of de verdeling van het BSA van studenten Maritieme Techniek overeenkomt met de verdeling van de gehele universiteit waar deze opleiding onder valt (70% positief BSA, 20% negatief BSA en 10% uitgesteld BSA) voor een dataset met een laag aantal observaties. De verdeling van het BSA van de instromende studenten van de universiteit verschilt niet significant van de landelijke verdeling (*p* > 0,05). Het aantal studenten met een positief BSA is `r Round_and_format(py$Tab2[2, 1])` (`r Round_and_format(py$Proptab2[2, 1])`%), met een negatief BSA is `r Round_and_format(py$Tab2[1, 1])` (`r Round_and_format(py$Proptab2[1, 1])`%) en met een uitgesteld BSA is `r Round_and_format(py$Tab2[3, 1])` (`r Round_and_format(py$Proptab2[3, 1])`%). De resultaten suggereren dat de opleiding Maritieme Technieken qua BSA niet afwijkt van de gehele universiteit.\n",
    "\n",
    "<!-- ## /TEKSTBLOK: Rapportage2.py-->\n",
    "\n",
    "<!-- ## CLOSEDBLOK: Footer.R -->"
   ]
  },
  {
   "cell_type": "markdown",
   "id": "12f61fcf",
   "metadata": {},
   "source": [
    "<!-- ## /CLOSEDBLOK: Footer.R -->\n",
    "\n",
    "[^1]: Agresti, A. (2003). *Categorical data analysis*. Vol. 482, John Wiley & Sons.\n",
    "[^4]: Een proportie van een bepaalde categorie is de frequentie van de categorie gedeeld door het totaal aantal observaties. Het kan gezien worden als de kans van een bepaalde categorie en bevat een waarde tussen 0 en 1.\n",
    "[^5]: In dit voorbeeld wordt uitgegaan van een waarschijnlijkheid van 95% c.q. een p-waardegrens van 0,05. De grens is naar eigen inzicht aan te passen; houd hierbij rekening met type I en type II fouten.\n",
    "[^6]: Laerd Statistics (2018). *Chi-Square Goodness-of-Fit Test in SPSS Statistics*. https://statistics.laerd.com/spss-tutorials/chi-square-goodness-of-fit-test-in-spss-statistics.php\n",
    "[^7]: Allen, P. & Bennett, K. (2012). *SPSS A practical Guide version 20.0*. Cengage Learning Australia Pty Limited.\n",
    "[^8]: Een ordinale variabele is een categorische variabele waarbij de categorieën geordend kunnen worden. Een voorbeeld is de variabele beoordeling met de categorieën Onvoldoende, Voldoende, Goed en Uitstekend.\n",
    "[^9]: Een nominale variabele is een categorische variabele waarbij de categorieën niet geordend kunnen worden. Een voorbeeld is de variabele windstreek (noord, oost, zuid, west) en geslacht (man of vrouw).\n",
    "[^10]: De waarde 1,96 is een z-score en correspondeert met het significantieniveau 0,05 voor een tweezijdige toets. Om te corrigeren voor meerdere testen kan een ander significantieniveau gekozen worden wat resulteert in een andere z-score om mee te vergelijken. Bij een significantieniveau van 0,01 is de z-score bijvoorbeeld 2,58. De z-score per significantieniveau is te berekenen met `abs(qnorm(alfa/2))` waarbij `alfa` het gewenste significantieniveau is.\n",
    "[^11]: Een z-score is een maat om aan te geven hoeveel een observatie afwijkt van het gemiddelde. De z-score wordt berekend door het gemiddelde van de observatie af te halen en dit daarna te delen door de standaarddeviatie, i.e. $\\frac{X - \\mu}{\\sigma}$. In feite geeft een z-score aan hoeveel standaarddeviaties de observatie van het gemiddelde afwijkt.\n",
    "[^12]: Field, A., Miles, J., & Field, Z. (2012). *Discovering statistics using R*. London: Sage publications.\n",
    "\n",
    "<!-- ## TEKSTBLOK: Extra-Bron.py -->\n",
    "\n",
    "<!-- ## /TEKSTBLOK: Extra-Bron.py -->\n"
   ]
  }
 ],
 "metadata": {
  "jupytext": {
   "cell_metadata_filter": "warning,collapse,name,message,results,code,echo,include,tags,-all",
   "main_language": "python",
   "notebook_metadata_filter": "-all"
  },
  "kernelspec": {
   "display_name": "Python 3 (ipykernel)",
   "language": "python",
   "name": "python3"
  },
  "language_info": {
   "codemirror_mode": {
    "name": "ipython",
    "version": 3
   },
   "file_extension": ".py",
   "mimetype": "text/x-python",
   "name": "python",
   "nbconvert_exporter": "python",
   "pygments_lexer": "ipython3",
   "version": "3.10.4"
  }
 },
 "nbformat": 4,
 "nbformat_minor": 5
}
