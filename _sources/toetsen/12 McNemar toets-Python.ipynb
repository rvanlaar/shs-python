{
 "cells": [
  {
   "cell_type": "raw",
   "id": "a3d15948",
   "metadata": {},
   "source": [
    "---\n",
    "title: \"McNemar toets\"\n",
    "output:\n",
    "  html_document:\n",
    "    theme: lumen\n",
    "    toc: yes\n",
    "    toc_depth: 2\n",
    "    toc_float: \n",
    "      collapsed: FALSE \n",
    "    number_sections: true\n",
    "  keywords: [statistisch handboek, studiedata]\n",
    "---"
   ]
  },
  {
   "cell_type": "markdown",
   "id": "d1b9d047",
   "metadata": {
    "lines_to_next_cell": 0
   },
   "source": [
    "<!-- ## CLOSEDBLOK: Functies.R -->"
   ]
  },
  {
   "cell_type": "markdown",
   "id": "2b03f573",
   "metadata": {
    "lines_to_next_cell": 0
   },
   "source": [
    "<!-- ## /OPENBLOK: Data-aanmaken.py -->\n",
    "\n",
    "# Toepassing\n",
    "\n",
    "<!-- ## TEKSTBLOK: Link1.py -->\n",
    "Gebruik de *McNemar toets* om te toetsen of er verschillen zijn voor de frequenties van een binaire[^1] variabele tussen twee gepaarde groepen.[^2]<sup>, </sup>[^3] De *McNemar toets* kan in theorie ook gebruikt worden om twee gepaarde groepen te vergelijken op een nominale variabele met meer dan twee categorieën. Deze toetspagina illustreert de toets echter voor een binaire variabele. Hoewel het dus mogelijk met de *McNemar toets* is om twee gepaarde groepen te vergelijken wat betreft een nominale variabele, wordt hiervoor echter de voorkeur gegeven aan de [Bhapkar toets](18-Bhapkar-toets-Python.html).\n",
    "<!-- ## /TEKSTBLOK: Link1.py -->\n",
    "\n",
    "# Onderwijscasus\n",
    "<div id = \"casus\">\n",
    "De decaan van een hogeschool merkt dat weinig studenten met een functiebeperking een beroep doen op de Financiële Ondersteuning Studenten (FOS). Ze besluit daarom in december een interventie te doen en stuurt al deze studenten een e-mail over de FOS. Een half jaar later (in de maand juni) maakt ze de balans op: doen studenten met een functiebeperking vaker een beroep op de FOS na de interventie?\n",
    "\n",
    "Dit onderzoek vertaalt zich in de volgende combinatie van hypothesen, waarbij de nulhypothese zo geformuleerd is dat er geen effect of verschil is en de alternatieve hypothese zo geformuleerd is dat er wel een effect of verschil is.\n",
    "\n",
    "*H~0~*: Er is geen verschil in de verdeling van het aantal studenten voor en na de interventie dat wel of niet gebruik maakt van de FOS.\n",
    "\n",
    "*H~A~*: Er is een verschil in de verdeling van het aantal studenten voor en na de interventie dat wel of niet gebruik maakt van de FOS.\n",
    "</div>\n",
    "\n",
    "# McNemar toets\n",
    "\n",
    "De *McNemar toets* toetst of er verschillen zijn tussen de frequenties van een binaire variabele tussen twee gepaarde groepen. In de huidige casus gaat het om de frequenties van studenten die wel of niet gebruik maken van de Financiële Ondersteuning Studenten (FOS). De twee gepaarde groepen zijn het meetmoment in december en het meetmoment in juni. Er zijn meerdere methoden om de p-waarde van de *McNemar toets* te berekenen. De *mid p-value* methode is het beste qua onderscheidend vermogen[^7] en type I fout[^8]. Bij deze methode wordt de p-waarde op een exacte manier berekend waarna een correctie wordt toegepast.[^9] Meer informatie over de verschillende methoden van de *McNemar toets* is te vinden in [dit artikel](https://www.ncbi.nlm.nih.gov/pmc/articles/PMC3716987/).\n",
    "\n",
    "# Assumpties\n",
    "\n",
    "Om de *McNemar toets* uit te voeren, moet de data aan een aantal voorwaarden voldoen. Er moet sprake zijn van gepaarde metingen, meestal twee verschillende metingen bij dezelfde steekproef. Elke meting moet binair zijn, wat betekent dat er twee categorieën zijn voor de gemeten variabele. Daarnaast mag er geen overlap zijn tussen de categorieën van de categorische variabele: elke observatie past slechts in een van beide categorieën.[^3]\n",
    "\n",
    "# Frequentiematrix\n",
    "\n",
    "De *McNemar toets* gaat uit van een frequentiematrix, een matrix waarin de rijen de eerste meting van de steekproef bevat en de kolommen de tweede meting. Een voorbeeld bij de casus is weergegeven in Tabel 1.\n",
    "\n",
    "<!-- ## CLOSEDBLOK: Groepsgrootte0.py -->"
   ]
  },
  {
   "cell_type": "code",
   "execution_count": null,
   "id": "19e947e0",
   "metadata": {
    "echo": true,
    "lines_to_next_cell": 0,
    "tags": [
     "remove_cell"
    ]
   },
   "outputs": [],
   "source": [
    "import pandas as pd\n",
    "\n",
    "df = pd.read_csv(\"../data/12_FOS_studenten.csv\")\n",
    "dfFOS_studenten = df.loc[:, ~df.columns.str.contains('^Unnamed')]"
   ]
  },
  {
   "cell_type": "markdown",
   "id": "eecbe738",
   "metadata": {
    "lines_to_next_cell": 0
   },
   "source": [
    "<!-- ## /CLOSEDBLOK: Groepsgrootte0.py -->\n",
    "\n",
    "<!-- ## CLOSEDBLOK: Groepsgrootte1.py -->"
   ]
  },
  {
   "cell_type": "code",
   "execution_count": null,
   "id": "c183062b",
   "metadata": {
    "echo": true,
    "lines_to_next_cell": 0,
    "tags": [
     "remove_cell"
    ]
   },
   "outputs": [],
   "source": [
    "import numpy as np\n",
    "\n",
    "## Definieer de groepen\n",
    "December = np.array(dfFOS_studenten['FOS'][dfFOS_studenten['Maand'] == 'december'])\n",
    "Juni = np.array(dfFOS_studenten['FOS'][dfFOS_studenten['Maand'] == 'juni'])\n",
    "\n",
    "## Maak een frequentiematrix\n",
    "FOS_studenten_frequentiematrix =  np.array(pd.crosstab(December, Juni))"
   ]
  },
  {
   "cell_type": "markdown",
   "id": "a0d2d36b",
   "metadata": {
    "lines_to_next_cell": 0
   },
   "source": [
    "<!-- ## /CLOSEDBLOK: Groepsgrootte1.py -->\n",
    "\n",
    "<!-- ## TEKSTBLOK: Groepsgrootte2.py -->\n",
    "\n",
    "||                      | Juni    |\n",
    "|-------------| -------------------- | -------------| ------------| \n",
    "||                      | FOS | geen FOS|\n",
    "|**December**| FOS      | `r py$FOS_studenten_frequentiematrix[1,1]` | `r py$FOS_studenten_frequentiematrix[1,2]`     |\n",
    "|            | Geen FOS | `r py$FOS_studenten_frequentiematrix[2,1]` | `r py$FOS_studenten_frequentiematrix[2,2]`     |\n",
    "*Tabel 1. Frequentiematrix van het aantal studenten dat een beroep doet op de FOS in december en juni.*\n",
    "\n",
    "De cel linksboven bevat het aantal studenten dat zowel in december als juni een beroep heeft gedaan op de FOS; dit zijn er `r py$FOS_studenten_frequentiematrix[1,1]`. De cel rechtsonder bevat het aantal studenten dat zowel in december als juni geen beroep heeft gedaan op de FOS; dit zijn er `r py$FOS_studenten_frequentiematrix[2,2]`. Beide cellen staan op de diagonaal van de tabel en worden daarom de diagonale elementen genoemd.\n",
    "\n",
    "In de cel rechtsboven staat het aantal studenten dat wel in december maar niet in juni een beroep op de FOS heeft gedaan; dit zijn er `r py$FOS_studenten_frequentiematrix[1,2]`. In de cel linksonder staat het aantal studenten dat niet in december maar wel in juni een beroep op de FOS heeft gedaan; dit zijn er `r py$FOS_studenten_frequentiematrix[2,1]`. Deze cellen zijn geen onderdeel van de diagonaal van de tabel en worden daarom de niet-diagonale elementen genoemd.\n",
    "<!-- ## /TEKSTBLOK: Groepsgrootte2.py -->\n",
    "\n",
    "# De data bekijken\n",
    "<!-- ## TEKSTBLOK: Data-bekijken1.py -->\n",
    "Er is een dataset ingeladen genaamd `dfFOS_studenten`. In deze dataset is voor elke student aangegeven of ze wel of geen beroep op de FOS hebben gedaan in december en in juni. \n",
    "<!-- ## /TEKSTBLOK: Data-bekijken1.py -->\n",
    "\n",
    "<!-- ## OPENBLOK: Data-bekijken2.py -->"
   ]
  },
  {
   "cell_type": "code",
   "execution_count": null,
   "id": "9b2ab28e",
   "metadata": {
    "name": "data bekijken-1"
   },
   "outputs": [],
   "source": [
    "## Eerste 5 observaties\n",
    "print(dfFOS_studenten.head(5))"
   ]
  },
  {
   "cell_type": "code",
   "execution_count": null,
   "id": "82fc3f4d",
   "metadata": {
    "lines_to_next_cell": 0,
    "name": "data bekijken-2"
   },
   "outputs": [],
   "source": [
    "## Laatste 5 observaties\n",
    "print(dfFOS_studenten.tail(5))"
   ]
  },
  {
   "cell_type": "markdown",
   "id": "7209de35",
   "metadata": {
    "lines_to_next_cell": 0
   },
   "source": [
    "<!-- ## /OPENBLOK: Data-bekijken2.py -->\n",
    "\n",
    "<!-- ## TEKSTBLOK: Data-kruistabel1.py -->\n",
    "Een kruistabel geeft de aantallen observaties weer voor de combinaties van de categorieën van de variabelen `Maand` en `FOS`. In feite laat dit zien hoeveel studenten er wel of niet een beroep doen op de FOS in december en in juni. Een kruistabel verschilt dus van een frequentiematrix. Maak de kruistabel met de functie `.crosstab()` van het package `pandas` met als argumenten de variabele `dfFOS_studenten['FOS']`, die weergeeft of studenten wel of geen beroep op de FOS doen, en de variabele `dfFOS_studenten['Maand'] `, die het meetmoment (december of juni) weergeeft. \n",
    "<!-- ## /TEKSTBLOK: Data-kruistabel1.py -->\n",
    "\n",
    "<!-- ## OPENBLOK: Data-kruistabel2.py -->"
   ]
  },
  {
   "cell_type": "code",
   "execution_count": null,
   "id": "eb04073e",
   "metadata": {
    "lines_to_next_cell": 0,
    "name": "kruistabel"
   },
   "outputs": [],
   "source": [
    "## Maak een kruistabel\n",
    "FOS_studenten_kruistabel = pd.crosstab(dfFOS_studenten['FOS'], dfFOS_studenten['Maand'])\n",
    "\n",
    "## Print de kruistabel \n",
    "print(FOS_studenten_kruistabel)\n",
    "\n",
    "## Print een tabel met proporties, tweede argument 'columns' zorgt ervoor dat de \n",
    "## proporties per kolom berekend worden\n",
    "Prop_FOS_studenten_kruistabel = pd.crosstab(dfFOS_studenten['FOS'], dfFOS_studenten['Maand'], normalize = 'columns')\n",
    "\n",
    "## Print de tabel met proporties\n",
    "print(Prop_FOS_studenten_kruistabel)\n"
   ]
  },
  {
   "cell_type": "code",
   "execution_count": null,
   "id": "eccaa373",
   "metadata": {
    "echo": true,
    "lines_to_next_cell": 0,
    "tags": [
     "remove_cell"
    ]
   },
   "outputs": [],
   "source": [
    "FOS_studenten_kruistabel = np.array(FOS_studenten_kruistabel)"
   ]
  },
  {
   "cell_type": "markdown",
   "id": "7fd305b9",
   "metadata": {
    "lines_to_next_cell": 0
   },
   "source": [
    "<!-- ## /OPENBLOK: Data-kruistabel2.py -->\n",
    "\n",
    "De kruistabel laat zien dat het aantal studenten dat een beroep op de FOS heeft gedaan hoger is en het aantal studenten dat geen beroep op de FOS heeft gedaan lager is in juni. Het percentage studenten dat een beroep op de FOS heeft gedaan is toegenomen; dit is ook te zien in de kruistabel met proporties.\n",
    "\n",
    "<!-- ## TEKSTBLOK: Data-bekijken3.py -->\n",
    "In aanvulling op de kruistabel, geeft de frequentiematrix ook een goede indruk van de data. In de frequentiematrix worden de aantallen studenten die wel of geen beroep op de FOS hebben gedaan tegen elkaar uitgezet voor december en juni. Sla daarom de variabele `FOS` apart op in twee vectoren: een voor december en een voor juni. Maak daarna de frequentiematrix.\n",
    "<!-- ## /TEKSTBLOK: Data-bekijken3.py -->\n",
    "\n",
    "<!-- ## OPENBLOK: Data-beschrijven.py -->"
   ]
  },
  {
   "cell_type": "code",
   "execution_count": null,
   "id": "6ba61fbe",
   "metadata": {
    "lines_to_next_cell": 0,
    "name": "data aanmaken"
   },
   "outputs": [],
   "source": [
    "## Definieer de groepen\n",
    "December = np.array(dfFOS_studenten['FOS'][dfFOS_studenten['Maand'] == 'december'])\n",
    "Juni = np.array(dfFOS_studenten['FOS'][dfFOS_studenten['Maand'] == 'juni'])\n",
    "\n",
    "## Maak een frequentiematrix\n",
    "FOS_studenten_frequentiematrix =  np.array(pd.crosstab(December, Juni))\n",
    "\n",
    "## Print de frequentiematrix \n",
    "print(FOS_studenten_frequentiematrix)"
   ]
  },
  {
   "cell_type": "markdown",
   "id": "bdf0c799",
   "metadata": {
    "lines_to_next_cell": 0
   },
   "source": [
    "<!-- ## /OPENBLOK: Data-beschrijven.py -->\n",
    "\n",
    "<!-- ## TEKSTBLOK: Data-bekijken4.py -->\n",
    "De diagonale elementen bevatten `r py$FOS_studenten_frequentiematrix[1,1]` en `r py$FOS_studenten_frequentiematrix[2,2]` observaties. De niet-diagonale elementen bevatten `r py$FOS_studenten_frequentiematrix[2,1]` en `r py$FOS_studenten_frequentiematrix[1,2]` observaties.\n",
    "<!-- ## /TEKSTBLOK: Data-bekijken4.py -->\n",
    "\n",
    "# McNemar toets\n",
    "\n",
    "## Uitvoering\n",
    "\n",
    "<!-- ## TEKSTBLOK: McNemar-toets1.py -->\n",
    "Voer de *McNemar toets* uit om te onderzoeken of er een verschil is tussen de frequenties van de studenten dat wel of geen beroep doet op de FOS voor en na de interventie van de decaan. Maak hiervoor eerst een frequentietabel. Voer daarna de *McNemar toets* uit met de zelf geschreven functie[^10] `McNemar_toets` met als argumenten de frequentiematrix `FOS_studenten_frequentiematrix` en `'mid'` om aa te geven dat de *mid p-value* methode gebruikt moet worden.\n",
    "<!-- ## /TEKSTBLOK: McNemar-toets1.py -->\n",
    "\n",
    "<!-- ## OPENBLOK: McNemar-toets2.py -->"
   ]
  },
  {
   "cell_type": "code",
   "execution_count": null,
   "id": "8e526050",
   "metadata": {
    "lines_to_next_cell": 0,
    "name": "mcnemar"
   },
   "outputs": [],
   "source": [
    "## Importeer het package scipy.stats\n",
    "import scipy.stats as sps\n",
    "\n",
    "## Definieer de groepen\n",
    "December = np.array(dfFOS_studenten['FOS'][dfFOS_studenten['Maand'] == 'december'])\n",
    "Juni = np.array(dfFOS_studenten['FOS'][dfFOS_studenten['Maand'] == 'juni'])\n",
    "\n",
    "## Maak een frequentiematrix\n",
    "FOS_studenten_frequentiematrix =  np.array(pd.crosstab(December, Juni))\n",
    "\n",
    "## Definieer een functie om de mid p-waarde of de exacte p-waarde voor de McNemar toets te berekenen\n",
    "def McNemar_toets(Frequentiematrix, p_waarde):\n",
    "  \n",
    "  ## Sla de niet-diagonale elementen op\n",
    "  n12 = Frequentiematrix[0,1]\n",
    "  n21 = Frequentiematrix[1,0]\n",
    "  \n",
    "  ## Bereken de som van de niet-diagonale elementen\n",
    "  n = n12 + n21\n",
    "  \n",
    "  ## Bepaal het minimum van beide niet-diagonale elementen \n",
    "  n_min = min(n12,n21)\n",
    "  \n",
    "  ## Bereken de p-waarde als beide elementen gelijk zijn\n",
    "  if n12 == n21:\n",
    "    exact_p_value\n",
    "    mid_p_value = 1 - sps.binom.pmf(n_min, n, 0.5)\n",
    "\n",
    "  ## Bereken de p-waarde als beide elementen niet gelijk zijn\n",
    "  else:\n",
    "    exact_p_value = 2 * sps.binom.cdf(n_min, n, 0.5)\n",
    "    mid_p_value = exact_p_value - sps.binom.pmf(n_min, n, 0.5)\n",
    "  \n",
    "  ## Retourneer de juiste p-waarde op basis van de gekozen methode\n",
    "  if p_waarde == 'exact':\n",
    "    return exact_p_value\n",
    "  if p_waarde == 'mid':\n",
    "    return mid_p_value\n",
    "\n",
    "## Voer de McNemar toets uit met de geschreven functie\n",
    "p_waarde = McNemar_toets(FOS_studenten_frequentiematrix, 'mid')\n",
    "\n",
    "## Print de p-waarde\n",
    "print(p_waarde)\n",
    "    "
   ]
  },
  {
   "cell_type": "markdown",
   "id": "18252df8",
   "metadata": {
    "lines_to_next_cell": 0
   },
   "source": [
    "<!-- ## /OPENBLOK: McNemar-toets2.py -->\n",
    "\n",
    "Bereken het verschil tussen de proporties studenten dat een beroep doet op de FOS in december en juni. Op deze manier kan een (eventueel) significant resultaat geïnterpreteerd worden.\n",
    "\n",
    "<!-- ## OPENBLOK: McNemar-toets5.py -->"
   ]
  },
  {
   "cell_type": "code",
   "execution_count": null,
   "id": "8cbefb7f",
   "metadata": {
    "lines_to_next_cell": 0,
    "name": "verschil proportie"
   },
   "outputs": [],
   "source": [
    "## Maak een kruistabel met proporties, tweede argument 'columns' zorgt ervoor dat de \n",
    "## proporties per kolom berekend worden\n",
    "Prop_FOS_studenten_kruistabel = pd.crosstab(dfFOS_studenten['FOS'], dfFOS_studenten['Maand'], normalize = 'columns')\n",
    "\n",
    "## Print de kruistabel\n",
    "print(Prop_FOS_studenten_kruistabel)\n",
    "\n",
    "## Bereken het verschil in proporties\n",
    "Verschil_proporties = np.array(Prop_FOS_studenten_kruistabel)[0,1] -  np.array(Prop_FOS_studenten_kruistabel)[0,0]\n",
    "\n",
    "## Print het verschil in proporties\n",
    "print(Verschil_proporties)\n"
   ]
  },
  {
   "cell_type": "markdown",
   "id": "fb792c70",
   "metadata": {
    "lines_to_next_cell": 0
   },
   "source": [
    "<!-- ## /OPENBLOK: McNemar-toets5.py -->\n",
    "\n",
    "<!-- ## TEKSTBLOK: McNemar-toets5.py -->\n",
    "* Er is een significant verschil tussen de frequenties van het aantal studenten dat wel of niet gebruik maakt van de FOS tussen december en juni, *p* < 0,0001  \n",
    "* De p-waarde is kleiner dan 0,05, dus de H~0~ wordt verworpen.[^6]\n",
    "* Het verschil in proporties is `r Round_and_format(py$Verschil_proporties)`, er zijn dus meer studenten die gebruik maken van de FOS in juni ten opzichte van december\n",
    "\n",
    "<!-- ## /TEKSTBLOK: McNemar-toets5.py -->\n",
    "\n",
    "## Rapportage\n",
    "\n",
    "<!-- ## TEKSTBLOK: Rapportage.py -->\n",
    "De *McNemar toets* is uitgevoerd om uit te vinden of er een verschil is in de frequenties van het aantal studenten dat wel of geen beroep doet op de FOS voor en na de interventie van de decaan. De interventie heeft als doel het aantal studenten met een functiebeperking dat een beroep doet op de FOS te verhogen. De resultaten laten een significant verschil zien tussen de frequenties voor en na de interventie (*p* < 0,0001), wat betekent dat de nulhypothese verworpen kan worden. Het verschil in de proportie studenten dat een beroep doet op de FOS is `r Round_and_format(py$Verschil_proporties)` . Het verschil in proporties en de kruistabel (Tabel 2) illustreren dat het percentage studenten dat een beroep doet op de FOS is toegenomen na de interventie. \n",
    "\n",
    "|                      | December | Juni |\n",
    "| -------------------- | -------------| ------------| \n",
    "| **FOS** | `r py$FOS_studenten_kruistabel[1,1]`    | `r py$FOS_studenten_kruistabel[1,2]`     |\n",
    "| **geen FOS**  | `r py$FOS_studenten_kruistabel[2,1]`      | `r py$FOS_studenten_kruistabel[2,2]`     |\n",
    "*Tabel 2. Kruistabel van het aantal studenten dat een beroep doet op de FOS in december en juni*\n",
    "<!-- ## /TEKSTBLOK: Rapportage.py -->\n",
    "\n",
    "<!-- ## CLOSEDBLOK: Footer.R -->"
   ]
  },
  {
   "cell_type": "markdown",
   "id": "5bf58f7d",
   "metadata": {},
   "source": [
    "<!-- ## /CLOSEDBLOK: Footer.R -->\n",
    "\n",
    "[^1]: Binaire variabelen: twee elkaar uitsluitende waarden, zoals ja of nee, 0 of 1, aan of uit. \n",
    "[^2]: Van Geloven, N., & Holman, R., (4 juni 2014). *McNemar toets*. [Wiki Statistiek Academisch Medisch Centrum](https://wikistatistiek.amc.nl/index.php/McNemar_toets). \n",
    "[^3]: Laerd statistics (2018). *McNemar's test using SPSS Statistics*. [Laerd statistics](https://statistics.laerd.com/spss-tutorials/mcnemars-test-using-spss-statistics.php) \n",
    "[^6]: In dit voorbeeld wordt uitgegaan van een waarschijnlijkheid van 95% c.q. een p-waardegrens van 0,05. De grens is naar eigen inzicht aan te passen; houd hierbij rekening met type I en type II fouten. \n",
    "[^7]: Onderscheidend vermogen, in het Engels power genoemd, is de kans dat de nulhypothese verworpen wordt wanneer de alternatieve hypothese waar is.\n",
    "[^8]: Een type I fout is de kans dat een van de nulhypotheses onterecht wordt verworpen en er bij toeval een verband wordt ontdekt dat er niet is.\n",
    "[^9]: Fagerland, M.W., Lydersen, S., & Laake, P. (2013). *The McNemar test for binary matched-pairs data: mid-p and asymptotic are better than exact conditional*. BMC medical research methodology, 13, 91. https://doi.org/10.1186/1471-2288-13-91\n",
    "\n",
    "<!-- ## TEKSTBLOK: Extra_bron.py -->\n",
    "[^10]: Additional file 1 van Fagerland, M.W., Lydersen, S., & Laake, P. (2013). *The McNemar test for binary matched-pairs data: mid-p and asymptotic are better than exact conditional*. BMC medical research methodology, 13, 91. https://doi.org/10.1186/1471-2288-13-91 . Te vinden op https://www.ncbi.nlm.nih.gov/pmc/articles/PMC3716987/#S1\n",
    "\n",
    "<!-- ## /TEKSTBLOK: Extra_bron.py -->\n"
   ]
  }
 ],
 "metadata": {
  "jupytext": {
   "cell_metadata_filter": "name,include,tags,message,results,warning,code,echo,-all",
   "main_language": "python",
   "notebook_metadata_filter": "-all"
  },
  "kernelspec": {
   "display_name": "Python 3 (ipykernel)",
   "language": "python",
   "name": "python3"
  },
  "language_info": {
   "codemirror_mode": {
    "name": "ipython",
    "version": 3
   },
   "file_extension": ".py",
   "mimetype": "text/x-python",
   "name": "python",
   "nbconvert_exporter": "python",
   "pygments_lexer": "ipython3",
   "version": "3.10.4"
  }
 },
 "nbformat": 4,
 "nbformat_minor": 5
}
