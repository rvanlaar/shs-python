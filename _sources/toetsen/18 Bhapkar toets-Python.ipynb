{
 "cells": [
  {
   "cell_type": "raw",
   "id": "55777722",
   "metadata": {},
   "source": [
    "---\n",
    "title: \"Bhapkar toets\"\n",
    "output:\n",
    "  html_document:\n",
    "    theme: lumen\n",
    "    toc: yes\n",
    "    toc_depth: 2\n",
    "    toc_float: \n",
    "      collapsed: FALSE \n",
    "    number_sections: true\n",
    "  keywords: [statistisch handboek, studiedata]\n",
    "---"
   ]
  },
  {
   "cell_type": "markdown",
   "id": "e4b66e8b",
   "metadata": {},
   "source": [
    "# Bhapkar toets"
   ]
  },
  {
   "cell_type": "markdown",
   "id": "11ee6bc6",
   "metadata": {
    "lines_to_next_cell": 0
   },
   "source": [
    "<!-- ## CLOSEDBLOK: Functies.R -->"
   ]
  },
  {
   "cell_type": "markdown",
   "id": "67895059",
   "metadata": {
    "lines_to_next_cell": 0
   },
   "source": [
    "<!-- ## /OPENBLOK: Data-aanmaken.py -->\n",
    "\n",
    "## Toepassing\n",
    "\n",
    "<!-- ## TEKSTBLOK: Link1.py -->\n",
    "Gebruik de *Bhapkar toets* om te toetsen of er verschillen zijn voor een nominale[^1] variabele tussen twee gepaarde groepen.[^2]<sup>, </sup>[^3] Als de nominale variabele twee categorieën heeft, kan ook de [McNemar toets](12-McNemar-toets-I-Python.html) gebruikt worden.\n",
    "<!-- ## /TEKSTBLOK: Link1.py -->\n",
    "\n",
    "## Onderwijscasus\n",
    "<div id = \"casus\">\n",
    "\n",
    "De studieadviseur van de bachelor Leisure & Events Management geeft halverwege het eerste studiejaar een voorlopig BSA-advies aan alle eerstejaars studenten. Studenten ontvangen een positief, negatief of uitgesteld BSA.  Daarnaast voert zij met alle studenten persoonlijke gesprekken om het advies toe te lichten en een plan voor de rest van het studiejaar te maken. De studieadviseur wil graag onderzoeken of er verschillen zijn tussen het voorlopige BSA-advies halverwege het jaar en het definitieve advies aan het einde van het jaar zodat ze de effectiviteit van de persoonlijke gesprekken kan beoordelen.\n",
    "\n",
    "Dit onderzoek vertaalt zich in de volgende combinatie van hypothesen, waarbij de nulhypothese zo geformuleerd is dat er geen effect of verschil is en de alternatieve hypothese zo geformuleerd is dat er wel een effect of verschil is.\n",
    "\n",
    "*H<sub>0</sub>*: Er is geen verschil tussen de verdeling van de voorlopige BSA adviezen en de definitieve BSA adviezen.\n",
    "\n",
    "*H<sub>A</sub>*: Er is een verschil tussen de verdeling van de voorlopige BSA adviezen en de definitieve BSA adviezen.\n",
    "\n",
    "</div>\n",
    "\n",
    "## Assumpties\n",
    "\n",
    "Om de *Bhapkar toets* uit te voeren, moeten de data aan een aantal voorwaarden voldoen. Er dient een categorische variabele te zijn met twee of meer categorieën en een binaire variabele die de twee gepaarde groepen weergeeft. Daarnaast mag er geen overlap zijn tussen de categorieën van de categorische variabele: elke observatie past slechts in een van beide categorieën.[^2]<sup>, </sup>[^3]\n",
    "\n",
    "## Frequentiematrix\n",
    "\n",
    "De *Bhapkar toets* gaat uit van een frequentiematrix, een matrix waarin de rijen de eerste meting van de steekproef bevat en de kolommen de tweede meting. Een voorbeeld bij de casus is weergegeven in Tabel 1.\n",
    "\n",
    "<!-- ## OPENBLOK: Groepsgrootte1.py -->"
   ]
  },
  {
   "cell_type": "code",
   "execution_count": null,
   "id": "3a1f6ced",
   "metadata": {
    "echo": true,
    "tags": [
     "remove_cell"
    ]
   },
   "outputs": [],
   "source": [
    "import pandas as pd\n",
    "df = pd.read_csv(\"../data/18_BSA_LEM.csv\")\n",
    "dfBSA_LEM = df.loc[:, ~df.columns.str.contains('^Unnamed')]"
   ]
  },
  {
   "cell_type": "code",
   "execution_count": null,
   "id": "b496cfe5",
   "metadata": {
    "echo": true,
    "lines_to_next_cell": 0,
    "name": "groepsgrootte",
    "tags": [
     "remove_cell"
    ]
   },
   "outputs": [],
   "source": [
    "import pandas as pd\n",
    "import numpy as np\n",
    "\n",
    "## Definieer de groepen\n",
    "Voorlopig = np.array(dfBSA_LEM['BSA_advies'][dfBSA_LEM['Soort_BSA'] == 'Voorlopig'])\n",
    "Definitief = np.array(dfBSA_LEM['BSA_advies'][dfBSA_LEM['Soort_BSA'] == 'Definitief'])\n",
    "\n",
    "## Maak een frequentiematrix\n",
    "BSA_frequentiematrix =  np.array(pd.crosstab(Voorlopig, Definitief))\n"
   ]
  },
  {
   "cell_type": "markdown",
   "id": "570e0796",
   "metadata": {},
   "source": [
    "<!-- ## /OPENBLOK: Groepsgrootte1.py -->\n",
    "\n",
    "<!-- ## TEKSTBLOK: Groepsgrootte2.py -->\n",
    "\n",
    "||                      | Definitief    |  |  |\n",
    "|-------------| -------------------- | -------------| ------------| ------------| \n",
    "||                      | Positief | Negatief| Uitgesteld |\n",
    "|**Voorlopig**| Positief      | `r py$BSA_frequentiematrix[2,2]` | `r py$BSA_frequentiematrix[2,1]`     | `r py$BSA_frequentiematrix[2,3]` |\n",
    "|            | Negatief | `r py$BSA_frequentiematrix[1,2]` | `r py$BSA_frequentiematrix[1,1]`     | `r py$BSA_frequentiematrix[1,3]` |\n",
    "|            | Uitgesteld | `r py$BSA_frequentiematrix[3,2]` | `r py$BSA_frequentiematrix[3,1]`     | `r py$BSA_frequentiematrix[3,3]` |\n",
    "*Tabel 1. Frequentiematrix van de voorlopige en definitieve BSA-adviezen voor studenten van de bachelor Leisure & Event Management.*\n",
    "\n",
    "De cel linksboven bevat het aantal studenten dat zowel bij het voorlopige BSA als het definitieve BSA advies een positief advies heeft ontvangen; dit zijn `r py$BSA_frequentiematrix[2,2]` studenten. De cel in het midden van de frequentiematrix laat het aantal studenten zien dat zowel bij het voorlopige BSA als het definitieve BSA advies een negatief advies heeft ontvangen; dit zijn `r py$BSA_frequentiematrix[1,1]` studenten. De cel rechtsonder bevat het aantal studenten dat zowel bij het voorlopige BSA als het definitieve BSA advies een uitgesteld advies heeft ontvangen; dit is `r py$BSA_frequentiematrix[3,3]` student. Deze drie cellen staan op de diagonaal van de tabel en worden daarom de *diagonale elementen* genoemd.\n",
    "\n",
    "Er zijn ook cellen die niet onder de diagonale elementen van de frequentiematrix vallen. Deze cellen bevatten studenten waarbij het voorlopige BSA advies verschilt van het definitieve advies. In de cel rechtsboven bijvoorbeeld staat het aantal studenten dat een positief voorlopig BSA advies en een uitgesteld definitief BSA advies heeft ontvangen; dit zijn `r py$BSA_frequentiematrix[2,3]` studenten. De cel linksonder bevat het aantal studenten dat een uitgesteld voorlopig BSA advies en een positief definitief BSA advies heeft ontvangen; dit zijn `r py$BSA_frequentiematrix[3,2]` studenten.\n",
    "<!-- ## /TEKSTBLOK: Groepsgrootte2.py -->"
   ]
  },
  {
   "cell_type": "markdown",
   "id": "ac378d3b",
   "metadata": {
    "lines_to_next_cell": 0
   },
   "source": [
    "## De data bekijken\n",
    "<!-- ## TEKSTBLOK: Data-bekijken1.py -->\n",
    "Er is een dataset ingeladen genaamd `dfBSA_LEM`. In deze dataset is voor elke student aangegeven wat het voorlopige en definitieve BSA advies is.\n",
    "<!-- ## /TEKSTBLOK: Data-bekijken1.py -->\n",
    "\n",
    "<!-- ## OPENBLOK: Data-bekijken2.py -->"
   ]
  },
  {
   "cell_type": "code",
   "execution_count": null,
   "id": "9243ab72",
   "metadata": {
    "lines_to_next_cell": 0,
    "name": "data bekijken"
   },
   "outputs": [],
   "source": [
    "## Eerste 5 observaties\n",
    "print(dfBSA_LEM.head(5))\n",
    "\n",
    "## Laatste 5 observaties\n",
    "print(dfBSA_LEM.tail(5))"
   ]
  },
  {
   "cell_type": "markdown",
   "id": "f15da6fb",
   "metadata": {
    "lines_to_next_cell": 0
   },
   "source": [
    "<!-- ## /OPENBLOK: Data-bekijken2.py -->\n",
    "\n",
    "<!-- ## TEKSTBLOK: Data-kruistabel1.py -->\n",
    "Een kruistabel geeft de aantallen observaties weer voor de combinaties van de categorieën van de variabelen `Soort_BSA` en `BSA_advies`. In feite laat deze tabel de frequentie van het positieve, negatieve en uitgestelde BSA-advies zien voor de voorlopige en definitieve BSA. Maak de kruistabel met de functie `.crosstab()` van het package `pandas` met als argumenten de variabele `dfBSA_LEM['Soort_BSA']`, die weergeeft of het om het voorlopige of definitieve advies gaat, en de variabele `dfBSA_LEM['BSA_advies']`, die het BSA-advies aangeeft.\n",
    "<!-- ## /TEKSTBLOK: Data-kruistabel1.py -->\n",
    "\n",
    "<!-- ## OPENBLOK: Data-kruistabel2.py -->"
   ]
  },
  {
   "cell_type": "code",
   "execution_count": null,
   "id": "5081941f",
   "metadata": {
    "lines_to_next_cell": 0,
    "name": "kruistabel"
   },
   "outputs": [],
   "source": [
    "import pandas as pd\n",
    "\n",
    "## Maak een kruistabel\n",
    "BSA_kruistabel = pd.crosstab(dfBSA_LEM['Soort_BSA'], dfBSA_LEM['BSA_advies'])\n",
    "\n",
    "## Print de kruistabel \n",
    "print(BSA_kruistabel)\n",
    "\n",
    "## Print een tabel met proporties, tweede argument 'index' zorgt ervoor dat de \n",
    "## proporties per rij berekend worden\n",
    "Prop_BSA_kruistabel = pd.crosstab(dfBSA_LEM['Soort_BSA'], dfBSA_LEM['BSA_advies'], normalize = 'index')\n",
    "\n",
    "## Print de tabel met proporties\n",
    "print(Prop_BSA_kruistabel)\n"
   ]
  },
  {
   "cell_type": "markdown",
   "id": "651ea301",
   "metadata": {
    "lines_to_next_cell": 0
   },
   "source": [
    "<!-- ## /OPENBLOK: Data-kruistabel2.py -->\n",
    "\n",
    "De kruistabel en de kruistabel met proporties laten zien dat het aantal positieve BSA-adviezen hoger is bij het definitieve advies en het aantal negatieve BSA-adviezen juist lager. Het aantal uitgestelde BSA-adviezen is iets lager bij het definitieve advies.\n",
    "\n",
    "## Uitvoering\n",
    "\n",
    "### Bhapkar toets\n",
    "\n",
    "<!-- ## TEKSTBLOK: Bhapkar-toets1.py -->\n",
    "Voer de *Bhapkar toets* uit om te onderzoeken of er een verschil is tussen de verdeling van de voorlopige en definitieve BSA-adviezen voor studenten van de bachelor Leisure & Events Management. Sla eerst de voorlopige en definitieve BSA adviezen op in vectoren. Maak daarna een frequentiematrix met behulp van de functie `sms.SquareTable()` van het package `statsmodels.stats.api` met als argument `pd.crosstab(Voorlopig, Definitief)`, een manier om een frequentiematrix te maken met behulp van de functie `pd.crosstab()` van het package `pandas`. Voer vervolgens de *Bhapkar toets* uit met behulp van de functie `.homogeneity(method = 'bhapkar')`, ook van het package `statsmodels.stats.api`.\n",
    "\n",
    "<!-- ## /TEKSTBLOK: Bhapkar-toets1.py -->\n",
    "\n",
    "<!-- ## OPENBLOK: Bhapkar-toets2.py -->"
   ]
  },
  {
   "cell_type": "code",
   "execution_count": null,
   "id": "096af442",
   "metadata": {
    "lines_to_next_cell": 0
   },
   "outputs": [],
   "source": [
    "import statsmodels.stats.api as sms\n",
    "import numpy as np\n",
    "\n",
    "## Definieer de groepen\n",
    "Voorlopig = np.array(dfBSA_LEM['BSA_advies'][dfBSA_LEM['Soort_BSA'] == 'Voorlopig'])\n",
    "Definitief = np.array(dfBSA_LEM['BSA_advies'][dfBSA_LEM['Soort_BSA'] == 'Definitief'])\n",
    "\n",
    "## Maak een frequentiematrix\n",
    "BSA_frequentiematrix =  sms.SquareTable(pd.crosstab(Voorlopig, Definitief))\n",
    "\n",
    "## Voer de Bhapkar toets uit\n",
    "print(BSA_frequentiematrix.homogeneity(method = 'bhapkar'))\n"
   ]
  },
  {
   "cell_type": "markdown",
   "id": "66a80633",
   "metadata": {
    "lines_to_next_cell": 0
   },
   "source": [
    "<!-- ## /OPENBLOK: Bhapkar-toets2.py -->\n",
    "\n",
    "<!-- ## CLOSEDBLOK: Bhapkar-toets3.py -->"
   ]
  },
  {
   "cell_type": "code",
   "execution_count": null,
   "id": "532bbe73",
   "metadata": {
    "echo": true,
    "lines_to_next_cell": 0,
    "name": "Bhapkar object",
    "tags": [
     "remove_cell"
    ]
   },
   "outputs": [],
   "source": [
    "## Definieer de groepen\n",
    "Voorlopig = np.array(dfBSA_LEM['BSA_advies'][dfBSA_LEM['Soort_BSA'] == 'Voorlopig'])\n",
    "Definitief = np.array(dfBSA_LEM['BSA_advies'][dfBSA_LEM['Soort_BSA'] == 'Definitief'])\n",
    "\n",
    "## Maak een frequentiematrix\n",
    "BSA_frequentiematrix =  sms.SquareTable(pd.crosstab(Voorlopig, Definitief))\n",
    "\n",
    "## Voer de Bhapkar toets uit\n",
    "Resultaat = BSA_frequentiematrix.homogeneity(method = 'bhapkar')\n",
    "stat = Resultaat.statistic\n"
   ]
  },
  {
   "cell_type": "markdown",
   "id": "4a3fc264",
   "metadata": {},
   "source": [
    "<!-- ## /CLOSEDBLOK: Bhapkar-toets3.py -->\n",
    "\n",
    "<!-- ## TEKSTBLOK: Bhapkar-toets5.py -->\n",
    "* *&chi;^2^* = `r Round_and_format(py$stat)`, *p* < 0,0001\n",
    "* De p-waarde is kleiner dan 0,05, dus de H<sub>0</sub> wordt verworpen.[^6]\n",
    "* De verdelingen van de voorlopige en definitieve BSA-adviezen zijn verschillend.\n",
    "\n",
    "<!-- ## /TEKSTBLOK: Bhapkar-toets5.py -->"
   ]
  },
  {
   "cell_type": "markdown",
   "id": "f1de6e30",
   "metadata": {},
   "source": [
    "## Rapportage\n",
    "\n",
    "<!-- ## CLOSEDBLOK: posthoc3.py -->\n",
    "\n",
    "<!-- ## /CLOSEDBLOK: posthoc3.py -->"
   ]
  },
  {
   "cell_type": "markdown",
   "id": "bea92ca5",
   "metadata": {
    "lines_to_next_cell": 0
   },
   "source": [
    "<!-- ## TEKSTBLOK: Bhapkar-toets6.py -->\n",
    "De *Bhapkar toets* is uitgevoerd om uit te vinden of er een verschil tussen de verdeling van de voorlopige en definitieve BSA-adviezen van de studenten van de bachelor Leisure & Events Management. Uit de *Bhapkar toets* blijkt dat er een significant verschil is tussen de verdelingen van de voorlopige en definitieve BSA-adviezen, *&chi;^2^* = `r Round_and_format(py$stat)`, *p* < 0,0001. De frequenties en bijbehorende percentages voor de voorlopige en definitieve BSA-adviezen zijn te vinden in Tabel 2. Op basis van de resultaten en deze tabel is te zien dat er bij de definitieve BSA-adviezen meer positieve en minder negatieve BSA-adviezen zijn dan bij de voorlopige adviezen. Daarnaast is het aantal uitgestelde BSA-adviezen iets lager bij de definitieve adviezen. De persoonlijke gesprekken met de studieadviseur lijken er dus voor te zorgen dat er meer positieve en minder negatieve en uitgestelde BSA-adviezen zijn.\n",
    "\n",
    "||                      | BSA-advies    | |\n",
    "|-------------| -------------------- | -------------| ------------| \n",
    "|                      | Positief | Negatief| Uitgesteld |\n",
    "| Voorlopig |  `r py$BSA_kruistabel[2,2]` (`r Round_and_format(100*py$Prop_BSA_kruistabel[2,2])`%) | `r py$BSA_kruistabel[2,1]` (`r Round_and_format(100*py$Prop_BSA_kruistabel[2,1])`%) | `r py$BSA_kruistabel[2,3]` (`r Round_and_format(100*py$Prop_BSA_kruistabel[2,3])`%) |\n",
    "| Definitief |  `r py$BSA_kruistabel[1,2]` (`r Round_and_format(100*py$Prop_BSA_kruistabel[1,2])`%) | `r py$BSA_kruistabel[1,1]` (`r Round_and_format(100*py$Prop_BSA_kruistabel[1,1])`%) | `r py$BSA_kruistabel[1,3]` (`r Round_and_format(100*py$Prop_BSA_kruistabel[1,3])`%) |\n",
    "*Tabel 2. Kruistabel en rijpercentages voor de voorlopige en definitieve BSA-adviezen van studenten van de bachelor Leisure & Events Management.*\n",
    "\n",
    "<!-- ## /TEKSTBLOK: Bhapkar-toets6.py -->\n",
    "\n",
    "<!-- ## CLOSEDBLOK: Footer.R -->"
   ]
  },
  {
   "cell_type": "markdown",
   "id": "f560230a",
   "metadata": {},
   "source": [
    "<!-- ## /CLOSEDBLOK: Footer.R -->\n",
    "\n",
    "[^1]: Een nominale variabele is een categorische variabele waarbij de categorieën niet geordend kunnen worden. Een voorbeeld is de variabele windstreek (noord, oost, zuid, west) en geslacht (man of vrouw).\n",
    "[^2]: Sun, X., & Yang, Z., (2008) *Generalized McNemar’s Test for Homogeneity of the Marginal Distributions*. [SAS Global Forum 2008](https://support.sas.com/resources/papers/proceedings/pdfs/sgf2008/382-2008.pdf)\n",
    "[^3]: Uebersax, J. (30 augustus 2006). [*McNemar Tests of Marginal Homogeneity*](https://www.john-uebersax.com/stat/mcnemar.htm)\n",
    "[^5]: Field, A., Miles, J., & Field, Z. (2012). *Discovering statistics using R*. London: Sage publications.\n",
    "[^6]: In dit voorbeeld wordt uitgegaan van een waarschijnlijkheid van 95% c.q. een p-waardegrens van 0,05. De grens is naar eigen inzicht aan te passen; houd hierbij rekening met type I en type II fouten.\n",
    "[^7]: Statistics How To (29 oktober 2017). *False Discovery Rate: Simple Definition, Adjusting for FDR*. [Statistics How to](https://www.statisticshowto.datasciencecentral.com/false-discovery-rate/). \n",
    "[^8]: Statistics How To (12 oktober 2015). *Benjamini-Hochberg Procedure*. [Statistics How to](https://www.statisticshowto.datasciencecentral.com/benjamini-hochberg-procedure/). \n",
    "[^9]: De exacte [McNemar toets](12-McNemar-toets-R.html) wordt gebruikt als het aantal observaties in de niet-diagonale elementen van de confusiematrix kleiner dan 11 is. Voor meer informatie, zie de toetspagina van de [McNemar toets](12 McNemar toets R.Rmd).\n",
    "[^19]: Met een deelnemer wordt het object bedoeld dat geobserveerd wordt, bijvoorbeeld een student, een inwoner van Nederland, een opleiding of een organisatie. Met een observatie wordt de waarde bedoeld die de deelnemer heeft voor een bepaalde variabele. Een deelnemer heeft dus meestal een observatie voor meerdere variabelen."
   ]
  }
 ],
 "metadata": {
  "jupytext": {
   "cell_metadata_filter": "tags,name,code,echo,include,results,message,warning,-all",
   "main_language": "python",
   "notebook_metadata_filter": "-all"
  },
  "kernelspec": {
   "display_name": "Python 3 (ipykernel)",
   "language": "python",
   "name": "python3"
  },
  "language_info": {
   "codemirror_mode": {
    "name": "ipython",
    "version": 3
   },
   "file_extension": ".py",
   "mimetype": "text/x-python",
   "name": "python",
   "nbconvert_exporter": "python",
   "pygments_lexer": "ipython3",
   "version": "3.10.4"
  }
 },
 "nbformat": 4,
 "nbformat_minor": 5
}
