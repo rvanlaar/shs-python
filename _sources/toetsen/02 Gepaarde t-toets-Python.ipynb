{
 "cells": [
  {
   "cell_type": "raw",
   "id": "7e837b16",
   "metadata": {},
   "source": [
    "---\n",
    "title: \"Gepaarde t-toets\"\n",
    "output:\n",
    "  html_document:\n",
    "    theme: lumen\n",
    "    toc: yes\n",
    "    toc_depth: 2\n",
    "    toc_float: \n",
    "      collapsed: FALSE \n",
    "    number_sections: true\n",
    "    includes:\n",
    "      in_header: [\"../01. Includes/html/nocache.html\", \"../01. Includes/html/favicon.html\", \"../01. Includes/html/analytics.html\"]\n",
    "  keywords: [statistisch handboek, studiedata]\n",
    "---"
   ]
  },
  {
   "cell_type": "markdown",
   "id": "47ead34d",
   "metadata": {
    "lines_to_next_cell": 0
   },
   "source": [
    "<!-- ## CLOSEDBLOK: Functies.R -->"
   ]
  },
  {
   "cell_type": "markdown",
   "id": "29b56920",
   "metadata": {},
   "source": [
    "<!-- ## /CLOSEDBLOK: Reticulate.py -->"
   ]
  },
  {
   "cell_type": "code",
   "execution_count": null,
   "id": "2a038521",
   "metadata": {
    "eval": false,
    "name": "opmerking",
    "tags": [
     "remove_cell"
    ]
   },
   "outputs": [],
   "source": [
    "# doorlinken naar de Wilcoxon Signed Rank Test\n",
    "# linken naar blz transformeren data "
   ]
  },
  {
   "cell_type": "markdown",
   "id": "cce67004",
   "metadata": {
    "lines_to_next_cell": 0
   },
   "source": [
    "<!-- ## OPENBLOK: Data-aanmaken.py -->"
   ]
  },
  {
   "cell_type": "markdown",
   "id": "87bbaf60",
   "metadata": {
    "lines_to_next_cell": 0
   },
   "source": [
    "<!-- ## /OPENBLOK: Data-aanmaken.py -->\n",
    "\n",
    "# Toepassing\n",
    "Gebruik de *gepaarde t-toets* om te toetsen of de gemiddelden van twee (herhaalde) metingen van een groep verschillen en om te toetsen of de gemiddelden van twee gepaarde groepen van elkaar verschillen.[^1] \n",
    "\n",
    "# Onderwijscasus\n",
    "<div id =\"casus\">\n",
    "Voor het verminderen van de studielast van studenten biedt het Centrum voor Studentbegeleiding van een universiteit een cursus Plannen aan. De cursus is bedoeld om studenten beter inzicht te geven in de gevolgen van de planning van hun studielast. De cursus wordt tussen twee onderwijsperiodes in gegeven. Voor en na de cursus moeten de studenten gedurende een onderwijsperiode een logboek bijhouden over hun studiegedrag. De cursuscoördinator vraagt zich af of er een verandering in het aantal studieuren is na deelname aan de cursus.\n",
    "\n",
    "Dit onderzoek vertaalt zich in de volgende combinatie van hypothesen, waarbij de nulhypothese zo geformuleerd is dat er geen effect of verschil is en de alternatieve hypothese zo geformuleerd is dat er wel een effect of verschil is.\n",
    "\n",
    "*H~0~*: Het gemiddeld aantal uren studeren per onderwijsperiode verandert niet na de cursus, µ~T0~ = µ~T1~  \n",
    "\n",
    "*H~A~*: Het gemiddeld aantal uren studeren per onderwijsperiode verandert na de cursus, µ~T0~ ≠ µ~T1~ \n",
    "</div>\n",
    "\n",
    "# Assumpties\n",
    "Om een valide resultaat te bereiken moet er, voordat de toets kan worden uitgevoerd, aan een aantal voorwaarden voldaan worden.\n",
    "\n",
    "## Normaliteit\n",
    "De *gepaarde t-toets* gaat ervan uit dat de verschillen tussen de gepaarde observaties (verschilscores) normaal verdeeld zijn. Ga er bij een aantal deelnemers[^13] *n* groter dan 100 vanuit dat de *gepaarde t-toets* robuust genoeg is om uit te voeren zonder dat er voldaan is aan de assumptie van normaliteit.   \n",
    "\n",
    "Controleer de assumptie van normaliteit met de volgende stappen:  \n",
    "1. Controleer de verschilscores visueel met een histogram, een Q-Q plot en een boxplot.  \n",
    "2. Toets of de verschilscores normaal verdeeld is met de *Kolmogorov-Smirnov test* of bij een kleinere steekproef (*n* < 50) met de *Shapiro-Wilk test*.[^3]<sup>, </sup>[^4]  \n",
    "\n",
    "De eerste stap heeft als doel een goede indruk te krijgen van de verdeling van de steekproef. In de tweede stap wordt de assumptie van normaliteit getoetst. De statistische toets laat zien of de verdeling van de steekproef voldoet aan de assumptie van normaliteit.\n",
    "\n",
    "<!-- ## TEKSTBLOK: Link1.R-->\n",
    "Als blijkt dat de verschilscores niet normaal verdeeld is, transformeer dan de afhankelijke variabele eventueel en bepaal daarna of de verschilscores wel normaal verdeeld is [^5] of gebruik de [Wilcoxon signed rank toets](07-Wilcoxon-signed-rank-toets-R.html).[^6]<sup>, </sup>[^7]\n",
    "<!-- ## /TEKSTBLOK: Link1.R-->\n",
    "\n",
    "# Uitvoering\n",
    "<!-- ## TEKSTBLOK: Dataset-inladen.py -->\n",
    "Er is een dataset ingeladen met het gemiddeld aantal uren studeren voor (T~0~) en na (T~1~) de cursus. De gemiddeldes per onderwijsperiode zijn afgerond op 1 decimaal in de dataframe `dfStudielogboek`. \n",
    "<!-- ## /TEKSTBLOK: Dataset-inladen.py -->\n",
    "\n",
    "## De data bekijken\n",
    "<!-- ## TEKSTBLOK: Data-bekijken.py -->\n",
    "Gebruik `<dataframe>.head()` en `<dataframe>.tail()` om de structuur van de data te bekijken.\n",
    "<!-- ## /TEKSTBLOK: Data-bekijken.py -->\n",
    "<!-- ## OPENBLOK: Data-bekijken.py -->"
   ]
  },
  {
   "cell_type": "code",
   "execution_count": null,
   "id": "3039d218",
   "metadata": {
    "tags": [
     "remove_cell"
    ]
   },
   "outputs": [],
   "source": [
    "import pandas as pd\n",
    "dfStudielogboek = pd.read_csv(\"../data/02_Studielogboek.csv\")"
   ]
  },
  {
   "cell_type": "code",
   "execution_count": null,
   "id": "ce46f380",
   "metadata": {
    "collapse": true,
    "name": "data bekijken-1"
   },
   "outputs": [],
   "source": [
    "## Eerste 5 observaties\n",
    "print(dfStudielogboek.head())"
   ]
  },
  {
   "cell_type": "code",
   "execution_count": null,
   "id": "1e568e16",
   "metadata": {
    "collapse": true,
    "lines_to_next_cell": 0,
    "name": "data bekijken-2"
   },
   "outputs": [],
   "source": [
    "## Laatste 5 observaties\n",
    "print(dfStudielogboek.tail())"
   ]
  },
  {
   "cell_type": "markdown",
   "id": "d9b51923",
   "metadata": {
    "lines_to_next_cell": 0
   },
   "source": [
    "<!-- ## /OPENBLOK: Data-bekijken.py -->\n",
    "\n",
    "Selecteer beide groepen, sla deze op in een vector en bereken het verschil in de afhankelijke variabelen (het aantal studieuren) voor alle deelnemers (de studenten).\n",
    "<!-- ## OPENBLOK: Data-selecteren.py -->"
   ]
  },
  {
   "cell_type": "code",
   "execution_count": null,
   "id": "8d967696",
   "metadata": {
    "lines_to_next_cell": 0,
    "name": "data selecteren"
   },
   "outputs": [],
   "source": [
    "Uren_studeren_T0 = dfStudielogboek[dfStudielogboek['Meetmoment'] == \"T0\"]['Uren_studeren']\n",
    "Uren_studeren_T1 = dfStudielogboek[dfStudielogboek['Meetmoment'] == \"T1\"]['Uren_studeren']"
   ]
  },
  {
   "cell_type": "markdown",
   "id": "00bfbe01",
   "metadata": {},
   "source": [
    "<!-- ## /OPENBLOK: Data-selecteren.py -->\n",
    "\n",
    "<!-- ## TEKSTBLOK: Data-inspectie.py-->\n",
    "Inspecteer de data met `np.size()`, `np.mean()` en `np.std()`, door deze aan te roepen uit het package `numpy`.\n",
    "<!-- ## /TEKSTBLOK: Data-inspectie.py-->"
   ]
  },
  {
   "cell_type": "markdown",
   "id": "5f488ee5",
   "metadata": {
    "lines_to_next_cell": 0
   },
   "source": [
    "<!-- ## OPENBLOK: numpy-inladen.py -->"
   ]
  },
  {
   "cell_type": "code",
   "execution_count": null,
   "id": "17ca6185",
   "metadata": {
    "lines_to_next_cell": 0
   },
   "outputs": [],
   "source": [
    "# Om het gemiddelde en de standaard deviatie te berekenen, hebben we de library 'numpy' nodig\n",
    "import numpy as np"
   ]
  },
  {
   "cell_type": "markdown",
   "id": "df1a17f5",
   "metadata": {},
   "source": [
    "<!-- ## OPENBLOK: numpy-inladen.py -->\n"
   ]
  },
  {
   "cell_type": "markdown",
   "id": "72ff5461",
   "metadata": {
    "lines_to_next_cell": 0
   },
   "source": [
    "<div class = \"col-container\">\n",
    "  <div class =\"col\">\n",
    "<!-- ## OPENBLOK: Data-beschrijven-1.py -->"
   ]
  },
  {
   "cell_type": "code",
   "execution_count": null,
   "id": "141b8b1d",
   "metadata": {
    "collapse": true,
    "lines_to_next_cell": 0,
    "name": "data beschrijven t1"
   },
   "outputs": [],
   "source": [
    "## aantallen, gemiddelde en standaarddeviatie voor cursus\n",
    "print(len(Uren_studeren_T0))\n",
    "print(np.mean(Uren_studeren_T0))\n",
    "print(np.std(Uren_studeren_T0))"
   ]
  },
  {
   "cell_type": "markdown",
   "id": "9ece7e09",
   "metadata": {
    "lines_to_next_cell": 0
   },
   "source": [
    "<!-- ## /OPENBLOK: Data-beschrijven-1.py -->\n",
    "  </div>\n",
    "  <div class = \"col\">\n",
    "<!-- ## OPENBLOK: Data-beschrijven-2.py -->"
   ]
  },
  {
   "cell_type": "code",
   "execution_count": null,
   "id": "a55c5e20",
   "metadata": {
    "collapse": true,
    "lines_to_next_cell": 0,
    "name": "data bekijken t2"
   },
   "outputs": [],
   "source": [
    "## aantallen, gemiddelde en standaarddeviatie na tutorgesprek\n",
    "print(len(Uren_studeren_T1))\n",
    "print(np.mean(Uren_studeren_T1))\n",
    "print(np.std(Uren_studeren_T1))"
   ]
  },
  {
   "cell_type": "markdown",
   "id": "11f8d1ac",
   "metadata": {
    "lines_to_next_cell": 0
   },
   "source": [
    "<!-- ## /OPENBLOK: Data-beschrijven-2.py -->\n",
    "  </div>\n",
    "</div>\n",
    "<!-- ## CLOSEDBLOK: Data-beschrijven.py -->"
   ]
  },
  {
   "cell_type": "code",
   "execution_count": null,
   "id": "e861c572",
   "metadata": {
    "echo": true,
    "lines_to_next_cell": 0,
    "name": "Var beschrijven",
    "tags": [
     "remove_cell"
    ]
   },
   "outputs": [],
   "source": [
    "vMean_t0 = np.mean(Uren_studeren_T0)\n",
    "vSD_t0 = np.std(Uren_studeren_T0)\n",
    "vN_t0 = np.size(Uren_studeren_T0)\n",
    "vMean_t1 = np.mean(Uren_studeren_T1)\n",
    "vSD_t1 = np.std(Uren_studeren_T1)\n",
    "vN_t1 = np.size(Uren_studeren_T1)"
   ]
  },
  {
   "cell_type": "markdown",
   "id": "71e25570",
   "metadata": {
    "lines_to_next_cell": 0
   },
   "source": [
    "<!-- ## /CLOSEDBLOK: Data-beschrijven.py -->\n",
    "\n",
    "<!-- ## TEKSTBLOK: Data-beschrijven.py -->\n",
    "* Gemiddeld uren studeren T~0~ (standaardafwijking): `r Round_and_format(py$vMean_t0)` (`r Round_and_format(py$vSD_t0)`). *n* = `r py$vN_t0`.\n",
    "* Gemiddeld uren studeren T~1~ (standaardafwijking): `r Round_and_format(py$vMean_t1)` (`r Round_and_format(py$vSD_t1)`). *n* = `r py$vN_t1`.\n",
    "\n",
    "<!-- ## /TEKSTBLOK: Data-beschrijven.py -->\n",
    "\n",
    "## Visuele inspectie van normaliteit\n",
    "Geef de verdeling van de verschilscores van het aantal uur studeren voor en na het volgen van de cursus visueel weer met een histogram, Q-Q plot en boxplot.\n",
    "\n",
    "### Histogram\n",
    "\n",
    "Focus bij het analyseren van een histogram[^18] op de symmetrie van de verdeling, de hoeveelheid toppen (modaliteit) en mogelijke uitbijters. Een normale verdeling is symmetrisch, heeft één top en geen uitbijters.[^8]<sup>, </sup>[^9]\n",
    "\n",
    "<!-- ## OPENBLOK: Histogram.py -->"
   ]
  },
  {
   "cell_type": "code",
   "execution_count": null,
   "id": "70a5251c",
   "metadata": {
    "lines_to_next_cell": 0,
    "name": "histogram"
   },
   "outputs": [],
   "source": [
    "## Bereken verschil in uren studeren met numpy\n",
    "Uren_studeren_verschil = np.array(Uren_studeren_T1) - np.array(Uren_studeren_T0)\n",
    "\n",
    "## Histogram met matplotlib\n",
    "import matplotlib.pyplot as plt\n",
    "hist = plt.hist(Uren_studeren_verschil, density = True, edgecolor = \"black\", bins = 12)\n",
    "title = plt.title(\"Verschilscores uren studeren voor en na cursus\")\n",
    "xlab = plt.xlabel(\"Verschilscores uren studeren\")\n",
    "ylab = plt.ylabel(\"Frequentiedichtheid\")\n",
    "yax = plt.ylim([0, 0.175])\n",
    "plt.show()"
   ]
  },
  {
   "cell_type": "markdown",
   "id": "f95243a0",
   "metadata": {},
   "source": [
    "<!-- ## /OPENBLOK: Histogram.py -->\n",
    "\n",
    "De histogram lijkt niet geheel symmetrisch, maar heeft één top en geen outliers. Er lijken geen grote afwijkingen van de normaalverdeling te zijn."
   ]
  },
  {
   "cell_type": "markdown",
   "id": "ae9d3664",
   "metadata": {
    "lines_to_next_cell": 0
   },
   "source": [
    "### Q-Q plot\n",
    "<!-- ## TEKSTBLOK: QQplot.py -->\n",
    "Gebruik de functie `probplot` van het `scipy` package om een Q-Q plot te maken, met als datapunten kleine cirkels. \n",
    "<!-- ## /TEKSTBLOK: QQplot.py -->\n",
    "\n",
    "<!-- ## OPENBLOK: QQplot-inladen.py -->"
   ]
  },
  {
   "cell_type": "code",
   "execution_count": null,
   "id": "dc9d7762",
   "metadata": {
    "lines_to_next_cell": 0
   },
   "outputs": [],
   "source": [
    "import scipy.stats as stats"
   ]
  },
  {
   "cell_type": "markdown",
   "id": "25de3766",
   "metadata": {
    "lines_to_next_cell": 0
   },
   "source": [
    "<!-- ## /OPENBLOK: QQplot-inladen.py -->\n",
    "\n",
    "Als over het algemeen de meeste datapunten op de lijn liggen, kan aangenomen worden dat de data bij benadering normaal verdeeld is.\n",
    "\n",
    "<!-- ## OPENBLOK: QQplot-1.py -->"
   ]
  },
  {
   "cell_type": "code",
   "execution_count": null,
   "id": "36c06ca1",
   "metadata": {
    "lines_to_next_cell": 0,
    "name": "qqplot"
   },
   "outputs": [],
   "source": [
    "qq = stats.probplot(Uren_studeren_verschil, dist=\"norm\", plot=plt)\n",
    "title = plt.title(\"Normaal Q-Q plot verschilscores uren studeren voor en na cursus\")\n",
    "xlab = plt.xlabel(\"Theoretische kwantielen\")\n",
    "ylab = plt.ylabel(\"Kwantielen in data\")\n",
    "plt.show()"
   ]
  },
  {
   "cell_type": "markdown",
   "id": "e1df8561",
   "metadata": {
    "lines_to_next_cell": 0
   },
   "source": [
    "<!-- ## /OPENBLOK: QQplot-1.py -->\n",
    "\n",
    "In deze casus liggen de meeste datapunten op of vlakbij de lijn. Hoewel er bij de uiteinden van de verdeling wat afwijkingen zijn, duidt deze grafiek op een goede benadering van de normaalverdeling.\n",
    "\n",
    "### Boxplot\n",
    "\n",
    "De doos van de boxplot geeft de middelste 50% van de verschilscores in studieuren uit het studielogboek weer. De zwarte lijn binnen de box is de mediaan. In de staarten of snorreharen zitten de eerste 25% en de laatste 25%. Cirkels visualiseren mogelijke uitbijters.[^8]<sup>, </sup>[^9]\n",
    "\n",
    "<!-- ## OPENBLOK: Boxplot.py -->\n",
    "``` {python Boxplot}\n",
    "## Boxplot\n",
    "fig, ax = plt.subplots()\n",
    "box = ax.boxplot([Uren_studeren_verschil], labels = [\"\"])\n",
    "title = plt.title(\"Boxplot van verschilscores uren studeren voor en na cursus\")\n",
    "plt.show()\n",
    "```\n",
    "<!-- ## /OPENBLOK: Boxplot.py -->\n",
    "\n",
    "De boxplotten geven de spreiding weer in de verschilscores van het aantal uur studeren voor en na het volgen van de cursus voor deelnemers aan de cursus. De boxplot is niet helemaal symmetrisch, maar beide snorreharen zijn ongeveer even lang en de mediaan ligt ongeveer in het midden. Daarom zijn de verschilscores bij benadering normaal verdeeld.\n",
    "\n",
    "Op basis van de grafieken lijken er geen grote afwijkingen van de normaalverdeling voor de verschillen in studieuren te zijn, maar normaliteit kan ook getoetst worden met statistische toetsen.\n",
    "\n",
    "## Toetsen van normaliteit\n",
    "Om te controleren of de verschilscores normaal verdeeld zijn, kan de normaliteit getoetst worden. Twee veelgebruikte toetsen zijn: de *Kolmogorov-Smirnov test* en de *Shapiro-Wilk test*.\n",
    "\n",
    "### Kolmogorov-Smirnov \n",
    "De *Kolmogorov-Smirnov test* toetst het verschil tussen twee verdelingen. Standaard toetst deze test het verschil tussen een normale verdeling en de verdeling van de steekproef. De Lilliefors correctie is vereist als het gemiddelde en de standaardafwijking niet van tevoren bekend of bepaald zijn, wat meestal het geval is bij een steekproef. Als de p-waarde kleiner dan 0,05 is, is de verdeling van de steekproef significant verschillend van de normale verdeling.\n",
    "\n",
    "<!-- ## TEKSTBLOK: Lilliefors-test1.py -->\n",
    "De standaard interpretatie van een statistische toets in Python is als volgt: `(<teststatistiek>, <p-waarde>)`. Verder wordt er standaard tweezijdig getoetst. Gebruik bij deze toets het argument `pvalmethod = \"table\"` om een betrouwbare p-waarde te krijgen.\n",
    "<!-- ## /TEKSTBLOK: Lilliefors-test1.py -->\n",
    "\n",
    "<!-- ## OPENBLOK: Library-nortest.py -->"
   ]
  },
  {
   "cell_type": "code",
   "execution_count": null,
   "id": "edf9776b",
   "metadata": {
    "lines_to_next_cell": 0
   },
   "outputs": [],
   "source": [
    "import statsmodels.stats.api as smod"
   ]
  },
  {
   "cell_type": "markdown",
   "id": "6f2de8f3",
   "metadata": {
    "lines_to_next_cell": 0
   },
   "source": [
    "<!-- ## /OPENBLOK: Library-nortest.py -->\n",
    "\n",
    "<!-- ## OPENBLOK: Lilliefors-test-1.py -->\n",
    "``` {python Lilliefors Test-1, warning=FALSE}\n",
    "print(smod.lilliefors(Uren_studeren_verschil, pvalmethod=\"table\"))\n",
    "```\n",
    "``` {python Lilliefors Test-1 closed, warning=FALSE, include = FALSE}\n",
    "lilliefors = smod.lilliefors(Uren_studeren_verschil, pvalmethod=\"table\")\n",
    "print(lilliefors)\n",
    "```\n",
    "<!-- ## /OPENBLOK: Lilliefors-test-1.py -->\n",
    "\n",
    "<!-- ## TEKSTBLOK: Lilliefors-test-2.py -->\n",
    "De test heeft een p-waarde van `r Round_and_format(unlist(py$lilliefors[2]))`, dus er is geen significant verschil gevonden tussen de verdeling van de steekproef en de normale verdeling. De *gepaarde t-toets* kan uitgevoerd worden. \n",
    "<!-- ## /TEKSTBLOK: Lilliefors-test-2.py -->\n",
    "\n",
    "### Shapiro-Wilk Test\n",
    "De *Shapiro-Wilk test* is een soortgelijke test als de *Kolmogorov-Smirnov test* en vooral geschikt bij kleine steekproeven (*n* < 50). Als de p-waarde kleiner dan 0,05 is, is de verdeling van de steekproef significant verschillend van de normale verdeling.\n",
    "\n",
    "<!-- ## CLOSEDBLOK: data inladen-2.py -->"
   ]
  },
  {
   "cell_type": "code",
   "execution_count": null,
   "id": "f18530ff",
   "metadata": {
    "lines_to_next_cell": 0,
    "tags": [
     "remove_cell"
    ]
   },
   "outputs": [],
   "source": [
    "Uren_studeren_verschil_n30 = pd.read_csv(\"../data/02_Uren_studeren_verschil_n30.csv\").to_numpy()\n",
    "N = len(Uren_studeren_verschil_n30)"
   ]
  },
  {
   "cell_type": "markdown",
   "id": "c369bc36",
   "metadata": {},
   "source": [
    "<!-- ## /CLOSEDBLOK: data inladen-2.py -->\n",
    "\n",
    "<!-- ## TEKSTBLOK: Shapiro-Wilk-test.py -->\n",
    "Er is een subset van de verschillen tussen het aantal studieuren op T~0~ en T~1~ ingeladen, `Uren_studeren_verschil_n30` met daarin `r py$N` observaties. Voor een relatief kleine steekproef als deze is de *Shapiro-Wilk Test* geschikt.\n",
    "<!-- ## /TEKSTBLOK: Shapiro-Wilk-test.py -->\n",
    "<!-- ## OPENBLOK: Shapiro-Wilk-test-1.py -->\n",
    "``` {python Shapiro-Wilk Test-1}\n",
    "print(stats.shapiro(Uren_studeren_verschil_n30))\n",
    "```\n",
    "``` {python Shapiro-Wilk Test-2, include = FALSE}\n",
    "swtest = stats.shapiro(Uren_studeren_verschil_n30)\n",
    "```\n",
    "<!-- ## /OPENBLOK: Shapiro-Wilk-test-1.py -->\n",
    "\n",
    "<!-- ## TEKSTBLOK: Shapiro-Wilk-test-2.py -->\n",
    "Voor deze subset is de p-waarde `r Round_and_format(unlist(py$swtest[2]))`, dus er is geen significant verschil gevonden tussen de verdeling van de steekproef en de normale verdeling. De *gepaarde t-toets* kan uitgevoerd worden.  \n",
    "<!-- ## /TEKSTBLOK: Shapiro-Wilk-test-2.py -->\n",
    "\n",
    "## Gepaarde t-toets\n",
    "<!-- ## TEKSTBLOK: T-test.py -->\n",
    "Gebruik de functie `.DescrStatsW().ttest_mean()` van het package `statsmodels.stats.api` om een *gepaarde t-toets* uit te voeren. Gebruik als argument van de functie `DescrStatsW()` de verschilscores `Uren_studeren_verschil` en als argumenten van de functie `ttest_mean()` eerst `value = 0` om aan te geven dat het gemiddelde van de verschilscores nul is onder de nulhypothese en `alternative = 'two-sided'` om een tweezijdige toets uit te voeren. Bereken daarna het 95%-betrouwbaarheidsinterval met de functie `tconfint_mean()` met als argumenten `alpha = 0.05` om het significantieniveau aan te geven en `alternative = 'two-sided'` om aan te geven dat er een tweezijdige toets plaatsvindt.\n",
    "<!-- ## /TEKSTBLOK: T-test.py -->"
   ]
  },
  {
   "cell_type": "markdown",
   "id": "60789a2a",
   "metadata": {
    "lines_to_next_cell": 0
   },
   "source": [
    "<!-- ## OPENBLOK: T-toets.py -->"
   ]
  },
  {
   "cell_type": "code",
   "execution_count": null,
   "id": "c6621bdd",
   "metadata": {
    "lines_to_next_cell": 0,
    "name": "T-test"
   },
   "outputs": [],
   "source": [
    "## Importeer het benodigde package\n",
    "import statsmodels.stats.api as smod\n",
    "\n",
    "## Bereken verschil in uren studeren met numpy\n",
    "Uren_studeren_verschil = np.array(Uren_studeren_T1) - np.array(Uren_studeren_T0)\n",
    "\n",
    "# Voer gepaarde t-toets uit\n",
    "print(smod.DescrStatsW(Uren_studeren_verschil).ttest_mean(value = 0, alternative = 'two-sided'))\n",
    "\n",
    "# Print 95%-betrouwbaarheidsinterval\n",
    "print(smod.DescrStatsW(Uren_studeren_verschil).tconfint_mean(alpha = 0.05, alternative = 'two-sided'))\n"
   ]
  },
  {
   "cell_type": "code",
   "execution_count": null,
   "id": "cf0d6df7",
   "metadata": {
    "lines_to_next_cell": 0
   },
   "outputs": [],
   "source": [
    "# Absoluut gemiddeld verschil berekenen\n",
    "absoluut_verschil = np.abs(np.mean(np.array(Uren_studeren_T1) - np.array(Uren_studeren_T0)))\n",
    "print(absoluut_verschil)"
   ]
  },
  {
   "cell_type": "markdown",
   "id": "5a945d81",
   "metadata": {
    "lines_to_next_cell": 0
   },
   "source": [
    "<!-- ## /OPENBLOK: T-toets.py -->\n",
    "<!-- ## CLOSEDBLOK: T-test.py -->"
   ]
  },
  {
   "cell_type": "code",
   "execution_count": null,
   "id": "4c6efe28",
   "metadata": {
    "lines_to_next_cell": 0,
    "name": "T-test als object",
    "tags": [
     "remove_input"
    ]
   },
   "outputs": [],
   "source": [
    "stat, pval, df = smod.DescrStatsW(Uren_studeren_verschil).ttest_mean(value = 0, alternative = 'two-sided')\n",
    "N_tot = len(Uren_studeren_verschil)\n",
    "lb, ub = smod.DescrStatsW(Uren_studeren_verschil).tconfint_mean(alpha = 0.05, alternative = 'two-sided')"
   ]
  },
  {
   "cell_type": "markdown",
   "id": "6975c164",
   "metadata": {
    "lines_to_next_cell": 0
   },
   "source": [
    "<!-- ## /CLOSEDBLOK: T-test.py -->\n",
    "<!-- ## TEKSTBLOK: T-test2.py -->\n",
    "* *t*~`r py$df`~ = `r Round_and_format(py$stat)`, *p* < 0,0001`\n",
    "* Vrijheidsgraden, *df* = *n* -1 = `r py$N_tot`-1 = `r py$df`  \n",
    "* De p-waarde is kleiner dan 0,05, dus de H~0~ wordt verworpen [^10]\n",
    "* 95%-betrouwbaarheidsinterval: bij het herhalen van het experiment met verschillende steekproeven van de populatie zal 95% van de betrouwbaarheidsintervallen de daadwerkelijke parameter bevatten, het verschil tussen het aantal studieuren voor en na de cursus,  µ~verschil~ = µ~T1~ - µ~T0~. In deze casus is het interval tussen `r Round_and_format(py$lb)` en `r Round_and_format(py$ub)`. Aangezien 0 niet in dit interval zit, is er een significant verschil tussen µ~T1~ en µ~T0~.\n",
    "* het absolute verschil tussen de twee groepen is `r Round_and_format(py$absoluut_verschil)` \n",
    "\n",
    "<!-- ## TEKSTBLOK: T-test2.py -->\n",
    "\n",
    "De p-waarde geeft aan of het verschil tussen twee groepen significant is. De grootte van het verschil of effect is echter ook relevant. Een effectmaat is een gestandaardiseerde maat die de grootte van een effect weergeeft, zodat effecten van verschillende onderzoeken met elkaar vergeleken kunnen worden.[^11] Een veel gebruikte effectmaat is Cohen's *d*. Cohen's *d* geeft een gestandaardiseerd verschil weer: het verschil in gemiddelden tussen twee groepen gecorrigeerd voor de standaardafwijking van de eerste meting (T~0~). Een indicatie om *d* te interpreteren is: rond 0,3 is een klein effect, rond 0,5 is een gemiddeld effect en rond 0,8 is een groot effect.[^12]  \n",
    "\n",
    "<!-- ## TEKSTBLOK: Cohen-d.py -->\n",
    "Er is geen Python functie voor Cohen's d. Bereken daarom de effectmaat zelf door het gemiddelde van de verschilscores `Uren_studeren_verschil` te delen door de standaardafwijking van de scores van de studenten voor de cursus `Uren_studeren_T0`. Neem de absolute waarde omdat het gebruikelijk is om een effectmaat als positief getal weer te geven.[^11]\n",
    "<!-- ## /TEKSTBLOK: Cohen-d.py  -->\n",
    "\n",
    "<!-- ## OPENBLOK: Cohens-d-test.py -->"
   ]
  },
  {
   "cell_type": "code",
   "execution_count": null,
   "id": "0b8ab339",
   "metadata": {
    "lines_to_next_cell": 0
   },
   "outputs": [],
   "source": [
    "abs(np.mean(Uren_studeren_verschil)/np.std(Uren_studeren_T0))\n"
   ]
  },
  {
   "cell_type": "markdown",
   "id": "668d8485",
   "metadata": {
    "lines_to_next_cell": 0
   },
   "source": [
    "<!-- ## OPENBLOK: Cohens-d-test.py -->\n",
    "\n",
    "<!-- ## CLOSEDBLOK: Cohens-d-test.py -->"
   ]
  },
  {
   "cell_type": "code",
   "execution_count": null,
   "id": "ab92db20",
   "metadata": {
    "lines_to_next_cell": 0
   },
   "outputs": [],
   "source": [
    "d = abs(np.mean(Uren_studeren_verschil)/np.std(Uren_studeren_T0))"
   ]
  },
  {
   "cell_type": "markdown",
   "id": "7253e06f",
   "metadata": {},
   "source": [
    "<!-- ## /CLOSEDBLOK: Cohens-d-test.py -->\n",
    "\n",
    "<!-- ## TEKSTBLOK: Cohens-d-test.py -->\n",
    "*d* = `r Round_and_format(py$d)`. De sterkte van het effect van de tutor op het cijfer is groot.\n",
    "<!-- ## /TEKSTBLOK: Cohens-d-test.py -->\n",
    "\n",
    "# Rapportage\n",
    "<!-- ## TEKSTBLOK: Rapportage.py -->\n",
    "Een *gepaarde t-toets* is uitgevoerd om te toetsen of het gemiddeld aantal uur studeren van de studenten is veranderd na deelname aan de cursus Plannen. Het verschil tussen het gemiddelde van T~0~ (*M~T0~* = `r Round_and_format(py$vMean_t0)`, *SD~T0~* = `r Round_and_format(py$vSD_t0)`) en het gemiddelde van T~1~ (*M~T1~* =`r Round_and_format(py$vMean_t1)`, *SD~T1~* = `r Round_and_format(py$vSD_t1)`) is significant, *t* ~`r py$df`~ = `r Round_and_format(py$stat)`, *p* < 0,0001. Gemiddeld studeren de studenten `r Round_and_format(py$absoluut_verschil)` uur meer na deelname aan de cursus, dit is een groot effect. Het 95%-betrouwbaarheidsinterval voor het verschil tussen het gemiddelde van beide groepen (T~1~ - T~0~) loopt van `r Round_and_format(py$lb)` tot `r Round_and_format(py$ub)`. Aan de hand van de resultaten kan geconcludeerd worden dat de studenten, na deelname aan de cursus Plannen, meer tijd besteden aan hun studie dan daarvoor.\n"
   ]
  },
  {
   "cell_type": "markdown",
   "id": "8782165c",
   "metadata": {},
   "source": [
    "| Meting     | N         | M            | SD         |\n",
    "| --------   | --------- | ------------ | ---------- |\n",
    "| T~0~       | `r py$vN_t0` | `r Round_and_format(py$vMean_t0)` | `r Round_and_format(py$vSD_t0)` |\n",
    "| T~1~       | `r py$vN_t1` | `r Round_and_format(py$vMean_t1)` | `r Round_and_format(py$vSD_t1)` |\n",
    "<!-- ## /TEKSTBLOK: Rapportage.py -->\n",
    "*Tabel 1. Groepsgrootte, gemiddeld tentamencijfer en standaarddeviatie van het aantal uren door studenten besteed aan hun studie per meetmoment*"
   ]
  },
  {
   "cell_type": "markdown",
   "id": "4d10c3f6",
   "metadata": {
    "lines_to_next_cell": 0
   },
   "source": [
    "<!-- ## CLOSEDBLOK: Footer.R -->"
   ]
  },
  {
   "cell_type": "markdown",
   "id": "fe2176fc",
   "metadata": {},
   "source": [
    "<!-- ## /CLOSEDBLOK: Footer.R -->\n",
    "\n",
    "[^1]: Wikipedia (21 augustus 2019). *Student's t-test*. [Wikipedia](https://en.wikipedia.org/wiki/student%27s_t-test).\n",
    "[^2]: Lumley, T., Diehr, P., Emerson, S., & Chen, L. (2002). The importance of the normality assumption in large public health data sets. *Annu Rev Public Health, 23*, 151-69. doi: 10.1146/annurev.publheath.23.100901.140546 http://rctdesign.org/techreports/arphnonnormality.pdf \n",
    "[^3]: Van Geloven, N. (25 september2013). *Wilcoxon signed rank toets*. [Wiki Statistiek Academisch Medisch Centrum](https://wikistatistiek.amc.nl/index.php/Wilcoxon_signed_rank_toets).\n",
    "[^4]: Laerd statistics (2018). *Testing for Normality using SPSS Statistics*. [Testing for Normality using SPSS Statistics](https://statistics.laerd.com/spss-tutorials/testing-for-normality-using-spss-statistics.php).  \n",
    "[^5]: Er zijn verschillende opties om variabelen te transformeren, zoals de logaritme, wortel of inverse (1 gedeeld door de variabele) nemen van de variabele. Zie *Discovering statistics using IBM SPSS statistics* van Field (2013) pagina 201-210 voor meer informatie over welke transformaties wanneer gebruikt kunnen worden.\n",
    "[^6]: Universiteit van Amsterdam (14 juli 2014). *Normaliteit*. [UvA Wiki Methodologiewinkel](https://wiki.uva.nl/methodologiewinkel/index.php/Normaliteit).  \n",
    "[^7]: De [Wilcoxon signed rank toets](07-Wilcoxon-signed-rank-toets-R.html) maakt een rangschikking van de data. Hierdoor is de test verdelingsvrij en is normaliteit geen assumptie. Ook zijn uitbijters minder van invloed op het eindresultaat. Toch wordt er voor deze test minder vaak gekozen, doordat bij het maken van een rankschikking de data informatie verliest. Als de data wel normaal verdeeld is, heeft de [Wilcoxon signed rank toets](07-Wilcoxon-signed-rank-toets-R.html) minder onderscheidend vermogen dan wanneer de *gepaarde t-toets* uitgevoerd zou worden.  \n",
    "[^8]: Outliers (13 augustus 2016). [UvA Wiki Methodologiewinkel](https://wiki.uva.nl/methodologiewinkel/index.php/Outliers).\n",
    "[^9]: Uitbijters kunnen bepalend zijn voor de uitkomst van toetsen. Bekijk of de uitbijters valide uitbijters zijn en niet een meetfout of op een andere manier incorrect verkregen data. Het weghalen van uitbijters kan de uitkomst ook vertekenen, daarom is het belangrijk om verwijderde uitbijters te melden in een rapport.\n",
    "[^10]: In dit voorbeeld wordt uitgegaan van een waarschijnlijkheid van 95% c.q. een p-waardegrens van 0,05. De grens is naar eigen inzicht aan te passen, houd hierbij rekening met type I en type II fouten.\n",
    "[^11]: Field, A., Miles, J., & Field, Z. (2012). *Discovering statistics using R*. London: Sage publications.\n",
    "[^12]: Marshall, E., & Boggis, E. (2016). *The statistics tutor’s quick guide to commonly used statistical tests*. http://www.statstutor.ac.uk/resources/uploaded/tutorsquickguidetostatistics.pdf \n",
    "[^13]: Met een deelnemer wordt het object bedoeld dat geobserveerd wordt, bijvoorbeeld een student, een inwoner van Nederland, een opleiding of een organisatie. Met een observatie wordt de waarde bedoeld die de deelnemer heeft voor een bepaalde variabele. Een deelnemer heeft dus meestal een observatie voor meerdere variabelen.\n",
    "[^18]: De breedte van de staven van het histogram wordt vaak automatisch bepaald, maar kan handmatig aangepast worden. Aangezien de breedte van de staven bepalend zijn voor de indruk die de visualisatie geeft, is het verstandig om hier goed op te letten.\n",
    "\n",
    "<!-- ## TEKSTBLOK: Extra-Bron.py -->\n",
    "[^13]: Field, A. (2013). *Discovering statistics using IBM SPSS statistics*. Sage.\n",
    "<!-- ## /TEKSTBLOK: Extra-Bron.py -->\n",
    "NA\n",
    "<!-- ## /TEKSTBLOK: Extra-Bron.R -->"
   ]
  }
 ],
 "metadata": {
  "jupytext": {
   "cell_metadata_filter": "collapse,results,warning,echo,code,name,eval,include,tags,message,-all",
   "main_language": "python",
   "notebook_metadata_filter": "-all"
  },
  "kernelspec": {
   "display_name": "Python 3 (ipykernel)",
   "language": "python",
   "name": "python3"
  },
  "language_info": {
   "codemirror_mode": {
    "name": "ipython",
    "version": 3
   },
   "file_extension": ".py",
   "mimetype": "text/x-python",
   "name": "python",
   "nbconvert_exporter": "python",
   "pygments_lexer": "ipython3",
   "version": "3.10.4"
  }
 },
 "nbformat": 4,
 "nbformat_minor": 5
}
