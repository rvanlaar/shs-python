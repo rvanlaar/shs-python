{
 "cells": [
  {
   "cell_type": "raw",
   "id": "68ec4f64",
   "metadata": {},
   "source": [
    "---\n",
    "title: \"Chi-kwadraat toets voor onafhankelijkheid en Fisher's exacte toets\"\n",
    "output:\n",
    "  html_document:\n",
    "    theme: lumen\n",
    "    toc: yes\n",
    "    toc_depth: 2\n",
    "    toc_float: \n",
    "      collapsed: FALSE \n",
    "    number_sections: true\n",
    "    includes:\n",
    "      in_header: [\"../01. Includes/html/nocache.html\", \"../01. Includes/html/favicon.html\", \"../01. Includes/html/analytics.html\"]\n",
    "  keywords: [statistisch handboek, studiedata]\n",
    "---"
   ]
  },
  {
   "cell_type": "markdown",
   "id": "82dd3666",
   "metadata": {
    "lines_to_next_cell": 0
   },
   "source": [
    "<!-- ## /CLOSEDBLOK: Reticulate.py -->\n",
    "\n",
    "<!-- ## OPENBLOK: Data-aanmaken.py -->"
   ]
  },
  {
   "cell_type": "code",
   "execution_count": null,
   "id": "0959c806",
   "metadata": {
    "eval": false,
    "lines_to_next_cell": 0,
    "name": "opmerking TODO",
    "tags": [
     "remove_cell"
    ]
   },
   "outputs": [],
   "source": [
    "# TODO: Uitleg extra pagina: nominaal, ordinaal etc., afhanjeklijk en onafhankelijk  \n",
    "# TODO: Uitleg transformeren data "
   ]
  },
  {
   "cell_type": "markdown",
   "id": "2fc02e67",
   "metadata": {},
   "source": [
    "<!-- ## /OPENBLOK: Data-aanmaken.py -->\n",
    "\n",
    "# Toepassing\n",
    "Gebruik de *Chi-kwadraat toets voor onafhankelijkheid* of de *Fisher's exacte toets* om te toetsen of er een afhankelijkheid bestaat tussen twee ongepaarde, binaire variabelen.[^1]<sup>, </sup>[^2] In tegenstelling tot de *Chi-kwadraat toets voor onafhankelijkheid* kan de *Fisher's exacte toets* ook bij een laag aantal observaties gebruikt worden, dit wordt bij de assumpties toegelicht.[^4] De *Chi-kwadraat toets voor onafhankelijkheid* kan ook gebruikt worden wanneer de twee categorische variabelen meer dan twee categorieën bevatten, maar *Fisher's exacte toets* vereist wel dat beide variabelen binair zijn. Deze toetspagina illustreert de toets echter voor twee ongepaarde binaire variabelen."
   ]
  },
  {
   "cell_type": "markdown",
   "id": "0ff537bb",
   "metadata": {
    "lines_to_next_cell": 0
   },
   "source": [
    "# Onderwijscasus\n",
    "<div id = \"casus\">\n",
    "De studentendecaan van een hogeschool vraagt zich af of het invoeren van het leenstelsel van invloed is op het uitvallen van studenten met een functiebeperking. Daarom onderzoekt hij of er een afhankelijkheid is tussen het wel of niet uitvallen van studenten met een functiebeperking en het wel of niet invoeren van het leenstelsel.\n",
    "\n",
    "Dit onderzoek vertaalt zich in de volgende combinatie van hypothesen, waarbij de nulhypothese zo geformuleerd is dat er geen effect of verschil is en de alternatieve hypothese zo geformuleerd is dat er wel een effect of verschil is.\n",
    "\n",
    "*H~0~*: Er is geen afhankelijkheid tussen het wel of niet uitvallen van studenten met een functiebeperking en het wel of niet invoeren van het leenstelsel.\n",
    "\n",
    "*H~A~*: Er is een afhankelijkheid tussen het wel of niet uitvallen van studenten met een functiebeperking en het wel of niet invoeren van het leenstelsel.\n",
    "</div>\n",
    "\n",
    "# Assumpties\n",
    "Voor een valide resultaat moeten de data aan een aantal voorwaarden voldoen voordat de toets uitgevoerd kan worden. De variabelen zijn categorisch (nominaal[^6] of ordinaal[^5]) en de observaties zijn onafhankelijk van elkaar. \n",
    "\n",
    "## Groepsgrootte\n",
    "De *Chi-kwadraat toets voor onafhankelijkheid* heeft een assumptie wat betreft het aantal observaties in een kruistabel. Een kruistabel is een tabel waarin de aantallen observaties worden weergegeven per combinatie van de categorieën van beide variabelen. De kruistabel van de data in de huidige casus is te vinden in Tabel 1.   \n",
    "\n",
    "<!-- ## CLOSEDBLOK: Groepsgrootte2.py -->"
   ]
  },
  {
   "cell_type": "code",
   "execution_count": null,
   "id": "ac7632bb",
   "metadata": {
    "echo": true,
    "lines_to_next_cell": 0,
    "name": "opslaan tabel cellen",
    "tags": [
     "remove_cell"
    ]
   },
   "outputs": [],
   "source": [
    "import numpy as np\n",
    "import pandas as pd\n",
    "\n",
    "\n",
    "df = pd.read_csv(\"../data/13_Uitval_studenten_functiebeperking_leenstelsel.csv\")\n",
    "dfTabel_uitval_functiebeperking = df[[\"Periode\", \"Uitval\"]].copy().to_numpy()\n",
    "dfUitval_studenten_functiebeperking_leenstelsel = df.loc[:, ~df.columns.str.contains('^Unnamed')]\n",
    "\n",
    "df = pd.read_csv(\"../data/13_Fisher_Uitval_studenten_functiebeperking_leenstelsel.csv\")\n",
    "dfFisher_Tabel_uitval_functiebeperking = df[[\"Periode\", \"Uitval\"]].copy().to_numpy()\n",
    "dfFisher_Uitval_studenten_functiebeperking_leenstelsel = df.loc[:, ~df.columns.str.contains('^Unnamed')]\n",
    "\n",
    "#print(dfTabel_uitval_functiebeperking)\n",
    "\n",
    "# Sla geobserveerde aantallen op\n",
    "n11 = dfTabel_uitval_functiebeperking[0,0]\n",
    "n12 = dfTabel_uitval_functiebeperking[0,1]\n",
    "n21 = dfTabel_uitval_functiebeperking[1,0]\n",
    "n22 = dfTabel_uitval_functiebeperking[1,1]\n",
    "NN = np.sum(dfTabel_uitval_functiebeperking)\n",
    "\n",
    "# Bereken verwachte aantallen\n",
    "## de n variabelen bevatten niet de verwachtte aanvallen maar de index.\n",
    "#En11 = ((n11 + n12) * (n11 + n21) / NN)\n",
    "#En12 = ((n11 + n12) * (n12 + n22) / NN)\n",
    "#En21 = ((n21 + n22) * (n11 + n21) / NN)\n",
    "#En22 = ((n21 + n22) * (n12 + n22) / NN)\n",
    "#print(En11)"
   ]
  },
  {
   "cell_type": "markdown",
   "id": "76fa19c8",
   "metadata": {},
   "source": [
    "<!-- ## TEKSTBLOK: Groepsgrootte1.py -->\n",
    "\n",
    "|                      | geen uitval   | uitval | totaal | \n",
    "| -------------------- | ---------| ------------| -------------| \n",
    "| **geen leenstelsel** |`r py$n11`   | `r py$n12`          | **`r py$n11 + py$n12`**|\n",
    "| **wel leenstelsel**  |`r py$n21`   | `r py$n22`          | **`r py$n21 + py$n22`**|\n",
    "|**totaal**            |**`r py$n11 + py$n21`**   | **`r py$n12 + py$n22`**     | **`r py$NN`** |\n",
    "*Tabel 1. Geobserveerde aantallen casus uitval met of zonder leenstelsel*"
   ]
  },
  {
   "cell_type": "markdown",
   "id": "bde90533",
   "metadata": {},
   "source": [
    "De *Chi-kwadraat toets voor onafhankelijkheid* wordt onbetrouwbaar als er in meer dan 20% van de cellen van de kruistabel een verwacht aantal observaties van 5 of lager is. Gebruik in dat geval *Fisher's exact toets*.[^8] Het verwacht aantal observaties in een cel is het aantal observaties dat zich in een cel op basis van kansrekening zou moeten bevinden wanneer er geen afhankelijkheid tussen de twee variabelen is. Op basis van de nulhypothese van onafhankelijkheid tussen de variabelen kunnen de verwachte aantallen observaties in elke cel berekend worden. Een voorbeeldberekening van het verwacht aantal observaties voor de cel linksboven (geen leenstelsel; geen uitval) werkt als volgt: vermenigvuldig het totaal aantal studenten in de groep geen leenstelsel (`r py$n11 + py$n12`) met het totaal aantal studenten dat uitvalt (`r py$n11 + py$n21`) en deel dit door het totaal aantal studenten (`r py$NN`).\n",
    "\n",
    "* aantal studenten geen leenstelsel: `r py$n11 + py$n12`   \n",
    "* aantal studenten uitval: `r py$n11 + py$n21`  \n",
    "* totaal aantal studenten: `r py$NN`\n",
    "* verwacht aantal uitgevallen studenten geen leenstelsel: `r py$n11 + py$n12` * `r py$n11 + py$n21` / `r py$NN` ≈ `r Round_and_format((py$n11 + py$n12) * (py$n11 + py$n21) / py$NN)` \n",
    "\n",
    "Alle verwachte aantallen observaties zijn te vinden in Tabel 2. Merk ook op dat de totalen in de rijen en kolommen gelijk zijn aan de totalen in Tabel 1, de kruistabel met de aantallen observaties. Geen van de verwachte aantallen is kleiner of gelijk aan vijf, dus er is voldaan aan de assumptie van groepsgrootte voor de *Chi-kwadraat toets voor onafhankelijkheid*."
   ]
  },
  {
   "cell_type": "markdown",
   "id": "3976cbaa",
   "metadata": {},
   "source": [
    "|                      | geen uitval   | uitval | totaal | \n",
    "| -------------------- | ---------| ------------| -------------| \n",
    "| **geen leenstelsel** |`r Round_and_format(py$En11)`   | `r Round_and_format(py$En12)`          | **`r Round_and_format(py$En11 + py$En12)`**|\n",
    "| **wel leenstelsel**  |`r Round_and_format(py$En21)`   | `r Round_and_format(py$En22)`          | **`r Round_and_format(py$En21 + py$En22)`**|\n",
    "|**totaal**            |**`r Round_and_format(py$En11 + py$En21)`**   | **`r Round_and_format(py$En12 + py$En22)`**     | **`r py$NN`** |\n",
    "*Tabel 2. Verwachte aantallen casus uitval met of zonder leenstelsel*\n",
    "<!-- ## /TEKSTBLOK: Groepsgrootte1.py -->"
   ]
  },
  {
   "cell_type": "markdown",
   "id": "96b6c7bc",
   "metadata": {},
   "source": [
    "# Effectmaat\n",
    "\n",
    "De p-waarde geeft aan of een (mogelijk) verschil tussen twee groepen statistisch significant is. De grootte van het verschil of effect is echter ook relevant. Een effectmaat is een gestandaardiseerde maat die de grootte van een effect weergeeft, zodat effecten van verschillende onderzoeken met elkaar vergeleken kunnen worden.[^7] \n",
    "De *Chi-kwadraat toets voor onafhankelijkheid* heeft als effectmaat Cohen's *w*.[^9] Een indicatie om Cohen's *w* te interpreteren is: rond 0,1 is het een klein effect, rond 0,3 is het een gemiddeld effect en rond 0,5 is het een groot effect.[^10]\n",
    "\n",
    "De odds ratio is een andere effectmaat die voor zowel de *Chi-kwadraat toets voor onafhankelijkheid* als de *Fisher's exacte toets* kan worden gebruikt. Een voorwaarde is echter dat beide variabelen binair zijn. In andere woorden, er moet een 2x2 kruistabel gevormd kunnen worden. Odds is een Engelse term voor de verhouding van twee kansen, bijvoorbeeld de verhouding tussen het aantal studenten dat uitvalt en niet uitvalt. Een odds ratio is de verhouding tussen twee odds, dus de verhouding van de odds van studentenuitval voor de periode met leenstelsel en de periode zonder leenstelsel. De odds ratio geeft dus een interpretatie van het effect van een leenstelsel op het uitvallen van studenten.[^7]"
   ]
  },
  {
   "cell_type": "markdown",
   "id": "74aa4eeb",
   "metadata": {
    "lines_to_next_cell": 0
   },
   "source": [
    "# De data bekijken\n",
    "\n",
    "<!-- ## TEKSTBLOK: Data-bekijken1.py -->\n",
    "Er is een dataset ingeladen genaamd `dfUitval_studenten_functiebeperking_leenstelsel`. In deze dataset is voor elke student met een functiebeperking aangegeven of ze studeerden voor of na invoering van het leenstelsel en of ze wel of niet uitgevallen zijn.\n",
    "<!-- ## /TEKSTBLOK: Data-bekijken1.py -->\n",
    "\n",
    "<!-- ## OPENBLOK: Data-bekijken2.py -->"
   ]
  },
  {
   "cell_type": "code",
   "execution_count": null,
   "id": "6c493155",
   "metadata": {
    "collapse": true,
    "name": "data bekijken-1"
   },
   "outputs": [],
   "source": [
    "## Importeer nuttige packages\n",
    "import numpy as np\n",
    "import pandas as pd\n",
    "## Eerste 5 observaties\n",
    "print(dfUitval_studenten_functiebeperking_leenstelsel.head(5))"
   ]
  },
  {
   "cell_type": "code",
   "execution_count": null,
   "id": "1dc3062b",
   "metadata": {
    "collapse": true,
    "lines_to_next_cell": 0,
    "name": "data bekijken-2"
   },
   "outputs": [],
   "source": [
    "## Laatste 5 observaties\n",
    "print(dfUitval_studenten_functiebeperking_leenstelsel.tail(5))"
   ]
  },
  {
   "cell_type": "markdown",
   "id": "46190e02",
   "metadata": {
    "lines_to_next_cell": 0
   },
   "source": [
    "<!-- ## /OPENBLOK: Data-bekijken2.py -->\n",
    "\n",
    "<!-- ## TEKSTBLOK: Data-kruistabel1.py -->\n",
    "Een kruistabel geeft de aantallen observaties weer voor de combinaties van de categorieën van de variabelen `Periode` en `Uitval`. Maak de kruistabel met de functie `.crosstab()` van het package `pandas` met als argumenten de variabele `dfUitval_studenten_functiebeperking_leenstelsel['Periode']` (voor of na invoering leenstelsel) en `dfUitval_studenten_functiebeperking_leenstelsel['Uitval']` (wel of niet uitgevallen).\n",
    "<!-- ## /TEKSTBLOK: Data-kruistabel1.py -->\n",
    "\n",
    "<!-- ## OPENBLOK: Data-kruistabel2.py -->"
   ]
  },
  {
   "cell_type": "code",
   "execution_count": null,
   "id": "d40df6fa",
   "metadata": {
    "lines_to_next_cell": 0,
    "name": "kruistabel"
   },
   "outputs": [],
   "source": [
    "# Maak een kruistabel\n",
    "Uitval_studenten_kruistabel =  pd.crosstab(dfUitval_studenten_functiebeperking_leenstelsel['Periode'], dfUitval_studenten_functiebeperking_leenstelsel['Uitval'])\n",
    "\n",
    "# Print de kruistabel\n",
    "print(Uitval_studenten_kruistabel)\n",
    "\n",
    "# Maak een tabel met proporties, argument 'normalize = index' zorgt ervoor dat de proporties\n",
    "# per rij berekend worden\n",
    "Prop_Uitval_studenten_kruistabel = pd.crosstab(dfUitval_studenten_functiebeperking_leenstelsel['Periode'], dfUitval_studenten_functiebeperking_leenstelsel['Uitval'], normalize = 'index')\n",
    "\n",
    "# Print de tabel met proporties\n",
    "print(Prop_Uitval_studenten_kruistabel)\n"
   ]
  },
  {
   "cell_type": "code",
   "execution_count": null,
   "id": "e6919582",
   "metadata": {
    "echo": true,
    "lines_to_next_cell": 0,
    "tags": [
     "remove_cell"
    ]
   },
   "outputs": [],
   "source": [
    "voor = np.array(Prop_Uitval_studenten_kruistabel)[0,1]\n",
    "na = np.array(Prop_Uitval_studenten_kruistabel)[1,1]"
   ]
  },
  {
   "cell_type": "markdown",
   "id": "197ffb04",
   "metadata": {},
   "source": [
    "<!-- ## /OPENBLOK: Data-kruistabel2.py -->\n",
    "\n",
    "<!-- ## TEKSTBLOK: Data-kruistabel3.py -->\n",
    "De kruistabel en bijbehorende tabel met proporties laat zien dat het percentage uitgevallen studenten hoger is na invoering van het leenstelsel (`r Round_and_format(100 *py$voor)`%) dan voor invoering van het leenstelsel (`r Round_and_format(100 * py$na)`%).\n",
    "<!-- ## /TEKSTBLOK: Data-kruistabel3.py -->"
   ]
  },
  {
   "cell_type": "markdown",
   "id": "39ffded6",
   "metadata": {
    "lines_to_next_cell": 0
   },
   "source": [
    "## Assumptie groepsgrootte\n",
    "\n",
    "<!-- ## TEKSTBLOK: Assumptie.py -->\n",
    "Toets de assumptie dat niet meer dan 20% van de verwachte aantallen observaties gelijk of kleiner dan vijf is. Bereken het verwacht aantal observaties met de functie `.contingency.expected_freq()` van het `scipy.stats` package met als argument de kruistabel `Uitval_studenten_kruistabel`.\n",
    "<!-- ## /TEKSTBLOK: Assumptie.py -->\n",
    "\n",
    "<!-- ## OPENBLOK: Assumptie1.py -->"
   ]
  },
  {
   "cell_type": "code",
   "execution_count": null,
   "id": "904bdc6c",
   "metadata": {
    "lines_to_next_cell": 0,
    "name": "chi2 assumptie"
   },
   "outputs": [],
   "source": [
    "import scipy.stats as sps \n",
    "# Maak een kruistabel\n",
    "Uitval_studenten_kruistabel = pd.crosstab(dfUitval_studenten_functiebeperking_leenstelsel['Periode'], dfUitval_studenten_functiebeperking_leenstelsel['Uitval'])\n",
    "\n",
    "# Bereken verwachte aantallen observaties\n",
    "sps.contingency.expected_freq(Uitval_studenten_kruistabel)"
   ]
  },
  {
   "cell_type": "markdown",
   "id": "76f01a21",
   "metadata": {},
   "source": [
    "<!-- ## /OPENBLOK: Assumptie1.py -->\n",
    "\n",
    "Geen van de verwachte aantallen observaties is gelijk aan of kleiner dan vijf, dus de *Chi-kwadraat toets voor onafhankelijkheid* kan worden uitgevoerd."
   ]
  },
  {
   "cell_type": "markdown",
   "id": "08707eea",
   "metadata": {
    "lines_to_next_cell": 0
   },
   "source": [
    "# Chi-kwadraat toets voor onafhankelijkheid\n",
    "## Uitvoering\n",
    "<!-- ## TEKSTBLOK: Chi2-toets-1.py -->\n",
    "De *Chi-kwadraat toets voor onafhankelijkheid* wordt uitgevoerd om de vraag te beantwoorden of er een afhankelijkheid is tussen het uitvallen van studenten met een functiebeperking en het wel of niet invoeren van het leenstelsel. Gebruik de functie `.stats.chi2_contingency()` van het `scipy` package met als argument de kruistabel `Uitval_studenten_kruistabel`. De weergegeven output bevat de teststatistiek, de p-waarde, het aantal vrijheidsgraden en een aantal met de verwachte aantallen observaties (in deze volgorde).\n",
    "<!-- ## /TEKSTBLOK: Chi2-toets-1.py -->\n",
    "\n",
    "<!-- ## OPENBLOK: Chi2-toets-2.py -->"
   ]
  },
  {
   "cell_type": "code",
   "execution_count": null,
   "id": "dc7bb245",
   "metadata": {
    "lines_to_next_cell": 0
   },
   "outputs": [],
   "source": [
    "import scipy.stats as sps\n",
    "sps.chi2_contingency(Uitval_studenten_kruistabel)"
   ]
  },
  {
   "cell_type": "markdown",
   "id": "3ccf7065",
   "metadata": {
    "lines_to_next_cell": 0
   },
   "source": [
    "<!-- ## /OPENBLOK: Chi2-toets-2.py -->\n",
    "\n",
    "Bereken de effectmaat Cohen's *w* vervolgens op basis van de &chi;^2^-waarde van de *Chi-kwadraat toets voor onafhankelijkheid*.\n",
    "<!-- ## OPENBLOK: Chi2-toets-3.py -->"
   ]
  },
  {
   "cell_type": "code",
   "execution_count": null,
   "id": "987c0e4a",
   "metadata": {
    "lines_to_next_cell": 0,
    "name": "effectsize"
   },
   "outputs": [],
   "source": [
    "# Sla de teststatistiek op\n",
    "chi2, pval, df, tab = sps.chi2_contingency(Uitval_studenten_kruistabel)\n",
    "\n",
    "# Bereken het totaal aantal observaties als som van de kruistabel\n",
    "N = np.sum(np.array(Uitval_studenten_kruistabel))\n",
    "\n",
    "# Bereken eta squared\n",
    "Eta2 = np.sqrt(chi2 / N)\n",
    "\n",
    "# Print de effectgrootte\n",
    "print(Eta2)\n",
    "\n"
   ]
  },
  {
   "cell_type": "markdown",
   "id": "12bde42d",
   "metadata": {},
   "source": [
    "<!-- ## /OPENBLOK: Chi2-toets-3.py -->"
   ]
  },
  {
   "cell_type": "markdown",
   "id": "10ca0163",
   "metadata": {
    "lines_to_next_cell": 0
   },
   "source": [
    "<!-- ## CLOSEDBLOK: Chi2-toets-4.py -->\n",
    "<!-- ## /CLOSEDBLOK: Chi2-toets-4.py -->\n",
    "\n",
    "<!-- ## TEKSTBLOK: Chi2-toets-5.py-->\n",
    "* &chi;^2^ ~1~ = `r Round_and_format(py$chi2)`, *p* = `r Round_and_format(py$pval)`, *w* = `r Round_and_format(py$Eta2)`  \n",
    "* Vrijheidsgraden: *df* = (*k*-1)(*r*-1), waar *k* staat voor kolom en *r* voor rij. In dit geval geldt *df* = `r Round_and_format(py$df)`.  \n",
    "* p-waarde < 0,05, dus de H~0~ wordt verworpen.[^11]\n",
    "* Effectmaat is `r Round_and_format(py$Eta2)`, dus een klein effect\n",
    "\n",
    "<!-- ## /TEKSTBLOK: Chi2-toets-5.py-->\n",
    "\n",
    "## Rapportage\n",
    "\n",
    "<!-- ## CLOSEDBLOK: Rapportage1.py -->"
   ]
  },
  {
   "cell_type": "code",
   "execution_count": null,
   "id": "c52bcf33",
   "metadata": {
    "echo": true,
    "lines_to_next_cell": 0,
    "name": "kruistabel rapportage",
    "tags": [
     "remove_cell"
    ]
   },
   "outputs": [],
   "source": [
    "\n",
    "# Maak een tabel met proporties, argument 'normalize = index' zorgt ervoor dat de proporties\n",
    "# per rij berekend worden\n",
    "Prop_Uitval_studenten_kruistabel = pd.crosstab(dfUitval_studenten_functiebeperking_leenstelsel['Periode'], dfUitval_studenten_functiebeperking_leenstelsel['Uitval'], normalize = 'index')\n",
    "\n",
    "# Sla vier waarden apart op\n",
    "gg = np.array(Prop_Uitval_studenten_kruistabel)[0,0]\n",
    "gu = np.array(Prop_Uitval_studenten_kruistabel)[0,1]\n",
    "wg = np.array(Prop_Uitval_studenten_kruistabel)[1,0]\n",
    "wu = np.array(Prop_Uitval_studenten_kruistabel)[1,1]\n"
   ]
  },
  {
   "cell_type": "markdown",
   "id": "897f8643",
   "metadata": {},
   "source": [
    "<!-- ## /CLOSEDBLOK: Rapportage1.py -->"
   ]
  },
  {
   "cell_type": "markdown",
   "id": "e04b2d4b",
   "metadata": {},
   "source": [
    "<!-- ## TEKSTBLOK: Rapportage2.py -->\n",
    "De *Chi-kwadraat toets voor onafhankelijkheid* is uitgevoerd om te toetsen of er een afhankelijkheid is tussen het uitvallen van studenten met een functiebeperking en het wel of niet invoeren van het leenstelsel. De nulhypothese dat uitval en invoering van het leenstelsel onafhankelijk zijn kan verworpen worden, &chi;^2^ ~1~ = `r Round_and_format(py$chi2)`, *p* = `r Round_and_format(py$pval)`, *w* = `r Round_and_format(py$Eta2)`. De propoties per rij in Tabel 3 laten zien dat er relatief meer studenten uitvallen wanneer er een leenstelsel is ingevoerd.\n",
    "\n",
    "|                      | geen uitval   | uitval | \n",
    "| -------------------- | ---------| ------------| \n",
    "| **geen leenstelsel** |`r Round_and_format(py$gg)`   | `r Round_and_format(py$gu)`          | \n",
    "| **wel leenstelsel**  |`r Round_and_format(py$wg)`   | `r Round_and_format(py$wu)`          |\n",
    "*Tabel 3. Proporties wel of niet uitvallen studenten met of zonder leenstelsel berekend per rij.*\n",
    "<!-- ## /TEKSTBLOK: Rapportage2.py -->\n"
   ]
  },
  {
   "cell_type": "markdown",
   "id": "5804b983",
   "metadata": {},
   "source": [
    "# Fisher's exacte toets\n",
    "## Uitvoering \n",
    "<!-- ## TEKSTBLOK: Data-inladen-Fisher.py -->\n",
    "*Fisher's exact toets* wordt uitgevoerd om de vraag te beantwoorden of er een afhankelijkheid is tussen het uitvallen van studenten met een functiebeperking en het wel of niet invoeren van het leenstelsel. Deze toets is ook betrouwbaar bij een laag aantal observaties. Om de toets te illustreren is een subset van de dataset `dfUitval_studenten_functiebeperking_leenstelsel` ingeladen; de subset heet `dfFisher_Uitval_studenten_functiebeperking_leenstelsel`.\n",
    "\n",
    "Een kruistabel geeft de aantallen observaties weer voor de combinaties van de categorieën van de variabelen `Periode` en `Uitval`. Maak de kruistabel met de functie `.crosstable()` van het package `pandas` met als argumenten de variabele `dfUitval_studenten_functiebeperking_leenstelsel['Periode']` (voor of na invoering leenstelsel) en `dfUitval_studenten_functiebeperking_leenstelsel['Uitval']` (wel of niet uitgevallen).\n",
    "<!-- ## /TEKSTBLOK: Data-inladen-Fisher.py -->\n",
    "\n",
    "<!-- ## OPENBLOK: Data-kruistabel2Fisher.py -->"
   ]
  },
  {
   "cell_type": "code",
   "execution_count": null,
   "id": "cc5e6eca",
   "metadata": {
    "lines_to_next_cell": 0,
    "name": "kruistabel fisher"
   },
   "outputs": [],
   "source": [
    "import pandas as pd\n",
    "\n",
    "# Maak een kruistabel\n",
    "Fisher_Uitval_studenten_kruistabel =  pd.crosstab(dfFisher_Uitval_studenten_functiebeperking_leenstelsel['Periode'], dfFisher_Uitval_studenten_functiebeperking_leenstelsel['Uitval'])\n",
    "\n",
    "# Print de kruistabel\n",
    "print(Fisher_Uitval_studenten_kruistabel)\n",
    "\n",
    "# Maak een tabel met proporties, argument 'normalize = index' zorgt ervoor dat de proporties\n",
    "# per rij berekend worden\n",
    "Fisher_Prop_Uitval_studenten_kruistabel = pd.crosstab(dfFisher_Uitval_studenten_functiebeperking_leenstelsel['Periode'], dfFisher_Uitval_studenten_functiebeperking_leenstelsel['Uitval'], normalize = 'index')\n",
    "\n",
    "# Print de tabel met proporties\n",
    "print(Fisher_Prop_Uitval_studenten_kruistabel)\n",
    "\n"
   ]
  },
  {
   "cell_type": "code",
   "execution_count": null,
   "id": "77d0f437",
   "metadata": {
    "echo": true,
    "tags": [
     "remove_cell"
    ]
   },
   "outputs": [],
   "source": [
    "voor = np.array(Fisher_Prop_Uitval_studenten_kruistabel)[0,1]\n",
    "na = np.array(Fisher_Prop_Uitval_studenten_kruistabel)[1,1]"
   ]
  },
  {
   "cell_type": "markdown",
   "id": "e41b69ad",
   "metadata": {},
   "source": [
    "<!-- ## /OPENBLOK: Data-kruistabel2Fisher.py -->\n",
    "\n",
    "<!-- ## TEKSTBLOK: Data-kruistabel3Fisher.py -->\n",
    "De kruistabel en bijbehorende tabel met proporties laat zien dat het percentage uitgevallen studenten lager is na invoering van het leenstelsel (`r Round_and_format(100 * py$na)`%) dan voor invoering van het leenstelsel (`r Round_and_format(100 * py$voor)`%).\n",
    "<!-- ## /TEKSTBLOK: Data-kruistabel3Fisher.py -->"
   ]
  },
  {
   "cell_type": "markdown",
   "id": "a3a32d24",
   "metadata": {
    "lines_to_next_cell": 0
   },
   "source": [
    "## Assumptie groepsgrootte\n",
    "\n",
    "<!-- ## TEKSTBLOK: AssumptieFisher.py -->\n",
    "Toets de assumptie dat niet meer dan 20% van de verwachte aantallen observaties gelijk of kleiner dan vijf is. Bereken het verwachte aantal observaties met de functie `.contingency.expected_freq()` van het `scipy.stats` package met als argument de kruistabel `Fisher_Uitval_studenten_kruistabel`.\n",
    "<!-- ## /TEKSTBLOK: AssumptieFisher.py -->\n",
    "\n",
    "<!-- ## OPENBLOK: Assumptie1Fisher.py -->"
   ]
  },
  {
   "cell_type": "code",
   "execution_count": null,
   "id": "548c54be",
   "metadata": {
    "lines_to_next_cell": 0,
    "name": "chi2 fisher"
   },
   "outputs": [],
   "source": [
    "import scipy.stats as sps \n",
    "# Maak een kruistabel\n",
    "Fisher_Uitval_studenten_kruistabel = pd.crosstab(dfFisher_Uitval_studenten_functiebeperking_leenstelsel['Periode'], dfFisher_Uitval_studenten_functiebeperking_leenstelsel['Uitval'])\n",
    "\n",
    "# Bereken verwachte aantallen observaties\n",
    "sps.contingency.expected_freq(Fisher_Uitval_studenten_kruistabel)"
   ]
  },
  {
   "cell_type": "markdown",
   "id": "5ced9f10",
   "metadata": {},
   "source": [
    "<!-- ## /OPENBLOK: Assumptie1Fisher.py -->\n",
    "\n",
    "Een van de verwachte aantallen observaties is kleiner dan vijf, dus de *Chi-kwadraat toets voor onafhankelijkheid* kan niet worden uitgevoerd. *Fisher's exacte toets* moet inderdaad gebruikt worden voor deze dataset."
   ]
  },
  {
   "cell_type": "markdown",
   "id": "672387a4",
   "metadata": {},
   "source": [
    "## Fisher's exacte toets\n",
    "\n",
    "<!-- ## TEKSTBLOK: Fisher1.py -->\n",
    "Voer *Fisher's exact toets* uit met de functie `.fisher_exact()` van het package `scipy.stats` met als argumenten de kruistabel `Fisher_Uitval_studenten_kruistabel` en `alternative = 'two-sided'` om tweezijdig te toetsen. De output geeft de odds ratio en de p-waarde weer.\n",
    "<!-- ## /TEKSTBLOK: Fisher1.py -->"
   ]
  },
  {
   "cell_type": "markdown",
   "id": "d559bfc1",
   "metadata": {
    "lines_to_next_cell": 0
   },
   "source": [
    "<!-- ## OPENBLOK: Fishers-Exact-toets.py -->"
   ]
  },
  {
   "cell_type": "code",
   "execution_count": null,
   "id": "3afee113",
   "metadata": {
    "lines_to_next_cell": 0,
    "name": "fishers exact"
   },
   "outputs": [],
   "source": [
    "import scipy.stats as sps\n",
    "sps.fisher_exact(Fisher_Uitval_studenten_kruistabel, alternative = 'two-sided')"
   ]
  },
  {
   "cell_type": "markdown",
   "id": "cd6f3578",
   "metadata": {},
   "source": [
    "<!-- ## /OPENBLOK: Fishers-Exact-toets.py -->"
   ]
  },
  {
   "cell_type": "markdown",
   "id": "3a9e8d1b",
   "metadata": {
    "lines_to_next_cell": 0
   },
   "source": [
    "<!-- ## CLOSEDBLOK: Fishers-Exact-toets.py -->"
   ]
  },
  {
   "cell_type": "code",
   "execution_count": null,
   "id": "cda38e60",
   "metadata": {
    "echo": true,
    "lines_to_next_cell": 0,
    "name": "fishers exact als object",
    "tags": [
     "remove_cell"
    ]
   },
   "outputs": [],
   "source": [
    "OR, pval = sps.fisher_exact(Fisher_Uitval_studenten_kruistabel, alternative = 'two-sided')\n"
   ]
  },
  {
   "cell_type": "markdown",
   "id": "fc42708d",
   "metadata": {},
   "source": [
    "<!-- ## /CLOSEDBLOK: Fishers-Exact-toets.py -->\n",
    "\n",
    "<!-- ## TEKSTBLOK: Fishers-Exact-toets.py -->\n",
    "* *p* = `r Round_and_format(py$pval)`; p-waarde > 0,05, dus de H~0~ wordt niet verworpen.[^11]  \n",
    "* De odds ratio is `r Round_and_format(py$OR)`. De kans op uitval van studenten met een functiebeperking met leenstelsel is dus `r Round_and_format(py$OR)` keer zo groot is als de kans op uitval van studenten met een functiebeperking zonder het leenstelsel. Deze relatie is echter niet significant.\n",
    "\n",
    "<!-- ## /TEKSTBLOK: Fishers-Exact-toets.py -->\n"
   ]
  },
  {
   "cell_type": "markdown",
   "id": "f289bc8a",
   "metadata": {
    "lines_to_next_cell": 0
   },
   "source": [
    "## Rapportage\n",
    "\n",
    "<!-- ## CLOSEDBLOK: Rapportage1Fisher.py -->"
   ]
  },
  {
   "cell_type": "code",
   "execution_count": null,
   "id": "7fb982c8",
   "metadata": {
    "echo": true,
    "lines_to_next_cell": 0,
    "name": "kruistabel rapportage fisher",
    "tags": [
     "remove_cell"
    ]
   },
   "outputs": [],
   "source": [
    "# Maak een tabel met proporties, argument 'normalize = index' zorgt ervoor dat de proporties\n",
    "# per rij berekend worden\n",
    "Fisher_Prop_Uitval_studenten_kruistabel = pd.crosstab(dfFisher_Uitval_studenten_functiebeperking_leenstelsel['Periode'], dfFisher_Uitval_studenten_functiebeperking_leenstelsel['Uitval'], normalize = 'index')\n",
    "\n",
    "# Sla vier waarden apart op\n",
    "fgg = np.array(Fisher_Prop_Uitval_studenten_kruistabel)[0,0]\n",
    "fgu = np.array(Fisher_Prop_Uitval_studenten_kruistabel)[0,1]\n",
    "fwg = np.array(Fisher_Prop_Uitval_studenten_kruistabel)[1,0]\n",
    "fwu = np.array(Fisher_Prop_Uitval_studenten_kruistabel)[1,1]"
   ]
  },
  {
   "cell_type": "markdown",
   "id": "a43e83d2",
   "metadata": {},
   "source": [
    "<!-- ## /CLOSEDBLOK: Rapportage1Fisher.py -->"
   ]
  },
  {
   "cell_type": "markdown",
   "id": "c323b2de",
   "metadata": {},
   "source": [
    "<!-- ## TEKSTBLOK: Rapportage2Fisher.py -->\n",
    "*Fisher's exact toets* is uitgevoerd om te toetsen of er een afhankelijkheid is tussen het uitvallen van studenten met een functiebeperking en het wel of niet invoeren van het leenstelsel. De nulhypothese dat uitval en invoering van het leenstelsel onafhankelijk zijn kan niet verworpen worden, *p* = `r py$pval`. De proporties per rij in Tabel 4 laten zien dat er relatief meer studenten uitvallen wanneer er een leenstelsel is ingevoerd, dit verschil is echter niet significant.\n",
    "\n",
    "|                      | geen uitval   | uitval | \n",
    "| -------------------- | ---------| ------------| \n",
    "| **geen leenstelsel** |`r Round_and_format(py$fgg)`   | `r Round_and_format(py$fgu)`          | \n",
    "| **wel leenstelsel**  |`r Round_and_format(py$fwg)`   | `r Round_and_format(py$fwu)`          |\n",
    "*Tabel 4. Proporties wel of niet uitvallen studenten met of zonder leenstelsel berekend per rij voor dataset Fisher's exact toets.*\n",
    "<!-- ## /TEKSTBLOK: Rapportage2Fisher.py -->\n",
    "\n"
   ]
  },
  {
   "cell_type": "markdown",
   "id": "0594c6f0",
   "metadata": {
    "lines_to_next_cell": 0
   },
   "source": [
    "<!-- ## CLOSEDBLOK: Footer.R -->"
   ]
  },
  {
   "cell_type": "markdown",
   "id": "65bf611e",
   "metadata": {},
   "source": [
    "<!-- ## /CLOSEDBLOK: Footer.R -->\n",
    "\n",
    "[^1]: Binaire variabelen: twee elkaar uitsluitende waarden, zoals ja of nee, 0 of 1, aan of uit. \n",
    "[^2]: Prabhakaran, S. (2016-2017). *Statistical Tests*. http://r-statistics.co/Statistical-Tests-in-R.html.\n",
    "[^4]: Van Geloven, N., & Holman, R., (6 mei 2016). *Fisher's exact toets*. [Wiki Statistiek Academisch Medisch Centrum](https://wikistatistiek.amc.nl/index.php/Fisher's_exact_toets).\n",
    "[^5]: Een ordinale variabele is een categorische variabele waarbij de categorieën geordend kunnen worden. Een voorbeeld is de variabele beoordeling met de categorieën Onvoldoende, Voldoende, Goed en Uitstekend.\n",
    "[^6]: Een nominale variabele is een categorische variabele waarbij de categorieën niet geordend kunnen worden. Een voorbeeld is de variabele windstreek (noord, oost, zuid, west) en geslacht (man of vrouw).\n",
    "[^7]: Field, A., Miles, J., & Field, Z. (2012). *Discovering statistics using R*. London: Sage publications.\n",
    "[^8]: Van Geloven, N. (20 augustus 2015). *Chi-kwadraat toets*. [Wiki Statistiek Academisch Medisch Centrum](https://wikistatistiek.amc.nl/index.php/Chi-kwadraat_toets).\n",
    "[^9]: De effectmaat Cohen's *w* wordt voor de *Chi-kwadraat toets* berekend door de wortel te nemen van de\n",
    "&chi;^2^-waarde gedeeld door het totaal aantal observaties, i.e. $\\sqrt{ \\frac{\\chi^2}{N} }$.\n",
    "[^10]: Allen, P. & Bennett, K. (2012). *SPSS A practical Guide version 20.0*. Cengage Learning Australia Pty Limited.\n",
    "[^11]: In dit voorbeeld wordt uitgegaan van een waarschijnlijkheid van 95% c.q. een p-waardegrens van 0,05. De grens is naar eigen inzicht aan te passen; houd hierbij rekening met type I en type II fouten."
   ]
  },
  {
   "cell_type": "markdown",
   "id": "c29a1cac",
   "metadata": {},
   "source": [
    "<!-- ## TEKSTBLOK: Extra-Bron.py -->\n",
    "[^12]: Het 95%-betrouwbaarheidsinterval van de odds ratio wordt bij deze Python functie niet weergegeven. Bij de uitvoering van *Fisher's exact toets* in R zit het betrouwbaarheidsinterval wel in de output.\n",
    "<!-- ## /TEKSTBLOK: Extra-Bron.py -->\n",
    "NA\n",
    "<!-- ## /TEKSTBLOK: Extra-Bron.R -->"
   ]
  }
 ],
 "metadata": {
  "jupytext": {
   "cell_metadata_filter": "results,warning,tags,name,include,code,collapse,eval,echo,message,-all",
   "main_language": "python",
   "notebook_metadata_filter": "-all"
  },
  "kernelspec": {
   "display_name": "Python 3 (ipykernel)",
   "language": "python",
   "name": "python3"
  },
  "language_info": {
   "codemirror_mode": {
    "name": "ipython",
    "version": 3
   },
   "file_extension": ".py",
   "mimetype": "text/x-python",
   "name": "python",
   "nbconvert_exporter": "python",
   "pygments_lexer": "ipython3",
   "version": "3.10.4"
  }
 },
 "nbformat": 4,
 "nbformat_minor": 5
}
